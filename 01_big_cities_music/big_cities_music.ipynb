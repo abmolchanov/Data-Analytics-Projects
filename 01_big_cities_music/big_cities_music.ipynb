{
  "cells": [
    {
      "cell_type": "markdown",
      "metadata": {
        "deletable": false,
        "editable": false,
        "id": "E0vqbgi9ay0H"
      },
      "source": [
        "# Исследование данных сервиса “Яндекс.Музыка”"
      ]
    },
    {
      "cell_type": "markdown",
      "metadata": {
        "deletable": false,
        "editable": false,
        "id": "VUC88oWjTJw2"
      },
      "source": [
        "**Задача исследования** - На данных Яндекс Музыки сравнить поведение и предпочтения пользователей двух столиц — Москвы и Санкт-Петербурга.\n",
        "\n",
        "**Цель исследования** — проверить три гипотезы:\n",
        "1. Активность пользователей зависит от дня недели. Причём в Москве и Петербурге это проявляется по-разному.\n",
        "2. В понедельник утром в Москве преобладают одни жанры, а в Петербурге — другие. Так же и вечером пятницы преобладают разные жанры — в зависимости от города. \n",
        "3. Москва и Петербург предпочитают разные жанры музыки. В Москве чаще слушают поп-музыку, в Петербурге — русский рэп.\n",
        "\n",
        "**Описание данных**\n",
        "\n",
        "Данные о поведении пользователей хранятся в файле `yandex_music_project.csv`.\n",
        "\n",
        "* userID - идентификатор пользователя\n",
        "* Track - название музыкальной композиции\n",
        "* artist - имя исполнителя\n",
        "* genre - музыкальный жанр\n",
        "* City - город пользователя\n",
        "* time - время начала прослушивания\n",
        "* Day - день недели"
      ]
    },
    {
      "cell_type": "markdown",
      "metadata": {
        "deletable": false,
        "editable": false,
        "id": "Ml1hmfXC_Zcs"
      },
      "source": [
        "## Обзор данных\n",
        "\n",
        "\n"
      ]
    },
    {
      "cell_type": "markdown",
      "metadata": {
        "deletable": false,
        "editable": false,
        "id": "57eAOGIz_Zcs",
        "tags": [
          "start_task"
        ]
      },
      "source": [
        "Импорт необходимых библиотек"
      ]
    },
    {
      "cell_type": "code",
      "execution_count": null,
      "metadata": {
        "deletable": false,
        "id": "AXN7PHPN_Zcs"
      },
      "outputs": [],
      "source": [
        "import pandas as pd # импорт библиотеки pandas"
      ]
    },
    {
      "cell_type": "markdown",
      "metadata": {
        "deletable": false,
        "editable": false,
        "id": "SG23P8tt_Zcs",
        "tags": [
          "start_task"
        ]
      },
      "source": [
        "Выгрузка данных из файла `yandex_music_project.csv` из папки `/datasets` и сохранение его в переменной `df`:"
      ]
    },
    {
      "cell_type": "code",
      "execution_count": null,
      "metadata": {
        "deletable": false,
        "id": "fFVu7vqh_Zct"
      },
      "outputs": [],
      "source": [
        "df = pd.read_csv('/datasets/yandex_music_project.csv')"
      ]
    },
    {
      "cell_type": "markdown",
      "metadata": {
        "deletable": false,
        "editable": false,
        "id": "rDoOMd3uTqnZ",
        "tags": [
          "start_task"
        ]
      },
      "source": [
        "Вывод на экран первых десяти строк таблицы:"
      ]
    },
    {
      "cell_type": "code",
      "execution_count": null,
      "metadata": {
        "deletable": false,
        "id": "oWTVX3gW_Zct",
        "outputId": "95e0e7bb-7885-482d-d628-ef2fb3e65873"
      },
      "outputs": [
        {
          "data": {
            "text/html": [
              "<div>\n",
              "<style scoped>\n",
              "    .dataframe tbody tr th:only-of-type {\n",
              "        vertical-align: middle;\n",
              "    }\n",
              "\n",
              "    .dataframe tbody tr th {\n",
              "        vertical-align: top;\n",
              "    }\n",
              "\n",
              "    .dataframe thead th {\n",
              "        text-align: right;\n",
              "    }\n",
              "</style>\n",
              "<table border=\"1\" class=\"dataframe\">\n",
              "  <thead>\n",
              "    <tr style=\"text-align: right;\">\n",
              "      <th></th>\n",
              "      <th>userID</th>\n",
              "      <th>Track</th>\n",
              "      <th>artist</th>\n",
              "      <th>genre</th>\n",
              "      <th>City</th>\n",
              "      <th>time</th>\n",
              "      <th>Day</th>\n",
              "    </tr>\n",
              "  </thead>\n",
              "  <tbody>\n",
              "    <tr>\n",
              "      <th>0</th>\n",
              "      <td>FFB692EC</td>\n",
              "      <td>Kamigata To Boots</td>\n",
              "      <td>The Mass Missile</td>\n",
              "      <td>rock</td>\n",
              "      <td>Saint-Petersburg</td>\n",
              "      <td>20:28:33</td>\n",
              "      <td>Wednesday</td>\n",
              "    </tr>\n",
              "    <tr>\n",
              "      <th>1</th>\n",
              "      <td>55204538</td>\n",
              "      <td>Delayed Because of Accident</td>\n",
              "      <td>Andreas Rönnberg</td>\n",
              "      <td>rock</td>\n",
              "      <td>Moscow</td>\n",
              "      <td>14:07:09</td>\n",
              "      <td>Friday</td>\n",
              "    </tr>\n",
              "    <tr>\n",
              "      <th>2</th>\n",
              "      <td>20EC38</td>\n",
              "      <td>Funiculì funiculà</td>\n",
              "      <td>Mario Lanza</td>\n",
              "      <td>pop</td>\n",
              "      <td>Saint-Petersburg</td>\n",
              "      <td>20:58:07</td>\n",
              "      <td>Wednesday</td>\n",
              "    </tr>\n",
              "    <tr>\n",
              "      <th>3</th>\n",
              "      <td>A3DD03C9</td>\n",
              "      <td>Dragons in the Sunset</td>\n",
              "      <td>Fire + Ice</td>\n",
              "      <td>folk</td>\n",
              "      <td>Saint-Petersburg</td>\n",
              "      <td>08:37:09</td>\n",
              "      <td>Monday</td>\n",
              "    </tr>\n",
              "    <tr>\n",
              "      <th>4</th>\n",
              "      <td>E2DC1FAE</td>\n",
              "      <td>Soul People</td>\n",
              "      <td>Space Echo</td>\n",
              "      <td>dance</td>\n",
              "      <td>Moscow</td>\n",
              "      <td>08:34:34</td>\n",
              "      <td>Monday</td>\n",
              "    </tr>\n",
              "    <tr>\n",
              "      <th>5</th>\n",
              "      <td>842029A1</td>\n",
              "      <td>Преданная</td>\n",
              "      <td>IMPERVTOR</td>\n",
              "      <td>rusrap</td>\n",
              "      <td>Saint-Petersburg</td>\n",
              "      <td>13:09:41</td>\n",
              "      <td>Friday</td>\n",
              "    </tr>\n",
              "    <tr>\n",
              "      <th>6</th>\n",
              "      <td>4CB90AA5</td>\n",
              "      <td>True</td>\n",
              "      <td>Roman Messer</td>\n",
              "      <td>dance</td>\n",
              "      <td>Moscow</td>\n",
              "      <td>13:00:07</td>\n",
              "      <td>Wednesday</td>\n",
              "    </tr>\n",
              "    <tr>\n",
              "      <th>7</th>\n",
              "      <td>F03E1C1F</td>\n",
              "      <td>Feeling This Way</td>\n",
              "      <td>Polina Griffith</td>\n",
              "      <td>dance</td>\n",
              "      <td>Moscow</td>\n",
              "      <td>20:47:49</td>\n",
              "      <td>Wednesday</td>\n",
              "    </tr>\n",
              "    <tr>\n",
              "      <th>8</th>\n",
              "      <td>8FA1D3BE</td>\n",
              "      <td>И вновь продолжается бой</td>\n",
              "      <td>NaN</td>\n",
              "      <td>ruspop</td>\n",
              "      <td>Moscow</td>\n",
              "      <td>09:17:40</td>\n",
              "      <td>Friday</td>\n",
              "    </tr>\n",
              "    <tr>\n",
              "      <th>9</th>\n",
              "      <td>E772D5C0</td>\n",
              "      <td>Pessimist</td>\n",
              "      <td>NaN</td>\n",
              "      <td>dance</td>\n",
              "      <td>Saint-Petersburg</td>\n",
              "      <td>21:20:49</td>\n",
              "      <td>Wednesday</td>\n",
              "    </tr>\n",
              "  </tbody>\n",
              "</table>\n",
              "</div>"
            ],
            "text/plain": [
              "     userID                        Track            artist   genre  \\\n",
              "0  FFB692EC            Kamigata To Boots  The Mass Missile    rock   \n",
              "1  55204538  Delayed Because of Accident  Andreas Rönnberg    rock   \n",
              "2    20EC38            Funiculì funiculà       Mario Lanza     pop   \n",
              "3  A3DD03C9        Dragons in the Sunset        Fire + Ice    folk   \n",
              "4  E2DC1FAE                  Soul People        Space Echo   dance   \n",
              "5  842029A1                    Преданная         IMPERVTOR  rusrap   \n",
              "6  4CB90AA5                         True      Roman Messer   dance   \n",
              "7  F03E1C1F             Feeling This Way   Polina Griffith   dance   \n",
              "8  8FA1D3BE     И вновь продолжается бой               NaN  ruspop   \n",
              "9  E772D5C0                    Pessimist               NaN   dance   \n",
              "\n",
              "             City        time        Day  \n",
              "0  Saint-Petersburg  20:28:33  Wednesday  \n",
              "1            Moscow  14:07:09     Friday  \n",
              "2  Saint-Petersburg  20:58:07  Wednesday  \n",
              "3  Saint-Petersburg  08:37:09     Monday  \n",
              "4            Moscow  08:34:34     Monday  \n",
              "5  Saint-Petersburg  13:09:41     Friday  \n",
              "6            Moscow  13:00:07  Wednesday  \n",
              "7            Moscow  20:47:49  Wednesday  \n",
              "8            Moscow  09:17:40     Friday  \n",
              "9  Saint-Petersburg  21:20:49  Wednesday  "
            ]
          },
          "execution_count": 3,
          "metadata": {},
          "output_type": "execute_result"
        }
      ],
      "source": [
        "df.head(10)"
      ]
    },
    {
      "cell_type": "markdown",
      "metadata": {
        "deletable": false,
        "editable": false,
        "id": "EO73Kwic_Zct",
        "tags": [
          "start_task"
        ]
      },
      "source": [
        "Вывод общей информации о таблице:"
      ]
    },
    {
      "cell_type": "code",
      "execution_count": null,
      "metadata": {
        "deletable": false,
        "id": "DSf2kIb-_Zct",
        "outputId": "a2695b06-926a-4c14-e74c-45c2df79de1e"
      },
      "outputs": [
        {
          "name": "stdout",
          "output_type": "stream",
          "text": [
            "<class 'pandas.core.frame.DataFrame'>\n",
            "RangeIndex: 65079 entries, 0 to 65078\n",
            "Data columns (total 7 columns):\n",
            " #   Column    Non-Null Count  Dtype \n",
            "---  ------    --------------  ----- \n",
            " 0     userID  65079 non-null  object\n",
            " 1   Track     63848 non-null  object\n",
            " 2   artist    57876 non-null  object\n",
            " 3   genre     63881 non-null  object\n",
            " 4     City    65079 non-null  object\n",
            " 5   time      65079 non-null  object\n",
            " 6   Day       65079 non-null  object\n",
            "dtypes: object(7)\n",
            "memory usage: 3.5+ MB\n"
          ]
        }
      ],
      "source": [
        "df.info()"
      ]
    },
    {
      "cell_type": "markdown",
      "metadata": {
        "deletable": false,
        "editable": false,
        "id": "TaQ2Iwbr_Zct"
      },
      "source": [
        "В таблице семь столбцов. Тип данных во всех столбцах — `object`.\n",
        "\n",
        "Количество значений в столбцах различается. Значит, в данных есть пропущенные значения."
      ]
    },
    {
      "cell_type": "markdown",
      "metadata": {
        "deletable": false,
        "editable": false,
        "id": "MCB6-dXG_Zct"
      },
      "source": [
        "**Выводы**\n",
        "\n",
        "В каждой строке таблицы — данные о прослушанном треке. Часть колонок описывает саму композицию: название, исполнителя и жанр. Остальные данные рассказывают о пользователе: из какого он города, когда он слушал музыку. \n",
        "\n",
        "Предварительно можно утверждать, что данных достаточно для проверки гипотез. Но встречаются пропуски в данных, а в названиях колонок — расхождения с хорошим стилем.\n",
        "\n",
        "Чтобы двигаться дальше, нужно устранить проблемы в данных."
      ]
    },
    {
      "cell_type": "markdown",
      "metadata": {
        "deletable": false,
        "editable": false,
        "id": "SjYF6Ub9_Zct"
      },
      "source": [
        "## Предобработка данных"
      ]
    },
    {
      "cell_type": "markdown",
      "metadata": {
        "deletable": false,
        "editable": false,
        "id": "dIaKXr29_Zct",
        "tags": [
          "start_task"
        ]
      },
      "source": [
        "### Стиль заголовков\n",
        "\n",
        "Вывод на экран названия столбцов:"
      ]
    },
    {
      "cell_type": "code",
      "execution_count": null,
      "metadata": {
        "deletable": false,
        "id": "oKOTdF_Q_Zct",
        "outputId": "8ed0fd4c-5c36-46f7-d937-efe76feb3848"
      },
      "outputs": [
        {
          "data": {
            "text/plain": [
              "Index(['  userID', 'Track', 'artist', 'genre', '  City  ', 'time', 'Day'], dtype='object')"
            ]
          },
          "execution_count": 6,
          "metadata": {},
          "output_type": "execute_result"
        }
      ],
      "source": [
        "df.columns # перечень названий столбцов таблицы df"
      ]
    },
    {
      "cell_type": "markdown",
      "metadata": {
        "deletable": false,
        "editable": false,
        "id": "zj5534cv_Zct",
        "tags": [
          "start_task"
        ]
      },
      "source": [
        "Приведение названий столбцов в соответствие с хорошим стилем:\n",
        "* несколько слов в названии запишем в «змеином_регистре»,\n",
        "* все символы сделаем строчными,\n",
        "* устраним пробелы."
      ]
    },
    {
      "cell_type": "code",
      "execution_count": null,
      "metadata": {
        "deletable": false,
        "id": "ISlFqs5y_Zct"
      },
      "outputs": [],
      "source": [
        "df = df.rename(columns={'  userID': 'user_id', 'Track': 'track', '  City  ': 'city', 'Day': 'day'}) # переименование столбцов"
      ]
    },
    {
      "cell_type": "markdown",
      "metadata": {
        "deletable": false,
        "editable": false,
        "id": "1dqbh00J_Zct",
        "tags": [
          "start_task"
        ]
      },
      "source": [
        "Вывод на экран названий столбцов, чтобы проверить результат:"
      ]
    },
    {
      "cell_type": "code",
      "execution_count": null,
      "metadata": {
        "deletable": false,
        "id": "d4NOAmTW_Zct",
        "outputId": "bf299fbd-ab7c-4ef1-bbd6-f476ba764ecb"
      },
      "outputs": [
        {
          "data": {
            "text/plain": [
              "Index(['user_id', 'track', 'artist', 'genre', 'city', 'time', 'day'], dtype='object')"
            ]
          },
          "execution_count": 8,
          "metadata": {},
          "output_type": "execute_result"
        }
      ],
      "source": [
        "df.columns # проверка результатов - перечень названий столбцов"
      ]
    },
    {
      "cell_type": "markdown",
      "metadata": {
        "deletable": false,
        "editable": false,
        "id": "5ISfbcfY_Zct",
        "tags": [
          "start_task"
        ]
      },
      "source": [
        "### Пропуски значений\n",
        "\n",
        "Подсчет пропущенных значений в таблице."
      ]
    },
    {
      "cell_type": "code",
      "execution_count": null,
      "metadata": {
        "deletable": false,
        "id": "RskX29qr_Zct",
        "outputId": "c9c27dc5-28ca-4329-d31c-f9c057918038"
      },
      "outputs": [
        {
          "data": {
            "text/plain": [
              "user_id       0\n",
              "track      1231\n",
              "artist     7203\n",
              "genre      1198\n",
              "city          0\n",
              "time          0\n",
              "day           0\n",
              "dtype: int64"
            ]
          },
          "execution_count": 9,
          "metadata": {},
          "output_type": "execute_result"
        }
      ],
      "source": [
        "df.isna().sum()# подсчёт пропусков"
      ]
    },
    {
      "cell_type": "markdown",
      "metadata": {
        "deletable": false,
        "editable": false,
        "id": "qubhgnlO_Zct"
      },
      "source": [
        "Не все пропущенные значения влияют на исследование. Так в `track` и `artist` пропуски не выжны для целей исследования. Достаточно заменить их явными обозначениями.\n",
        "\n",
        "Но пропуски в `genre` могут помешать сравнению музыкальных вкусов в Москве и Санкт-Петербурге. На практике было бы правильно установить причину пропусков и восстановить данные. Такой возможности нет в учебном проекте. Придётся:\n",
        "* заполнить и эти пропуски явными обозначениями;\n",
        "* оценить, насколько они повредят расчётам. "
      ]
    },
    {
      "cell_type": "markdown",
      "metadata": {
        "deletable": false,
        "editable": false,
        "id": "fSv2laPA_Zct",
        "tags": [
          "start_task"
        ]
      },
      "source": [
        "Замена пропущенных значений в столбцах `track`, `artist` и `genre` на строку `'unknown'`. "
      ]
    },
    {
      "cell_type": "code",
      "execution_count": null,
      "metadata": {
        "deletable": false,
        "id": "KplB5qWs_Zct"
      },
      "outputs": [],
      "source": [
        "columns_to_replace = ['track', 'artist', 'genre']\n",
        "\n",
        "for column in columns_to_replace:\n",
        "    df[column] = df[column].fillna('unknown') # перебор названий столбцов в цикле и замена пропущенных значений на 'unknown'"
      ]
    },
    {
      "cell_type": "markdown",
      "metadata": {
        "deletable": false,
        "editable": false,
        "id": "Ilsm-MZo_Zct",
        "tags": [
          "start_task"
        ]
      },
      "source": [
        "Убедимся, что в таблице не осталось пропусков:"
      ]
    },
    {
      "cell_type": "code",
      "execution_count": null,
      "metadata": {
        "deletable": false,
        "id": "Tq4nYRX4_Zct",
        "outputId": "34d6760c-8a0e-49a9-bb3c-7d088ea7afb5"
      },
      "outputs": [
        {
          "data": {
            "text/plain": [
              "user_id    0\n",
              "track      0\n",
              "artist     0\n",
              "genre      0\n",
              "city       0\n",
              "time       0\n",
              "day        0\n",
              "dtype: int64"
            ]
          },
          "execution_count": 11,
          "metadata": {},
          "output_type": "execute_result"
        }
      ],
      "source": [
        "df.isna().sum() # подсчёт пропусков"
      ]
    },
    {
      "cell_type": "markdown",
      "metadata": {
        "deletable": false,
        "editable": false,
        "id": "BWKRtBJ3_Zct",
        "tags": [
          "start_task"
        ]
      },
      "source": [
        "### Дубликаты\n",
        "\n",
        "Подсчет явных дубликатов в таблице:"
      ]
    },
    {
      "cell_type": "code",
      "execution_count": null,
      "metadata": {
        "deletable": false,
        "id": "36eES_S0_Zct",
        "outputId": "97935fce-b521-4bb8-c63d-fc59912267b3"
      },
      "outputs": [
        {
          "data": {
            "text/plain": [
              "3826"
            ]
          },
          "execution_count": 12,
          "metadata": {},
          "output_type": "execute_result"
        }
      ],
      "source": [
        "df.duplicated().sum() # подсчёт явных дубликатов"
      ]
    },
    {
      "cell_type": "markdown",
      "metadata": {
        "deletable": false,
        "editable": false,
        "id": "Ot25h6XR_Zct",
        "tags": [
          "start_task"
        ]
      },
      "source": [
        "Удаление явных дубликатов:"
      ]
    },
    {
      "cell_type": "code",
      "execution_count": null,
      "metadata": {
        "deletable": false,
        "id": "exFHq6tt_Zct"
      },
      "outputs": [],
      "source": [
        "df = df.drop_duplicates() # удаление явных дубликатов"
      ]
    },
    {
      "cell_type": "markdown",
      "metadata": {
        "deletable": false,
        "editable": false,
        "id": "Im2YwBEG_Zct",
        "tags": [
          "start_task"
        ]
      },
      "source": [
        "Проверка результата удаления явных дубликатов в таблице:"
      ]
    },
    {
      "cell_type": "code",
      "execution_count": null,
      "metadata": {
        "deletable": false,
        "id": "-8PuNWQ0_Zct",
        "outputId": "096fe88a-cdae-4e04-a0b6-1fb925e9fd35"
      },
      "outputs": [
        {
          "data": {
            "text/plain": [
              "0"
            ]
          },
          "execution_count": 14,
          "metadata": {},
          "output_type": "execute_result"
        }
      ],
      "source": [
        "df.duplicated().sum() # проверка на отсутствие дубликатов"
      ]
    },
    {
      "cell_type": "markdown",
      "metadata": {
        "deletable": false,
        "editable": false,
        "id": "QlFBsxAr_Zct"
      },
      "source": [
        "Проверка наличия неявных дубликатов в колонке `genre`. Например, название одного и того же жанра может быть записано немного по-разному. Такие ошибки тоже повлияют на результат исследования."
      ]
    },
    {
      "cell_type": "markdown",
      "metadata": {
        "deletable": false,
        "editable": false,
        "id": "eSjWwsOh_Zct",
        "tags": [
          "start_task"
        ]
      },
      "source": [
        "**Задание 15**\n",
        "\n",
        "Вывод на экран списка уникальных названий жанров, отсортированного в алфавитном порядке."
      ]
    },
    {
      "cell_type": "code",
      "execution_count": null,
      "metadata": {
        "deletable": false,
        "id": "JIUcqzZN_Zct",
        "outputId": "92e6a7e6-3555-4538-cb8e-f756ce7dc9c1"
      },
      "outputs": [
        {
          "data": {
            "text/plain": [
              "array(['acid', 'acoustic', 'action', 'adult', 'africa', 'afrikaans',\n",
              "       'alternative', 'alternativepunk', 'ambient', 'americana',\n",
              "       'animated', 'anime', 'arabesk', 'arabic', 'arena',\n",
              "       'argentinetango', 'art', 'audiobook', 'author', 'avantgarde',\n",
              "       'axé', 'baile', 'balkan', 'beats', 'bigroom', 'black', 'bluegrass',\n",
              "       'blues', 'bollywood', 'bossa', 'brazilian', 'breakbeat', 'breaks',\n",
              "       'broadway', 'cantautori', 'cantopop', 'canzone', 'caribbean',\n",
              "       'caucasian', 'celtic', 'chamber', 'chanson', 'children', 'chill',\n",
              "       'chinese', 'choral', 'christian', 'christmas', 'classical',\n",
              "       'classicmetal', 'club', 'colombian', 'comedy', 'conjazz',\n",
              "       'contemporary', 'country', 'cuban', 'dance', 'dancehall',\n",
              "       'dancepop', 'dark', 'death', 'deep', 'deutschrock', 'deutschspr',\n",
              "       'dirty', 'disco', 'dnb', 'documentary', 'downbeat', 'downtempo',\n",
              "       'drum', 'dub', 'dubstep', 'eastern', 'easy', 'electronic',\n",
              "       'electropop', 'emo', 'entehno', 'epicmetal', 'estrada', 'ethnic',\n",
              "       'eurofolk', 'european', 'experimental', 'extrememetal', 'fado',\n",
              "       'fairytail', 'film', 'fitness', 'flamenco', 'folk', 'folklore',\n",
              "       'folkmetal', 'folkrock', 'folktronica', 'forró', 'frankreich',\n",
              "       'französisch', 'french', 'funk', 'future', 'gangsta', 'garage',\n",
              "       'german', 'ghazal', 'gitarre', 'glitch', 'gospel', 'gothic',\n",
              "       'grime', 'grunge', 'gypsy', 'handsup', \"hard'n'heavy\", 'hardcore',\n",
              "       'hardstyle', 'hardtechno', 'hip', 'hip-hop', 'hiphop',\n",
              "       'historisch', 'holiday', 'hop', 'horror', 'house', 'hymn', 'idm',\n",
              "       'independent', 'indian', 'indie', 'indipop', 'industrial',\n",
              "       'inspirational', 'instrumental', 'international', 'irish', 'jam',\n",
              "       'japanese', 'jazz', 'jewish', 'jpop', 'jungle', 'k-pop',\n",
              "       'karadeniz', 'karaoke', 'kayokyoku', 'korean', 'laiko', 'latin',\n",
              "       'latino', 'leftfield', 'local', 'lounge', 'loungeelectronic',\n",
              "       'lovers', 'malaysian', 'mandopop', 'marschmusik', 'meditative',\n",
              "       'mediterranean', 'melodic', 'metal', 'metalcore', 'mexican',\n",
              "       'middle', 'minimal', 'miscellaneous', 'modern', 'mood', 'mpb',\n",
              "       'muslim', 'native', 'neoklassik', 'neue', 'new', 'newage',\n",
              "       'newwave', 'nu', 'nujazz', 'numetal', 'oceania', 'old', 'opera',\n",
              "       'orchestral', 'other', 'piano', 'podcasts', 'pop', 'popdance',\n",
              "       'popelectronic', 'popeurodance', 'poprussian', 'post',\n",
              "       'posthardcore', 'postrock', 'power', 'progmetal', 'progressive',\n",
              "       'psychedelic', 'punjabi', 'punk', 'quebecois', 'ragga', 'ram',\n",
              "       'rancheras', 'rap', 'rave', 'reggae', 'reggaeton', 'regional',\n",
              "       'relax', 'religious', 'retro', 'rhythm', 'rnb', 'rnr', 'rock',\n",
              "       'rockabilly', 'rockalternative', 'rockindie', 'rockother',\n",
              "       'romance', 'roots', 'ruspop', 'rusrap', 'rusrock', 'russian',\n",
              "       'salsa', 'samba', 'scenic', 'schlager', 'self', 'sertanejo',\n",
              "       'shanson', 'shoegazing', 'showtunes', 'singer', 'ska', 'skarock',\n",
              "       'slow', 'smooth', 'soft', 'soul', 'soulful', 'sound', 'soundtrack',\n",
              "       'southern', 'specialty', 'speech', 'spiritual', 'sport',\n",
              "       'stonerrock', 'surf', 'swing', 'synthpop', 'synthrock',\n",
              "       'sängerportrait', 'tango', 'tanzorchester', 'taraftar', 'tatar',\n",
              "       'tech', 'techno', 'teen', 'thrash', 'top', 'traditional',\n",
              "       'tradjazz', 'trance', 'tribal', 'trip', 'triphop', 'tropical',\n",
              "       'türk', 'türkçe', 'ukrrock', 'unknown', 'urban', 'uzbek',\n",
              "       'variété', 'vi', 'videogame', 'vocal', 'western', 'world',\n",
              "       'worldbeat', 'ïîï', 'электроника'], dtype=object)"
            ]
          },
          "execution_count": 15,
          "metadata": {},
          "output_type": "execute_result"
        }
      ],
      "source": [
        "df['genre'].sort_values().unique() # Просмотр уникальных названий жанров"
      ]
    },
    {
      "cell_type": "markdown",
      "metadata": {
        "deletable": false,
        "editable": false,
        "id": "qej-Qmuo_Zct",
        "tags": [
          "start_task"
        ]
      },
      "source": [
        "**Задание 16**\n",
        "\n",
        "В колнке 'genre' присутствуют неявные дубликаты названия `hiphop`:\n",
        "* *hip*,\n",
        "* *hop*,\n",
        "* *hip-hop*.\n",
        "\n",
        "Очитска таблицы от неявных дубликатов:"
      ]
    },
    {
      "cell_type": "code",
      "execution_count": null,
      "metadata": {
        "deletable": false,
        "id": "ErNDkmns_Zct"
      },
      "outputs": [],
      "source": [
        "duplicates = ['hip', 'hop', 'hip-hop']\n",
        "genre = 'hiphop'\n",
        "\n",
        "df['genre'] = df['genre'].replace(duplicates, genre) # Устранение неявных дубликатов"
      ]
    },
    {
      "cell_type": "markdown",
      "metadata": {
        "deletable": false,
        "editable": false,
        "id": "zQKF16_RG15m",
        "tags": [
          "start_task"
        ]
      },
      "source": [
        "Провека, что все неправильные названия были заменены:"
      ]
    },
    {
      "cell_type": "code",
      "execution_count": null,
      "metadata": {
        "deletable": false,
        "id": "wvixALnFG15m",
        "outputId": "242e8e17-ddc8-48eb-df51-1534845460e9"
      },
      "outputs": [
        {
          "data": {
            "text/plain": [
              "array(['acid', 'acoustic', 'action', 'adult', 'africa', 'afrikaans',\n",
              "       'alternative', 'alternativepunk', 'ambient', 'americana',\n",
              "       'animated', 'anime', 'arabesk', 'arabic', 'arena',\n",
              "       'argentinetango', 'art', 'audiobook', 'author', 'avantgarde',\n",
              "       'axé', 'baile', 'balkan', 'beats', 'bigroom', 'black', 'bluegrass',\n",
              "       'blues', 'bollywood', 'bossa', 'brazilian', 'breakbeat', 'breaks',\n",
              "       'broadway', 'cantautori', 'cantopop', 'canzone', 'caribbean',\n",
              "       'caucasian', 'celtic', 'chamber', 'chanson', 'children', 'chill',\n",
              "       'chinese', 'choral', 'christian', 'christmas', 'classical',\n",
              "       'classicmetal', 'club', 'colombian', 'comedy', 'conjazz',\n",
              "       'contemporary', 'country', 'cuban', 'dance', 'dancehall',\n",
              "       'dancepop', 'dark', 'death', 'deep', 'deutschrock', 'deutschspr',\n",
              "       'dirty', 'disco', 'dnb', 'documentary', 'downbeat', 'downtempo',\n",
              "       'drum', 'dub', 'dubstep', 'eastern', 'easy', 'electronic',\n",
              "       'electropop', 'emo', 'entehno', 'epicmetal', 'estrada', 'ethnic',\n",
              "       'eurofolk', 'european', 'experimental', 'extrememetal', 'fado',\n",
              "       'fairytail', 'film', 'fitness', 'flamenco', 'folk', 'folklore',\n",
              "       'folkmetal', 'folkrock', 'folktronica', 'forró', 'frankreich',\n",
              "       'französisch', 'french', 'funk', 'future', 'gangsta', 'garage',\n",
              "       'german', 'ghazal', 'gitarre', 'glitch', 'gospel', 'gothic',\n",
              "       'grime', 'grunge', 'gypsy', 'handsup', \"hard'n'heavy\", 'hardcore',\n",
              "       'hardstyle', 'hardtechno', 'hiphop', 'historisch', 'holiday',\n",
              "       'horror', 'house', 'hymn', 'idm', 'independent', 'indian', 'indie',\n",
              "       'indipop', 'industrial', 'inspirational', 'instrumental',\n",
              "       'international', 'irish', 'jam', 'japanese', 'jazz', 'jewish',\n",
              "       'jpop', 'jungle', 'k-pop', 'karadeniz', 'karaoke', 'kayokyoku',\n",
              "       'korean', 'laiko', 'latin', 'latino', 'leftfield', 'local',\n",
              "       'lounge', 'loungeelectronic', 'lovers', 'malaysian', 'mandopop',\n",
              "       'marschmusik', 'meditative', 'mediterranean', 'melodic', 'metal',\n",
              "       'metalcore', 'mexican', 'middle', 'minimal', 'miscellaneous',\n",
              "       'modern', 'mood', 'mpb', 'muslim', 'native', 'neoklassik', 'neue',\n",
              "       'new', 'newage', 'newwave', 'nu', 'nujazz', 'numetal', 'oceania',\n",
              "       'old', 'opera', 'orchestral', 'other', 'piano', 'podcasts', 'pop',\n",
              "       'popdance', 'popelectronic', 'popeurodance', 'poprussian', 'post',\n",
              "       'posthardcore', 'postrock', 'power', 'progmetal', 'progressive',\n",
              "       'psychedelic', 'punjabi', 'punk', 'quebecois', 'ragga', 'ram',\n",
              "       'rancheras', 'rap', 'rave', 'reggae', 'reggaeton', 'regional',\n",
              "       'relax', 'religious', 'retro', 'rhythm', 'rnb', 'rnr', 'rock',\n",
              "       'rockabilly', 'rockalternative', 'rockindie', 'rockother',\n",
              "       'romance', 'roots', 'ruspop', 'rusrap', 'rusrock', 'russian',\n",
              "       'salsa', 'samba', 'scenic', 'schlager', 'self', 'sertanejo',\n",
              "       'shanson', 'shoegazing', 'showtunes', 'singer', 'ska', 'skarock',\n",
              "       'slow', 'smooth', 'soft', 'soul', 'soulful', 'sound', 'soundtrack',\n",
              "       'southern', 'specialty', 'speech', 'spiritual', 'sport',\n",
              "       'stonerrock', 'surf', 'swing', 'synthpop', 'synthrock',\n",
              "       'sängerportrait', 'tango', 'tanzorchester', 'taraftar', 'tatar',\n",
              "       'tech', 'techno', 'teen', 'thrash', 'top', 'traditional',\n",
              "       'tradjazz', 'trance', 'tribal', 'trip', 'triphop', 'tropical',\n",
              "       'türk', 'türkçe', 'ukrrock', 'unknown', 'urban', 'uzbek',\n",
              "       'variété', 'vi', 'videogame', 'vocal', 'western', 'world',\n",
              "       'worldbeat', 'ïîï', 'электроника'], dtype=object)"
            ]
          },
          "execution_count": 17,
          "metadata": {},
          "output_type": "execute_result"
        }
      ],
      "source": [
        "df['genre'].sort_values().unique() # Проверка на неявные дубликаты"
      ]
    },
    {
      "cell_type": "markdown",
      "metadata": {
        "deletable": false,
        "editable": false,
        "id": "jz6a9-7HQUDd"
      },
      "source": [
        "**Выводы**\n",
        "\n",
        "В рамках предобработки обнаружены три проблемы в данных:\n",
        "\n",
        "- нарушения в стиле заголовков,\n",
        "- пропущенные значения,\n",
        "- дубликаты — явные и неявные.\n",
        "\n",
        "Для устранения проблем было выполнено следующее:\n",
        "* испралены заголовки, чтобы упростить работу с таблицей,\n",
        "* пропущенные значения заменены на `'unknown',\n",
        "* Удалены явные и обработаны неявные дубликаты.\n",
        "\n",
        "Необходимо в рамках дальнейшего исследования проверить, не повредят ли исследованию пропуски в колонке `genre`."
      ]
    },
    {
      "cell_type": "markdown",
      "metadata": {
        "deletable": false,
        "editable": false,
        "id": "WttZHXH0SqKk"
      },
      "source": [
        "## Проверка гипотез"
      ]
    },
    {
      "cell_type": "markdown",
      "metadata": {
        "deletable": false,
        "editable": false,
        "id": "Im936VVi_Zcu"
      },
      "source": [
        "### Сравнение поведения пользователей двух столиц"
      ]
    },
    {
      "cell_type": "markdown",
      "metadata": {
        "deletable": false,
        "editable": false,
        "id": "nwt_MuaL_Zcu"
      },
      "source": [
        "Первая гипотеза утверждает, что пользователи по-разному слушают музыку в Москве и Санкт-Петербурге. Проверим это предположение по данным о трёх днях недели — понедельнике, среде и пятнице. Для этого:\n",
        "\n",
        "* Разделим пользователей Москвы и Санкт-Петербурга.\n",
        "* Сравним, сколько треков послушала каждая группа пользователей в понедельник, среду и пятницу.\n"
      ]
    },
    {
      "cell_type": "markdown",
      "metadata": {
        "deletable": false,
        "editable": false,
        "id": "8Dw_YMmT_Zcu",
        "tags": [
          "start_task"
        ]
      },
      "source": [
        "Оценика активности пользователей в каждом городе.\n",
        "\n"
      ]
    },
    {
      "cell_type": "code",
      "execution_count": null,
      "metadata": {
        "deletable": false,
        "id": "0_Qs96oh_Zcu",
        "outputId": "913099e4-0c08-4253-ecf6-b32d47576f4b"
      },
      "outputs": [
        {
          "data": {
            "text/plain": [
              "city\n",
              "Moscow              42741\n",
              "Saint-Petersburg    18512\n",
              "Name: track, dtype: int64"
            ]
          },
          "execution_count": 18,
          "metadata": {},
          "output_type": "execute_result"
        }
      ],
      "source": [
        "tracks_by_cities = df.groupby('city')['track'].count()\n",
        "\n",
        "tracks_by_cities.head()\n",
        "\n",
        "# Подсчёт прослушиваний в каждом городе"
      ]
    },
    {
      "cell_type": "markdown",
      "metadata": {
        "deletable": false,
        "editable": false,
        "id": "dzli3w8o_Zcu",
        "tags": [
          "start_task"
        ]
      },
      "source": [
        "В Москве прослушиваний больше, чем в Петербурге. Из этого не следует, что московские пользователи чаще слушают музыку. Просто самих пользователей в Москве больше.\n",
        "\n",
        "Группировка данных по дню недели и подсчет прослушивания в понедельник, среду и пятницу.\n"
      ]
    },
    {
      "cell_type": "code",
      "execution_count": null,
      "metadata": {
        "deletable": false,
        "id": "uZMKjiJz_Zcu",
        "outputId": "b19a5926-2b2a-494a-f3d3-47176e73d2d4"
      },
      "outputs": [
        {
          "data": {
            "text/plain": [
              "day\n",
              "Friday       21840\n",
              "Monday       21354\n",
              "Wednesday    18059\n",
              "Name: track, dtype: int64"
            ]
          },
          "execution_count": 19,
          "metadata": {},
          "output_type": "execute_result"
        }
      ],
      "source": [
        "tracks_by_days = df.groupby('day')['track'].count()\n",
        "tracks_by_days.head() # Подсчёт прослушиваний в каждый из трёх дней"
      ]
    },
    {
      "cell_type": "markdown",
      "metadata": {
        "deletable": false,
        "editable": false,
        "id": "cC2tNrlL_Zcu"
      },
      "source": [
        "В среднем пользователи из двух городов менее активны по средам. Но картина может измениться, если рассмотреть каждый город в отдельности."
      ]
    },
    {
      "cell_type": "markdown",
      "metadata": {
        "deletable": false,
        "editable": false,
        "id": "POzs8bGa_Zcu",
        "tags": [
          "start_task"
        ]
      },
      "source": [
        "Создание функции `number_tracks()`, которая посчитает прослушивания для заданного дня и города."
      ]
    },
    {
      "cell_type": "code",
      "execution_count": null,
      "metadata": {
        "deletable": false,
        "id": "Nz3GdQB1_Zcu"
      },
      "outputs": [],
      "source": [
        " # <создание функции number_tracks()>\n",
        "def number_tracks(day, city): # Объявляется функция с двумя параметрами: day, city.\n",
        "    track_list = df[df['day'] == day]\n",
        "    track_list = track_list[track_list['city'] == city]# В переменной track_list сохраняются те строки таблицы df, для которых \n",
        "# значение в столбце 'day' равно параметру day и одновременно значение\n",
        "# в столбце 'city' равно параметру city.\n",
        "    track_list_count =  track_list['user_id'].count() # В переменной track_list_count сохраняется число значений столбца 'user_id',\n",
        "# рассчитанное методом count() для таблицы track_list.\n",
        "    return track_list_count "
      ]
    },
    {
      "cell_type": "markdown",
      "metadata": {
        "deletable": false,
        "editable": false,
        "id": "ytf7xFrFJQ2r",
        "tags": [
          "start_task"
        ]
      },
      "source": [
        "Вызов функции `number_tracks()` для каждого города в каждый из трёх дней."
      ]
    },
    {
      "cell_type": "code",
      "execution_count": null,
      "metadata": {
        "deletable": false,
        "id": "rJcRATNQ_Zcu",
        "outputId": "17c17ce2-3121-4f9d-d410-5b67de4f0cb7"
      },
      "outputs": [
        {
          "data": {
            "text/plain": [
              "15740"
            ]
          },
          "execution_count": 21,
          "metadata": {},
          "output_type": "execute_result"
        }
      ],
      "source": [
        "number_tracks('Monday', 'Moscow') # количество прослушиваний в Москве по понедельникам"
      ]
    },
    {
      "cell_type": "code",
      "execution_count": null,
      "metadata": {
        "deletable": false,
        "id": "hq_ncZ5T_Zcu",
        "outputId": "84b9a286-1760-4268-f6aa-e5109e8ff4da"
      },
      "outputs": [
        {
          "data": {
            "text/plain": [
              "5614"
            ]
          },
          "execution_count": 22,
          "metadata": {},
          "output_type": "execute_result"
        }
      ],
      "source": [
        "number_tracks('Monday', 'Saint-Petersburg') # количество прослушиваний в Санкт-Петербурге по понедельникам"
      ]
    },
    {
      "cell_type": "code",
      "execution_count": null,
      "metadata": {
        "deletable": false,
        "id": "_NTy2VPU_Zcu",
        "outputId": "ee63137a-5593-44ba-d81f-cc952cf61dc0"
      },
      "outputs": [
        {
          "data": {
            "text/plain": [
              "11056"
            ]
          },
          "execution_count": 23,
          "metadata": {},
          "output_type": "execute_result"
        }
      ],
      "source": [
        "number_tracks('Wednesday', 'Moscow') # количество прослушиваний в Москве по средам"
      ]
    },
    {
      "cell_type": "code",
      "execution_count": null,
      "metadata": {
        "deletable": false,
        "id": "j2y3TAwo_Zcu",
        "outputId": "64dd0ea1-9ce0-436f-d973-423b1098dbd9"
      },
      "outputs": [
        {
          "data": {
            "text/plain": [
              "7003"
            ]
          },
          "execution_count": 24,
          "metadata": {},
          "output_type": "execute_result"
        }
      ],
      "source": [
        "number_tracks('Wednesday', 'Saint-Petersburg') # количество прослушиваний в Санкт-Петербурге по средам"
      ]
    },
    {
      "cell_type": "code",
      "execution_count": null,
      "metadata": {
        "deletable": false,
        "id": "vYDw5u_K_Zcu",
        "outputId": "8c7daedb-50fd-4905-e13f-211619217e7a"
      },
      "outputs": [
        {
          "data": {
            "text/plain": [
              "15945"
            ]
          },
          "execution_count": 25,
          "metadata": {},
          "output_type": "execute_result"
        }
      ],
      "source": [
        "number_tracks('Friday', 'Moscow') # количество прослушиваний в Москве по пятницам"
      ]
    },
    {
      "cell_type": "code",
      "execution_count": null,
      "metadata": {
        "deletable": false,
        "id": "8_yzFtW3_Zcu",
        "outputId": "650c74a3-0060-40a6-b1df-60e4dc43b2c3"
      },
      "outputs": [
        {
          "data": {
            "text/plain": [
              "5895"
            ]
          },
          "execution_count": 26,
          "metadata": {},
          "output_type": "execute_result"
        }
      ],
      "source": [
        "number_tracks('Friday', 'Saint-Petersburg') # количество прослушиваний в Санкт-Петербурге по пятницам"
      ]
    },
    {
      "cell_type": "markdown",
      "metadata": {
        "deletable": false,
        "editable": false,
        "id": "7QXffbO-_Zcu",
        "tags": [
          "start_task"
        ]
      },
      "source": [
        "Формирование сводной таблицы по полученным данным"
      ]
    },
    {
      "cell_type": "code",
      "execution_count": null,
      "metadata": {
        "deletable": false,
        "id": "APAcLpOr_Zcu",
        "outputId": "4d069b45-bc5a-49d0-ce19-01596216e204"
      },
      "outputs": [
        {
          "data": {
            "text/html": [
              "<div>\n",
              "<style scoped>\n",
              "    .dataframe tbody tr th:only-of-type {\n",
              "        vertical-align: middle;\n",
              "    }\n",
              "\n",
              "    .dataframe tbody tr th {\n",
              "        vertical-align: top;\n",
              "    }\n",
              "\n",
              "    .dataframe thead th {\n",
              "        text-align: right;\n",
              "    }\n",
              "</style>\n",
              "<table border=\"1\" class=\"dataframe\">\n",
              "  <thead>\n",
              "    <tr style=\"text-align: right;\">\n",
              "      <th></th>\n",
              "      <th>city</th>\n",
              "      <th>monday</th>\n",
              "      <th>wednesday</th>\n",
              "      <th>friday</th>\n",
              "    </tr>\n",
              "  </thead>\n",
              "  <tbody>\n",
              "    <tr>\n",
              "      <th>0</th>\n",
              "      <td>Moscow</td>\n",
              "      <td>15740</td>\n",
              "      <td>11056</td>\n",
              "      <td>15945</td>\n",
              "    </tr>\n",
              "    <tr>\n",
              "      <th>1</th>\n",
              "      <td>Saint-Petersberg</td>\n",
              "      <td>5614</td>\n",
              "      <td>7003</td>\n",
              "      <td>5895</td>\n",
              "    </tr>\n",
              "  </tbody>\n",
              "</table>\n",
              "</div>"
            ],
            "text/plain": [
              "               city  monday  wednesday  friday\n",
              "0            Moscow   15740      11056   15945\n",
              "1  Saint-Petersberg    5614       7003    5895"
            ]
          },
          "execution_count": 27,
          "metadata": {},
          "output_type": "execute_result"
        }
      ],
      "source": [
        "data = [\n",
        "    ['Moscow', 15740, 11056, 15945],\n",
        "    ['Saint-Petersberg', 5614, 7003, 5895]\n",
        "]\n",
        "columns = ['city', 'monday', 'wednesday', 'friday']\n",
        "\n",
        "pd.DataFrame(data=data, columns=columns) # Таблица с результатами"
      ]
    },
    {
      "cell_type": "markdown",
      "metadata": {
        "deletable": false,
        "editable": false,
        "id": "-EgPIHYu_Zcu"
      },
      "source": [
        "**Выводы**\n",
        "\n",
        "Данные показывают разницу поведения пользователей:\n",
        "\n",
        "- В Москве пик прослушиваний приходится на понедельник и пятницу, а в среду заметен спад.\n",
        "- В Петербурге, наоборот, больше слушают музыку по средам. Активность в понедельник и пятницу здесь почти в равной мере уступает среде.\n",
        "\n",
        "Значит, данные говорят в пользу первой гипотезы."
      ]
    },
    {
      "cell_type": "markdown",
      "metadata": {
        "deletable": false,
        "editable": false,
        "id": "atZAxtq4_Zcu"
      },
      "source": [
        "### Музыка в начале и в конце недели"
      ]
    },
    {
      "cell_type": "markdown",
      "metadata": {
        "deletable": false,
        "editable": false,
        "id": "eXrQqXFH_Zcu"
      },
      "source": [
        "Согласно второй гипотезе, утром в понедельник в Москве преобладают одни жанры, а в Петербурге — другие. Так же и вечером пятницы преобладают разные жанры — в зависимости от города."
      ]
    },
    {
      "cell_type": "markdown",
      "metadata": {
        "deletable": false,
        "editable": false,
        "id": "S8UcW6Hw_Zcu",
        "tags": [
          "start_task"
        ]
      },
      "source": [
        "Сохраним таблицы с данными в две переменные:\n",
        "* по Москве — в `moscow_general`;\n",
        "* по Санкт-Петербургу — в `spb_general`."
      ]
    },
    {
      "cell_type": "code",
      "execution_count": null,
      "metadata": {
        "deletable": false,
        "id": "qeaFfM_P_Zcu"
      },
      "outputs": [],
      "source": [
        "moscow_general = df[df['city'] == 'Moscow'] # получение таблицы moscow_general из тех строк таблицы df, \n",
        "# для которых значение в столбце 'city' равно 'Moscow'"
      ]
    },
    {
      "cell_type": "code",
      "execution_count": null,
      "metadata": {
        "deletable": false,
        "id": "ORaVRKto_Zcu"
      },
      "outputs": [],
      "source": [
        "spb_general = df[df['city'] == 'Saint-Petersburg'] # получение таблицы spb_general из тех строк таблицы df,\n",
        "# для которых значение в столбце 'city' равно 'Saint-Petersburg'\n"
      ]
    },
    {
      "cell_type": "markdown",
      "metadata": {
        "deletable": false,
        "editable": false,
        "id": "MEJV-CX2_Zcu",
        "tags": [
          "start_task"
        ]
      },
      "source": [
        "**Задание 24**\n",
        "\n",
        "Создайни функции `genre_weekday()` с четырьмя параметрами:\n",
        "* таблица (датафрейм) с данными,\n",
        "* день недели,\n",
        "* начальная временная метка в формате 'hh:mm', \n",
        "* последняя временная метка в формате 'hh:mm'.\n",
        "\n",
        "Функция должна вернуть информацию о топ-10 жанров тех треков, которые прослушивали в указанный день, в промежутке между двумя отметками времени."
      ]
    },
    {
      "cell_type": "code",
      "execution_count": null,
      "metadata": {
        "deletable": false,
        "id": "laJT9BYl_Zcu"
      },
      "outputs": [],
      "source": [
        "def genre_weekday(df, day, time1, time2):\n",
        "    # последовательная фильтрация\n",
        "    # оставляем в genre_df только те строки df, у которых день равен day\n",
        "    genre_df = df[df['day'] == day] \n",
        "    # оставляем в genre_df только те строки genre_df, у которых время меньше time2\n",
        "    genre_df = genre_df[genre_df['time'] < time2]\n",
        "    # оставляем в genre_df только те строки genre_df, у которых время больше time1\n",
        "    genre_df = genre_df[genre_df['time'] > time1]\n",
        "    # сгруппируем отфильтрованный датафрейм по столбцу с названиями жанров, возьмём столбец genre и посчитаем кол-во строк для каждого жанра методом count()\n",
        "    genre_df_grouped = genre_df.groupby('genre')['genre'].count()\n",
        "    # отсортируем результат по убыванию (чтобы в начале Series оказались самые популярные жанры)\n",
        "    genre_df_sorted = genre_df_grouped.sort_values(ascending=False)\n",
        "    # вернём Series с 10 самыми популярными жанрами в указанный отрезок времени заданного дня\n",
        "    return genre_df_sorted[:10]"
      ]
    },
    {
      "cell_type": "markdown",
      "metadata": {
        "deletable": false,
        "editable": false,
        "id": "la2s2_PF_Zcu",
        "tags": [
          "start_task"
        ]
      },
      "source": [
        "Cравнение результатов функции `genre_weekday()` для Москвы и Санкт-Петербурга в понедельник утром (с 7:00 до 11:00) и в пятницу вечером (с 17:00 до 23:00):"
      ]
    },
    {
      "cell_type": "code",
      "execution_count": null,
      "metadata": {
        "deletable": false,
        "id": "yz7itPUQ_Zcu",
        "outputId": "33fde18f-8a7b-4ead-b1df-2b596e35727e"
      },
      "outputs": [
        {
          "data": {
            "text/plain": [
              "genre\n",
              "pop            781\n",
              "dance          549\n",
              "electronic     480\n",
              "rock           474\n",
              "hiphop         286\n",
              "ruspop         186\n",
              "world          181\n",
              "rusrap         175\n",
              "alternative    164\n",
              "unknown        161\n",
              "Name: genre, dtype: int64"
            ]
          },
          "execution_count": 31,
          "metadata": {},
          "output_type": "execute_result"
        }
      ],
      "source": [
        "genre_weekday(moscow_general, 'Monday', '07:00', '11:00') # вызов функции для утра понедельника в Москве"
      ]
    },
    {
      "cell_type": "code",
      "execution_count": null,
      "metadata": {
        "deletable": false,
        "id": "kwUcHPdy_Zcu",
        "outputId": "e0ba5b7a-5b32-47ad-8923-7c1a3e26a0e0"
      },
      "outputs": [
        {
          "data": {
            "text/plain": [
              "genre\n",
              "pop            218\n",
              "dance          182\n",
              "rock           162\n",
              "electronic     147\n",
              "hiphop          80\n",
              "ruspop          64\n",
              "alternative     58\n",
              "rusrap          55\n",
              "jazz            44\n",
              "classical       40\n",
              "Name: genre, dtype: int64"
            ]
          },
          "execution_count": 32,
          "metadata": {},
          "output_type": "execute_result"
        }
      ],
      "source": [
        "genre_weekday(spb_general, 'Monday', '07:00', '11:00') # вызов функции для утра понедельника в Петербурге"
      ]
    },
    {
      "cell_type": "code",
      "execution_count": null,
      "metadata": {
        "deletable": false,
        "id": "EzXVRE1o_Zcu",
        "outputId": "c59b0282-55d1-47ea-9e86-3fb1cf48a4ec"
      },
      "outputs": [
        {
          "data": {
            "text/plain": [
              "genre\n",
              "pop            713\n",
              "rock           517\n",
              "dance          495\n",
              "electronic     482\n",
              "hiphop         273\n",
              "world          208\n",
              "ruspop         170\n",
              "alternative    163\n",
              "classical      163\n",
              "rusrap         142\n",
              "Name: genre, dtype: int64"
            ]
          },
          "execution_count": 33,
          "metadata": {},
          "output_type": "execute_result"
        }
      ],
      "source": [
        "genre_weekday(moscow_general, 'Friday', '17:00', '23:00')# вызов функции для вечера пятницы в Москве"
      ]
    },
    {
      "cell_type": "code",
      "execution_count": null,
      "metadata": {
        "deletable": false,
        "id": "JZaEKu5v_Zcu",
        "outputId": "747d9a5c-1e76-4f71-b46a-b0f3ce0d00d5"
      },
      "outputs": [
        {
          "data": {
            "text/plain": [
              "genre\n",
              "pop            256\n",
              "electronic     216\n",
              "rock           216\n",
              "dance          210\n",
              "hiphop          97\n",
              "alternative     63\n",
              "jazz            61\n",
              "classical       60\n",
              "rusrap          59\n",
              "world           54\n",
              "Name: genre, dtype: int64"
            ]
          },
          "execution_count": 34,
          "metadata": {},
          "output_type": "execute_result"
        }
      ],
      "source": [
        "genre_weekday(spb_general, 'Friday', '17:00', '23:00') # вызов функции для вечера пятницы в Петербурге"
      ]
    },
    {
      "cell_type": "markdown",
      "metadata": {
        "deletable": false,
        "editable": false,
        "id": "wrCe4MNX_Zcu"
      },
      "source": [
        "**Выводы**\n",
        "\n",
        "Если сравнить топ-10 жанров в понедельник утром, можно сделать такие выводы:\n",
        "\n",
        "1. В Москве и Петербурге слушают похожую музыку. Единственное отличие — в московский рейтинг вошёл жанр “world”, а в петербургский — джаз и классика.\n",
        "\n",
        "2. В Москве пропущенных значений оказалось так много, что значение `'unknown'` заняло десятое место среди самых популярных жанров. Значит, пропущенные значения занимают существенную долю в данных и угрожают достоверности исследования.\n",
        "\n",
        "Вечер пятницы не меняет эту картину. Некоторые жанры поднимаются немного выше, другие спускаются, но в целом топ-10 остаётся тем же самым.\n",
        "\n",
        "Таким образом, вторая гипотеза подтвердилась лишь частично:\n",
        "* Пользователи слушают похожую музыку в начале недели и в конце.\n",
        "* Разница между Москвой и Петербургом не слишком выражена. В Москве чаще слушают русскую популярную музыку, в Петербурге — джаз.\n",
        "\n",
        "Однако пропуски в данных ставят под сомнение этот результат. В Москве их так много, что рейтинг топ-10 мог бы выглядеть иначе, если бы не утерянные  данные о жанрах."
      ]
    },
    {
      "cell_type": "markdown",
      "metadata": {
        "deletable": false,
        "editable": false,
        "id": "JolODAqr_Zcu"
      },
      "source": [
        "### Жанровые предпочтения в Москве и Петербурге\n",
        "\n",
        "Гипотеза: Петербург — столица рэпа, музыку этого жанра там слушают чаще, чем в Москве.  А Москва — город контрастов, в котором, тем не менее, преобладает поп-музыка."
      ]
    },
    {
      "cell_type": "markdown",
      "metadata": {
        "deletable": false,
        "editable": false,
        "id": "DlegSvaT_Zcu",
        "tags": [
          "start_task"
        ]
      },
      "source": [
        "Подсчет количества прослушивания треков каждого жанра для Москвы."
      ]
    },
    {
      "cell_type": "code",
      "execution_count": null,
      "metadata": {
        "deletable": false,
        "id": "r19lIPke_Zcu"
      },
      "outputs": [],
      "source": [
        "moscow_genres = moscow_general.groupby(by='genre')['genre'].count()\n",
        "moscow_genres = moscow_genres.sort_values(ascending=False) "
      ]
    },
    {
      "cell_type": "markdown",
      "source": [],
      "metadata": {
        "id": "xYgjpH5037E_"
      }
    },
    {
      "cell_type": "markdown",
      "metadata": {
        "deletable": false,
        "editable": false,
        "id": "6kMuomxTiIr8",
        "tags": [
          "start_task"
        ]
      },
      "source": [
        "Вывод на экран первых десяти строк `moscow_genres`:"
      ]
    },
    {
      "cell_type": "code",
      "execution_count": null,
      "metadata": {
        "deletable": false,
        "id": "WhCSooF8_Zcv",
        "outputId": "4936d2db-d618-452a-bf5e-c80381f17dc2"
      },
      "outputs": [
        {
          "data": {
            "text/plain": [
              "genre\n",
              "pop            5892\n",
              "dance          4435\n",
              "rock           3965\n",
              "electronic     3786\n",
              "hiphop         2096\n",
              "classical      1616\n",
              "world          1432\n",
              "alternative    1379\n",
              "ruspop         1372\n",
              "rusrap         1161\n",
              "Name: genre, dtype: int64"
            ]
          },
          "execution_count": 36,
          "metadata": {},
          "output_type": "execute_result"
        }
      ],
      "source": [
        "moscow_genres.head(10)"
      ]
    },
    {
      "cell_type": "markdown",
      "metadata": {
        "deletable": false,
        "editable": false,
        "id": "cnPG2vnN_Zcv",
        "tags": [
          "start_task"
        ]
      },
      "source": [
        "Посчет количества прослушивания треков каждого жанра для Санкт Петербурга.\n"
      ]
    },
    {
      "cell_type": "code",
      "execution_count": null,
      "metadata": {
        "deletable": false,
        "id": "gluLIpE7_Zcv"
      },
      "outputs": [],
      "source": [
        "spb_genres = spb_general.groupby(by='genre')['genre'].count() \n",
        "spb_genres = spb_genres.sort_values(ascending=False)"
      ]
    },
    {
      "cell_type": "markdown",
      "metadata": {
        "deletable": false,
        "editable": false,
        "id": "5Doha_ODgyQ8",
        "tags": [
          "start_task"
        ]
      },
      "source": [
        "Вывод на экран первых десяти строк `spb_genres`:"
      ]
    },
    {
      "cell_type": "code",
      "execution_count": null,
      "metadata": {
        "deletable": false,
        "id": "uaGJHjVU_Zcv",
        "outputId": "f3a91e9f-e5cd-4c8e-f75b-d1ad6369b0ea"
      },
      "outputs": [
        {
          "data": {
            "text/plain": [
              "genre\n",
              "pop            2431\n",
              "dance          1932\n",
              "rock           1879\n",
              "electronic     1736\n",
              "hiphop          960\n",
              "alternative     649\n",
              "classical       646\n",
              "rusrap          564\n",
              "ruspop          538\n",
              "world           515\n",
              "Name: genre, dtype: int64"
            ]
          },
          "execution_count": 38,
          "metadata": {},
          "output_type": "execute_result"
        }
      ],
      "source": [
        "spb_genres.head(10) # просмотр первых 10 строк spb_genres"
      ]
    },
    {
      "cell_type": "markdown",
      "metadata": {
        "deletable": false,
        "editable": false,
        "id": "RY51YJYu_Zcv"
      },
      "source": [
        "**Выводы**"
      ]
    },
    {
      "cell_type": "markdown",
      "metadata": {
        "deletable": false,
        "editable": false,
        "id": "nVhnJEm__Zcv"
      },
      "source": [
        "Гипотеза частично подтвердилась:\n",
        "* Поп-музыка — самый популярный жанр в Москве, как и предполагала гипотеза. Более того, в топ-10 жанров встречается близкий жанр — русская популярная музыка.\n",
        "* Вопреки ожиданиям, рэп одинаково популярен в Москве и Петербурге. \n"
      ]
    },
    {
      "cell_type": "markdown",
      "metadata": {
        "deletable": false,
        "editable": false,
        "id": "ykKQ0N65_Zcv"
      },
      "source": [
        "## Итоги исследования"
      ]
    },
    {
      "cell_type": "markdown",
      "metadata": {
        "deletable": false,
        "editable": false,
        "id": "tjUwbHb3_Zcv"
      },
      "source": [
        "В рамках исследования проверены три гипотезы и установлено следующее:\n",
        "\n",
        "1. День недели по-разному влияет на активность пользователей в Москве и Петербурге. \n",
        "\n",
        "Первая гипотеза полностью подтвердилась.\n",
        "\n",
        "2. Музыкальные предпочтения не сильно меняются в течение недели — будь то Москва или Петербург. Небольшие различия заметны в начале недели, по понедельникам:\n",
        "* в Москве слушают музыку жанра “world”,\n",
        "* в Петербурге — джаз и классику.\n",
        "\n",
        "Таким образом, вторая гипотеза подтвердилась лишь отчасти. Этот результат мог оказаться иным, если бы не пропуски в данных.\n",
        "\n",
        "3. Во вкусах пользователей Москвы и Петербурга больше общего чем различий. Вопреки ожиданиям, предпочтения жанров в Петербурге напоминают московские.\n",
        "\n",
        "Третья гипотеза не подтвердилась. Если различия в предпочтениях и существуют, на основной массе пользователей они незаметны."
      ]
    },
    {
      "cell_type": "code",
      "execution_count": null,
      "metadata": {
        "id": "VGN5OhbHwswf"
      },
      "outputs": [],
      "source": []
    },
    {
      "cell_type": "code",
      "execution_count": null,
      "metadata": {
        "id": "LA4SLjL3wswf",
        "outputId": "9e5e52ce-31d4-4996-905c-f725026edab3"
      },
      "outputs": [
        {
          "data": {
            "text/html": [
              "<div>\n",
              "<style scoped>\n",
              "    .dataframe tbody tr th:only-of-type {\n",
              "        vertical-align: middle;\n",
              "    }\n",
              "\n",
              "    .dataframe tbody tr th {\n",
              "        vertical-align: top;\n",
              "    }\n",
              "\n",
              "    .dataframe thead th {\n",
              "        text-align: right;\n",
              "    }\n",
              "</style>\n",
              "<table border=\"1\" class=\"dataframe\">\n",
              "  <thead>\n",
              "    <tr style=\"text-align: right;\">\n",
              "      <th></th>\n",
              "      <th>user_id</th>\n",
              "      <th>track</th>\n",
              "      <th>artist</th>\n",
              "      <th>genre</th>\n",
              "      <th>city</th>\n",
              "      <th>time</th>\n",
              "      <th>day</th>\n",
              "    </tr>\n",
              "  </thead>\n",
              "  <tbody>\n",
              "    <tr>\n",
              "      <th>0</th>\n",
              "      <td>FFB692EC</td>\n",
              "      <td>Kamigata To Boots</td>\n",
              "      <td>The Mass Missile</td>\n",
              "      <td>rock</td>\n",
              "      <td>Saint-Petersburg</td>\n",
              "      <td>20:28:33</td>\n",
              "      <td>Wednesday</td>\n",
              "    </tr>\n",
              "    <tr>\n",
              "      <th>1</th>\n",
              "      <td>55204538</td>\n",
              "      <td>Delayed Because of Accident</td>\n",
              "      <td>Andreas Rönnberg</td>\n",
              "      <td>rock</td>\n",
              "      <td>Moscow</td>\n",
              "      <td>14:07:09</td>\n",
              "      <td>Friday</td>\n",
              "    </tr>\n",
              "    <tr>\n",
              "      <th>2</th>\n",
              "      <td>20EC38</td>\n",
              "      <td>Funiculì funiculà</td>\n",
              "      <td>Mario Lanza</td>\n",
              "      <td>pop</td>\n",
              "      <td>Saint-Petersburg</td>\n",
              "      <td>20:58:07</td>\n",
              "      <td>Wednesday</td>\n",
              "    </tr>\n",
              "    <tr>\n",
              "      <th>3</th>\n",
              "      <td>A3DD03C9</td>\n",
              "      <td>Dragons in the Sunset</td>\n",
              "      <td>Fire + Ice</td>\n",
              "      <td>folk</td>\n",
              "      <td>Saint-Petersburg</td>\n",
              "      <td>08:37:09</td>\n",
              "      <td>Monday</td>\n",
              "    </tr>\n",
              "    <tr>\n",
              "      <th>4</th>\n",
              "      <td>E2DC1FAE</td>\n",
              "      <td>Soul People</td>\n",
              "      <td>Space Echo</td>\n",
              "      <td>dance</td>\n",
              "      <td>Moscow</td>\n",
              "      <td>08:34:34</td>\n",
              "      <td>Monday</td>\n",
              "    </tr>\n",
              "    <tr>\n",
              "      <th>5</th>\n",
              "      <td>842029A1</td>\n",
              "      <td>Преданная</td>\n",
              "      <td>IMPERVTOR</td>\n",
              "      <td>rusrap</td>\n",
              "      <td>Saint-Petersburg</td>\n",
              "      <td>13:09:41</td>\n",
              "      <td>Friday</td>\n",
              "    </tr>\n",
              "    <tr>\n",
              "      <th>6</th>\n",
              "      <td>4CB90AA5</td>\n",
              "      <td>True</td>\n",
              "      <td>Roman Messer</td>\n",
              "      <td>dance</td>\n",
              "      <td>Moscow</td>\n",
              "      <td>13:00:07</td>\n",
              "      <td>Wednesday</td>\n",
              "    </tr>\n",
              "    <tr>\n",
              "      <th>7</th>\n",
              "      <td>F03E1C1F</td>\n",
              "      <td>Feeling This Way</td>\n",
              "      <td>Polina Griffith</td>\n",
              "      <td>dance</td>\n",
              "      <td>Moscow</td>\n",
              "      <td>20:47:49</td>\n",
              "      <td>Wednesday</td>\n",
              "    </tr>\n",
              "    <tr>\n",
              "      <th>8</th>\n",
              "      <td>8FA1D3BE</td>\n",
              "      <td>И вновь продолжается бой</td>\n",
              "      <td>unknown</td>\n",
              "      <td>ruspop</td>\n",
              "      <td>Moscow</td>\n",
              "      <td>09:17:40</td>\n",
              "      <td>Friday</td>\n",
              "    </tr>\n",
              "    <tr>\n",
              "      <th>9</th>\n",
              "      <td>E772D5C0</td>\n",
              "      <td>Pessimist</td>\n",
              "      <td>unknown</td>\n",
              "      <td>dance</td>\n",
              "      <td>Saint-Petersburg</td>\n",
              "      <td>21:20:49</td>\n",
              "      <td>Wednesday</td>\n",
              "    </tr>\n",
              "  </tbody>\n",
              "</table>\n",
              "</div>"
            ],
            "text/plain": [
              "    user_id                        track            artist   genre  \\\n",
              "0  FFB692EC            Kamigata To Boots  The Mass Missile    rock   \n",
              "1  55204538  Delayed Because of Accident  Andreas Rönnberg    rock   \n",
              "2    20EC38            Funiculì funiculà       Mario Lanza     pop   \n",
              "3  A3DD03C9        Dragons in the Sunset        Fire + Ice    folk   \n",
              "4  E2DC1FAE                  Soul People        Space Echo   dance   \n",
              "5  842029A1                    Преданная         IMPERVTOR  rusrap   \n",
              "6  4CB90AA5                         True      Roman Messer   dance   \n",
              "7  F03E1C1F             Feeling This Way   Polina Griffith   dance   \n",
              "8  8FA1D3BE     И вновь продолжается бой           unknown  ruspop   \n",
              "9  E772D5C0                    Pessimist           unknown   dance   \n",
              "\n",
              "               city      time        day  \n",
              "0  Saint-Petersburg  20:28:33  Wednesday  \n",
              "1            Moscow  14:07:09     Friday  \n",
              "2  Saint-Petersburg  20:58:07  Wednesday  \n",
              "3  Saint-Petersburg  08:37:09     Monday  \n",
              "4            Moscow  08:34:34     Monday  \n",
              "5  Saint-Petersburg  13:09:41     Friday  \n",
              "6            Moscow  13:00:07  Wednesday  \n",
              "7            Moscow  20:47:49  Wednesday  \n",
              "8            Moscow  09:17:40     Friday  \n",
              "9  Saint-Petersburg  21:20:49  Wednesday  "
            ]
          },
          "execution_count": 39,
          "metadata": {},
          "output_type": "execute_result"
        }
      ],
      "source": [
        "df.head(10)"
      ]
    },
    {
      "cell_type": "code",
      "execution_count": null,
      "metadata": {
        "id": "y5Cg98oMwswf",
        "outputId": "69e58204-c139-4922-9a44-1ade3cebd188"
      },
      "outputs": [
        {
          "name": "stdout",
          "output_type": "stream",
          "text": [
            "<class 'pandas.core.frame.DataFrame'>\n",
            "Int64Index: 61253 entries, 0 to 65078\n",
            "Data columns (total 7 columns):\n",
            " #   Column   Non-Null Count  Dtype \n",
            "---  ------   --------------  ----- \n",
            " 0   user_id  61253 non-null  object\n",
            " 1   track    61253 non-null  object\n",
            " 2   artist   61253 non-null  object\n",
            " 3   genre    61253 non-null  object\n",
            " 4   city     61253 non-null  object\n",
            " 5   time     61253 non-null  object\n",
            " 6   day      61253 non-null  object\n",
            "dtypes: object(7)\n",
            "memory usage: 3.7+ MB\n"
          ]
        }
      ],
      "source": [
        "df.info()"
      ]
    },
    {
      "cell_type": "code",
      "execution_count": null,
      "metadata": {
        "id": "gI_X6ef8wswf"
      },
      "outputs": [],
      "source": [
        "#комментарий для ответа на Задание 5"
      ]
    },
    {
      "cell_type": "code",
      "execution_count": null,
      "metadata": {
        "scrolled": true,
        "id": "tYv2Mv44wswf",
        "outputId": "77b3b40f-2fdc-497c-8d3c-fa30f2e66a84"
      },
      "outputs": [
        {
          "data": {
            "text/plain": [
              "Index(['user_id', 'track', 'artist', 'genre', 'city', 'time', 'day'], dtype='object')"
            ]
          },
          "execution_count": 42,
          "metadata": {},
          "output_type": "execute_result"
        }
      ],
      "source": [
        "df.columns"
      ]
    },
    {
      "cell_type": "code",
      "execution_count": null,
      "metadata": {
        "id": "_AGtzVpkwswf"
      },
      "outputs": [],
      "source": []
    }
  ],
  "metadata": {
    "ExecuteTimeLog": [
      {
        "duration": 52,
        "start_time": "2022-12-19T11:21:07.960Z"
      },
      {
        "duration": 397,
        "start_time": "2022-12-19T11:21:15.216Z"
      },
      {
        "duration": 172,
        "start_time": "2022-12-19T11:21:17.439Z"
      },
      {
        "duration": 16,
        "start_time": "2022-12-19T11:21:19.438Z"
      },
      {
        "duration": 12,
        "start_time": "2022-12-19T11:21:24.494Z"
      },
      {
        "duration": 31,
        "start_time": "2022-12-19T11:21:49.089Z"
      },
      {
        "duration": 2,
        "start_time": "2022-12-19T11:24:22.108Z"
      },
      {
        "duration": 3,
        "start_time": "2022-12-19T11:24:54.435Z"
      },
      {
        "duration": 5,
        "start_time": "2022-12-19T11:25:28.472Z"
      },
      {
        "duration": 75,
        "start_time": "2022-12-19T11:27:44.288Z"
      },
      {
        "duration": 21,
        "start_time": "2022-12-19T11:28:21.721Z"
      },
      {
        "duration": 29,
        "start_time": "2022-12-19T11:28:48.312Z"
      },
      {
        "duration": 6,
        "start_time": "2022-12-19T11:28:51.430Z"
      },
      {
        "duration": 4,
        "start_time": "2022-12-19T11:29:12.366Z"
      },
      {
        "duration": 2,
        "start_time": "2022-12-19T11:29:32.372Z"
      },
      {
        "duration": 6,
        "start_time": "2022-12-19T11:29:41.942Z"
      },
      {
        "duration": 8,
        "start_time": "2022-12-19T11:30:04.662Z"
      },
      {
        "duration": 169,
        "start_time": "2022-12-19T11:30:12.532Z"
      },
      {
        "duration": 4,
        "start_time": "2022-12-19T11:30:24.481Z"
      },
      {
        "duration": 18,
        "start_time": "2022-12-19T11:30:29.718Z"
      },
      {
        "duration": 4,
        "start_time": "2022-12-19T11:30:32.838Z"
      },
      {
        "duration": 24,
        "start_time": "2022-12-19T11:31:45.374Z"
      },
      {
        "duration": 18,
        "start_time": "2022-12-19T11:37:59.506Z"
      },
      {
        "duration": 25,
        "start_time": "2022-12-19T11:38:30.645Z"
      },
      {
        "duration": 62,
        "start_time": "2022-12-19T11:38:58.880Z"
      },
      {
        "duration": 64,
        "start_time": "2022-12-19T11:39:37.964Z"
      },
      {
        "duration": 72,
        "start_time": "2022-12-19T11:40:06.418Z"
      },
      {
        "duration": 73,
        "start_time": "2022-12-19T11:40:41.980Z"
      },
      {
        "duration": 85,
        "start_time": "2022-12-19T11:40:53.619Z"
      },
      {
        "duration": 74,
        "start_time": "2022-12-19T11:41:17.275Z"
      },
      {
        "duration": 59,
        "start_time": "2022-12-19T11:41:50.199Z"
      },
      {
        "duration": 65,
        "start_time": "2022-12-19T11:42:02.191Z"
      },
      {
        "duration": 57,
        "start_time": "2022-12-19T11:42:05.121Z"
      },
      {
        "duration": 74,
        "start_time": "2022-12-19T11:42:24.778Z"
      },
      {
        "duration": 55,
        "start_time": "2022-12-19T11:42:26.695Z"
      },
      {
        "duration": 8,
        "start_time": "2022-12-19T11:43:40.557Z"
      },
      {
        "duration": 38,
        "start_time": "2022-12-19T11:46:26.990Z"
      },
      {
        "duration": 84,
        "start_time": "2022-12-19T11:51:10.536Z"
      },
      {
        "duration": 10,
        "start_time": "2022-12-19T11:51:23.230Z"
      },
      {
        "duration": 37,
        "start_time": "2022-12-19T11:51:43.842Z"
      },
      {
        "duration": 40,
        "start_time": "2022-12-19T11:51:52.455Z"
      },
      {
        "duration": 43,
        "start_time": "2022-12-20T05:27:31.843Z"
      },
      {
        "duration": 342,
        "start_time": "2022-12-20T05:27:37.469Z"
      },
      {
        "duration": 231,
        "start_time": "2022-12-20T05:27:37.830Z"
      },
      {
        "duration": 20,
        "start_time": "2022-12-20T05:27:38.241Z"
      },
      {
        "duration": 29,
        "start_time": "2022-12-20T05:27:38.872Z"
      },
      {
        "duration": 2,
        "start_time": "2022-12-20T05:27:39.940Z"
      },
      {
        "duration": 4,
        "start_time": "2022-12-20T05:27:44.725Z"
      },
      {
        "duration": 11,
        "start_time": "2022-12-20T05:27:45.506Z"
      },
      {
        "duration": 4,
        "start_time": "2022-12-20T05:27:46.167Z"
      },
      {
        "duration": 25,
        "start_time": "2022-12-20T05:27:46.893Z"
      },
      {
        "duration": 19,
        "start_time": "2022-12-20T05:27:47.513Z"
      },
      {
        "duration": 25,
        "start_time": "2022-12-20T05:27:48.005Z"
      },
      {
        "duration": 62,
        "start_time": "2022-12-20T05:27:48.524Z"
      },
      {
        "duration": 70,
        "start_time": "2022-12-20T05:27:49.258Z"
      },
      {
        "duration": 55,
        "start_time": "2022-12-20T05:27:49.885Z"
      },
      {
        "duration": 41,
        "start_time": "2022-12-20T05:27:51.496Z"
      },
      {
        "duration": 9,
        "start_time": "2022-12-20T05:27:53.543Z"
      },
      {
        "duration": 38,
        "start_time": "2022-12-20T05:27:54.760Z"
      },
      {
        "duration": 26,
        "start_time": "2022-12-20T05:27:59.730Z"
      },
      {
        "duration": 6,
        "start_time": "2022-12-20T05:28:26.876Z"
      },
      {
        "duration": 3,
        "start_time": "2022-12-20T05:31:14.215Z"
      },
      {
        "duration": 155,
        "start_time": "2022-12-20T05:31:14.643Z"
      },
      {
        "duration": 15,
        "start_time": "2022-12-20T05:31:15.081Z"
      },
      {
        "duration": 27,
        "start_time": "2022-12-20T05:31:15.909Z"
      },
      {
        "duration": 2,
        "start_time": "2022-12-20T05:31:16.516Z"
      },
      {
        "duration": 4,
        "start_time": "2022-12-20T05:31:18.283Z"
      },
      {
        "duration": 7,
        "start_time": "2022-12-20T05:31:19.105Z"
      },
      {
        "duration": 4,
        "start_time": "2022-12-20T05:31:20.940Z"
      },
      {
        "duration": 23,
        "start_time": "2022-12-20T05:31:22.622Z"
      },
      {
        "duration": 16,
        "start_time": "2022-12-20T05:31:24.271Z"
      },
      {
        "duration": 32,
        "start_time": "2022-12-20T05:31:25.262Z"
      },
      {
        "duration": 58,
        "start_time": "2022-12-20T05:31:26.434Z"
      },
      {
        "duration": 62,
        "start_time": "2022-12-20T05:31:27.615Z"
      },
      {
        "duration": 50,
        "start_time": "2022-12-20T05:31:28.710Z"
      },
      {
        "duration": 37,
        "start_time": "2022-12-20T05:31:30.453Z"
      },
      {
        "duration": 10,
        "start_time": "2022-12-20T05:31:31.732Z"
      },
      {
        "duration": 42,
        "start_time": "2022-12-20T05:31:32.826Z"
      },
      {
        "duration": 10,
        "start_time": "2022-12-20T05:31:36.881Z"
      },
      {
        "duration": 3,
        "start_time": "2022-12-20T05:35:13.101Z"
      },
      {
        "duration": 4,
        "start_time": "2022-12-20T05:35:27.965Z"
      },
      {
        "duration": 4,
        "start_time": "2022-12-20T05:35:41.268Z"
      },
      {
        "duration": 28,
        "start_time": "2022-12-20T05:36:23.515Z"
      },
      {
        "duration": 26,
        "start_time": "2022-12-20T05:36:35.656Z"
      },
      {
        "duration": 26,
        "start_time": "2022-12-20T05:36:37.567Z"
      },
      {
        "duration": 26,
        "start_time": "2022-12-20T05:36:40.409Z"
      },
      {
        "duration": 6,
        "start_time": "2022-12-20T05:37:49.387Z"
      },
      {
        "duration": 6,
        "start_time": "2022-12-20T05:37:56.327Z"
      },
      {
        "duration": 9,
        "start_time": "2022-12-20T05:38:23.950Z"
      },
      {
        "duration": 10,
        "start_time": "2022-12-20T05:38:40.416Z"
      },
      {
        "duration": 3,
        "start_time": "2022-12-20T05:40:51.395Z"
      },
      {
        "duration": 4,
        "start_time": "2022-12-20T05:41:28.876Z"
      },
      {
        "duration": 15,
        "start_time": "2022-12-20T05:41:41.795Z"
      },
      {
        "duration": 33,
        "start_time": "2022-12-20T05:41:54.445Z"
      },
      {
        "duration": 53,
        "start_time": "2022-12-20T05:42:25.786Z"
      },
      {
        "duration": 15,
        "start_time": "2022-12-20T05:42:32.566Z"
      },
      {
        "duration": 9,
        "start_time": "2022-12-20T05:42:39.874Z"
      },
      {
        "duration": 12,
        "start_time": "2022-12-20T05:42:45.902Z"
      },
      {
        "duration": 9,
        "start_time": "2022-12-20T05:44:19.606Z"
      },
      {
        "duration": 12,
        "start_time": "2022-12-20T05:44:35.340Z"
      },
      {
        "duration": 5,
        "start_time": "2022-12-20T06:04:37.770Z"
      },
      {
        "duration": 4,
        "start_time": "2022-12-20T06:04:40.264Z"
      },
      {
        "duration": 5,
        "start_time": "2022-12-20T06:04:56.764Z"
      },
      {
        "duration": 5,
        "start_time": "2022-12-20T06:04:58.272Z"
      },
      {
        "duration": 8,
        "start_time": "2022-12-20T06:05:30.228Z"
      },
      {
        "duration": 14,
        "start_time": "2022-12-20T06:05:49.768Z"
      },
      {
        "duration": 13,
        "start_time": "2022-12-20T06:06:31.786Z"
      },
      {
        "duration": 3,
        "start_time": "2022-12-20T06:07:54.204Z"
      },
      {
        "duration": 11,
        "start_time": "2022-12-20T06:07:55.914Z"
      },
      {
        "duration": 5,
        "start_time": "2022-12-20T06:08:10.243Z"
      },
      {
        "duration": 11,
        "start_time": "2022-12-20T06:08:11.206Z"
      },
      {
        "duration": 10,
        "start_time": "2022-12-20T06:10:17.363Z"
      },
      {
        "duration": 8,
        "start_time": "2022-12-20T06:10:43.860Z"
      },
      {
        "duration": 4,
        "start_time": "2022-12-20T06:12:20.766Z"
      },
      {
        "duration": 50,
        "start_time": "2022-12-20T06:26:03.873Z"
      },
      {
        "duration": 4,
        "start_time": "2022-12-20T06:26:10.257Z"
      },
      {
        "duration": 21,
        "start_time": "2022-12-20T06:26:14.139Z"
      },
      {
        "duration": 4,
        "start_time": "2022-12-20T06:26:39.981Z"
      },
      {
        "duration": 12,
        "start_time": "2022-12-20T06:26:41.289Z"
      },
      {
        "duration": 24,
        "start_time": "2022-12-20T06:27:35.997Z"
      },
      {
        "duration": 21,
        "start_time": "2022-12-20T06:27:45.857Z"
      },
      {
        "duration": 32,
        "start_time": "2022-12-20T06:28:02.320Z"
      },
      {
        "duration": 30,
        "start_time": "2022-12-20T06:28:16.666Z"
      },
      {
        "duration": 4,
        "start_time": "2022-12-20T06:28:46.650Z"
      },
      {
        "duration": 31,
        "start_time": "2022-12-20T06:28:48.016Z"
      },
      {
        "duration": 5,
        "start_time": "2022-12-20T06:29:12.954Z"
      },
      {
        "duration": 23,
        "start_time": "2022-12-20T06:29:14.466Z"
      },
      {
        "duration": 15,
        "start_time": "2022-12-20T06:29:15.688Z"
      },
      {
        "duration": 20,
        "start_time": "2022-12-20T06:29:16.737Z"
      },
      {
        "duration": 14,
        "start_time": "2022-12-20T06:29:17.692Z"
      },
      {
        "duration": 17,
        "start_time": "2022-12-20T06:29:24.198Z"
      },
      {
        "duration": 24,
        "start_time": "2022-12-20T06:29:24.833Z"
      },
      {
        "duration": 16,
        "start_time": "2022-12-20T06:29:25.396Z"
      },
      {
        "duration": 17,
        "start_time": "2022-12-20T06:29:32.581Z"
      },
      {
        "duration": 23,
        "start_time": "2022-12-20T06:30:01.738Z"
      },
      {
        "duration": 17,
        "start_time": "2022-12-20T06:30:23.763Z"
      },
      {
        "duration": 15,
        "start_time": "2022-12-20T06:30:24.689Z"
      },
      {
        "duration": 7,
        "start_time": "2022-12-20T06:34:09.721Z"
      },
      {
        "duration": 10,
        "start_time": "2022-12-20T06:34:18.139Z"
      },
      {
        "duration": 13,
        "start_time": "2022-12-20T06:37:46.337Z"
      },
      {
        "duration": 12,
        "start_time": "2022-12-20T06:37:55.171Z"
      },
      {
        "duration": 8,
        "start_time": "2022-12-20T06:39:39.609Z"
      },
      {
        "duration": 8,
        "start_time": "2022-12-20T06:40:31.541Z"
      },
      {
        "duration": 9,
        "start_time": "2022-12-20T06:40:50.316Z"
      },
      {
        "duration": 21,
        "start_time": "2022-12-20T06:41:21.456Z"
      },
      {
        "duration": 13,
        "start_time": "2022-12-20T06:41:41.510Z"
      },
      {
        "duration": 44,
        "start_time": "2022-12-20T06:52:56.903Z"
      },
      {
        "duration": 7,
        "start_time": "2022-12-20T06:53:16.462Z"
      },
      {
        "duration": 6,
        "start_time": "2022-12-20T06:53:28.749Z"
      },
      {
        "duration": 12,
        "start_time": "2022-12-20T06:53:30.013Z"
      },
      {
        "duration": 4,
        "start_time": "2022-12-20T06:54:50.612Z"
      },
      {
        "duration": 13,
        "start_time": "2022-12-20T06:54:52.074Z"
      },
      {
        "duration": 4,
        "start_time": "2022-12-20T06:56:19.295Z"
      },
      {
        "duration": 5,
        "start_time": "2022-12-20T06:57:33.207Z"
      },
      {
        "duration": 11,
        "start_time": "2022-12-20T06:57:34.384Z"
      },
      {
        "duration": 14,
        "start_time": "2022-12-20T06:58:12.020Z"
      },
      {
        "duration": 3,
        "start_time": "2022-12-20T06:59:09.170Z"
      },
      {
        "duration": 169,
        "start_time": "2022-12-20T06:59:09.722Z"
      },
      {
        "duration": 15,
        "start_time": "2022-12-20T06:59:10.121Z"
      },
      {
        "duration": 45,
        "start_time": "2022-12-20T06:59:10.348Z"
      },
      {
        "duration": 3,
        "start_time": "2022-12-20T06:59:10.793Z"
      },
      {
        "duration": 4,
        "start_time": "2022-12-20T06:59:11.408Z"
      },
      {
        "duration": 11,
        "start_time": "2022-12-20T06:59:11.705Z"
      },
      {
        "duration": 5,
        "start_time": "2022-12-20T06:59:12.022Z"
      },
      {
        "duration": 36,
        "start_time": "2022-12-20T06:59:12.324Z"
      },
      {
        "duration": 24,
        "start_time": "2022-12-20T06:59:12.810Z"
      },
      {
        "duration": 36,
        "start_time": "2022-12-20T06:59:13.130Z"
      },
      {
        "duration": 64,
        "start_time": "2022-12-20T06:59:13.466Z"
      },
      {
        "duration": 81,
        "start_time": "2022-12-20T06:59:13.785Z"
      },
      {
        "duration": 67,
        "start_time": "2022-12-20T06:59:14.120Z"
      },
      {
        "duration": 51,
        "start_time": "2022-12-20T06:59:14.603Z"
      },
      {
        "duration": 11,
        "start_time": "2022-12-20T06:59:14.946Z"
      },
      {
        "duration": 56,
        "start_time": "2022-12-20T06:59:15.402Z"
      },
      {
        "duration": 23,
        "start_time": "2022-12-20T06:59:23.517Z"
      },
      {
        "duration": 22,
        "start_time": "2022-12-20T06:59:23.822Z"
      },
      {
        "duration": 4,
        "start_time": "2022-12-20T06:59:24.315Z"
      },
      {
        "duration": 18,
        "start_time": "2022-12-20T06:59:24.663Z"
      },
      {
        "duration": 16,
        "start_time": "2022-12-20T06:59:24.882Z"
      },
      {
        "duration": 22,
        "start_time": "2022-12-20T06:59:26.346Z"
      },
      {
        "duration": 16,
        "start_time": "2022-12-20T06:59:26.596Z"
      },
      {
        "duration": 27,
        "start_time": "2022-12-20T06:59:26.816Z"
      },
      {
        "duration": 16,
        "start_time": "2022-12-20T06:59:27.068Z"
      },
      {
        "duration": 8,
        "start_time": "2022-12-20T06:59:27.781Z"
      },
      {
        "duration": 11,
        "start_time": "2022-12-20T06:59:29.610Z"
      },
      {
        "duration": 13,
        "start_time": "2022-12-20T06:59:30.034Z"
      },
      {
        "duration": 4,
        "start_time": "2022-12-20T06:59:31.103Z"
      },
      {
        "duration": 19,
        "start_time": "2022-12-20T06:59:32.572Z"
      },
      {
        "duration": 5,
        "start_time": "2022-12-20T07:00:15.682Z"
      },
      {
        "duration": 23,
        "start_time": "2022-12-20T07:00:16.819Z"
      },
      {
        "duration": 5,
        "start_time": "2022-12-20T07:01:36.100Z"
      },
      {
        "duration": 16,
        "start_time": "2022-12-20T07:01:37.327Z"
      },
      {
        "duration": 15,
        "start_time": "2022-12-20T07:01:59.398Z"
      },
      {
        "duration": 7,
        "start_time": "2022-12-20T07:02:52.118Z"
      },
      {
        "duration": 13,
        "start_time": "2022-12-20T07:02:58.228Z"
      },
      {
        "duration": 8,
        "start_time": "2022-12-20T07:03:00.791Z"
      },
      {
        "duration": 17,
        "start_time": "2022-12-20T07:03:02.862Z"
      },
      {
        "duration": 10,
        "start_time": "2022-12-20T07:03:42.100Z"
      },
      {
        "duration": 17,
        "start_time": "2022-12-20T07:03:43.701Z"
      },
      {
        "duration": 12,
        "start_time": "2022-12-20T07:03:44.468Z"
      },
      {
        "duration": 16,
        "start_time": "2022-12-20T07:03:44.772Z"
      },
      {
        "duration": 12,
        "start_time": "2022-12-20T07:03:44.988Z"
      },
      {
        "duration": 5,
        "start_time": "2022-12-20T07:04:40.445Z"
      },
      {
        "duration": 21,
        "start_time": "2022-12-20T07:04:41.554Z"
      },
      {
        "duration": 5,
        "start_time": "2022-12-20T07:05:00.813Z"
      },
      {
        "duration": 21,
        "start_time": "2022-12-20T07:05:01.910Z"
      },
      {
        "duration": 25,
        "start_time": "2022-12-20T07:05:05.258Z"
      },
      {
        "duration": 45,
        "start_time": "2022-12-20T07:05:20.027Z"
      },
      {
        "duration": 4,
        "start_time": "2022-12-20T07:05:25.191Z"
      },
      {
        "duration": 21,
        "start_time": "2022-12-20T07:05:27.109Z"
      },
      {
        "duration": 4,
        "start_time": "2022-12-20T07:06:14.304Z"
      },
      {
        "duration": 18,
        "start_time": "2022-12-20T07:06:15.709Z"
      },
      {
        "duration": 8,
        "start_time": "2022-12-20T07:06:54.820Z"
      },
      {
        "duration": 4,
        "start_time": "2022-12-20T07:06:57.839Z"
      },
      {
        "duration": 5,
        "start_time": "2022-12-20T07:07:35.463Z"
      },
      {
        "duration": 18,
        "start_time": "2022-12-20T07:07:36.780Z"
      },
      {
        "duration": 4,
        "start_time": "2022-12-20T07:07:58.757Z"
      },
      {
        "duration": 18,
        "start_time": "2022-12-20T07:07:59.777Z"
      },
      {
        "duration": 4,
        "start_time": "2022-12-20T07:08:19.097Z"
      },
      {
        "duration": 15,
        "start_time": "2022-12-20T07:08:20.002Z"
      },
      {
        "duration": 15,
        "start_time": "2022-12-20T07:08:26.663Z"
      },
      {
        "duration": 10,
        "start_time": "2022-12-20T07:08:27.052Z"
      },
      {
        "duration": 3,
        "start_time": "2022-12-20T10:04:14.716Z"
      },
      {
        "duration": 193,
        "start_time": "2022-12-20T10:04:14.722Z"
      },
      {
        "duration": 11,
        "start_time": "2022-12-20T10:04:14.917Z"
      },
      {
        "duration": 34,
        "start_time": "2022-12-20T10:04:14.930Z"
      },
      {
        "duration": 2,
        "start_time": "2022-12-20T10:04:14.979Z"
      },
      {
        "duration": 11,
        "start_time": "2022-12-20T10:04:14.983Z"
      },
      {
        "duration": 17,
        "start_time": "2022-12-20T10:04:14.995Z"
      },
      {
        "duration": 24,
        "start_time": "2022-12-20T10:04:15.013Z"
      },
      {
        "duration": 31,
        "start_time": "2022-12-20T10:04:15.039Z"
      },
      {
        "duration": 22,
        "start_time": "2022-12-20T10:04:15.072Z"
      },
      {
        "duration": 25,
        "start_time": "2022-12-20T10:04:15.096Z"
      },
      {
        "duration": 83,
        "start_time": "2022-12-20T10:04:15.122Z"
      },
      {
        "duration": 80,
        "start_time": "2022-12-20T10:04:15.206Z"
      },
      {
        "duration": 59,
        "start_time": "2022-12-20T10:04:15.288Z"
      },
      {
        "duration": 56,
        "start_time": "2022-12-20T10:04:15.349Z"
      },
      {
        "duration": 10,
        "start_time": "2022-12-20T10:04:15.406Z"
      },
      {
        "duration": 36,
        "start_time": "2022-12-20T10:04:15.418Z"
      },
      {
        "duration": 34,
        "start_time": "2022-12-20T10:04:15.456Z"
      },
      {
        "duration": 0,
        "start_time": "2022-12-20T10:04:15.491Z"
      },
      {
        "duration": 0,
        "start_time": "2022-12-20T10:04:15.493Z"
      },
      {
        "duration": 0,
        "start_time": "2022-12-20T10:04:15.494Z"
      },
      {
        "duration": 0,
        "start_time": "2022-12-20T10:04:15.495Z"
      },
      {
        "duration": 0,
        "start_time": "2022-12-20T10:04:15.496Z"
      },
      {
        "duration": 0,
        "start_time": "2022-12-20T10:04:15.497Z"
      },
      {
        "duration": 0,
        "start_time": "2022-12-20T10:04:15.498Z"
      },
      {
        "duration": 0,
        "start_time": "2022-12-20T10:04:15.499Z"
      },
      {
        "duration": 0,
        "start_time": "2022-12-20T10:04:15.500Z"
      },
      {
        "duration": 0,
        "start_time": "2022-12-20T10:04:15.501Z"
      },
      {
        "duration": 0,
        "start_time": "2022-12-20T10:04:15.502Z"
      },
      {
        "duration": 0,
        "start_time": "2022-12-20T10:04:15.503Z"
      },
      {
        "duration": 0,
        "start_time": "2022-12-20T10:04:15.504Z"
      },
      {
        "duration": 0,
        "start_time": "2022-12-20T10:04:15.504Z"
      },
      {
        "duration": 0,
        "start_time": "2022-12-20T10:04:15.505Z"
      },
      {
        "duration": 0,
        "start_time": "2022-12-20T10:04:15.506Z"
      },
      {
        "duration": 0,
        "start_time": "2022-12-20T10:04:15.507Z"
      },
      {
        "duration": 0,
        "start_time": "2022-12-20T10:04:15.508Z"
      },
      {
        "duration": 0,
        "start_time": "2022-12-20T10:04:15.509Z"
      },
      {
        "duration": 0,
        "start_time": "2022-12-20T10:04:15.510Z"
      },
      {
        "duration": 10,
        "start_time": "2022-12-20T10:04:47.308Z"
      },
      {
        "duration": 29,
        "start_time": "2022-12-20T10:05:09.905Z"
      },
      {
        "duration": 2,
        "start_time": "2022-12-20T10:07:00.076Z"
      },
      {
        "duration": 4,
        "start_time": "2022-12-20T10:07:15.293Z"
      },
      {
        "duration": 14,
        "start_time": "2022-12-20T10:14:26.961Z"
      },
      {
        "duration": 771,
        "start_time": "2022-12-20T10:24:44.512Z"
      },
      {
        "duration": 0,
        "start_time": "2022-12-20T10:24:45.285Z"
      },
      {
        "duration": 934,
        "start_time": "2022-12-20T10:24:45.390Z"
      },
      {
        "duration": 1029,
        "start_time": "2022-12-20T10:25:58.259Z"
      },
      {
        "duration": 1233,
        "start_time": "2022-12-20T10:26:17.562Z"
      },
      {
        "duration": 12,
        "start_time": "2022-12-20T10:26:33.690Z"
      },
      {
        "duration": 10,
        "start_time": "2022-12-20T10:26:34.133Z"
      },
      {
        "duration": 4,
        "start_time": "2022-12-20T10:26:35.472Z"
      },
      {
        "duration": 18,
        "start_time": "2022-12-20T10:26:36.842Z"
      },
      {
        "duration": 12,
        "start_time": "2022-12-20T10:26:38.612Z"
      },
      {
        "duration": 21,
        "start_time": "2022-12-20T10:26:39.440Z"
      },
      {
        "duration": 15,
        "start_time": "2022-12-20T10:26:40.084Z"
      },
      {
        "duration": 10,
        "start_time": "2022-12-20T10:28:04.739Z"
      },
      {
        "duration": 5,
        "start_time": "2022-12-20T10:28:06.673Z"
      },
      {
        "duration": 10,
        "start_time": "2022-12-20T10:28:29.107Z"
      },
      {
        "duration": 11,
        "start_time": "2022-12-20T10:28:53.514Z"
      },
      {
        "duration": 13,
        "start_time": "2022-12-20T10:28:53.884Z"
      },
      {
        "duration": 5,
        "start_time": "2022-12-20T10:28:54.599Z"
      },
      {
        "duration": 18,
        "start_time": "2022-12-20T10:28:55.530Z"
      },
      {
        "duration": 13,
        "start_time": "2022-12-20T10:28:56.339Z"
      },
      {
        "duration": 21,
        "start_time": "2022-12-20T10:28:57.077Z"
      },
      {
        "duration": 15,
        "start_time": "2022-12-20T10:28:57.922Z"
      },
      {
        "duration": 8,
        "start_time": "2022-12-20T10:29:00.713Z"
      },
      {
        "duration": 8,
        "start_time": "2022-12-20T10:30:19.020Z"
      },
      {
        "duration": 47,
        "start_time": "2023-01-08T15:03:17.943Z"
      },
      {
        "duration": 402,
        "start_time": "2023-01-08T15:03:25.399Z"
      },
      {
        "duration": 208,
        "start_time": "2023-01-08T15:03:25.803Z"
      },
      {
        "duration": 14,
        "start_time": "2023-01-08T15:03:26.023Z"
      },
      {
        "duration": 27,
        "start_time": "2023-01-08T15:03:26.296Z"
      },
      {
        "duration": 3,
        "start_time": "2023-01-08T15:03:26.829Z"
      },
      {
        "duration": 4,
        "start_time": "2023-01-08T15:03:27.879Z"
      },
      {
        "duration": 11,
        "start_time": "2023-01-08T15:03:28.258Z"
      },
      {
        "duration": 4,
        "start_time": "2023-01-08T15:03:28.570Z"
      },
      {
        "duration": 23,
        "start_time": "2023-01-08T15:03:28.943Z"
      },
      {
        "duration": 24,
        "start_time": "2023-01-08T15:03:29.397Z"
      },
      {
        "duration": 22,
        "start_time": "2023-01-08T15:03:29.732Z"
      },
      {
        "duration": 63,
        "start_time": "2023-01-08T15:03:30.185Z"
      },
      {
        "duration": 66,
        "start_time": "2023-01-08T15:03:31.713Z"
      },
      {
        "duration": 59,
        "start_time": "2023-01-08T15:03:32.365Z"
      },
      {
        "duration": 58,
        "start_time": "2023-01-08T15:03:32.880Z"
      },
      {
        "duration": 11,
        "start_time": "2023-01-08T15:03:33.217Z"
      },
      {
        "duration": 39,
        "start_time": "2023-01-08T15:03:33.557Z"
      },
      {
        "duration": 13,
        "start_time": "2023-01-08T15:03:35.134Z"
      },
      {
        "duration": 11,
        "start_time": "2023-01-08T15:03:36.357Z"
      },
      {
        "duration": 3,
        "start_time": "2023-01-08T15:03:47.902Z"
      },
      {
        "duration": 16,
        "start_time": "2023-01-08T15:03:52.812Z"
      },
      {
        "duration": 14,
        "start_time": "2023-01-08T15:03:53.912Z"
      },
      {
        "duration": 14,
        "start_time": "2023-01-08T15:03:54.604Z"
      },
      {
        "duration": 17,
        "start_time": "2023-01-08T15:03:55.406Z"
      },
      {
        "duration": 16,
        "start_time": "2023-01-08T15:03:55.901Z"
      },
      {
        "duration": 14,
        "start_time": "2023-01-08T15:03:56.427Z"
      },
      {
        "duration": 398,
        "start_time": "2023-01-09T08:25:32.314Z"
      },
      {
        "duration": 448,
        "start_time": "2023-01-09T08:25:32.771Z"
      },
      {
        "duration": 17,
        "start_time": "2023-01-09T08:25:33.220Z"
      },
      {
        "duration": 43,
        "start_time": "2023-01-09T08:25:33.528Z"
      },
      {
        "duration": 2,
        "start_time": "2023-01-09T08:25:34.134Z"
      },
      {
        "duration": 4,
        "start_time": "2023-01-09T08:25:34.913Z"
      },
      {
        "duration": 13,
        "start_time": "2023-01-09T08:25:35.324Z"
      },
      {
        "duration": 4,
        "start_time": "2023-01-09T08:25:35.728Z"
      },
      {
        "duration": 27,
        "start_time": "2023-01-09T08:25:36.155Z"
      },
      {
        "duration": 22,
        "start_time": "2023-01-09T08:25:36.734Z"
      },
      {
        "duration": 27,
        "start_time": "2023-01-09T08:25:37.132Z"
      },
      {
        "duration": 89,
        "start_time": "2023-01-09T08:25:37.528Z"
      },
      {
        "duration": 101,
        "start_time": "2023-01-09T08:25:38.640Z"
      },
      {
        "duration": 61,
        "start_time": "2023-01-09T08:25:40.712Z"
      },
      {
        "duration": 43,
        "start_time": "2023-01-09T08:25:41.294Z"
      },
      {
        "duration": 11,
        "start_time": "2023-01-09T08:25:41.650Z"
      },
      {
        "duration": 38,
        "start_time": "2023-01-09T08:25:42.042Z"
      },
      {
        "duration": 21,
        "start_time": "2023-01-09T08:25:43.244Z"
      },
      {
        "duration": 20,
        "start_time": "2023-01-09T08:25:43.671Z"
      },
      {
        "duration": 5,
        "start_time": "2023-01-09T08:25:44.261Z"
      },
      {
        "duration": 16,
        "start_time": "2023-01-09T08:25:44.714Z"
      },
      {
        "duration": 19,
        "start_time": "2023-01-09T08:25:44.927Z"
      },
      {
        "duration": 15,
        "start_time": "2023-01-09T08:25:45.131Z"
      },
      {
        "duration": 15,
        "start_time": "2023-01-09T08:25:45.426Z"
      },
      {
        "duration": 16,
        "start_time": "2023-01-09T08:25:45.560Z"
      },
      {
        "duration": 15,
        "start_time": "2023-01-09T08:25:45.826Z"
      },
      {
        "duration": 9,
        "start_time": "2023-01-09T08:25:46.216Z"
      },
      {
        "duration": 16,
        "start_time": "2023-01-09T08:25:47.486Z"
      },
      {
        "duration": 9,
        "start_time": "2023-01-09T08:25:47.731Z"
      },
      {
        "duration": 4,
        "start_time": "2023-01-09T08:25:48.279Z"
      },
      {
        "duration": 23,
        "start_time": "2023-01-09T08:25:48.812Z"
      },
      {
        "duration": 16,
        "start_time": "2023-01-09T08:25:49.082Z"
      },
      {
        "duration": 26,
        "start_time": "2023-01-09T08:25:49.546Z"
      },
      {
        "duration": 19,
        "start_time": "2023-01-09T08:25:49.947Z"
      },
      {
        "duration": 10,
        "start_time": "2023-01-09T08:25:51.473Z"
      },
      {
        "duration": 5,
        "start_time": "2023-01-09T08:25:52.355Z"
      },
      {
        "duration": 6,
        "start_time": "2023-01-09T08:25:53.021Z"
      },
      {
        "duration": 5,
        "start_time": "2023-01-09T08:25:53.572Z"
      },
      {
        "duration": 11,
        "start_time": "2023-01-09T08:25:55.416Z"
      },
      {
        "duration": 28,
        "start_time": "2023-01-09T08:26:04.553Z"
      },
      {
        "duration": 2,
        "start_time": "2023-01-09T08:26:05.783Z"
      },
      {
        "duration": 4,
        "start_time": "2023-01-09T08:26:06.676Z"
      },
      {
        "duration": 410,
        "start_time": "2023-01-28T08:05:22.434Z"
      },
      {
        "duration": 307,
        "start_time": "2023-01-28T08:05:24.342Z"
      },
      {
        "duration": 20,
        "start_time": "2023-01-28T08:05:26.488Z"
      },
      {
        "duration": 54,
        "start_time": "2023-01-28T08:05:28.092Z"
      },
      {
        "duration": 3,
        "start_time": "2023-01-28T08:05:30.054Z"
      }
    ],
    "colab": {
      "provenance": []
    },
    "kernelspec": {
      "display_name": "Python 3 (ipykernel)",
      "language": "python",
      "name": "python3"
    },
    "language_info": {
      "codemirror_mode": {
        "name": "ipython",
        "version": 3
      },
      "file_extension": ".py",
      "mimetype": "text/x-python",
      "name": "python",
      "nbconvert_exporter": "python",
      "pygments_lexer": "ipython3",
      "version": "3.9.5"
    },
    "toc": {
      "base_numbering": 1,
      "nav_menu": {
        "height": "215px",
        "width": "403px"
      },
      "number_sections": true,
      "sideBar": true,
      "skip_h1_title": true,
      "title_cell": "Table of Contents",
      "title_sidebar": "Contents",
      "toc_cell": false,
      "toc_position": {
        "height": "calc(100% - 180px)",
        "left": "10px",
        "top": "150px",
        "width": "285.825px"
      },
      "toc_section_display": true,
      "toc_window_display": false
    }
  },
  "nbformat": 4,
  "nbformat_minor": 0
}