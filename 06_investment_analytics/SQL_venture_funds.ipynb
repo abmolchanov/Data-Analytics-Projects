{
  "nbformat": 4,
  "nbformat_minor": 0,
  "metadata": {
    "colab": {
      "provenance": []
    },
    "kernelspec": {
      "name": "python3",
      "display_name": "Python 3"
    },
    "language_info": {
      "name": "python"
    }
  },
  "cells": [
    {
      "cell_type": "markdown",
      "source": [
        "# Исследование данных об инвестиции венчурных фондов в компании-стартапы\n",
        "\n",
        "**Данные**\n",
        "\n",
        "В проекте работа идёт с базой данных, которая хранит информацию о венчурных фондах и инвестициях в компании-стартапы. Эта база данных основана на датасете Startup Investments, опубликованном на популярной платформе для соревнований по исследованию данных Kaggle.\n",
        "\n",
        "**Задача**\n",
        "\n",
        "Проанализировать данные о фондах и инвестициях, произвести выгрузки данных и ответить на поставленные вопросы с помощью SQL."
      ],
      "metadata": {
        "id": "IBWgUjx_Aigp"
      }
    },
    {
      "cell_type": "markdown",
      "source": [
        "# Задания"
      ],
      "metadata": {
        "id": "oYaT3QMBBKjY"
      }
    },
    {
      "cell_type": "markdown",
      "source": [
        "## Задание 1\n",
        "\n",
        "Посчитайте, сколько компаний закрылось.\n",
        "\n",
        "```\n",
        "SELECT COUNT(status) AS closed_company\n",
        "FROM company\n",
        "WHERE status = 'closed'\n",
        "```\n",
        "\n"
      ],
      "metadata": {
        "id": "zaFRaLZDBXKK"
      }
    },
    {
      "cell_type": "markdown",
      "source": [
        "## Задание 2\n",
        "\n",
        "Отобразите количество привлечённых средств для новостных компаний США. Используйте данные из таблицы `company`. Отсортируйте таблицу по убыванию значений в поле `funding_total`.\n",
        "\n",
        "\n",
        "\n",
        "```\n",
        "SELECT funding_total\n",
        "FROM company\n",
        "WHERE country_code = 'USA'\n",
        "      AND category_code = 'news'\n",
        "ORDER BY funding_total DESC\n",
        "```\n",
        "\n"
      ],
      "metadata": {
        "id": "3Fd5062FBrCn"
      }
    },
    {
      "cell_type": "markdown",
      "source": [
        "## Задание 3\n",
        "\n",
        "\n",
        "Найдите общую сумму сделок по покупке одних компаний другими в долларах. Отберите сделки, которые осуществлялись только за наличные с 2011 по 2013 год включительно.\n",
        "\n",
        "\n",
        "\n",
        "```\n",
        "SELECT SUM(price_amount)\n",
        "FROM acquisition\n",
        "WHERE term_code = 'cash'\n",
        "      AND EXTRACT(YEAR FROM CAST(acquired_at AS timestamp)) BETWEEN 2011 AND 2013\n",
        "```\n",
        "\n"
      ],
      "metadata": {
        "id": "HmgbF1hsB1d2"
      }
    },
    {
      "cell_type": "markdown",
      "source": [
        "## Задание 4\n",
        "\n",
        "Отобразите имя, фамилию и названия аккаунтов людей в твиттере, у которых названия аккаунтов начинаются на `Silver`.\n",
        "\n",
        "\n",
        "\n",
        "```\n",
        "SELECT first_name,\n",
        "       last_name,\n",
        "       twitter_username\n",
        "FROM people\n",
        "WHERE twitter_username LIKE 'Silver%'\n",
        "```\n",
        "\n"
      ],
      "metadata": {
        "id": "tZ99DGjCCAk9"
      }
    },
    {
      "cell_type": "markdown",
      "source": [
        "## Задание 5\n",
        "\n",
        "Выведите на экран всю информацию о людях, у которых названия аккаунтов в твиттере содержат подстроку `money`, а фамилия начинается на `K`.\n",
        "\n",
        "\n",
        "\n",
        "```\n",
        "SELECT *\n",
        "FROM people\n",
        "WHERE last_name LIKE 'K%'\n",
        "      AND twitter_username LIKE '%money%'\n",
        "```\n",
        "\n"
      ],
      "metadata": {
        "id": "5w_fm34VCMSu"
      }
    },
    {
      "cell_type": "markdown",
      "source": [
        "## Задание 6\n",
        "\n",
        "Для каждой страны отобразите общую сумму привлечённых инвестиций, которые получили компании, зарегистрированные в этой стране. Страну, в которой зарегистрирована компания, можно определить по коду страны. Отсортируйте данные по убыванию суммы.\n",
        "\n",
        "\n",
        "\n",
        "```\n",
        "SELECT country_code,\n",
        "       SUM(funding_total)\n",
        "FROM company\n",
        "GROUP BY country_code\n",
        "ORDER BY SUM(funding_total) DESC\n",
        "```\n",
        "\n"
      ],
      "metadata": {
        "id": "3BrM3gQcCYEH"
      }
    },
    {
      "cell_type": "markdown",
      "source": [
        "## Задание 7\n",
        "\n",
        "Составьте таблицу, в которую войдёт дата проведения раунда, а также минимальное и максимальное значения суммы инвестиций, привлечённых в эту дату.\n",
        "Оставьте в итоговой таблице только те записи, в которых минимальное значение суммы инвестиций не равно нулю и не равно максимальному значению.\n",
        "\n",
        "\n",
        "\n",
        "```\n",
        "SELECT funded_at,\n",
        "       MIN(raised_amount) ,\n",
        "       MAX(raised_amount)\n",
        "FROM funding_round\n",
        "GROUP BY funded_at\n",
        "HAVING MIN(raised_amount) <> 0\n",
        "       AND MIN(raised_amount) <> MAX(raised_amount)\n",
        "```\n",
        "\n"
      ],
      "metadata": {
        "id": "6cYC_1GZChEJ"
      }
    },
    {
      "cell_type": "markdown",
      "source": [
        "## Задание 8\n",
        "\n",
        "Создайте поле с категориями:\n",
        "Для фондов, которые инвестируют в 100 и более компаний, назначьте категорию `high_activity`.\n",
        "Для фондов, которые инвестируют в 20 и более компаний до 100, назначьте категорию `middle_activity`.\n",
        "Если количество инвестируемых компаний фонда не достигает 20, назначьте категорию `low_activity`.\n",
        "Отобразите все поля таблицы `fund` и новое поле с категориями.\n",
        "\n",
        "\n",
        "\n",
        "```\n",
        "SELECT *,\n",
        "       CASE\n",
        "           WHEN invested_companies >= 100 THEN 'high_activity'\n",
        "           WHEN invested_companies >= 20 AND invested_companies < 100 THEN 'middle_activity'\n",
        "           WHEN invested_companies < 20 THEN 'low_activity'\n",
        "       END\n",
        "FROM fund\n",
        "```\n",
        "\n"
      ],
      "metadata": {
        "id": "xvhH095LCqd9"
      }
    },
    {
      "cell_type": "markdown",
      "source": [
        "## Задание 9\n",
        "\n",
        "Для каждой из категорий, назначенных в предыдущем задании, посчитайте округлённое до ближайшего целого числа среднее количество инвестиционных раундов, в которых фонд принимал участие. Выведите на экран категории и среднее число инвестиционных раундов. Отсортируйте таблицу по возрастанию среднего.\n",
        "\n",
        "\n",
        "\n",
        "```\n",
        "SELECT CASE\n",
        "           WHEN invested_companies>=100 THEN 'high_activity'\n",
        "           WHEN invested_companies>=20 THEN 'middle_activity'\n",
        "           ELSE 'low_activity'\n",
        "       END AS activity,\n",
        "       ROUND(AVG(investment_rounds)) AS avg_rounds\n",
        "       \n",
        "FROM fund\n",
        "GROUP BY activity\n",
        "ORDER BY avg_rounds;\n",
        "```\n",
        "\n"
      ],
      "metadata": {
        "id": "IU8FGnRxC5Zt"
      }
    },
    {
      "cell_type": "markdown",
      "source": [
        "## Задание 10\n",
        "\n",
        "Проанализируйте, в каких странах находятся фонды, которые чаще всего инвестируют в стартапы. \n",
        "Для каждой страны посчитайте минимальное, максимальное и среднее число компаний, в которые инвестировали фонды этой страны, основанные с 2010 по 2012 год включительно. Исключите страны с фондами, у которых минимальное число компаний, получивших инвестиции, равно нулю. \n",
        "Выгрузите десять самых активных стран-инвесторов: отсортируйте таблицу по среднему количеству компаний от большего к меньшему. Затем добавьте сортировку по коду страны в лексикографическом порядке.\n",
        "\n",
        "\n",
        "\n",
        "```\n",
        "SELECT country_code,\n",
        "       MIN(invested_companies),\n",
        "       MAX(invested_companies),\n",
        "       AVG(invested_companies)\n",
        "FROM fund\n",
        "WHERE EXTRACT(YEAR FROM CAST(founded_at AS timestamp)) BETWEEN 2010 AND 2012\n",
        "GROUP BY country_code\n",
        "HAVING MIN(invested_companies) > 0\n",
        "ORDER BY AVG(invested_companies) DESC, country_code\n",
        "LIMIT 10\n",
        "```\n",
        "\n"
      ],
      "metadata": {
        "id": "hxTsJzvIDCHw"
      }
    },
    {
      "cell_type": "markdown",
      "source": [
        "## Задание 11\n",
        "\n",
        "Отобразите имя и фамилию всех сотрудников стартапов. Добавьте поле с названием учебного заведения, которое окончил сотрудник, если эта информация известна\n",
        "\n",
        "\n",
        "\n",
        "```\n",
        "SELECT p.first_name,\n",
        "       p.last_name,\n",
        "       e.instituition\n",
        "FROM people AS p\n",
        "LEFT JOIN education AS e ON p.id=e.person_id\n",
        "```\n",
        "\n"
      ],
      "metadata": {
        "id": "TIQPhaDMDLY_"
      }
    },
    {
      "cell_type": "markdown",
      "source": [
        "## Задание 12\n",
        "\n",
        "Для каждой компании найдите количество учебных заведений, которые окончили её сотрудники. Выведите название компании и число уникальных названий учебных заведений. Составьте топ-5 компаний по количеству университетов.\n",
        "\n",
        "\n",
        "\n",
        "```\n",
        "SELECT c.name,\n",
        "       COUNT(DISTINCT(e.instituition))\n",
        "FROM company AS c\n",
        "LEFT JOIN people AS p ON c.id=p.company_id\n",
        "JOIN education AS e ON e.person_id=p.id\n",
        "GROUP BY c.name\n",
        "ORDER BY COUNT(DISTINCT(e.instituition)) DESC\n",
        "LIMIT 5\n",
        "  \n",
        "```\n",
        "\n"
      ],
      "metadata": {
        "id": "8LBZv9x7DfBz"
      }
    },
    {
      "cell_type": "markdown",
      "source": [
        "## Задание 13\n",
        "\n",
        "Составьте список с уникальными названиями закрытых компаний, для которых первый раунд финансирования оказался последним.\n",
        "\n",
        "\n",
        "\n",
        "```\n",
        "SELECT DISTINCT(c.name)\n",
        "FROM company AS c\n",
        "LEFT JOIN funding_round as fr ON c.id=fr.company_id\n",
        "WHERE fr.is_first_round = 1\n",
        "      AND fr.is_last_round = 1\n",
        "      AND c.status = 'closed'\n",
        "```\n",
        "\n"
      ],
      "metadata": {
        "id": "Oz4X97lgDkVZ"
      }
    },
    {
      "cell_type": "markdown",
      "source": [
        "## Задание 14\n",
        "\n",
        "Составьте список уникальных номеров сотрудников, которые работают в компаниях, отобранных в предыдущем задании.\n",
        "\n",
        "\n",
        "\n",
        "```\n",
        "SELECT DISTINCT(p.id)\n",
        "FROM people as p\n",
        "JOIN (SELECT DISTINCT(c.id)\n",
        "        FROM company AS c\n",
        "        LEFT JOIN funding_round as fr ON c.id=fr.company_id\n",
        "        WHERE fr.is_first_round = 1\n",
        "                 AND fr.is_last_round = 1\n",
        "                 AND c.status = 'closed') as z ON p.company_id = z.id\n",
        "```\n",
        "\n"
      ],
      "metadata": {
        "id": "6KUWqRNtDr2o"
      }
    },
    {
      "cell_type": "markdown",
      "source": [
        "## Задание 15\n",
        "\n",
        "Составьте таблицу, куда войдут уникальные пары с номерами сотрудников из предыдущей задачи и учебным заведением, которое окончил сотрудник.\n",
        "\n",
        "\n",
        "\n",
        "```\n",
        "SELECT DISTINCT(p.id),\n",
        "        e.instituition\n",
        "FROM people as p\n",
        "JOIN (SELECT DISTINCT(c.id)\n",
        "             FROM company AS c\n",
        "             LEFT JOIN funding_round as fr ON c.id=fr.company_id\n",
        "             WHERE fr.is_first_round = 1\n",
        "                     AND fr.is_last_round = 1\n",
        "                     AND c.status = 'closed') as z ON p.company_id = z.id\n",
        "JOIN education AS e ON e.person_id=p.id\n",
        "```\n",
        "\n"
      ],
      "metadata": {
        "id": "RRZLGW5xD0IF"
      }
    },
    {
      "cell_type": "markdown",
      "source": [
        "## Задание 16\n",
        "\n",
        "Посчитайте количество учебных заведений для каждого сотрудника из предыдущего задания. При подсчёте учитывайте, что некоторые сотрудники могли окончить одно и то же заведение дважды.\n",
        "\n",
        "\n",
        "\n",
        "```\n",
        "SELECT DISTINCT(p.id),\n",
        "       COUNT(instituition)\n",
        "FROM people as p\n",
        "JOIN (SELECT DISTINCT(c.id)\n",
        "             FROM company AS c\n",
        "             LEFT JOIN funding_round as fr ON c.id=fr.company_id\n",
        "             WHERE fr.is_first_round = 1\n",
        "                     AND fr.is_last_round = 1\n",
        "                     AND c.status = 'closed') as z ON p.company_id = z.id\n",
        "JOIN education AS e ON e.person_id=p.id\n",
        "GROUP BY p.id\n",
        "```\n",
        "\n"
      ],
      "metadata": {
        "id": "VUJ4FbNiD6QA"
      }
    },
    {
      "cell_type": "markdown",
      "source": [
        "## Задание 17\n",
        "\n",
        "Дополните предыдущий запрос и выведите среднее число учебных заведений (всех, не только уникальных), которые окончили сотрудники разных компаний. Нужно вывести только одну запись, группировка здесь не понадобится.\n",
        "\n",
        "\n",
        "\n",
        "```\n",
        "SELECT AVG(x.inst)\n",
        "FROM (SELECT DISTINCT(p.id),\n",
        "       COUNT(instituition) AS inst\n",
        "FROM people as p\n",
        "JOIN (SELECT DISTINCT(c.id)\n",
        "             FROM company AS c\n",
        "             LEFT JOIN funding_round as fr ON c.id=fr.company_id\n",
        "             WHERE fr.is_first_round = 1\n",
        "                     AND fr.is_last_round = 1\n",
        "                     AND c.status = 'closed') as z ON p.company_id = z.id\n",
        "JOIN education AS e ON e.person_id=p.id\n",
        "GROUP BY p.id) AS x\n",
        "```\n",
        "\n"
      ],
      "metadata": {
        "id": "IovC0Mp5ECb7"
      }
    },
    {
      "cell_type": "markdown",
      "source": [
        "## Задание 18\n",
        "\n",
        "Напишите похожий запрос: выведите среднее число учебных заведений (всех, не только уникальных), которые окончили сотрудники Facebook*.\n",
        "*(сервис, запрещённый на территории РФ)\n",
        "\n",
        "\n",
        "\n",
        "```\n",
        "SELECT AVG(x.inst)\n",
        "FROM (SELECT DISTINCT(p.id),\n",
        "       COUNT(instituition) AS inst\n",
        "FROM people as p\n",
        "JOIN (SELECT DISTINCT(c.id)\n",
        "             FROM company AS c\n",
        "             WHERE c.name='Facebook') as z ON p.company_id = z.id\n",
        "JOIN education AS e ON e.person_id=p.id\n",
        "GROUP BY p.id) AS x\n",
        "```\n",
        "\n"
      ],
      "metadata": {
        "id": "W5etXR13EKf3"
      }
    },
    {
      "cell_type": "markdown",
      "source": [
        "## Задание 19\n",
        "\n",
        "Составьте таблицу из полей:\n",
        "* `name_of_fund` — название фонда;\n",
        "* `name_of_company` — название компании;\n",
        "* `amount` — сумма инвестиций, которую привлекла компания в раунде.\n",
        "В таблицу войдут данные о компаниях, в истории которых было больше шести важных этапов, а раунды финансирования проходили с 2012 по 2013 год включительно.\n",
        "\n",
        "\n",
        "\n",
        "```\n",
        "SELECT f.name AS name_of_fund,\n",
        "       c.name AS name_of_company,\n",
        "       fr.raised_amount AS amount\n",
        "FROM investment AS i\n",
        "JOIN company AS c ON i.company_id=c.id\n",
        "JOIN fund AS f ON f.id=i.fund_id\n",
        "JOIN funding_round AS fr ON fr.id=i.funding_round_id\n",
        "\n",
        "WHERE c.milestones > 6\n",
        "      AND EXTRACT(YEAR FROM CAST(fr.funded_at AS timestamp)) BETWEEN 2012 AND 2013\n",
        "```\n",
        "\n"
      ],
      "metadata": {
        "id": "DA8f7NxWES9z"
      }
    },
    {
      "cell_type": "markdown",
      "source": [
        "## Задание 20\n",
        "\n",
        "Выгрузите таблицу, в которой будут такие поля:\n",
        "* название компании-покупателя;\n",
        "* сумма сделки;\n",
        "* название компании, которую купили;\n",
        "* сумма инвестиций, вложенных в купленную компанию;\n",
        "* доля, которая отображает, во сколько раз сумма покупки превысила сумму вложенных в компанию инвестиций, округлённая до ближайшего целого числа.\n",
        "\n",
        "Не учитывайте те сделки, в которых сумма покупки равна нулю. Если сумма инвестиций в компанию равна нулю, исключите такую компанию из таблицы. \n",
        "Отсортируйте таблицу по сумме сделки от большей к меньшей, а затем по названию купленной компании в лексикографическом порядке. Ограничьте таблицу первыми десятью записями.\n",
        "\n",
        "\n",
        "\n",
        "```\n",
        "SELECT c.name,\n",
        "       a.price_amount,\n",
        "       c1.name AS name_1,\n",
        "       c1.funding_total,\n",
        "       ROUND(a.price_amount/c1.funding_total)\n",
        "FROM acquisition AS a\n",
        "LEFT JOIN company AS c ON c.id=a.acquiring_company_id\n",
        "LEFT JOIN company AS c1 ON c1.id=a.acquired_company_id\n",
        "WHERE a.price_amount>0\n",
        "      AND c1.funding_total>0\n",
        "ORDER BY a.price_amount DESC, c1.name\n",
        "LIMIT 10\n",
        "```\n",
        "\n"
      ],
      "metadata": {
        "id": "lHpbXz1AEjBK"
      }
    },
    {
      "cell_type": "markdown",
      "source": [
        "## Задание 21\n",
        "\n",
        "Выгрузите таблицу, в которую войдут названия компаний из категории `social`, получившие финансирование с 2010 по 2013 год включительно. Проверьте, что сумма инвестиций не равна нулю. Выведите также номер месяца, в котором проходил раунд финансирования.\n",
        "\n",
        "\n",
        "\n",
        "```\n",
        "SELECT c.name,\n",
        "       EXTRACT(MONTH FROM CAST(fr.funded_at AS timestamp))\n",
        "FROM company AS c\n",
        "JOIN funding_round AS fr ON fr.company_id = c.id\n",
        "WHERE category_code = 'social'\n",
        "      AND EXTRACT(YEAR FROM CAST(fr.funded_at AS timestamp)) BETWEEN 2010 AND 2013\n",
        "      AND fr.raised_amount > 0\n",
        "```\n",
        "\n",
        "\n",
        "\n"
      ],
      "metadata": {
        "id": "uo0xt0kcE5T_"
      }
    },
    {
      "cell_type": "markdown",
      "source": [
        "## Задание 22\n",
        "\n",
        "Отберите данные по месяцам с 2010 по 2013 год, когда проходили инвестиционные раунды. Сгруппируйте данные по номеру месяца и получите таблицу, в которой будут поля:\n",
        "* номер месяца, в котором проходили раунды;\n",
        "* количество уникальных названий фондов из США, которые инвестировали в этом месяце;\n",
        "* количество компаний, купленных за этот месяц;\n",
        "* общая сумма сделок по покупкам в этом месяце.\n",
        "\n",
        "\n",
        "\n",
        "```\n",
        "WITH count_fund AS (\n",
        "SELECT EXTRACT(MONTH FROM CAST(fr.funded_at AS timestamp)) AS month_round,\n",
        "       COUNT(DISTINCT f.name) AS count_found\n",
        "FROM investment as i\n",
        "JOIN funding_round AS fr ON fr.id=i.funding_round_id\n",
        "JOIN fund AS f ON i.fund_id=f.id\n",
        "WHERE fund_id IN (SELECT id\n",
        "                  FROM fund\n",
        "                  WHERE country_code = 'USA')\n",
        "        AND i.funding_round_id IN (SELECT id \n",
        "                                   FROM funding_round\n",
        "                                   WHERE EXTRACT(YEAR FROM CAST(funded_at AS timestamp)) BETWEEN 2010 AND 2013)\n",
        "        GROUP BY month_round),\n",
        "\n",
        "count_company AS (\n",
        "SELECT EXTRACT(MONTH FROM CAST(acquired_at AS timestamp)) AS month_acquired,\n",
        "    COUNT(acquired_company_id) AS count_company,\n",
        "    SUM(price_amount) AS sum_acquired\n",
        "FROM acquisition\n",
        "WHERE EXTRACT(YEAR FROM CAST(acquired_at AS timestamp)) BETWEEN 2010 AND 2013\n",
        "GROUP BY month_acquired)\n",
        "\n",
        "SELECT cf.month_round AS month,\n",
        "       cf.count_found,\n",
        "       cc.count_company,\n",
        "       cc.sum_acquired\n",
        "FROM count_fund AS cf \n",
        "    FULL JOIN count_company AS cc ON cc.month_acquired=cf.month_round\n",
        "    \n",
        "```\n",
        "\n"
      ],
      "metadata": {
        "id": "cQo4nDxvFKwr"
      }
    },
    {
      "cell_type": "markdown",
      "source": [
        "## Задание 23\n",
        "\n",
        "Составьте сводную таблицу и выведите среднюю сумму инвестиций для стран, в которых есть стартапы, зарегистрированные в 2011, 2012 и 2013 годах. Данные за каждый год должны быть в отдельном поле. Отсортируйте таблицу по среднему значению инвестиций за 2011 год от большего к меньшему.\n",
        "\n",
        "\n",
        "\n",
        "```\n",
        "WITH\n",
        "invest_2011 AS (\n",
        "SELECT country_code,\n",
        "       AVG(funding_total) AS investment_2011\n",
        "FROM company\n",
        "WHERE EXTRACT(YEAR FROM CAST(founded_at AS timestamp)) = '2011'\n",
        "GROUP BY country_code\n",
        "),\n",
        "invest_2012 AS (\n",
        "SELECT country_code,\n",
        "       AVG(funding_total) AS investment_2012\n",
        "FROM company\n",
        "WHERE EXTRACT(YEAR FROM CAST(founded_at AS timestamp)) = '2012'\n",
        "GROUP BY country_code\n",
        "),\n",
        "invest_2013 AS (\n",
        "SELECT country_code,\n",
        "       AVG(funding_total) AS investment_2013\n",
        "FROM company\n",
        "WHERE EXTRACT(YEAR FROM CAST(founded_at AS timestamp)) = '2013'\n",
        "GROUP BY country_code\n",
        ")\n",
        "SELECT i2011.country_code,\n",
        "       i2011.investment_2011,\n",
        "       i2012.investment_2012,\n",
        "       i2013.investment_2013\n",
        "FROM invest_2011 AS i2011\n",
        "JOIN invest_2012 AS i2012 ON i2011.country_code=i2012.country_code\n",
        "JOIN invest_2013 AS i2013 ON i2011.country_code=i2013.country_code\n",
        "ORDER BY i2011.investment_2011 DESC\n",
        "\n",
        "```\n",
        "\n"
      ],
      "metadata": {
        "id": "q2xxTVqPF-dD"
      }
    }
  ]
}