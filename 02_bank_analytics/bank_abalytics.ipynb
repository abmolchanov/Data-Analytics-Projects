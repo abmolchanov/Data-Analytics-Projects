{
  "cells": [
    {
      "cell_type": "markdown",
      "id": "e4f80601",
      "metadata": {
        "deletable": false,
        "editable": false,
        "id": "e4f80601"
      },
      "source": [
        "# Исследование надежности заемщиков\n"
      ]
    },
    {
      "cell_type": "markdown",
      "id": "38e98cc2",
      "metadata": {
        "id": "38e98cc2"
      },
      "source": [
        "**Задача исследования:**\n",
        "\n",
        "Нужно разобраться, влияет ли семейное положение и количество детей клиента на факт погашения кредита в срок. Входные данные от банка — статистика о платёжеспособности клиентов.\n",
        "\n",
        "Результаты исследования будут учтены при построении модели кредитного скоринга — специальной системы, которая оценивает способность потенциального заёмщика вернуть кредит банку."
      ]
    },
    {
      "cell_type": "markdown",
      "id": "be253a74",
      "metadata": {
        "id": "be253a74"
      },
      "source": [
        "**Описание данных**\n",
        "\n",
        "Данные содержатся в файле /datasets/data.csv\n",
        "\n",
        "* children — количество детей в семье\n",
        "* days_employed — общий трудовой стаж в днях\n",
        "* dob_years — возраст клиента в годах\n",
        "* education — уровень образования клиента\n",
        "* education_id — идентификатор уровня образования\n",
        "* family_status — семейное положение\n",
        "* family_status_id — идентификатор семейного положения\n",
        "* gender — пол клиента\n",
        "* income_type — тип занятости\n",
        "* debt — имел ли задолженность по возврату кредитов\n",
        "* total_income — ежемесячный доход\n",
        "* purpose — цель получения кредита"
      ]
    },
    {
      "cell_type": "markdown",
      "source": [
        "## Обзор данных"
      ],
      "metadata": {
        "id": "SdzWHoBODTxm"
      },
      "id": "SdzWHoBODTxm"
    },
    {
      "cell_type": "markdown",
      "id": "395cbea0",
      "metadata": {
        "deletable": false,
        "editable": false,
        "id": "395cbea0"
      },
      "source": [
        "Импорт необходимых библиотек"
      ]
    },
    {
      "cell_type": "code",
      "execution_count": 2,
      "id": "4d7e1889",
      "metadata": {
        "deletable": false,
        "id": "4d7e1889"
      },
      "outputs": [],
      "source": [
        "import pandas as pd"
      ]
    },
    {
      "cell_type": "markdown",
      "source": [
        "Выгрузка данных из файла `data.csv` в переменную `data`"
      ],
      "metadata": {
        "id": "1Ol3LGWDDKrT"
      },
      "id": "1Ol3LGWDDKrT"
    },
    {
      "cell_type": "code",
      "source": [
        "data = pd.read_csv('https://code.s3.yandex.net/datasets/data.csv')"
      ],
      "metadata": {
        "id": "aFwt3qpnDIyv"
      },
      "id": "aFwt3qpnDIyv",
      "execution_count": 3,
      "outputs": []
    },
    {
      "cell_type": "markdown",
      "id": "af598fc3",
      "metadata": {
        "deletable": false,
        "editable": false,
        "id": "af598fc3"
      },
      "source": [
        "Вывод первых 10 строчек датафрейма `data` на экран:"
      ]
    },
    {
      "cell_type": "code",
      "execution_count": 4,
      "id": "190c3675",
      "metadata": {
        "deletable": false,
        "id": "190c3675",
        "outputId": "05e14d02-f0b0-4687-a16e-3e3056d8a85c",
        "colab": {
          "base_uri": "https://localhost:8080/",
          "height": 511
        }
      },
      "outputs": [
        {
          "output_type": "execute_result",
          "data": {
            "text/plain": [
              "   children  days_employed  dob_years education  education_id  \\\n",
              "0         1   -8437.673028         42    высшее             0   \n",
              "1         1   -4024.803754         36   среднее             1   \n",
              "2         0   -5623.422610         33   Среднее             1   \n",
              "3         3   -4124.747207         32   среднее             1   \n",
              "4         0  340266.072047         53   среднее             1   \n",
              "5         0    -926.185831         27    высшее             0   \n",
              "6         0   -2879.202052         43    высшее             0   \n",
              "7         0    -152.779569         50   СРЕДНЕЕ             1   \n",
              "8         2   -6929.865299         35    ВЫСШЕЕ             0   \n",
              "9         0   -2188.756445         41   среднее             1   \n",
              "\n",
              "      family_status  family_status_id gender income_type  debt   total_income  \\\n",
              "0   женат / замужем                 0      F   сотрудник     0  253875.639453   \n",
              "1   женат / замужем                 0      F   сотрудник     0  112080.014102   \n",
              "2   женат / замужем                 0      M   сотрудник     0  145885.952297   \n",
              "3   женат / замужем                 0      M   сотрудник     0  267628.550329   \n",
              "4  гражданский брак                 1      F   пенсионер     0  158616.077870   \n",
              "5  гражданский брак                 1      M   компаньон     0  255763.565419   \n",
              "6   женат / замужем                 0      F   компаньон     0  240525.971920   \n",
              "7   женат / замужем                 0      M   сотрудник     0  135823.934197   \n",
              "8  гражданский брак                 1      F   сотрудник     0   95856.832424   \n",
              "9   женат / замужем                 0      M   сотрудник     0  144425.938277   \n",
              "\n",
              "                      purpose  \n",
              "0               покупка жилья  \n",
              "1     приобретение автомобиля  \n",
              "2               покупка жилья  \n",
              "3  дополнительное образование  \n",
              "4             сыграть свадьбу  \n",
              "5               покупка жилья  \n",
              "6           операции с жильем  \n",
              "7                 образование  \n",
              "8       на проведение свадьбы  \n",
              "9     покупка жилья для семьи  "
            ],
            "text/html": [
              "\n",
              "  <div id=\"df-50baba58-478e-4848-a17d-9a1a16bbfaa7\">\n",
              "    <div class=\"colab-df-container\">\n",
              "      <div>\n",
              "<style scoped>\n",
              "    .dataframe tbody tr th:only-of-type {\n",
              "        vertical-align: middle;\n",
              "    }\n",
              "\n",
              "    .dataframe tbody tr th {\n",
              "        vertical-align: top;\n",
              "    }\n",
              "\n",
              "    .dataframe thead th {\n",
              "        text-align: right;\n",
              "    }\n",
              "</style>\n",
              "<table border=\"1\" class=\"dataframe\">\n",
              "  <thead>\n",
              "    <tr style=\"text-align: right;\">\n",
              "      <th></th>\n",
              "      <th>children</th>\n",
              "      <th>days_employed</th>\n",
              "      <th>dob_years</th>\n",
              "      <th>education</th>\n",
              "      <th>education_id</th>\n",
              "      <th>family_status</th>\n",
              "      <th>family_status_id</th>\n",
              "      <th>gender</th>\n",
              "      <th>income_type</th>\n",
              "      <th>debt</th>\n",
              "      <th>total_income</th>\n",
              "      <th>purpose</th>\n",
              "    </tr>\n",
              "  </thead>\n",
              "  <tbody>\n",
              "    <tr>\n",
              "      <th>0</th>\n",
              "      <td>1</td>\n",
              "      <td>-8437.673028</td>\n",
              "      <td>42</td>\n",
              "      <td>высшее</td>\n",
              "      <td>0</td>\n",
              "      <td>женат / замужем</td>\n",
              "      <td>0</td>\n",
              "      <td>F</td>\n",
              "      <td>сотрудник</td>\n",
              "      <td>0</td>\n",
              "      <td>253875.639453</td>\n",
              "      <td>покупка жилья</td>\n",
              "    </tr>\n",
              "    <tr>\n",
              "      <th>1</th>\n",
              "      <td>1</td>\n",
              "      <td>-4024.803754</td>\n",
              "      <td>36</td>\n",
              "      <td>среднее</td>\n",
              "      <td>1</td>\n",
              "      <td>женат / замужем</td>\n",
              "      <td>0</td>\n",
              "      <td>F</td>\n",
              "      <td>сотрудник</td>\n",
              "      <td>0</td>\n",
              "      <td>112080.014102</td>\n",
              "      <td>приобретение автомобиля</td>\n",
              "    </tr>\n",
              "    <tr>\n",
              "      <th>2</th>\n",
              "      <td>0</td>\n",
              "      <td>-5623.422610</td>\n",
              "      <td>33</td>\n",
              "      <td>Среднее</td>\n",
              "      <td>1</td>\n",
              "      <td>женат / замужем</td>\n",
              "      <td>0</td>\n",
              "      <td>M</td>\n",
              "      <td>сотрудник</td>\n",
              "      <td>0</td>\n",
              "      <td>145885.952297</td>\n",
              "      <td>покупка жилья</td>\n",
              "    </tr>\n",
              "    <tr>\n",
              "      <th>3</th>\n",
              "      <td>3</td>\n",
              "      <td>-4124.747207</td>\n",
              "      <td>32</td>\n",
              "      <td>среднее</td>\n",
              "      <td>1</td>\n",
              "      <td>женат / замужем</td>\n",
              "      <td>0</td>\n",
              "      <td>M</td>\n",
              "      <td>сотрудник</td>\n",
              "      <td>0</td>\n",
              "      <td>267628.550329</td>\n",
              "      <td>дополнительное образование</td>\n",
              "    </tr>\n",
              "    <tr>\n",
              "      <th>4</th>\n",
              "      <td>0</td>\n",
              "      <td>340266.072047</td>\n",
              "      <td>53</td>\n",
              "      <td>среднее</td>\n",
              "      <td>1</td>\n",
              "      <td>гражданский брак</td>\n",
              "      <td>1</td>\n",
              "      <td>F</td>\n",
              "      <td>пенсионер</td>\n",
              "      <td>0</td>\n",
              "      <td>158616.077870</td>\n",
              "      <td>сыграть свадьбу</td>\n",
              "    </tr>\n",
              "    <tr>\n",
              "      <th>5</th>\n",
              "      <td>0</td>\n",
              "      <td>-926.185831</td>\n",
              "      <td>27</td>\n",
              "      <td>высшее</td>\n",
              "      <td>0</td>\n",
              "      <td>гражданский брак</td>\n",
              "      <td>1</td>\n",
              "      <td>M</td>\n",
              "      <td>компаньон</td>\n",
              "      <td>0</td>\n",
              "      <td>255763.565419</td>\n",
              "      <td>покупка жилья</td>\n",
              "    </tr>\n",
              "    <tr>\n",
              "      <th>6</th>\n",
              "      <td>0</td>\n",
              "      <td>-2879.202052</td>\n",
              "      <td>43</td>\n",
              "      <td>высшее</td>\n",
              "      <td>0</td>\n",
              "      <td>женат / замужем</td>\n",
              "      <td>0</td>\n",
              "      <td>F</td>\n",
              "      <td>компаньон</td>\n",
              "      <td>0</td>\n",
              "      <td>240525.971920</td>\n",
              "      <td>операции с жильем</td>\n",
              "    </tr>\n",
              "    <tr>\n",
              "      <th>7</th>\n",
              "      <td>0</td>\n",
              "      <td>-152.779569</td>\n",
              "      <td>50</td>\n",
              "      <td>СРЕДНЕЕ</td>\n",
              "      <td>1</td>\n",
              "      <td>женат / замужем</td>\n",
              "      <td>0</td>\n",
              "      <td>M</td>\n",
              "      <td>сотрудник</td>\n",
              "      <td>0</td>\n",
              "      <td>135823.934197</td>\n",
              "      <td>образование</td>\n",
              "    </tr>\n",
              "    <tr>\n",
              "      <th>8</th>\n",
              "      <td>2</td>\n",
              "      <td>-6929.865299</td>\n",
              "      <td>35</td>\n",
              "      <td>ВЫСШЕЕ</td>\n",
              "      <td>0</td>\n",
              "      <td>гражданский брак</td>\n",
              "      <td>1</td>\n",
              "      <td>F</td>\n",
              "      <td>сотрудник</td>\n",
              "      <td>0</td>\n",
              "      <td>95856.832424</td>\n",
              "      <td>на проведение свадьбы</td>\n",
              "    </tr>\n",
              "    <tr>\n",
              "      <th>9</th>\n",
              "      <td>0</td>\n",
              "      <td>-2188.756445</td>\n",
              "      <td>41</td>\n",
              "      <td>среднее</td>\n",
              "      <td>1</td>\n",
              "      <td>женат / замужем</td>\n",
              "      <td>0</td>\n",
              "      <td>M</td>\n",
              "      <td>сотрудник</td>\n",
              "      <td>0</td>\n",
              "      <td>144425.938277</td>\n",
              "      <td>покупка жилья для семьи</td>\n",
              "    </tr>\n",
              "  </tbody>\n",
              "</table>\n",
              "</div>\n",
              "      <button class=\"colab-df-convert\" onclick=\"convertToInteractive('df-50baba58-478e-4848-a17d-9a1a16bbfaa7')\"\n",
              "              title=\"Convert this dataframe to an interactive table.\"\n",
              "              style=\"display:none;\">\n",
              "        \n",
              "  <svg xmlns=\"http://www.w3.org/2000/svg\" height=\"24px\"viewBox=\"0 0 24 24\"\n",
              "       width=\"24px\">\n",
              "    <path d=\"M0 0h24v24H0V0z\" fill=\"none\"/>\n",
              "    <path d=\"M18.56 5.44l.94 2.06.94-2.06 2.06-.94-2.06-.94-.94-2.06-.94 2.06-2.06.94zm-11 1L8.5 8.5l.94-2.06 2.06-.94-2.06-.94L8.5 2.5l-.94 2.06-2.06.94zm10 10l.94 2.06.94-2.06 2.06-.94-2.06-.94-.94-2.06-.94 2.06-2.06.94z\"/><path d=\"M17.41 7.96l-1.37-1.37c-.4-.4-.92-.59-1.43-.59-.52 0-1.04.2-1.43.59L10.3 9.45l-7.72 7.72c-.78.78-.78 2.05 0 2.83L4 21.41c.39.39.9.59 1.41.59.51 0 1.02-.2 1.41-.59l7.78-7.78 2.81-2.81c.8-.78.8-2.07 0-2.86zM5.41 20L4 18.59l7.72-7.72 1.47 1.35L5.41 20z\"/>\n",
              "  </svg>\n",
              "      </button>\n",
              "      \n",
              "  <style>\n",
              "    .colab-df-container {\n",
              "      display:flex;\n",
              "      flex-wrap:wrap;\n",
              "      gap: 12px;\n",
              "    }\n",
              "\n",
              "    .colab-df-convert {\n",
              "      background-color: #E8F0FE;\n",
              "      border: none;\n",
              "      border-radius: 50%;\n",
              "      cursor: pointer;\n",
              "      display: none;\n",
              "      fill: #1967D2;\n",
              "      height: 32px;\n",
              "      padding: 0 0 0 0;\n",
              "      width: 32px;\n",
              "    }\n",
              "\n",
              "    .colab-df-convert:hover {\n",
              "      background-color: #E2EBFA;\n",
              "      box-shadow: 0px 1px 2px rgba(60, 64, 67, 0.3), 0px 1px 3px 1px rgba(60, 64, 67, 0.15);\n",
              "      fill: #174EA6;\n",
              "    }\n",
              "\n",
              "    [theme=dark] .colab-df-convert {\n",
              "      background-color: #3B4455;\n",
              "      fill: #D2E3FC;\n",
              "    }\n",
              "\n",
              "    [theme=dark] .colab-df-convert:hover {\n",
              "      background-color: #434B5C;\n",
              "      box-shadow: 0px 1px 3px 1px rgba(0, 0, 0, 0.15);\n",
              "      filter: drop-shadow(0px 1px 2px rgba(0, 0, 0, 0.3));\n",
              "      fill: #FFFFFF;\n",
              "    }\n",
              "  </style>\n",
              "\n",
              "      <script>\n",
              "        const buttonEl =\n",
              "          document.querySelector('#df-50baba58-478e-4848-a17d-9a1a16bbfaa7 button.colab-df-convert');\n",
              "        buttonEl.style.display =\n",
              "          google.colab.kernel.accessAllowed ? 'block' : 'none';\n",
              "\n",
              "        async function convertToInteractive(key) {\n",
              "          const element = document.querySelector('#df-50baba58-478e-4848-a17d-9a1a16bbfaa7');\n",
              "          const dataTable =\n",
              "            await google.colab.kernel.invokeFunction('convertToInteractive',\n",
              "                                                     [key], {});\n",
              "          if (!dataTable) return;\n",
              "\n",
              "          const docLinkHtml = 'Like what you see? Visit the ' +\n",
              "            '<a target=\"_blank\" href=https://colab.research.google.com/notebooks/data_table.ipynb>data table notebook</a>'\n",
              "            + ' to learn more about interactive tables.';\n",
              "          element.innerHTML = '';\n",
              "          dataTable['output_type'] = 'display_data';\n",
              "          await google.colab.output.renderOutput(dataTable, element);\n",
              "          const docLink = document.createElement('div');\n",
              "          docLink.innerHTML = docLinkHtml;\n",
              "          element.appendChild(docLink);\n",
              "        }\n",
              "      </script>\n",
              "    </div>\n",
              "  </div>\n",
              "  "
            ]
          },
          "metadata": {},
          "execution_count": 4
        }
      ],
      "source": [
        "data.head(10)"
      ]
    },
    {
      "cell_type": "markdown",
      "id": "9c63997a",
      "metadata": {
        "deletable": false,
        "editable": false,
        "id": "9c63997a"
      },
      "source": [
        "Вывод основной информации о датафрейме:"
      ]
    },
    {
      "cell_type": "code",
      "execution_count": 5,
      "id": "61daf2f8",
      "metadata": {
        "deletable": false,
        "id": "61daf2f8",
        "outputId": "e5491e37-05c8-459e-91d0-c81c393601f5",
        "colab": {
          "base_uri": "https://localhost:8080/"
        }
      },
      "outputs": [
        {
          "output_type": "stream",
          "name": "stdout",
          "text": [
            "<class 'pandas.core.frame.DataFrame'>\n",
            "RangeIndex: 21525 entries, 0 to 21524\n",
            "Data columns (total 12 columns):\n",
            " #   Column            Non-Null Count  Dtype  \n",
            "---  ------            --------------  -----  \n",
            " 0   children          21525 non-null  int64  \n",
            " 1   days_employed     19351 non-null  float64\n",
            " 2   dob_years         21525 non-null  int64  \n",
            " 3   education         21525 non-null  object \n",
            " 4   education_id      21525 non-null  int64  \n",
            " 5   family_status     21525 non-null  object \n",
            " 6   family_status_id  21525 non-null  int64  \n",
            " 7   gender            21525 non-null  object \n",
            " 8   income_type       21525 non-null  object \n",
            " 9   debt              21525 non-null  int64  \n",
            " 10  total_income      19351 non-null  float64\n",
            " 11  purpose           21525 non-null  object \n",
            "dtypes: float64(2), int64(5), object(5)\n",
            "memory usage: 2.0+ MB\n"
          ]
        }
      ],
      "source": [
        "data.info()"
      ]
    },
    {
      "cell_type": "markdown",
      "id": "5e430a40",
      "metadata": {
        "deletable": false,
        "editable": false,
        "id": "5e430a40"
      },
      "source": [
        "## Предобработка данных"
      ]
    },
    {
      "cell_type": "markdown",
      "id": "d24538c1",
      "metadata": {
        "deletable": false,
        "editable": false,
        "id": "d24538c1"
      },
      "source": [
        "### Удаление пропусков"
      ]
    },
    {
      "cell_type": "markdown",
      "id": "6f465a70",
      "metadata": {
        "deletable": false,
        "editable": false,
        "id": "6f465a70"
      },
      "source": [
        "Вывод количества пропущенных значений для каждого столбца."
      ]
    },
    {
      "cell_type": "code",
      "execution_count": 6,
      "id": "dfe87bbe",
      "metadata": {
        "deletable": false,
        "id": "dfe87bbe",
        "outputId": "55b438b6-a621-43d6-cbc9-95fd112cfd6d",
        "colab": {
          "base_uri": "https://localhost:8080/"
        }
      },
      "outputs": [
        {
          "output_type": "execute_result",
          "data": {
            "text/plain": [
              "children               0\n",
              "days_employed       2174\n",
              "dob_years              0\n",
              "education              0\n",
              "education_id           0\n",
              "family_status          0\n",
              "family_status_id       0\n",
              "gender                 0\n",
              "income_type            0\n",
              "debt                   0\n",
              "total_income        2174\n",
              "purpose                0\n",
              "dtype: int64"
            ]
          },
          "metadata": {},
          "execution_count": 6
        }
      ],
      "source": [
        "data.isna().sum()"
      ]
    },
    {
      "cell_type": "markdown",
      "id": "58b1d213",
      "metadata": {
        "deletable": false,
        "editable": false,
        "id": "58b1d213"
      },
      "source": [
        "Пропущенные значения встречаются в двух столбцах: `days_employed` и `total_income`. \n",
        "\n",
        "Столбец `total_income` хранит данные о доходах. На сумму дохода сильнее всего влияет тип занятости, поэтому заполнить пропуски в этом столбце можно медианным значением по каждому типу из столбца `income_type`. \n",
        "\n",
        "Пропуски в столбце `days_employed` будут обработаны на следующем этапе."
      ]
    },
    {
      "cell_type": "code",
      "execution_count": 7,
      "id": "a6dd2f8b",
      "metadata": {
        "deletable": false,
        "id": "a6dd2f8b"
      },
      "outputs": [],
      "source": [
        "for t in data['income_type'].unique():\n",
        "    data.loc[(data['income_type'] == t) & (data['total_income'].isna()), 'total_income'] = \\\n",
        "    data.loc[(data['income_type'] == t), 'total_income'].median()"
      ]
    },
    {
      "cell_type": "markdown",
      "source": [
        "Проверим результат заполнения пропусков в столбце `total_income`"
      ],
      "metadata": {
        "id": "sn4hJX_kEXbT"
      },
      "id": "sn4hJX_kEXbT"
    },
    {
      "cell_type": "code",
      "execution_count": 8,
      "id": "5ee0c9bf",
      "metadata": {
        "colab": {
          "base_uri": "https://localhost:8080/"
        },
        "id": "5ee0c9bf",
        "outputId": "c71d3e15-e4f1-470e-91c6-bc7d3281083b"
      },
      "outputs": [
        {
          "output_type": "execute_result",
          "data": {
            "text/plain": [
              "children               0\n",
              "days_employed       2174\n",
              "dob_years              0\n",
              "education              0\n",
              "education_id           0\n",
              "family_status          0\n",
              "family_status_id       0\n",
              "gender                 0\n",
              "income_type            0\n",
              "debt                   0\n",
              "total_income           0\n",
              "purpose                0\n",
              "dtype: int64"
            ]
          },
          "metadata": {},
          "execution_count": 8
        }
      ],
      "source": [
        "data.isna().sum()"
      ]
    },
    {
      "cell_type": "markdown",
      "id": "3a3e37d0",
      "metadata": {
        "deletable": false,
        "editable": false,
        "id": "3a3e37d0"
      },
      "source": [
        "### Обработка аномальных значений"
      ]
    },
    {
      "cell_type": "markdown",
      "id": "f74b7d95",
      "metadata": {
        "deletable": false,
        "editable": false,
        "id": "f74b7d95"
      },
      "source": [
        "В столбце `days_employed`(рабочий стаж) встречаются отрицательные значения. Скорее всего это произошло в результате какой-то ошибки, т.к. трудовой стаж не может быть отрицательным. \n",
        "\n",
        "Обработаем значения в этом столбце, заменив все отрицательные значения положительными:"
      ]
    },
    {
      "cell_type": "code",
      "execution_count": 9,
      "id": "532fe735",
      "metadata": {
        "deletable": false,
        "id": "532fe735",
        "colab": {
          "base_uri": "https://localhost:8080/",
          "height": 302
        },
        "outputId": "b6ecaab7-8db0-43e6-cd4a-c3b05cce59d2"
      },
      "outputs": [
        {
          "output_type": "execute_result",
          "data": {
            "text/plain": [
              "   children  days_employed  dob_years education  education_id  \\\n",
              "0         1    8437.673028         42    высшее             0   \n",
              "1         1    4024.803754         36   среднее             1   \n",
              "2         0    5623.422610         33   Среднее             1   \n",
              "3         3    4124.747207         32   среднее             1   \n",
              "4         0  340266.072047         53   среднее             1   \n",
              "\n",
              "      family_status  family_status_id gender income_type  debt   total_income  \\\n",
              "0   женат / замужем                 0      F   сотрудник     0  253875.639453   \n",
              "1   женат / замужем                 0      F   сотрудник     0  112080.014102   \n",
              "2   женат / замужем                 0      M   сотрудник     0  145885.952297   \n",
              "3   женат / замужем                 0      M   сотрудник     0  267628.550329   \n",
              "4  гражданский брак                 1      F   пенсионер     0  158616.077870   \n",
              "\n",
              "                      purpose  \n",
              "0               покупка жилья  \n",
              "1     приобретение автомобиля  \n",
              "2               покупка жилья  \n",
              "3  дополнительное образование  \n",
              "4             сыграть свадьбу  "
            ],
            "text/html": [
              "\n",
              "  <div id=\"df-2746de88-ff27-4b63-9041-0ad08ad03d1c\">\n",
              "    <div class=\"colab-df-container\">\n",
              "      <div>\n",
              "<style scoped>\n",
              "    .dataframe tbody tr th:only-of-type {\n",
              "        vertical-align: middle;\n",
              "    }\n",
              "\n",
              "    .dataframe tbody tr th {\n",
              "        vertical-align: top;\n",
              "    }\n",
              "\n",
              "    .dataframe thead th {\n",
              "        text-align: right;\n",
              "    }\n",
              "</style>\n",
              "<table border=\"1\" class=\"dataframe\">\n",
              "  <thead>\n",
              "    <tr style=\"text-align: right;\">\n",
              "      <th></th>\n",
              "      <th>children</th>\n",
              "      <th>days_employed</th>\n",
              "      <th>dob_years</th>\n",
              "      <th>education</th>\n",
              "      <th>education_id</th>\n",
              "      <th>family_status</th>\n",
              "      <th>family_status_id</th>\n",
              "      <th>gender</th>\n",
              "      <th>income_type</th>\n",
              "      <th>debt</th>\n",
              "      <th>total_income</th>\n",
              "      <th>purpose</th>\n",
              "    </tr>\n",
              "  </thead>\n",
              "  <tbody>\n",
              "    <tr>\n",
              "      <th>0</th>\n",
              "      <td>1</td>\n",
              "      <td>8437.673028</td>\n",
              "      <td>42</td>\n",
              "      <td>высшее</td>\n",
              "      <td>0</td>\n",
              "      <td>женат / замужем</td>\n",
              "      <td>0</td>\n",
              "      <td>F</td>\n",
              "      <td>сотрудник</td>\n",
              "      <td>0</td>\n",
              "      <td>253875.639453</td>\n",
              "      <td>покупка жилья</td>\n",
              "    </tr>\n",
              "    <tr>\n",
              "      <th>1</th>\n",
              "      <td>1</td>\n",
              "      <td>4024.803754</td>\n",
              "      <td>36</td>\n",
              "      <td>среднее</td>\n",
              "      <td>1</td>\n",
              "      <td>женат / замужем</td>\n",
              "      <td>0</td>\n",
              "      <td>F</td>\n",
              "      <td>сотрудник</td>\n",
              "      <td>0</td>\n",
              "      <td>112080.014102</td>\n",
              "      <td>приобретение автомобиля</td>\n",
              "    </tr>\n",
              "    <tr>\n",
              "      <th>2</th>\n",
              "      <td>0</td>\n",
              "      <td>5623.422610</td>\n",
              "      <td>33</td>\n",
              "      <td>Среднее</td>\n",
              "      <td>1</td>\n",
              "      <td>женат / замужем</td>\n",
              "      <td>0</td>\n",
              "      <td>M</td>\n",
              "      <td>сотрудник</td>\n",
              "      <td>0</td>\n",
              "      <td>145885.952297</td>\n",
              "      <td>покупка жилья</td>\n",
              "    </tr>\n",
              "    <tr>\n",
              "      <th>3</th>\n",
              "      <td>3</td>\n",
              "      <td>4124.747207</td>\n",
              "      <td>32</td>\n",
              "      <td>среднее</td>\n",
              "      <td>1</td>\n",
              "      <td>женат / замужем</td>\n",
              "      <td>0</td>\n",
              "      <td>M</td>\n",
              "      <td>сотрудник</td>\n",
              "      <td>0</td>\n",
              "      <td>267628.550329</td>\n",
              "      <td>дополнительное образование</td>\n",
              "    </tr>\n",
              "    <tr>\n",
              "      <th>4</th>\n",
              "      <td>0</td>\n",
              "      <td>340266.072047</td>\n",
              "      <td>53</td>\n",
              "      <td>среднее</td>\n",
              "      <td>1</td>\n",
              "      <td>гражданский брак</td>\n",
              "      <td>1</td>\n",
              "      <td>F</td>\n",
              "      <td>пенсионер</td>\n",
              "      <td>0</td>\n",
              "      <td>158616.077870</td>\n",
              "      <td>сыграть свадьбу</td>\n",
              "    </tr>\n",
              "  </tbody>\n",
              "</table>\n",
              "</div>\n",
              "      <button class=\"colab-df-convert\" onclick=\"convertToInteractive('df-2746de88-ff27-4b63-9041-0ad08ad03d1c')\"\n",
              "              title=\"Convert this dataframe to an interactive table.\"\n",
              "              style=\"display:none;\">\n",
              "        \n",
              "  <svg xmlns=\"http://www.w3.org/2000/svg\" height=\"24px\"viewBox=\"0 0 24 24\"\n",
              "       width=\"24px\">\n",
              "    <path d=\"M0 0h24v24H0V0z\" fill=\"none\"/>\n",
              "    <path d=\"M18.56 5.44l.94 2.06.94-2.06 2.06-.94-2.06-.94-.94-2.06-.94 2.06-2.06.94zm-11 1L8.5 8.5l.94-2.06 2.06-.94-2.06-.94L8.5 2.5l-.94 2.06-2.06.94zm10 10l.94 2.06.94-2.06 2.06-.94-2.06-.94-.94-2.06-.94 2.06-2.06.94z\"/><path d=\"M17.41 7.96l-1.37-1.37c-.4-.4-.92-.59-1.43-.59-.52 0-1.04.2-1.43.59L10.3 9.45l-7.72 7.72c-.78.78-.78 2.05 0 2.83L4 21.41c.39.39.9.59 1.41.59.51 0 1.02-.2 1.41-.59l7.78-7.78 2.81-2.81c.8-.78.8-2.07 0-2.86zM5.41 20L4 18.59l7.72-7.72 1.47 1.35L5.41 20z\"/>\n",
              "  </svg>\n",
              "      </button>\n",
              "      \n",
              "  <style>\n",
              "    .colab-df-container {\n",
              "      display:flex;\n",
              "      flex-wrap:wrap;\n",
              "      gap: 12px;\n",
              "    }\n",
              "\n",
              "    .colab-df-convert {\n",
              "      background-color: #E8F0FE;\n",
              "      border: none;\n",
              "      border-radius: 50%;\n",
              "      cursor: pointer;\n",
              "      display: none;\n",
              "      fill: #1967D2;\n",
              "      height: 32px;\n",
              "      padding: 0 0 0 0;\n",
              "      width: 32px;\n",
              "    }\n",
              "\n",
              "    .colab-df-convert:hover {\n",
              "      background-color: #E2EBFA;\n",
              "      box-shadow: 0px 1px 2px rgba(60, 64, 67, 0.3), 0px 1px 3px 1px rgba(60, 64, 67, 0.15);\n",
              "      fill: #174EA6;\n",
              "    }\n",
              "\n",
              "    [theme=dark] .colab-df-convert {\n",
              "      background-color: #3B4455;\n",
              "      fill: #D2E3FC;\n",
              "    }\n",
              "\n",
              "    [theme=dark] .colab-df-convert:hover {\n",
              "      background-color: #434B5C;\n",
              "      box-shadow: 0px 1px 3px 1px rgba(0, 0, 0, 0.15);\n",
              "      filter: drop-shadow(0px 1px 2px rgba(0, 0, 0, 0.3));\n",
              "      fill: #FFFFFF;\n",
              "    }\n",
              "  </style>\n",
              "\n",
              "      <script>\n",
              "        const buttonEl =\n",
              "          document.querySelector('#df-2746de88-ff27-4b63-9041-0ad08ad03d1c button.colab-df-convert');\n",
              "        buttonEl.style.display =\n",
              "          google.colab.kernel.accessAllowed ? 'block' : 'none';\n",
              "\n",
              "        async function convertToInteractive(key) {\n",
              "          const element = document.querySelector('#df-2746de88-ff27-4b63-9041-0ad08ad03d1c');\n",
              "          const dataTable =\n",
              "            await google.colab.kernel.invokeFunction('convertToInteractive',\n",
              "                                                     [key], {});\n",
              "          if (!dataTable) return;\n",
              "\n",
              "          const docLinkHtml = 'Like what you see? Visit the ' +\n",
              "            '<a target=\"_blank\" href=https://colab.research.google.com/notebooks/data_table.ipynb>data table notebook</a>'\n",
              "            + ' to learn more about interactive tables.';\n",
              "          element.innerHTML = '';\n",
              "          dataTable['output_type'] = 'display_data';\n",
              "          await google.colab.output.renderOutput(dataTable, element);\n",
              "          const docLink = document.createElement('div');\n",
              "          docLink.innerHTML = docLinkHtml;\n",
              "          element.appendChild(docLink);\n",
              "        }\n",
              "      </script>\n",
              "    </div>\n",
              "  </div>\n",
              "  "
            ]
          },
          "metadata": {},
          "execution_count": 9
        }
      ],
      "source": [
        "data['days_employed'] = data['days_employed'].abs()\n",
        "\n",
        "data.head()"
      ]
    },
    {
      "cell_type": "markdown",
      "id": "fa08a07a",
      "metadata": {
        "deletable": false,
        "editable": false,
        "id": "fa08a07a"
      },
      "source": [
        "Вывод медианного значение трудового стажа в днях для каждого типа занятости:"
      ]
    },
    {
      "cell_type": "code",
      "execution_count": 10,
      "id": "787bce2f",
      "metadata": {
        "deletable": false,
        "id": "787bce2f",
        "outputId": "29a0a210-4e17-46ea-9f52-70b5ef560088",
        "colab": {
          "base_uri": "https://localhost:8080/"
        }
      },
      "outputs": [
        {
          "output_type": "execute_result",
          "data": {
            "text/plain": [
              "income_type\n",
              "безработный        366413.652744\n",
              "в декрете            3296.759962\n",
              "госслужащий          2689.368353\n",
              "компаньон            1547.382223\n",
              "пенсионер          365213.306266\n",
              "предприниматель       520.848083\n",
              "сотрудник            1574.202821\n",
              "студент               578.751554\n",
              "Name: days_employed, dtype: float64"
            ]
          },
          "metadata": {},
          "execution_count": 10
        }
      ],
      "source": [
        "data.groupby('income_type')['days_employed'].agg('median')"
      ]
    },
    {
      "cell_type": "markdown",
      "id": "55e561df",
      "metadata": {
        "deletable": false,
        "editable": false,
        "id": "55e561df"
      },
      "source": [
        "У двух типов (безработные и пенсионеры) получились аномально большие значения. Данные столбцы не понадобятся для дальнейшего исследования, оставим данные без изменений."
      ]
    },
    {
      "cell_type": "markdown",
      "id": "7a432174",
      "metadata": {
        "deletable": false,
        "editable": false,
        "id": "7a432174"
      },
      "source": [
        "Вывод перечня уникальных значений столбца `children`:"
      ]
    },
    {
      "cell_type": "code",
      "execution_count": 11,
      "id": "288decb1",
      "metadata": {
        "deletable": false,
        "id": "288decb1",
        "outputId": "b701339d-810c-4f1f-df05-6f1dc7ff49b1",
        "colab": {
          "base_uri": "https://localhost:8080/"
        }
      },
      "outputs": [
        {
          "output_type": "execute_result",
          "data": {
            "text/plain": [
              "array([ 1,  0,  3,  2, -1,  4, 20,  5])"
            ]
          },
          "metadata": {},
          "execution_count": 11
        }
      ],
      "source": [
        "data['children'].unique()"
      ]
    },
    {
      "cell_type": "markdown",
      "source": [
        "В столбце `children` есть два аномальных значения: \"-1\" и \"20\". Проверим сколько раз встречаются аномальные значения в данных:"
      ],
      "metadata": {
        "id": "XjcMTMK4GDbR"
      },
      "id": "XjcMTMK4GDbR"
    },
    {
      "cell_type": "code",
      "source": [
        "data.groupby('children')['family_status_id'].agg('count')\n"
      ],
      "metadata": {
        "colab": {
          "base_uri": "https://localhost:8080/"
        },
        "id": "PzwHWnJGGI1T",
        "outputId": "4e24b7e1-e363-4b5a-bb5b-eb08ae525d72"
      },
      "id": "PzwHWnJGGI1T",
      "execution_count": 12,
      "outputs": [
        {
          "output_type": "execute_result",
          "data": {
            "text/plain": [
              "children\n",
              "-1        47\n",
              " 0     14149\n",
              " 1      4818\n",
              " 2      2055\n",
              " 3       330\n",
              " 4        41\n",
              " 5         9\n",
              " 20       76\n",
              "Name: family_status_id, dtype: int64"
            ]
          },
          "metadata": {},
          "execution_count": 12
        }
      ]
    },
    {
      "cell_type": "markdown",
      "id": "16b7df8e",
      "metadata": {
        "deletable": false,
        "editable": false,
        "id": "16b7df8e"
      },
      "source": [
        "Количество столбцов с аномальными значениями составляют менее 1%, Удаленние данных строк не окажет существенного влияния на результаты исследования. "
      ]
    },
    {
      "cell_type": "code",
      "execution_count": 13,
      "id": "d5cdb060",
      "metadata": {
        "deletable": false,
        "id": "d5cdb060",
        "colab": {
          "base_uri": "https://localhost:8080/"
        },
        "outputId": "077ab438-b1e1-4047-d608-311e253b6d27"
      },
      "outputs": [
        {
          "output_type": "execute_result",
          "data": {
            "text/plain": [
              "children\n",
              "0    14149\n",
              "1     4818\n",
              "2     2055\n",
              "3      330\n",
              "4       41\n",
              "5        9\n",
              "Name: family_status_id, dtype: int64"
            ]
          },
          "metadata": {},
          "execution_count": 13
        }
      ],
      "source": [
        "data = data[(data['children'] != -1) & (data['children'] != 20)] # удаление строк с аномальными значениями\n",
        "\n",
        "data.groupby('children')['family_status_id'].agg('count') # проверка результата удаления аномалий"
      ]
    },
    {
      "cell_type": "markdown",
      "source": [
        "**Обработка пропусков в столбце `days_employed`**\n",
        "\n",
        "Заполним пропуски медианными значениями для каждого типа занятости `income_type`\n",
        "\n"
      ],
      "metadata": {
        "id": "gqXLj18aIU0m"
      },
      "id": "gqXLj18aIU0m"
    },
    {
      "cell_type": "code",
      "execution_count": 14,
      "id": "c63ad870",
      "metadata": {
        "deletable": false,
        "id": "c63ad870"
      },
      "outputs": [],
      "source": [
        "for t in data['income_type'].unique():\n",
        "    data.loc[(data['income_type'] == t) & (data['days_employed'].isna()), 'days_employed'] = \\\n",
        "    data.loc[(data['income_type'] == t), 'days_employed'].median()"
      ]
    },
    {
      "cell_type": "markdown",
      "id": "beb5c0a4",
      "metadata": {
        "deletable": false,
        "editable": false,
        "id": "beb5c0a4"
      },
      "source": [
        "Вывод пропущенных значений для проверки результатов их обработки: "
      ]
    },
    {
      "cell_type": "code",
      "execution_count": 15,
      "id": "f8545dc8",
      "metadata": {
        "deletable": false,
        "id": "f8545dc8",
        "outputId": "5bed0c04-30b1-4518-ee34-f5ec6bf63bf3",
        "colab": {
          "base_uri": "https://localhost:8080/"
        }
      },
      "outputs": [
        {
          "output_type": "execute_result",
          "data": {
            "text/plain": [
              "children            0\n",
              "days_employed       0\n",
              "dob_years           0\n",
              "education           0\n",
              "education_id        0\n",
              "family_status       0\n",
              "family_status_id    0\n",
              "gender              0\n",
              "income_type         0\n",
              "debt                0\n",
              "total_income        0\n",
              "purpose             0\n",
              "dtype: int64"
            ]
          },
          "metadata": {},
          "execution_count": 15
        }
      ],
      "source": [
        "data.isna().sum()"
      ]
    },
    {
      "cell_type": "markdown",
      "id": "9f9b494c",
      "metadata": {
        "deletable": false,
        "editable": false,
        "id": "9f9b494c"
      },
      "source": [
        "### Изменение типов данных"
      ]
    },
    {
      "cell_type": "markdown",
      "id": "2f7429fc",
      "metadata": {
        "deletable": false,
        "editable": false,
        "id": "2f7429fc"
      },
      "source": [
        "Замена вещественного типа данных в столбце `total_income` на целочисленный с помощью метода `astype()`:"
      ]
    },
    {
      "cell_type": "code",
      "execution_count": 16,
      "id": "28ceb6fa",
      "metadata": {
        "deletable": false,
        "id": "28ceb6fa"
      },
      "outputs": [],
      "source": [
        "data['total_income'] = data['total_income'].astype(int)"
      ]
    },
    {
      "cell_type": "markdown",
      "id": "e2b4eecb",
      "metadata": {
        "deletable": false,
        "editable": false,
        "id": "e2b4eecb"
      },
      "source": [
        "### Обработка дубликатов"
      ]
    },
    {
      "cell_type": "markdown",
      "id": "2e12e0da",
      "metadata": {
        "deletable": false,
        "editable": false,
        "id": "2e12e0da"
      },
      "source": [
        "В столбце `education` встречаются одни и те же значения, но записанные по-разному: с использованием заглавных и строчных букв. Приведем их к нижнему регистру:"
      ]
    },
    {
      "cell_type": "code",
      "execution_count": 17,
      "id": "8de54a93",
      "metadata": {
        "deletable": false,
        "id": "8de54a93"
      },
      "outputs": [],
      "source": [
        "data['education'] = data['education'].str.lower()"
      ]
    },
    {
      "cell_type": "markdown",
      "id": "df9e4bab",
      "metadata": {
        "deletable": false,
        "editable": false,
        "id": "df9e4bab"
      },
      "source": [
        "Выведем на экран количество строк-дубликатов в данных:"
      ]
    },
    {
      "cell_type": "code",
      "execution_count": 18,
      "id": "0b28798e",
      "metadata": {
        "deletable": false,
        "id": "0b28798e",
        "outputId": "da44f888-3895-46c9-ce55-a0082f64b30d",
        "colab": {
          "base_uri": "https://localhost:8080/"
        }
      },
      "outputs": [
        {
          "output_type": "execute_result",
          "data": {
            "text/plain": [
              "71"
            ]
          },
          "metadata": {},
          "execution_count": 18
        }
      ],
      "source": [
        "data.duplicated().sum()"
      ]
    },
    {
      "cell_type": "markdown",
      "source": [
        "Количество дубликатов составляет менее одного процента и не оказывает существенного влияния на результаты исследования. Удалим дубликаты:"
      ],
      "metadata": {
        "id": "xfwcq0gUKCCL"
      },
      "id": "xfwcq0gUKCCL"
    },
    {
      "cell_type": "code",
      "execution_count": 19,
      "id": "d7780b38",
      "metadata": {
        "deletable": false,
        "id": "d7780b38",
        "colab": {
          "base_uri": "https://localhost:8080/"
        },
        "outputId": "4d26baa4-bcb0-40ee-dd5a-eeb8bd599122"
      },
      "outputs": [
        {
          "output_type": "execute_result",
          "data": {
            "text/plain": [
              "0"
            ]
          },
          "metadata": {},
          "execution_count": 19
        }
      ],
      "source": [
        "data = data.drop_duplicates()\n",
        "\n",
        "data.duplicated().sum() # проверка удаления дубликатов"
      ]
    },
    {
      "cell_type": "markdown",
      "id": "20441f14",
      "metadata": {
        "deletable": false,
        "editable": false,
        "id": "20441f14"
      },
      "source": [
        "### Категоризация данных"
      ]
    },
    {
      "cell_type": "markdown",
      "id": "5ed2a09d",
      "metadata": {
        "deletable": false,
        "editable": false,
        "id": "5ed2a09d"
      },
      "source": [
        "Присвоение категорий в зависимости от уровня дохода: \n",
        "\n",
        "- 0–30000 — `'E'`;\n",
        "- 30001–50000 — `'D'`;\n",
        "- 50001–200000 — `'C'`;\n",
        "- 200001–1000000 — `'B'`;\n",
        "- 1000001 и выше — `'A'`.\n",
        "\n",
        "Создание функций для расчета и присвоения категорий:"
      ]
    },
    {
      "cell_type": "code",
      "execution_count": 20,
      "id": "d141723a",
      "metadata": {
        "deletable": false,
        "id": "d141723a"
      },
      "outputs": [],
      "source": [
        "def categorize_income(income):\n",
        "    try:\n",
        "        if 0 <= income <= 30000:\n",
        "            return 'E'\n",
        "        elif 30001 <= income <= 50000:\n",
        "            return 'D'\n",
        "        elif 50001 <= income <= 200000:\n",
        "            return 'C'\n",
        "        elif 200001 <= income <= 1000000:\n",
        "            return 'B'\n",
        "        elif income >= 1000001:\n",
        "            return 'A'\n",
        "    except:\n",
        "        pass"
      ]
    },
    {
      "cell_type": "markdown",
      "source": [
        "Применение функции к таблице для присвоения категорий"
      ],
      "metadata": {
        "id": "BQZ9zzRxKtmN"
      },
      "id": "BQZ9zzRxKtmN"
    },
    {
      "cell_type": "code",
      "execution_count": 21,
      "id": "085b2f23",
      "metadata": {
        "deletable": false,
        "id": "085b2f23",
        "colab": {
          "base_uri": "https://localhost:8080/",
          "height": 357
        },
        "outputId": "9be47b95-7c38-4984-8224-bc9807afd3f9"
      },
      "outputs": [
        {
          "output_type": "execute_result",
          "data": {
            "text/plain": [
              "   children  days_employed  dob_years education  education_id  \\\n",
              "0         1    8437.673028         42    высшее             0   \n",
              "1         1    4024.803754         36   среднее             1   \n",
              "2         0    5623.422610         33   среднее             1   \n",
              "3         3    4124.747207         32   среднее             1   \n",
              "4         0  340266.072047         53   среднее             1   \n",
              "\n",
              "      family_status  family_status_id gender income_type  debt  total_income  \\\n",
              "0   женат / замужем                 0      F   сотрудник     0        253875   \n",
              "1   женат / замужем                 0      F   сотрудник     0        112080   \n",
              "2   женат / замужем                 0      M   сотрудник     0        145885   \n",
              "3   женат / замужем                 0      M   сотрудник     0        267628   \n",
              "4  гражданский брак                 1      F   пенсионер     0        158616   \n",
              "\n",
              "                      purpose total_income_category  \n",
              "0               покупка жилья                     B  \n",
              "1     приобретение автомобиля                     C  \n",
              "2               покупка жилья                     C  \n",
              "3  дополнительное образование                     B  \n",
              "4             сыграть свадьбу                     C  "
            ],
            "text/html": [
              "\n",
              "  <div id=\"df-96b4e481-e49b-4fd2-8ae5-0aabae6abea0\">\n",
              "    <div class=\"colab-df-container\">\n",
              "      <div>\n",
              "<style scoped>\n",
              "    .dataframe tbody tr th:only-of-type {\n",
              "        vertical-align: middle;\n",
              "    }\n",
              "\n",
              "    .dataframe tbody tr th {\n",
              "        vertical-align: top;\n",
              "    }\n",
              "\n",
              "    .dataframe thead th {\n",
              "        text-align: right;\n",
              "    }\n",
              "</style>\n",
              "<table border=\"1\" class=\"dataframe\">\n",
              "  <thead>\n",
              "    <tr style=\"text-align: right;\">\n",
              "      <th></th>\n",
              "      <th>children</th>\n",
              "      <th>days_employed</th>\n",
              "      <th>dob_years</th>\n",
              "      <th>education</th>\n",
              "      <th>education_id</th>\n",
              "      <th>family_status</th>\n",
              "      <th>family_status_id</th>\n",
              "      <th>gender</th>\n",
              "      <th>income_type</th>\n",
              "      <th>debt</th>\n",
              "      <th>total_income</th>\n",
              "      <th>purpose</th>\n",
              "      <th>total_income_category</th>\n",
              "    </tr>\n",
              "  </thead>\n",
              "  <tbody>\n",
              "    <tr>\n",
              "      <th>0</th>\n",
              "      <td>1</td>\n",
              "      <td>8437.673028</td>\n",
              "      <td>42</td>\n",
              "      <td>высшее</td>\n",
              "      <td>0</td>\n",
              "      <td>женат / замужем</td>\n",
              "      <td>0</td>\n",
              "      <td>F</td>\n",
              "      <td>сотрудник</td>\n",
              "      <td>0</td>\n",
              "      <td>253875</td>\n",
              "      <td>покупка жилья</td>\n",
              "      <td>B</td>\n",
              "    </tr>\n",
              "    <tr>\n",
              "      <th>1</th>\n",
              "      <td>1</td>\n",
              "      <td>4024.803754</td>\n",
              "      <td>36</td>\n",
              "      <td>среднее</td>\n",
              "      <td>1</td>\n",
              "      <td>женат / замужем</td>\n",
              "      <td>0</td>\n",
              "      <td>F</td>\n",
              "      <td>сотрудник</td>\n",
              "      <td>0</td>\n",
              "      <td>112080</td>\n",
              "      <td>приобретение автомобиля</td>\n",
              "      <td>C</td>\n",
              "    </tr>\n",
              "    <tr>\n",
              "      <th>2</th>\n",
              "      <td>0</td>\n",
              "      <td>5623.422610</td>\n",
              "      <td>33</td>\n",
              "      <td>среднее</td>\n",
              "      <td>1</td>\n",
              "      <td>женат / замужем</td>\n",
              "      <td>0</td>\n",
              "      <td>M</td>\n",
              "      <td>сотрудник</td>\n",
              "      <td>0</td>\n",
              "      <td>145885</td>\n",
              "      <td>покупка жилья</td>\n",
              "      <td>C</td>\n",
              "    </tr>\n",
              "    <tr>\n",
              "      <th>3</th>\n",
              "      <td>3</td>\n",
              "      <td>4124.747207</td>\n",
              "      <td>32</td>\n",
              "      <td>среднее</td>\n",
              "      <td>1</td>\n",
              "      <td>женат / замужем</td>\n",
              "      <td>0</td>\n",
              "      <td>M</td>\n",
              "      <td>сотрудник</td>\n",
              "      <td>0</td>\n",
              "      <td>267628</td>\n",
              "      <td>дополнительное образование</td>\n",
              "      <td>B</td>\n",
              "    </tr>\n",
              "    <tr>\n",
              "      <th>4</th>\n",
              "      <td>0</td>\n",
              "      <td>340266.072047</td>\n",
              "      <td>53</td>\n",
              "      <td>среднее</td>\n",
              "      <td>1</td>\n",
              "      <td>гражданский брак</td>\n",
              "      <td>1</td>\n",
              "      <td>F</td>\n",
              "      <td>пенсионер</td>\n",
              "      <td>0</td>\n",
              "      <td>158616</td>\n",
              "      <td>сыграть свадьбу</td>\n",
              "      <td>C</td>\n",
              "    </tr>\n",
              "  </tbody>\n",
              "</table>\n",
              "</div>\n",
              "      <button class=\"colab-df-convert\" onclick=\"convertToInteractive('df-96b4e481-e49b-4fd2-8ae5-0aabae6abea0')\"\n",
              "              title=\"Convert this dataframe to an interactive table.\"\n",
              "              style=\"display:none;\">\n",
              "        \n",
              "  <svg xmlns=\"http://www.w3.org/2000/svg\" height=\"24px\"viewBox=\"0 0 24 24\"\n",
              "       width=\"24px\">\n",
              "    <path d=\"M0 0h24v24H0V0z\" fill=\"none\"/>\n",
              "    <path d=\"M18.56 5.44l.94 2.06.94-2.06 2.06-.94-2.06-.94-.94-2.06-.94 2.06-2.06.94zm-11 1L8.5 8.5l.94-2.06 2.06-.94-2.06-.94L8.5 2.5l-.94 2.06-2.06.94zm10 10l.94 2.06.94-2.06 2.06-.94-2.06-.94-.94-2.06-.94 2.06-2.06.94z\"/><path d=\"M17.41 7.96l-1.37-1.37c-.4-.4-.92-.59-1.43-.59-.52 0-1.04.2-1.43.59L10.3 9.45l-7.72 7.72c-.78.78-.78 2.05 0 2.83L4 21.41c.39.39.9.59 1.41.59.51 0 1.02-.2 1.41-.59l7.78-7.78 2.81-2.81c.8-.78.8-2.07 0-2.86zM5.41 20L4 18.59l7.72-7.72 1.47 1.35L5.41 20z\"/>\n",
              "  </svg>\n",
              "      </button>\n",
              "      \n",
              "  <style>\n",
              "    .colab-df-container {\n",
              "      display:flex;\n",
              "      flex-wrap:wrap;\n",
              "      gap: 12px;\n",
              "    }\n",
              "\n",
              "    .colab-df-convert {\n",
              "      background-color: #E8F0FE;\n",
              "      border: none;\n",
              "      border-radius: 50%;\n",
              "      cursor: pointer;\n",
              "      display: none;\n",
              "      fill: #1967D2;\n",
              "      height: 32px;\n",
              "      padding: 0 0 0 0;\n",
              "      width: 32px;\n",
              "    }\n",
              "\n",
              "    .colab-df-convert:hover {\n",
              "      background-color: #E2EBFA;\n",
              "      box-shadow: 0px 1px 2px rgba(60, 64, 67, 0.3), 0px 1px 3px 1px rgba(60, 64, 67, 0.15);\n",
              "      fill: #174EA6;\n",
              "    }\n",
              "\n",
              "    [theme=dark] .colab-df-convert {\n",
              "      background-color: #3B4455;\n",
              "      fill: #D2E3FC;\n",
              "    }\n",
              "\n",
              "    [theme=dark] .colab-df-convert:hover {\n",
              "      background-color: #434B5C;\n",
              "      box-shadow: 0px 1px 3px 1px rgba(0, 0, 0, 0.15);\n",
              "      filter: drop-shadow(0px 1px 2px rgba(0, 0, 0, 0.3));\n",
              "      fill: #FFFFFF;\n",
              "    }\n",
              "  </style>\n",
              "\n",
              "      <script>\n",
              "        const buttonEl =\n",
              "          document.querySelector('#df-96b4e481-e49b-4fd2-8ae5-0aabae6abea0 button.colab-df-convert');\n",
              "        buttonEl.style.display =\n",
              "          google.colab.kernel.accessAllowed ? 'block' : 'none';\n",
              "\n",
              "        async function convertToInteractive(key) {\n",
              "          const element = document.querySelector('#df-96b4e481-e49b-4fd2-8ae5-0aabae6abea0');\n",
              "          const dataTable =\n",
              "            await google.colab.kernel.invokeFunction('convertToInteractive',\n",
              "                                                     [key], {});\n",
              "          if (!dataTable) return;\n",
              "\n",
              "          const docLinkHtml = 'Like what you see? Visit the ' +\n",
              "            '<a target=\"_blank\" href=https://colab.research.google.com/notebooks/data_table.ipynb>data table notebook</a>'\n",
              "            + ' to learn more about interactive tables.';\n",
              "          element.innerHTML = '';\n",
              "          dataTable['output_type'] = 'display_data';\n",
              "          await google.colab.output.renderOutput(dataTable, element);\n",
              "          const docLink = document.createElement('div');\n",
              "          docLink.innerHTML = docLinkHtml;\n",
              "          element.appendChild(docLink);\n",
              "        }\n",
              "      </script>\n",
              "    </div>\n",
              "  </div>\n",
              "  "
            ]
          },
          "metadata": {},
          "execution_count": 21
        }
      ],
      "source": [
        "data['total_income_category'] = data['total_income'].apply(categorize_income)\n",
        "\n",
        "data.head()"
      ]
    },
    {
      "cell_type": "markdown",
      "id": "17d62237",
      "metadata": {
        "deletable": false,
        "editable": false,
        "id": "17d62237"
      },
      "source": [
        "Вывод уникальных целей взятия кредита из столбца `purpose`:"
      ]
    },
    {
      "cell_type": "code",
      "execution_count": 22,
      "id": "8abb7ff8",
      "metadata": {
        "deletable": false,
        "id": "8abb7ff8",
        "outputId": "8a257e1a-c250-4d5e-e680-d28e17fe27ce",
        "colab": {
          "base_uri": "https://localhost:8080/"
        }
      },
      "outputs": [
        {
          "output_type": "execute_result",
          "data": {
            "text/plain": [
              "array(['покупка жилья', 'приобретение автомобиля',\n",
              "       'дополнительное образование', 'сыграть свадьбу',\n",
              "       'операции с жильем', 'образование', 'на проведение свадьбы',\n",
              "       'покупка жилья для семьи', 'покупка недвижимости',\n",
              "       'покупка коммерческой недвижимости', 'покупка жилой недвижимости',\n",
              "       'строительство собственной недвижимости', 'недвижимость',\n",
              "       'строительство недвижимости', 'на покупку подержанного автомобиля',\n",
              "       'на покупку своего автомобиля',\n",
              "       'операции с коммерческой недвижимостью',\n",
              "       'строительство жилой недвижимости', 'жилье',\n",
              "       'операции со своей недвижимостью', 'автомобили',\n",
              "       'заняться образованием', 'сделка с подержанным автомобилем',\n",
              "       'получение образования', 'автомобиль', 'свадьба',\n",
              "       'получение дополнительного образования', 'покупка своего жилья',\n",
              "       'операции с недвижимостью', 'получение высшего образования',\n",
              "       'свой автомобиль', 'сделка с автомобилем',\n",
              "       'профильное образование', 'высшее образование',\n",
              "       'покупка жилья для сдачи', 'на покупку автомобиля', 'ремонт жилью',\n",
              "       'заняться высшим образованием'], dtype=object)"
            ]
          },
          "metadata": {},
          "execution_count": 22
        }
      ],
      "source": [
        "data['purpose'].unique()"
      ]
    },
    {
      "cell_type": "markdown",
      "id": "a6e0ebbb",
      "metadata": {
        "deletable": false,
        "editable": false,
        "id": "a6e0ebbb"
      },
      "source": [
        "Создание функцит, которая на основании данных из столбца `purpose` сформирует новый столбец `purpose_category`, в который войдут следующие категории:\n",
        "\n",
        "- `'операции с автомобилем'`,\n",
        "- `'операции с недвижимостью'`,\n",
        "- `'проведение свадьбы'`,\n",
        "- `'получение образования'`."
      ]
    },
    {
      "cell_type": "code",
      "execution_count": 23,
      "id": "a50996ad",
      "metadata": {
        "deletable": false,
        "id": "a50996ad"
      },
      "outputs": [],
      "source": [
        "def categorize_purpose(row):\n",
        "    try:\n",
        "        if 'автом' in row:\n",
        "            return 'операции с автомобилем'\n",
        "        elif 'жил' in row or 'недвиж' in row:\n",
        "            return 'операции с недвижимостью'\n",
        "        elif 'свад' in row:\n",
        "            return 'проведение свадьбы'\n",
        "        elif 'образов' in row:\n",
        "            return 'получение образования'\n",
        "    except:\n",
        "        return 'нет категории'"
      ]
    },
    {
      "cell_type": "markdown",
      "source": [
        "Применение функции к таблице для присвоения категорий"
      ],
      "metadata": {
        "id": "BR5FWQb-MCzc"
      },
      "id": "BR5FWQb-MCzc"
    },
    {
      "cell_type": "code",
      "execution_count": 24,
      "id": "16a92965",
      "metadata": {
        "deletable": false,
        "id": "16a92965",
        "colab": {
          "base_uri": "https://localhost:8080/",
          "height": 357
        },
        "outputId": "b52261c2-c15c-4fba-bbfa-b58283c17657"
      },
      "outputs": [
        {
          "output_type": "execute_result",
          "data": {
            "text/plain": [
              "   children  days_employed  dob_years education  education_id  \\\n",
              "0         1    8437.673028         42    высшее             0   \n",
              "1         1    4024.803754         36   среднее             1   \n",
              "2         0    5623.422610         33   среднее             1   \n",
              "3         3    4124.747207         32   среднее             1   \n",
              "4         0  340266.072047         53   среднее             1   \n",
              "\n",
              "      family_status  family_status_id gender income_type  debt  total_income  \\\n",
              "0   женат / замужем                 0      F   сотрудник     0        253875   \n",
              "1   женат / замужем                 0      F   сотрудник     0        112080   \n",
              "2   женат / замужем                 0      M   сотрудник     0        145885   \n",
              "3   женат / замужем                 0      M   сотрудник     0        267628   \n",
              "4  гражданский брак                 1      F   пенсионер     0        158616   \n",
              "\n",
              "                      purpose total_income_category          purpose_category  \n",
              "0               покупка жилья                     B  операции с недвижимостью  \n",
              "1     приобретение автомобиля                     C    операции с автомобилем  \n",
              "2               покупка жилья                     C  операции с недвижимостью  \n",
              "3  дополнительное образование                     B     получение образования  \n",
              "4             сыграть свадьбу                     C        проведение свадьбы  "
            ],
            "text/html": [
              "\n",
              "  <div id=\"df-90264abb-2679-4277-a720-9505deba530f\">\n",
              "    <div class=\"colab-df-container\">\n",
              "      <div>\n",
              "<style scoped>\n",
              "    .dataframe tbody tr th:only-of-type {\n",
              "        vertical-align: middle;\n",
              "    }\n",
              "\n",
              "    .dataframe tbody tr th {\n",
              "        vertical-align: top;\n",
              "    }\n",
              "\n",
              "    .dataframe thead th {\n",
              "        text-align: right;\n",
              "    }\n",
              "</style>\n",
              "<table border=\"1\" class=\"dataframe\">\n",
              "  <thead>\n",
              "    <tr style=\"text-align: right;\">\n",
              "      <th></th>\n",
              "      <th>children</th>\n",
              "      <th>days_employed</th>\n",
              "      <th>dob_years</th>\n",
              "      <th>education</th>\n",
              "      <th>education_id</th>\n",
              "      <th>family_status</th>\n",
              "      <th>family_status_id</th>\n",
              "      <th>gender</th>\n",
              "      <th>income_type</th>\n",
              "      <th>debt</th>\n",
              "      <th>total_income</th>\n",
              "      <th>purpose</th>\n",
              "      <th>total_income_category</th>\n",
              "      <th>purpose_category</th>\n",
              "    </tr>\n",
              "  </thead>\n",
              "  <tbody>\n",
              "    <tr>\n",
              "      <th>0</th>\n",
              "      <td>1</td>\n",
              "      <td>8437.673028</td>\n",
              "      <td>42</td>\n",
              "      <td>высшее</td>\n",
              "      <td>0</td>\n",
              "      <td>женат / замужем</td>\n",
              "      <td>0</td>\n",
              "      <td>F</td>\n",
              "      <td>сотрудник</td>\n",
              "      <td>0</td>\n",
              "      <td>253875</td>\n",
              "      <td>покупка жилья</td>\n",
              "      <td>B</td>\n",
              "      <td>операции с недвижимостью</td>\n",
              "    </tr>\n",
              "    <tr>\n",
              "      <th>1</th>\n",
              "      <td>1</td>\n",
              "      <td>4024.803754</td>\n",
              "      <td>36</td>\n",
              "      <td>среднее</td>\n",
              "      <td>1</td>\n",
              "      <td>женат / замужем</td>\n",
              "      <td>0</td>\n",
              "      <td>F</td>\n",
              "      <td>сотрудник</td>\n",
              "      <td>0</td>\n",
              "      <td>112080</td>\n",
              "      <td>приобретение автомобиля</td>\n",
              "      <td>C</td>\n",
              "      <td>операции с автомобилем</td>\n",
              "    </tr>\n",
              "    <tr>\n",
              "      <th>2</th>\n",
              "      <td>0</td>\n",
              "      <td>5623.422610</td>\n",
              "      <td>33</td>\n",
              "      <td>среднее</td>\n",
              "      <td>1</td>\n",
              "      <td>женат / замужем</td>\n",
              "      <td>0</td>\n",
              "      <td>M</td>\n",
              "      <td>сотрудник</td>\n",
              "      <td>0</td>\n",
              "      <td>145885</td>\n",
              "      <td>покупка жилья</td>\n",
              "      <td>C</td>\n",
              "      <td>операции с недвижимостью</td>\n",
              "    </tr>\n",
              "    <tr>\n",
              "      <th>3</th>\n",
              "      <td>3</td>\n",
              "      <td>4124.747207</td>\n",
              "      <td>32</td>\n",
              "      <td>среднее</td>\n",
              "      <td>1</td>\n",
              "      <td>женат / замужем</td>\n",
              "      <td>0</td>\n",
              "      <td>M</td>\n",
              "      <td>сотрудник</td>\n",
              "      <td>0</td>\n",
              "      <td>267628</td>\n",
              "      <td>дополнительное образование</td>\n",
              "      <td>B</td>\n",
              "      <td>получение образования</td>\n",
              "    </tr>\n",
              "    <tr>\n",
              "      <th>4</th>\n",
              "      <td>0</td>\n",
              "      <td>340266.072047</td>\n",
              "      <td>53</td>\n",
              "      <td>среднее</td>\n",
              "      <td>1</td>\n",
              "      <td>гражданский брак</td>\n",
              "      <td>1</td>\n",
              "      <td>F</td>\n",
              "      <td>пенсионер</td>\n",
              "      <td>0</td>\n",
              "      <td>158616</td>\n",
              "      <td>сыграть свадьбу</td>\n",
              "      <td>C</td>\n",
              "      <td>проведение свадьбы</td>\n",
              "    </tr>\n",
              "  </tbody>\n",
              "</table>\n",
              "</div>\n",
              "      <button class=\"colab-df-convert\" onclick=\"convertToInteractive('df-90264abb-2679-4277-a720-9505deba530f')\"\n",
              "              title=\"Convert this dataframe to an interactive table.\"\n",
              "              style=\"display:none;\">\n",
              "        \n",
              "  <svg xmlns=\"http://www.w3.org/2000/svg\" height=\"24px\"viewBox=\"0 0 24 24\"\n",
              "       width=\"24px\">\n",
              "    <path d=\"M0 0h24v24H0V0z\" fill=\"none\"/>\n",
              "    <path d=\"M18.56 5.44l.94 2.06.94-2.06 2.06-.94-2.06-.94-.94-2.06-.94 2.06-2.06.94zm-11 1L8.5 8.5l.94-2.06 2.06-.94-2.06-.94L8.5 2.5l-.94 2.06-2.06.94zm10 10l.94 2.06.94-2.06 2.06-.94-2.06-.94-.94-2.06-.94 2.06-2.06.94z\"/><path d=\"M17.41 7.96l-1.37-1.37c-.4-.4-.92-.59-1.43-.59-.52 0-1.04.2-1.43.59L10.3 9.45l-7.72 7.72c-.78.78-.78 2.05 0 2.83L4 21.41c.39.39.9.59 1.41.59.51 0 1.02-.2 1.41-.59l7.78-7.78 2.81-2.81c.8-.78.8-2.07 0-2.86zM5.41 20L4 18.59l7.72-7.72 1.47 1.35L5.41 20z\"/>\n",
              "  </svg>\n",
              "      </button>\n",
              "      \n",
              "  <style>\n",
              "    .colab-df-container {\n",
              "      display:flex;\n",
              "      flex-wrap:wrap;\n",
              "      gap: 12px;\n",
              "    }\n",
              "\n",
              "    .colab-df-convert {\n",
              "      background-color: #E8F0FE;\n",
              "      border: none;\n",
              "      border-radius: 50%;\n",
              "      cursor: pointer;\n",
              "      display: none;\n",
              "      fill: #1967D2;\n",
              "      height: 32px;\n",
              "      padding: 0 0 0 0;\n",
              "      width: 32px;\n",
              "    }\n",
              "\n",
              "    .colab-df-convert:hover {\n",
              "      background-color: #E2EBFA;\n",
              "      box-shadow: 0px 1px 2px rgba(60, 64, 67, 0.3), 0px 1px 3px 1px rgba(60, 64, 67, 0.15);\n",
              "      fill: #174EA6;\n",
              "    }\n",
              "\n",
              "    [theme=dark] .colab-df-convert {\n",
              "      background-color: #3B4455;\n",
              "      fill: #D2E3FC;\n",
              "    }\n",
              "\n",
              "    [theme=dark] .colab-df-convert:hover {\n",
              "      background-color: #434B5C;\n",
              "      box-shadow: 0px 1px 3px 1px rgba(0, 0, 0, 0.15);\n",
              "      filter: drop-shadow(0px 1px 2px rgba(0, 0, 0, 0.3));\n",
              "      fill: #FFFFFF;\n",
              "    }\n",
              "  </style>\n",
              "\n",
              "      <script>\n",
              "        const buttonEl =\n",
              "          document.querySelector('#df-90264abb-2679-4277-a720-9505deba530f button.colab-df-convert');\n",
              "        buttonEl.style.display =\n",
              "          google.colab.kernel.accessAllowed ? 'block' : 'none';\n",
              "\n",
              "        async function convertToInteractive(key) {\n",
              "          const element = document.querySelector('#df-90264abb-2679-4277-a720-9505deba530f');\n",
              "          const dataTable =\n",
              "            await google.colab.kernel.invokeFunction('convertToInteractive',\n",
              "                                                     [key], {});\n",
              "          if (!dataTable) return;\n",
              "\n",
              "          const docLinkHtml = 'Like what you see? Visit the ' +\n",
              "            '<a target=\"_blank\" href=https://colab.research.google.com/notebooks/data_table.ipynb>data table notebook</a>'\n",
              "            + ' to learn more about interactive tables.';\n",
              "          element.innerHTML = '';\n",
              "          dataTable['output_type'] = 'display_data';\n",
              "          await google.colab.output.renderOutput(dataTable, element);\n",
              "          const docLink = document.createElement('div');\n",
              "          docLink.innerHTML = docLinkHtml;\n",
              "          element.appendChild(docLink);\n",
              "        }\n",
              "      </script>\n",
              "    </div>\n",
              "  </div>\n",
              "  "
            ]
          },
          "metadata": {},
          "execution_count": 24
        }
      ],
      "source": [
        "data['purpose_category'] = data['purpose'].apply(categorize_purpose)\n",
        "\n",
        "data.head()"
      ]
    },
    {
      "cell_type": "markdown",
      "source": [
        "В рамках предобработки обнаружены три проблемы в данных:\n",
        "\n",
        "* нарушения в стиле заголовков,\n",
        "* пропущенные значения,\n",
        "* присутствуют аномальные значения\n",
        "* дубликаты — явные и неявные.\n",
        "\n",
        "Для устранения проблем было выполнено следующее:\n",
        "\n",
        "* испралены заголовки, чтобы упростить работу с таблицей,\n",
        "пропущенные значения заменены на 'unknown',\n",
        "* удалены явные и обработаны неявные дубликаты.\n",
        "* изменен тип данных в столбце `total_income` на целочисленный\n",
        "* пропуски заполнены медивнными значениями\n",
        "* обработаны аномальные значения\n",
        "* добавлены новые столбцы для разбиения клиентов по категориям в зависимости от уровня дохода и цели кредита."
      ],
      "metadata": {
        "id": "xEoRRb-A0p6F"
      },
      "id": "xEoRRb-A0p6F"
    },
    {
      "cell_type": "markdown",
      "id": "cbcb38a0",
      "metadata": {
        "deletable": false,
        "editable": false,
        "id": "cbcb38a0"
      },
      "source": [
        "### Исследовательский аналих данных"
      ]
    },
    {
      "cell_type": "markdown",
      "id": "57937a70",
      "metadata": {
        "deletable": false,
        "editable": false,
        "id": "57937a70"
      },
      "source": [
        "#### Анализ взаимосвязи между количеством детей и возвратом кредита в срок.\n"
      ]
    },
    {
      "cell_type": "code",
      "source": [
        "# группировка количества кредитов и количества просрочек по количеству детей\n",
        "table_children_research = (data.groupby('children')['debt']\n",
        "                           .agg(credits = ('count'), credits_debt = ('sum'))\n",
        "                           .sort_values(by='credits', ascending=False).reset_index())\n",
        "\n",
        "# вычисление доли просрочек от общего числа кредитов\n",
        "table_children_research['credits_share'] = round(table_children_research['credits_debt']/table_children_research['credits']*100, 2)\n",
        "\n",
        "# вывод итоговой таблицы\n",
        "table_children_research"
      ],
      "metadata": {
        "colab": {
          "base_uri": "https://localhost:8080/",
          "height": 238
        },
        "id": "Aigg9dD-M4jy",
        "outputId": "f34e01d2-eb6f-461d-b678-946aec4befc9"
      },
      "id": "Aigg9dD-M4jy",
      "execution_count": 25,
      "outputs": [
        {
          "output_type": "execute_result",
          "data": {
            "text/plain": [
              "   children  credits  credits_debt  credits_share\n",
              "0         0    14091          1063           7.54\n",
              "1         1     4808           444           9.23\n",
              "2         2     2052           194           9.45\n",
              "3         3      330            27           8.18\n",
              "4         4       41             4           9.76\n",
              "5         5        9             0           0.00"
            ],
            "text/html": [
              "\n",
              "  <div id=\"df-1ad30eca-7ac7-48e4-a18b-ce301ebadc4a\">\n",
              "    <div class=\"colab-df-container\">\n",
              "      <div>\n",
              "<style scoped>\n",
              "    .dataframe tbody tr th:only-of-type {\n",
              "        vertical-align: middle;\n",
              "    }\n",
              "\n",
              "    .dataframe tbody tr th {\n",
              "        vertical-align: top;\n",
              "    }\n",
              "\n",
              "    .dataframe thead th {\n",
              "        text-align: right;\n",
              "    }\n",
              "</style>\n",
              "<table border=\"1\" class=\"dataframe\">\n",
              "  <thead>\n",
              "    <tr style=\"text-align: right;\">\n",
              "      <th></th>\n",
              "      <th>children</th>\n",
              "      <th>credits</th>\n",
              "      <th>credits_debt</th>\n",
              "      <th>credits_share</th>\n",
              "    </tr>\n",
              "  </thead>\n",
              "  <tbody>\n",
              "    <tr>\n",
              "      <th>0</th>\n",
              "      <td>0</td>\n",
              "      <td>14091</td>\n",
              "      <td>1063</td>\n",
              "      <td>7.54</td>\n",
              "    </tr>\n",
              "    <tr>\n",
              "      <th>1</th>\n",
              "      <td>1</td>\n",
              "      <td>4808</td>\n",
              "      <td>444</td>\n",
              "      <td>9.23</td>\n",
              "    </tr>\n",
              "    <tr>\n",
              "      <th>2</th>\n",
              "      <td>2</td>\n",
              "      <td>2052</td>\n",
              "      <td>194</td>\n",
              "      <td>9.45</td>\n",
              "    </tr>\n",
              "    <tr>\n",
              "      <th>3</th>\n",
              "      <td>3</td>\n",
              "      <td>330</td>\n",
              "      <td>27</td>\n",
              "      <td>8.18</td>\n",
              "    </tr>\n",
              "    <tr>\n",
              "      <th>4</th>\n",
              "      <td>4</td>\n",
              "      <td>41</td>\n",
              "      <td>4</td>\n",
              "      <td>9.76</td>\n",
              "    </tr>\n",
              "    <tr>\n",
              "      <th>5</th>\n",
              "      <td>5</td>\n",
              "      <td>9</td>\n",
              "      <td>0</td>\n",
              "      <td>0.00</td>\n",
              "    </tr>\n",
              "  </tbody>\n",
              "</table>\n",
              "</div>\n",
              "      <button class=\"colab-df-convert\" onclick=\"convertToInteractive('df-1ad30eca-7ac7-48e4-a18b-ce301ebadc4a')\"\n",
              "              title=\"Convert this dataframe to an interactive table.\"\n",
              "              style=\"display:none;\">\n",
              "        \n",
              "  <svg xmlns=\"http://www.w3.org/2000/svg\" height=\"24px\"viewBox=\"0 0 24 24\"\n",
              "       width=\"24px\">\n",
              "    <path d=\"M0 0h24v24H0V0z\" fill=\"none\"/>\n",
              "    <path d=\"M18.56 5.44l.94 2.06.94-2.06 2.06-.94-2.06-.94-.94-2.06-.94 2.06-2.06.94zm-11 1L8.5 8.5l.94-2.06 2.06-.94-2.06-.94L8.5 2.5l-.94 2.06-2.06.94zm10 10l.94 2.06.94-2.06 2.06-.94-2.06-.94-.94-2.06-.94 2.06-2.06.94z\"/><path d=\"M17.41 7.96l-1.37-1.37c-.4-.4-.92-.59-1.43-.59-.52 0-1.04.2-1.43.59L10.3 9.45l-7.72 7.72c-.78.78-.78 2.05 0 2.83L4 21.41c.39.39.9.59 1.41.59.51 0 1.02-.2 1.41-.59l7.78-7.78 2.81-2.81c.8-.78.8-2.07 0-2.86zM5.41 20L4 18.59l7.72-7.72 1.47 1.35L5.41 20z\"/>\n",
              "  </svg>\n",
              "      </button>\n",
              "      \n",
              "  <style>\n",
              "    .colab-df-container {\n",
              "      display:flex;\n",
              "      flex-wrap:wrap;\n",
              "      gap: 12px;\n",
              "    }\n",
              "\n",
              "    .colab-df-convert {\n",
              "      background-color: #E8F0FE;\n",
              "      border: none;\n",
              "      border-radius: 50%;\n",
              "      cursor: pointer;\n",
              "      display: none;\n",
              "      fill: #1967D2;\n",
              "      height: 32px;\n",
              "      padding: 0 0 0 0;\n",
              "      width: 32px;\n",
              "    }\n",
              "\n",
              "    .colab-df-convert:hover {\n",
              "      background-color: #E2EBFA;\n",
              "      box-shadow: 0px 1px 2px rgba(60, 64, 67, 0.3), 0px 1px 3px 1px rgba(60, 64, 67, 0.15);\n",
              "      fill: #174EA6;\n",
              "    }\n",
              "\n",
              "    [theme=dark] .colab-df-convert {\n",
              "      background-color: #3B4455;\n",
              "      fill: #D2E3FC;\n",
              "    }\n",
              "\n",
              "    [theme=dark] .colab-df-convert:hover {\n",
              "      background-color: #434B5C;\n",
              "      box-shadow: 0px 1px 3px 1px rgba(0, 0, 0, 0.15);\n",
              "      filter: drop-shadow(0px 1px 2px rgba(0, 0, 0, 0.3));\n",
              "      fill: #FFFFFF;\n",
              "    }\n",
              "  </style>\n",
              "\n",
              "      <script>\n",
              "        const buttonEl =\n",
              "          document.querySelector('#df-1ad30eca-7ac7-48e4-a18b-ce301ebadc4a button.colab-df-convert');\n",
              "        buttonEl.style.display =\n",
              "          google.colab.kernel.accessAllowed ? 'block' : 'none';\n",
              "\n",
              "        async function convertToInteractive(key) {\n",
              "          const element = document.querySelector('#df-1ad30eca-7ac7-48e4-a18b-ce301ebadc4a');\n",
              "          const dataTable =\n",
              "            await google.colab.kernel.invokeFunction('convertToInteractive',\n",
              "                                                     [key], {});\n",
              "          if (!dataTable) return;\n",
              "\n",
              "          const docLinkHtml = 'Like what you see? Visit the ' +\n",
              "            '<a target=\"_blank\" href=https://colab.research.google.com/notebooks/data_table.ipynb>data table notebook</a>'\n",
              "            + ' to learn more about interactive tables.';\n",
              "          element.innerHTML = '';\n",
              "          dataTable['output_type'] = 'display_data';\n",
              "          await google.colab.output.renderOutput(dataTable, element);\n",
              "          const docLink = document.createElement('div');\n",
              "          docLink.innerHTML = docLinkHtml;\n",
              "          element.appendChild(docLink);\n",
              "        }\n",
              "      </script>\n",
              "    </div>\n",
              "  </div>\n",
              "  "
            ]
          },
          "metadata": {},
          "execution_count": 25
        }
      ]
    },
    {
      "cell_type": "markdown",
      "id": "0882edc3",
      "metadata": {
        "id": "0882edc3"
      },
      "source": [
        "**Вывод:** \n",
        "\n",
        "У клиентов с 5 детьми просрочки по платежам отсутствуют, \n",
        "но также на них приходится достаточно маленькое число выданных кредитов, чтобы отследить закономерность. Выборка не сбалансирована, классы в выборке имеют разные размеры.\n",
        "\n",
        "Из анализа оставшихся значений можно сделать вывод, что клиенты без детей имеют меньше просрочек по кредитам, чем клиенты с детьми. Можно сделать вывод, что клиенты без детей являются более ответственными, чем клиенты, у которых есть дети. Видимо, наличие ребенка накладывает на клиента дополнительные финансовое бремя (обязательства) и клиенты либо менее ответственно относятся к своим кредитным обязательствам, либо не имеют возможности в срок оплачивать обязательства. Однако доля просрочек не сильно изменяется с изменением количества детей и нет сильной зависимости между количеством детей и возвратом кредитов в срок. \n",
        "\n",
        "Также необходимо учесть факт, что количество детей только зафиксировано на момент выдачи кредита, никто не гарантирует, что их не станет больше в течение срока выплаты. Есть вероятность, что кредитный портфель бездетных (со сроками выданных кредитов по несколько лет) скорее всего со временем ухудшится по показателю возврата денег (какая-то часть бездетных заведут детей, и у них должников из 7,5% станет 9%). И тогда этот риск можно было бы закладывать заранее (но для этого хорошо было бы понимать, сколько бездетных перейдут в категорию «с детьми» в течение 5 лет, например). "
      ]
    },
    {
      "cell_type": "markdown",
      "id": "eb2596cd",
      "metadata": {
        "deletable": false,
        "editable": false,
        "id": "eb2596cd"
      },
      "source": [
        "#### Анализ взаимосвязи между семейным положением и возвратом кредита в срок."
      ]
    },
    {
      "cell_type": "code",
      "source": [
        "# группировка количества кредитов и количества просрочек по семейному положению\n",
        "research_family_status = (data.groupby('family_status')['debt']\n",
        "                           .agg(credits = ('count'), credits_debt = ('sum'))\n",
        "                           .sort_values(by='credits', ascending=False).reset_index())\n",
        "\n",
        "# вычисление доли просрочек от общего числа кредитов\n",
        "research_family_status['credits_share'] = round(research_family_status['credits_debt']/research_family_status['credits']*100, 2)\n",
        "\n",
        "# вывод итоговой таблицы\n",
        "research_family_status"
      ],
      "metadata": {
        "colab": {
          "base_uri": "https://localhost:8080/",
          "height": 206
        },
        "id": "3g7JV571jIbp",
        "outputId": "ff7f3687-5e39-4292-a755-803c36537243"
      },
      "id": "3g7JV571jIbp",
      "execution_count": 27,
      "outputs": [
        {
          "output_type": "execute_result",
          "data": {
            "text/plain": [
              "           family_status  credits  credits_debt  credits_share\n",
              "0        женат / замужем    12261           927           7.56\n",
              "1       гражданский брак     4134           385           9.31\n",
              "2  Не женат / не замужем     2796           273           9.76\n",
              "3              в разводе     1189            84           7.06\n",
              "4         вдовец / вдова      951            63           6.62"
            ],
            "text/html": [
              "\n",
              "  <div id=\"df-c88a0391-dcde-40fe-945c-b64937c7a1f9\">\n",
              "    <div class=\"colab-df-container\">\n",
              "      <div>\n",
              "<style scoped>\n",
              "    .dataframe tbody tr th:only-of-type {\n",
              "        vertical-align: middle;\n",
              "    }\n",
              "\n",
              "    .dataframe tbody tr th {\n",
              "        vertical-align: top;\n",
              "    }\n",
              "\n",
              "    .dataframe thead th {\n",
              "        text-align: right;\n",
              "    }\n",
              "</style>\n",
              "<table border=\"1\" class=\"dataframe\">\n",
              "  <thead>\n",
              "    <tr style=\"text-align: right;\">\n",
              "      <th></th>\n",
              "      <th>family_status</th>\n",
              "      <th>credits</th>\n",
              "      <th>credits_debt</th>\n",
              "      <th>credits_share</th>\n",
              "    </tr>\n",
              "  </thead>\n",
              "  <tbody>\n",
              "    <tr>\n",
              "      <th>0</th>\n",
              "      <td>женат / замужем</td>\n",
              "      <td>12261</td>\n",
              "      <td>927</td>\n",
              "      <td>7.56</td>\n",
              "    </tr>\n",
              "    <tr>\n",
              "      <th>1</th>\n",
              "      <td>гражданский брак</td>\n",
              "      <td>4134</td>\n",
              "      <td>385</td>\n",
              "      <td>9.31</td>\n",
              "    </tr>\n",
              "    <tr>\n",
              "      <th>2</th>\n",
              "      <td>Не женат / не замужем</td>\n",
              "      <td>2796</td>\n",
              "      <td>273</td>\n",
              "      <td>9.76</td>\n",
              "    </tr>\n",
              "    <tr>\n",
              "      <th>3</th>\n",
              "      <td>в разводе</td>\n",
              "      <td>1189</td>\n",
              "      <td>84</td>\n",
              "      <td>7.06</td>\n",
              "    </tr>\n",
              "    <tr>\n",
              "      <th>4</th>\n",
              "      <td>вдовец / вдова</td>\n",
              "      <td>951</td>\n",
              "      <td>63</td>\n",
              "      <td>6.62</td>\n",
              "    </tr>\n",
              "  </tbody>\n",
              "</table>\n",
              "</div>\n",
              "      <button class=\"colab-df-convert\" onclick=\"convertToInteractive('df-c88a0391-dcde-40fe-945c-b64937c7a1f9')\"\n",
              "              title=\"Convert this dataframe to an interactive table.\"\n",
              "              style=\"display:none;\">\n",
              "        \n",
              "  <svg xmlns=\"http://www.w3.org/2000/svg\" height=\"24px\"viewBox=\"0 0 24 24\"\n",
              "       width=\"24px\">\n",
              "    <path d=\"M0 0h24v24H0V0z\" fill=\"none\"/>\n",
              "    <path d=\"M18.56 5.44l.94 2.06.94-2.06 2.06-.94-2.06-.94-.94-2.06-.94 2.06-2.06.94zm-11 1L8.5 8.5l.94-2.06 2.06-.94-2.06-.94L8.5 2.5l-.94 2.06-2.06.94zm10 10l.94 2.06.94-2.06 2.06-.94-2.06-.94-.94-2.06-.94 2.06-2.06.94z\"/><path d=\"M17.41 7.96l-1.37-1.37c-.4-.4-.92-.59-1.43-.59-.52 0-1.04.2-1.43.59L10.3 9.45l-7.72 7.72c-.78.78-.78 2.05 0 2.83L4 21.41c.39.39.9.59 1.41.59.51 0 1.02-.2 1.41-.59l7.78-7.78 2.81-2.81c.8-.78.8-2.07 0-2.86zM5.41 20L4 18.59l7.72-7.72 1.47 1.35L5.41 20z\"/>\n",
              "  </svg>\n",
              "      </button>\n",
              "      \n",
              "  <style>\n",
              "    .colab-df-container {\n",
              "      display:flex;\n",
              "      flex-wrap:wrap;\n",
              "      gap: 12px;\n",
              "    }\n",
              "\n",
              "    .colab-df-convert {\n",
              "      background-color: #E8F0FE;\n",
              "      border: none;\n",
              "      border-radius: 50%;\n",
              "      cursor: pointer;\n",
              "      display: none;\n",
              "      fill: #1967D2;\n",
              "      height: 32px;\n",
              "      padding: 0 0 0 0;\n",
              "      width: 32px;\n",
              "    }\n",
              "\n",
              "    .colab-df-convert:hover {\n",
              "      background-color: #E2EBFA;\n",
              "      box-shadow: 0px 1px 2px rgba(60, 64, 67, 0.3), 0px 1px 3px 1px rgba(60, 64, 67, 0.15);\n",
              "      fill: #174EA6;\n",
              "    }\n",
              "\n",
              "    [theme=dark] .colab-df-convert {\n",
              "      background-color: #3B4455;\n",
              "      fill: #D2E3FC;\n",
              "    }\n",
              "\n",
              "    [theme=dark] .colab-df-convert:hover {\n",
              "      background-color: #434B5C;\n",
              "      box-shadow: 0px 1px 3px 1px rgba(0, 0, 0, 0.15);\n",
              "      filter: drop-shadow(0px 1px 2px rgba(0, 0, 0, 0.3));\n",
              "      fill: #FFFFFF;\n",
              "    }\n",
              "  </style>\n",
              "\n",
              "      <script>\n",
              "        const buttonEl =\n",
              "          document.querySelector('#df-c88a0391-dcde-40fe-945c-b64937c7a1f9 button.colab-df-convert');\n",
              "        buttonEl.style.display =\n",
              "          google.colab.kernel.accessAllowed ? 'block' : 'none';\n",
              "\n",
              "        async function convertToInteractive(key) {\n",
              "          const element = document.querySelector('#df-c88a0391-dcde-40fe-945c-b64937c7a1f9');\n",
              "          const dataTable =\n",
              "            await google.colab.kernel.invokeFunction('convertToInteractive',\n",
              "                                                     [key], {});\n",
              "          if (!dataTable) return;\n",
              "\n",
              "          const docLinkHtml = 'Like what you see? Visit the ' +\n",
              "            '<a target=\"_blank\" href=https://colab.research.google.com/notebooks/data_table.ipynb>data table notebook</a>'\n",
              "            + ' to learn more about interactive tables.';\n",
              "          element.innerHTML = '';\n",
              "          dataTable['output_type'] = 'display_data';\n",
              "          await google.colab.output.renderOutput(dataTable, element);\n",
              "          const docLink = document.createElement('div');\n",
              "          docLink.innerHTML = docLinkHtml;\n",
              "          element.appendChild(docLink);\n",
              "        }\n",
              "      </script>\n",
              "    </div>\n",
              "  </div>\n",
              "  "
            ]
          },
          "metadata": {},
          "execution_count": 27
        }
      ]
    },
    {
      "cell_type": "markdown",
      "id": "19899016",
      "metadata": {
        "deletable": false,
        "id": "19899016"
      },
      "source": [
        "**Вывод:** \n",
        "\n",
        "На основание полученных данных можно сделать вывод, что существует зависимость между семейным положением и возвратом кредита в срок. Люди с семейным положением \"вдовец/вдова\" имеют меньше просрочек по срокам выплаты кредитов. Получается, что узаконенные отношения (включая и бывшие отношения) ведут к более ответственному отношению к своим обязательствам. \n",
        "\n",
        "Больше всего просрочек у людей с семейным положением: \"не женат/не замужем\". Кредитному отделу следует с осторожностью относиться к клиентам, которые не состоят или не состояли в браке."
      ]
    },
    {
      "cell_type": "markdown",
      "id": "1dba96ff",
      "metadata": {
        "deletable": false,
        "editable": false,
        "id": "1dba96ff"
      },
      "source": [
        "#### Анализ взаимосвязи между уровнем дохода и возвратом кредита в срок."
      ]
    },
    {
      "cell_type": "code",
      "source": [
        "# группировка количества кредитов и количества просрочек по уровню дохода\n",
        "income_research = (data.groupby('total_income_category')['debt']\n",
        "                           .agg(credits = ('count'), credits_debt = ('sum'))\n",
        "                           .sort_values(by='credits', ascending=False).reset_index())\n",
        "\n",
        "# вычисление доли просрочек от общего числа кредитов\n",
        "income_research['credits_share'] = round(income_research['credits_debt']/income_research['credits']*100, 2)\n",
        "\n",
        "# вывод итоговой таблицы\n",
        "income_research"
      ],
      "metadata": {
        "colab": {
          "base_uri": "https://localhost:8080/",
          "height": 206
        },
        "id": "WbDFasXqj5wH",
        "outputId": "5cdd75d5-ebfb-4b6c-a37b-35d349ab47bf"
      },
      "id": "WbDFasXqj5wH",
      "execution_count": 28,
      "outputs": [
        {
          "output_type": "execute_result",
          "data": {
            "text/plain": [
              "  total_income_category  credits  credits_debt  credits_share\n",
              "0                     C    15921          1353           8.50\n",
              "1                     B     5014           354           7.06\n",
              "2                     D      349            21           6.02\n",
              "3                     A       25             2           8.00\n",
              "4                     E       22             2           9.09"
            ],
            "text/html": [
              "\n",
              "  <div id=\"df-7b281fed-56c4-4e3f-ab72-23daba70b1f1\">\n",
              "    <div class=\"colab-df-container\">\n",
              "      <div>\n",
              "<style scoped>\n",
              "    .dataframe tbody tr th:only-of-type {\n",
              "        vertical-align: middle;\n",
              "    }\n",
              "\n",
              "    .dataframe tbody tr th {\n",
              "        vertical-align: top;\n",
              "    }\n",
              "\n",
              "    .dataframe thead th {\n",
              "        text-align: right;\n",
              "    }\n",
              "</style>\n",
              "<table border=\"1\" class=\"dataframe\">\n",
              "  <thead>\n",
              "    <tr style=\"text-align: right;\">\n",
              "      <th></th>\n",
              "      <th>total_income_category</th>\n",
              "      <th>credits</th>\n",
              "      <th>credits_debt</th>\n",
              "      <th>credits_share</th>\n",
              "    </tr>\n",
              "  </thead>\n",
              "  <tbody>\n",
              "    <tr>\n",
              "      <th>0</th>\n",
              "      <td>C</td>\n",
              "      <td>15921</td>\n",
              "      <td>1353</td>\n",
              "      <td>8.50</td>\n",
              "    </tr>\n",
              "    <tr>\n",
              "      <th>1</th>\n",
              "      <td>B</td>\n",
              "      <td>5014</td>\n",
              "      <td>354</td>\n",
              "      <td>7.06</td>\n",
              "    </tr>\n",
              "    <tr>\n",
              "      <th>2</th>\n",
              "      <td>D</td>\n",
              "      <td>349</td>\n",
              "      <td>21</td>\n",
              "      <td>6.02</td>\n",
              "    </tr>\n",
              "    <tr>\n",
              "      <th>3</th>\n",
              "      <td>A</td>\n",
              "      <td>25</td>\n",
              "      <td>2</td>\n",
              "      <td>8.00</td>\n",
              "    </tr>\n",
              "    <tr>\n",
              "      <th>4</th>\n",
              "      <td>E</td>\n",
              "      <td>22</td>\n",
              "      <td>2</td>\n",
              "      <td>9.09</td>\n",
              "    </tr>\n",
              "  </tbody>\n",
              "</table>\n",
              "</div>\n",
              "      <button class=\"colab-df-convert\" onclick=\"convertToInteractive('df-7b281fed-56c4-4e3f-ab72-23daba70b1f1')\"\n",
              "              title=\"Convert this dataframe to an interactive table.\"\n",
              "              style=\"display:none;\">\n",
              "        \n",
              "  <svg xmlns=\"http://www.w3.org/2000/svg\" height=\"24px\"viewBox=\"0 0 24 24\"\n",
              "       width=\"24px\">\n",
              "    <path d=\"M0 0h24v24H0V0z\" fill=\"none\"/>\n",
              "    <path d=\"M18.56 5.44l.94 2.06.94-2.06 2.06-.94-2.06-.94-.94-2.06-.94 2.06-2.06.94zm-11 1L8.5 8.5l.94-2.06 2.06-.94-2.06-.94L8.5 2.5l-.94 2.06-2.06.94zm10 10l.94 2.06.94-2.06 2.06-.94-2.06-.94-.94-2.06-.94 2.06-2.06.94z\"/><path d=\"M17.41 7.96l-1.37-1.37c-.4-.4-.92-.59-1.43-.59-.52 0-1.04.2-1.43.59L10.3 9.45l-7.72 7.72c-.78.78-.78 2.05 0 2.83L4 21.41c.39.39.9.59 1.41.59.51 0 1.02-.2 1.41-.59l7.78-7.78 2.81-2.81c.8-.78.8-2.07 0-2.86zM5.41 20L4 18.59l7.72-7.72 1.47 1.35L5.41 20z\"/>\n",
              "  </svg>\n",
              "      </button>\n",
              "      \n",
              "  <style>\n",
              "    .colab-df-container {\n",
              "      display:flex;\n",
              "      flex-wrap:wrap;\n",
              "      gap: 12px;\n",
              "    }\n",
              "\n",
              "    .colab-df-convert {\n",
              "      background-color: #E8F0FE;\n",
              "      border: none;\n",
              "      border-radius: 50%;\n",
              "      cursor: pointer;\n",
              "      display: none;\n",
              "      fill: #1967D2;\n",
              "      height: 32px;\n",
              "      padding: 0 0 0 0;\n",
              "      width: 32px;\n",
              "    }\n",
              "\n",
              "    .colab-df-convert:hover {\n",
              "      background-color: #E2EBFA;\n",
              "      box-shadow: 0px 1px 2px rgba(60, 64, 67, 0.3), 0px 1px 3px 1px rgba(60, 64, 67, 0.15);\n",
              "      fill: #174EA6;\n",
              "    }\n",
              "\n",
              "    [theme=dark] .colab-df-convert {\n",
              "      background-color: #3B4455;\n",
              "      fill: #D2E3FC;\n",
              "    }\n",
              "\n",
              "    [theme=dark] .colab-df-convert:hover {\n",
              "      background-color: #434B5C;\n",
              "      box-shadow: 0px 1px 3px 1px rgba(0, 0, 0, 0.15);\n",
              "      filter: drop-shadow(0px 1px 2px rgba(0, 0, 0, 0.3));\n",
              "      fill: #FFFFFF;\n",
              "    }\n",
              "  </style>\n",
              "\n",
              "      <script>\n",
              "        const buttonEl =\n",
              "          document.querySelector('#df-7b281fed-56c4-4e3f-ab72-23daba70b1f1 button.colab-df-convert');\n",
              "        buttonEl.style.display =\n",
              "          google.colab.kernel.accessAllowed ? 'block' : 'none';\n",
              "\n",
              "        async function convertToInteractive(key) {\n",
              "          const element = document.querySelector('#df-7b281fed-56c4-4e3f-ab72-23daba70b1f1');\n",
              "          const dataTable =\n",
              "            await google.colab.kernel.invokeFunction('convertToInteractive',\n",
              "                                                     [key], {});\n",
              "          if (!dataTable) return;\n",
              "\n",
              "          const docLinkHtml = 'Like what you see? Visit the ' +\n",
              "            '<a target=\"_blank\" href=https://colab.research.google.com/notebooks/data_table.ipynb>data table notebook</a>'\n",
              "            + ' to learn more about interactive tables.';\n",
              "          element.innerHTML = '';\n",
              "          dataTable['output_type'] = 'display_data';\n",
              "          await google.colab.output.renderOutput(dataTable, element);\n",
              "          const docLink = document.createElement('div');\n",
              "          docLink.innerHTML = docLinkHtml;\n",
              "          element.appendChild(docLink);\n",
              "        }\n",
              "      </script>\n",
              "    </div>\n",
              "  </div>\n",
              "  "
            ]
          },
          "metadata": {},
          "execution_count": 28
        }
      ]
    },
    {
      "cell_type": "markdown",
      "id": "ee1275f0",
      "metadata": {
        "deletable": false,
        "id": "ee1275f0"
      },
      "source": [
        "**Вывод:** \n",
        "\n",
        "На основании полученных данных можно сделать выводы, что есть зависимость между уровнем дохода и возврата кредитов в срок. Меньше всего просрочек по кредитам у клиентов с уровнем дохода от 30001–50000, больше всего у клиентов с уровнем дохода 0–30000.\n",
        "\n",
        "Ожидаемо, для группы с низким доходом (Е) процент невозвратов самый высокий. Что более интересно, так это то, что с ростом доходов тенденция (D->C и B->А) к снижению числа долгов не сохраняется, а скорее даже растёт. Можно сказать, что по какой-то причине люди \"перестают считать деньги\" или планировать \"наперёд\". Из-за подобного поведения наших групп параметр (\"доход\") нельзя назвать надёжным при определении платёжеспособности клиента. Без дополнительной информации он может даже наоборот привести к выдаче кредита состоятельному, но не слишком \"надёжному\" клиенту, хотя, возможно, это может быть аномалия, вызванная недостаточным размером выборки для клиентов с категорией доходов А.    \n",
        "    \n",
        "Выборка по заемщикам, как с наименьшим доходом, так и с наибольшим крайне недостаточна для формирования однозначных выводов. Можно думать, что E-категория самая низкооплачиваемая не может корректно распоряжаться деньгами и «влезает» в кредиты, но тогда неясно почему у А-категории также достаточно высокий процент задолженности. В общем вывод по группам А и Е неочевиден, слишком мало данных.\n",
        "\n",
        "Если же взять для анализа только группы В, С и D, то по полученным данным не наблюдаем зависимости \"те, кто получает больше ЗП, лучше возвращает кредит». В целом это логично, так как материальный достаток - не единственная переменная, которая влияет на качество кредитной истории.\n",
        "\n",
        "Также на результат могли оказать влияние 2174 пропуска в данных столбца \"total_income\". Сводная таблица (или группировка) с данными о зависимости между уровнем дохода и возвратом кредита в срок возможно могла бы выглядеть иначе, если бы не пропущенные данные, которые мы выше заполнили медианным значением зарплаты, исходя из типа занятости соответствующего заемщика."
      ]
    },
    {
      "cell_type": "markdown",
      "id": "517b9392",
      "metadata": {
        "deletable": false,
        "editable": false,
        "id": "517b9392"
      },
      "source": [
        "#### Анализ взаимосвязи между целью кредита и возвратом кредита в срок."
      ]
    },
    {
      "cell_type": "code",
      "source": [
        "# группировка количества кредитов и количества просрочек по целям кредитов\n",
        "purpose_research = (data.groupby('purpose_category')['debt']\n",
        "                           .agg(credits = ('count'), credits_debt = ('sum'))\n",
        "                           .sort_values(by='credits', ascending=False).reset_index())\n",
        "\n",
        "# вычисление доли просрочек от общего числа кредитов\n",
        "purpose_research['credits_share'] = round(purpose_research['credits_debt']/purpose_research['credits']*100, 2)\n",
        "\n",
        "# вывод итоговой таблицы\n",
        "purpose_research"
      ],
      "metadata": {
        "colab": {
          "base_uri": "https://localhost:8080/",
          "height": 175
        },
        "id": "F5mKX3osk61p",
        "outputId": "c40cdec0-bf89-489b-b332-0d4fd62c674e"
      },
      "id": "F5mKX3osk61p",
      "execution_count": 29,
      "outputs": [
        {
          "output_type": "execute_result",
          "data": {
            "text/plain": [
              "           purpose_category  credits  credits_debt  credits_share\n",
              "0  операции с недвижимостью    10751           780           7.26\n",
              "1    операции с автомобилем     4279           400           9.35\n",
              "2     получение образования     3988           369           9.25\n",
              "3        проведение свадьбы     2313           183           7.91"
            ],
            "text/html": [
              "\n",
              "  <div id=\"df-26dce1bb-578c-485d-884a-cc30c2419cef\">\n",
              "    <div class=\"colab-df-container\">\n",
              "      <div>\n",
              "<style scoped>\n",
              "    .dataframe tbody tr th:only-of-type {\n",
              "        vertical-align: middle;\n",
              "    }\n",
              "\n",
              "    .dataframe tbody tr th {\n",
              "        vertical-align: top;\n",
              "    }\n",
              "\n",
              "    .dataframe thead th {\n",
              "        text-align: right;\n",
              "    }\n",
              "</style>\n",
              "<table border=\"1\" class=\"dataframe\">\n",
              "  <thead>\n",
              "    <tr style=\"text-align: right;\">\n",
              "      <th></th>\n",
              "      <th>purpose_category</th>\n",
              "      <th>credits</th>\n",
              "      <th>credits_debt</th>\n",
              "      <th>credits_share</th>\n",
              "    </tr>\n",
              "  </thead>\n",
              "  <tbody>\n",
              "    <tr>\n",
              "      <th>0</th>\n",
              "      <td>операции с недвижимостью</td>\n",
              "      <td>10751</td>\n",
              "      <td>780</td>\n",
              "      <td>7.26</td>\n",
              "    </tr>\n",
              "    <tr>\n",
              "      <th>1</th>\n",
              "      <td>операции с автомобилем</td>\n",
              "      <td>4279</td>\n",
              "      <td>400</td>\n",
              "      <td>9.35</td>\n",
              "    </tr>\n",
              "    <tr>\n",
              "      <th>2</th>\n",
              "      <td>получение образования</td>\n",
              "      <td>3988</td>\n",
              "      <td>369</td>\n",
              "      <td>9.25</td>\n",
              "    </tr>\n",
              "    <tr>\n",
              "      <th>3</th>\n",
              "      <td>проведение свадьбы</td>\n",
              "      <td>2313</td>\n",
              "      <td>183</td>\n",
              "      <td>7.91</td>\n",
              "    </tr>\n",
              "  </tbody>\n",
              "</table>\n",
              "</div>\n",
              "      <button class=\"colab-df-convert\" onclick=\"convertToInteractive('df-26dce1bb-578c-485d-884a-cc30c2419cef')\"\n",
              "              title=\"Convert this dataframe to an interactive table.\"\n",
              "              style=\"display:none;\">\n",
              "        \n",
              "  <svg xmlns=\"http://www.w3.org/2000/svg\" height=\"24px\"viewBox=\"0 0 24 24\"\n",
              "       width=\"24px\">\n",
              "    <path d=\"M0 0h24v24H0V0z\" fill=\"none\"/>\n",
              "    <path d=\"M18.56 5.44l.94 2.06.94-2.06 2.06-.94-2.06-.94-.94-2.06-.94 2.06-2.06.94zm-11 1L8.5 8.5l.94-2.06 2.06-.94-2.06-.94L8.5 2.5l-.94 2.06-2.06.94zm10 10l.94 2.06.94-2.06 2.06-.94-2.06-.94-.94-2.06-.94 2.06-2.06.94z\"/><path d=\"M17.41 7.96l-1.37-1.37c-.4-.4-.92-.59-1.43-.59-.52 0-1.04.2-1.43.59L10.3 9.45l-7.72 7.72c-.78.78-.78 2.05 0 2.83L4 21.41c.39.39.9.59 1.41.59.51 0 1.02-.2 1.41-.59l7.78-7.78 2.81-2.81c.8-.78.8-2.07 0-2.86zM5.41 20L4 18.59l7.72-7.72 1.47 1.35L5.41 20z\"/>\n",
              "  </svg>\n",
              "      </button>\n",
              "      \n",
              "  <style>\n",
              "    .colab-df-container {\n",
              "      display:flex;\n",
              "      flex-wrap:wrap;\n",
              "      gap: 12px;\n",
              "    }\n",
              "\n",
              "    .colab-df-convert {\n",
              "      background-color: #E8F0FE;\n",
              "      border: none;\n",
              "      border-radius: 50%;\n",
              "      cursor: pointer;\n",
              "      display: none;\n",
              "      fill: #1967D2;\n",
              "      height: 32px;\n",
              "      padding: 0 0 0 0;\n",
              "      width: 32px;\n",
              "    }\n",
              "\n",
              "    .colab-df-convert:hover {\n",
              "      background-color: #E2EBFA;\n",
              "      box-shadow: 0px 1px 2px rgba(60, 64, 67, 0.3), 0px 1px 3px 1px rgba(60, 64, 67, 0.15);\n",
              "      fill: #174EA6;\n",
              "    }\n",
              "\n",
              "    [theme=dark] .colab-df-convert {\n",
              "      background-color: #3B4455;\n",
              "      fill: #D2E3FC;\n",
              "    }\n",
              "\n",
              "    [theme=dark] .colab-df-convert:hover {\n",
              "      background-color: #434B5C;\n",
              "      box-shadow: 0px 1px 3px 1px rgba(0, 0, 0, 0.15);\n",
              "      filter: drop-shadow(0px 1px 2px rgba(0, 0, 0, 0.3));\n",
              "      fill: #FFFFFF;\n",
              "    }\n",
              "  </style>\n",
              "\n",
              "      <script>\n",
              "        const buttonEl =\n",
              "          document.querySelector('#df-26dce1bb-578c-485d-884a-cc30c2419cef button.colab-df-convert');\n",
              "        buttonEl.style.display =\n",
              "          google.colab.kernel.accessAllowed ? 'block' : 'none';\n",
              "\n",
              "        async function convertToInteractive(key) {\n",
              "          const element = document.querySelector('#df-26dce1bb-578c-485d-884a-cc30c2419cef');\n",
              "          const dataTable =\n",
              "            await google.colab.kernel.invokeFunction('convertToInteractive',\n",
              "                                                     [key], {});\n",
              "          if (!dataTable) return;\n",
              "\n",
              "          const docLinkHtml = 'Like what you see? Visit the ' +\n",
              "            '<a target=\"_blank\" href=https://colab.research.google.com/notebooks/data_table.ipynb>data table notebook</a>'\n",
              "            + ' to learn more about interactive tables.';\n",
              "          element.innerHTML = '';\n",
              "          dataTable['output_type'] = 'display_data';\n",
              "          await google.colab.output.renderOutput(dataTable, element);\n",
              "          const docLink = document.createElement('div');\n",
              "          docLink.innerHTML = docLinkHtml;\n",
              "          element.appendChild(docLink);\n",
              "        }\n",
              "      </script>\n",
              "    </div>\n",
              "  </div>\n",
              "  "
            ]
          },
          "metadata": {},
          "execution_count": 29
        }
      ]
    },
    {
      "cell_type": "markdown",
      "id": "fcb53381",
      "metadata": {
        "deletable": false,
        "id": "fcb53381"
      },
      "source": [
        "**Вывод:** \n",
        "\n",
        "Клиенты, взявшие кредит по операции с недвижимостью и проведение свадьбы имеют меньше просрочек по срокам возврата, больше просрочек имеют клиенты, взявшие кредит под операции с автомобилем и получение образования. "
      ]
    },
    {
      "cell_type": "markdown",
      "id": "d0ad5b4e",
      "metadata": {
        "deletable": false,
        "editable": false,
        "id": "d0ad5b4e"
      },
      "source": [
        "# Общий вывод."
      ]
    },
    {
      "cell_type": "markdown",
      "id": "2cfda858",
      "metadata": {
        "id": "2cfda858"
      },
      "source": [
        "В рамках проекта было проведено исследование с целью выявить, какие факторы влияют на факт погашения кредита в срок. \n",
        "Входные данные от банка — статистика о платёжеспособности клиентов.\n",
        "Результаты исследования будут учтены при построении модели кредитного скоринга — специальной системы, которая оценивает\n",
        "способность потенциального заёмщика вернуть кредит банку.\n",
        "\n",
        "Перед проведением исследования были поставлены следующие гипотезы:\n",
        "* Гипотеза 1: Количество детей влияет на факт погашения кредита в срок.\n",
        "* Гипотеза 2: Семейное положение влияет на факт погашения кредита в срок.\n",
        "* Гипотеза 3: Уровень дохода влияет на факт погашения кредита с срок.\n",
        "* Гипотеза 4: Цель кредита влияет на факт погашения кредита в срок.\n",
        "\n",
        "**Гипотеза 1 подтверждена частично**\n",
        "\n",
        "* Доля просроченных кредитов для детей без детей - 7,5%\n",
        "* Доля просроченных кредитов для детей с 1 ребенком - 9,2% \n",
        "* Доля просроченных кредитов для детей с 2 детьми - 9,5%\n",
        "\n",
        "Для семей с 3,4,5 детьми требуется больше данных для более точных результатов\n",
        "\n",
        "Рекомендация: провести дополнительное исследование на большей выборке данных.\n",
        "\n",
        "**Гипотеза 2 подтверждена**\n",
        "\n",
        "* Доля просроченных кредитов у клиентов со статусом \"вдова/вдовец\" - 6,6%\n",
        "* Доля просроченных кредитов у клиентов со статусом \"в разводе\" - 7,1%\n",
        "* Доля просроченных кредитов у клиентов со статусом \"женат/замужем\" - 7,5%\n",
        "* Доля просроченных кредитов у клиентов со статусом \"гражданский брак\" - 9,2%\n",
        "* Доля просроченных кредитов у клиентов со статусом \"не женат/не замужем\" - 9,7%\n",
        "\n",
        "Выводы: для клиентов со статусами: \"вдова/вдовец\", \"в разводе\", \"женат/замужем\" меньше вероятность просрочки выплаты по кредитам, для клиентов со статусами \"гражданский брак\", \"не женат/не замужем\" данная вероятность выше.\n",
        "\n",
        "Рекомендация: разница между вероятностями 3,2%, поэтому не рекомендуется наделять данную закономерность высоким весом при принятии решения о кредите.\n",
        "\n",
        "**Гипотеза 3 частично подтверждена**\n",
        "\n",
        "* доля просроченных кредитов для заемщиков с уровнем дохода от 50001 до 200000 - 8,5% \n",
        "* доля просроченных кредитов для заемщиков с уровнем дохолда от 200001 до 1000000 - 7,0%\n",
        "\n",
        "Для более точных выводов нужны дополнительные данные по клиентам с уровнем дохода от 0 до 30000, от 30001 до 50000, от 10000001 рублей.\n",
        "\n",
        "Рекомендация: провести дополнительное исследование на большей выборке данных.\n",
        "\n",
        "**Гипотеза 4 подтверждена**\n",
        "\n",
        "* доля просроченных кредитов, целью которых были операции с недвижимостью - 7,3%\n",
        "* доля просроченных кредитов, целью которых было проведение свадьбы - 7,9%\n",
        "* доля просроченных кредитов, целью которых было получение образования - 9,3%\n",
        "* доля просроченных кредитов, целью которых были операции с автомобилем - 9,3%\n",
        "\n",
        "Рекомендация: разница между минимальной и максимальной вероятностями 2%, поэтому не рекомендуется наделять данную закономерность высоким весом при принятии решения о кредите.\n",
        "\n",
        "**Общие выводы:**\n",
        "\n",
        "* Специалисты, которые занимаются построением модели кредитного скоринга, могут использовать зависимости из второй (семейной положение) и четвертой (цели кредита) гипотез\n",
        "* Необходимо собрать полную выборку для повторной проверки первой (количество детей) и третей (уровень дохода) гипотез\n",
        "\n",
        "\n",
        "\n",
        "\n",
        "\n",
        "\n",
        "    \n",
        "\n",
        "\n",
        "\n"
      ]
    }
  ],
  "metadata": {
    "ExecuteTimeLog": [
      {
        "duration": 77,
        "start_time": "2023-01-08T14:33:06.363Z"
      },
      {
        "duration": 43,
        "start_time": "2023-01-08T14:35:08.532Z"
      },
      {
        "duration": 450,
        "start_time": "2023-01-08T14:35:15.333Z"
      },
      {
        "duration": 20,
        "start_time": "2023-01-08T14:35:15.785Z"
      },
      {
        "duration": 15,
        "start_time": "2023-01-08T14:35:15.963Z"
      },
      {
        "duration": 9,
        "start_time": "2023-01-08T14:35:16.610Z"
      },
      {
        "duration": 31,
        "start_time": "2023-01-08T14:35:16.905Z"
      },
      {
        "duration": 4,
        "start_time": "2023-01-08T14:35:17.391Z"
      },
      {
        "duration": 7,
        "start_time": "2023-01-08T14:35:17.743Z"
      },
      {
        "duration": 4,
        "start_time": "2023-01-08T14:35:18.218Z"
      },
      {
        "duration": 7,
        "start_time": "2023-01-08T14:35:18.589Z"
      },
      {
        "duration": 4,
        "start_time": "2023-01-08T14:35:19.328Z"
      },
      {
        "duration": 30,
        "start_time": "2023-01-08T14:35:20.433Z"
      },
      {
        "duration": 9,
        "start_time": "2023-01-08T14:35:20.833Z"
      },
      {
        "duration": 4,
        "start_time": "2023-01-08T14:35:21.629Z"
      },
      {
        "duration": 10,
        "start_time": "2023-01-08T14:35:22.218Z"
      },
      {
        "duration": 27,
        "start_time": "2023-01-08T14:35:22.630Z"
      },
      {
        "duration": 19,
        "start_time": "2023-01-08T14:35:22.865Z"
      },
      {
        "duration": 3,
        "start_time": "2023-01-08T14:35:23.628Z"
      },
      {
        "duration": 10,
        "start_time": "2023-01-08T14:35:23.911Z"
      },
      {
        "duration": 6,
        "start_time": "2023-01-08T14:35:25.977Z"
      },
      {
        "duration": 4,
        "start_time": "2023-01-08T14:35:26.818Z"
      },
      {
        "duration": 8,
        "start_time": "2023-01-08T14:35:27.302Z"
      },
      {
        "duration": 696,
        "start_time": "2023-01-08T14:35:28.768Z"
      },
      {
        "duration": 22,
        "start_time": "2023-01-08T14:35:46.516Z"
      },
      {
        "duration": 38,
        "start_time": "2023-01-08T14:39:45.321Z"
      },
      {
        "duration": 60,
        "start_time": "2023-01-08T14:48:45.122Z"
      },
      {
        "duration": 12,
        "start_time": "2023-01-08T14:48:55.716Z"
      },
      {
        "duration": 9,
        "start_time": "2023-01-08T14:49:35.311Z"
      },
      {
        "duration": 11,
        "start_time": "2023-01-08T14:49:47.202Z"
      },
      {
        "duration": 3,
        "start_time": "2023-01-08T14:52:17.076Z"
      },
      {
        "duration": 23,
        "start_time": "2023-01-08T14:52:26.036Z"
      },
      {
        "duration": 25,
        "start_time": "2023-01-08T14:52:35.972Z"
      },
      {
        "duration": 19,
        "start_time": "2023-01-08T14:52:48.799Z"
      },
      {
        "duration": 8,
        "start_time": "2023-01-08T15:05:46.330Z"
      },
      {
        "duration": 17,
        "start_time": "2023-01-08T15:06:15.566Z"
      },
      {
        "duration": 14,
        "start_time": "2023-01-08T15:06:30.015Z"
      },
      {
        "duration": 13,
        "start_time": "2023-01-08T15:06:49.767Z"
      },
      {
        "duration": 18,
        "start_time": "2023-01-08T15:07:07.171Z"
      },
      {
        "duration": 18,
        "start_time": "2023-01-08T15:07:17.159Z"
      },
      {
        "duration": 12,
        "start_time": "2023-01-08T15:11:32.454Z"
      },
      {
        "duration": 10,
        "start_time": "2023-01-08T15:11:56.409Z"
      },
      {
        "duration": 8,
        "start_time": "2023-01-08T15:12:05.919Z"
      },
      {
        "duration": 7,
        "start_time": "2023-01-08T15:12:48.719Z"
      },
      {
        "duration": 90,
        "start_time": "2023-01-08T15:12:53.470Z"
      },
      {
        "duration": 22,
        "start_time": "2023-01-08T15:12:53.737Z"
      },
      {
        "duration": 16,
        "start_time": "2023-01-08T15:12:54.135Z"
      },
      {
        "duration": 10,
        "start_time": "2023-01-08T15:12:54.856Z"
      },
      {
        "duration": 32,
        "start_time": "2023-01-08T15:12:55.214Z"
      },
      {
        "duration": 4,
        "start_time": "2023-01-08T15:12:55.998Z"
      },
      {
        "duration": 9,
        "start_time": "2023-01-08T15:12:56.409Z"
      },
      {
        "duration": 5,
        "start_time": "2023-01-08T15:12:56.944Z"
      },
      {
        "duration": 7,
        "start_time": "2023-01-08T15:12:57.333Z"
      },
      {
        "duration": 5,
        "start_time": "2023-01-08T15:12:57.724Z"
      },
      {
        "duration": 33,
        "start_time": "2023-01-08T15:12:58.285Z"
      },
      {
        "duration": 11,
        "start_time": "2023-01-08T15:12:58.642Z"
      },
      {
        "duration": 4,
        "start_time": "2023-01-08T15:12:59.352Z"
      },
      {
        "duration": 11,
        "start_time": "2023-01-08T15:13:00.202Z"
      },
      {
        "duration": 19,
        "start_time": "2023-01-08T15:13:00.611Z"
      },
      {
        "duration": 18,
        "start_time": "2023-01-08T15:13:00.848Z"
      },
      {
        "duration": 3,
        "start_time": "2023-01-08T15:13:01.633Z"
      },
      {
        "duration": 15,
        "start_time": "2023-01-08T15:13:02.046Z"
      },
      {
        "duration": 8,
        "start_time": "2023-01-08T15:13:03.892Z"
      },
      {
        "duration": 4,
        "start_time": "2023-01-08T15:13:07.758Z"
      },
      {
        "duration": 12,
        "start_time": "2023-01-08T15:13:12.229Z"
      },
      {
        "duration": 24,
        "start_time": "2023-01-08T15:13:19.037Z"
      },
      {
        "duration": 9,
        "start_time": "2023-01-08T15:14:57.411Z"
      },
      {
        "duration": 9,
        "start_time": "2023-01-08T15:15:02.096Z"
      },
      {
        "duration": 10,
        "start_time": "2023-01-08T15:15:10.745Z"
      },
      {
        "duration": 67,
        "start_time": "2023-01-08T15:15:15.621Z"
      },
      {
        "duration": 21,
        "start_time": "2023-01-08T15:15:24.343Z"
      },
      {
        "duration": 15,
        "start_time": "2023-01-08T15:15:38.163Z"
      },
      {
        "duration": 9,
        "start_time": "2023-01-08T15:15:41.808Z"
      },
      {
        "duration": 8,
        "start_time": "2023-01-08T15:16:03.483Z"
      },
      {
        "duration": 7,
        "start_time": "2023-01-08T15:16:08.229Z"
      },
      {
        "duration": 7,
        "start_time": "2023-01-08T15:16:31.613Z"
      },
      {
        "duration": 7,
        "start_time": "2023-01-08T15:16:36.981Z"
      },
      {
        "duration": 7,
        "start_time": "2023-01-08T15:16:43.275Z"
      },
      {
        "duration": 86,
        "start_time": "2023-01-08T19:51:32.020Z"
      },
      {
        "duration": 73,
        "start_time": "2023-01-08T19:51:57.394Z"
      },
      {
        "duration": 73,
        "start_time": "2023-01-08T19:52:25.807Z"
      },
      {
        "duration": 4,
        "start_time": "2023-01-08T19:52:54.237Z"
      },
      {
        "duration": 57,
        "start_time": "2023-01-08T19:53:09.762Z"
      },
      {
        "duration": 12,
        "start_time": "2023-01-08T19:54:27.874Z"
      },
      {
        "duration": 562,
        "start_time": "2023-01-08T19:54:36.981Z"
      },
      {
        "duration": 25,
        "start_time": "2023-01-08T19:54:37.545Z"
      },
      {
        "duration": 16,
        "start_time": "2023-01-08T19:54:37.650Z"
      },
      {
        "duration": 10,
        "start_time": "2023-01-08T19:54:38.316Z"
      },
      {
        "duration": 35,
        "start_time": "2023-01-08T19:54:38.674Z"
      },
      {
        "duration": 4,
        "start_time": "2023-01-08T19:54:39.393Z"
      },
      {
        "duration": 10,
        "start_time": "2023-01-08T19:54:39.760Z"
      },
      {
        "duration": 4,
        "start_time": "2023-01-08T19:54:40.338Z"
      },
      {
        "duration": 8,
        "start_time": "2023-01-08T19:54:40.758Z"
      },
      {
        "duration": 5,
        "start_time": "2023-01-08T19:54:41.157Z"
      },
      {
        "duration": 36,
        "start_time": "2023-01-08T19:54:41.838Z"
      },
      {
        "duration": 11,
        "start_time": "2023-01-08T19:54:42.254Z"
      },
      {
        "duration": 4,
        "start_time": "2023-01-08T19:54:42.872Z"
      },
      {
        "duration": 13,
        "start_time": "2023-01-08T19:54:43.558Z"
      },
      {
        "duration": 22,
        "start_time": "2023-01-08T19:54:43.864Z"
      },
      {
        "duration": 20,
        "start_time": "2023-01-08T19:54:44.476Z"
      },
      {
        "duration": 4,
        "start_time": "2023-01-08T19:54:45.485Z"
      },
      {
        "duration": 11,
        "start_time": "2023-01-08T19:54:45.881Z"
      },
      {
        "duration": 7,
        "start_time": "2023-01-08T19:54:46.822Z"
      },
      {
        "duration": 4,
        "start_time": "2023-01-08T19:54:47.781Z"
      },
      {
        "duration": 12,
        "start_time": "2023-01-08T19:54:48.172Z"
      },
      {
        "duration": 17,
        "start_time": "2023-01-08T19:54:49.655Z"
      },
      {
        "duration": 1218,
        "start_time": "2023-01-08T19:55:59.404Z"
      },
      {
        "duration": 11,
        "start_time": "2023-01-08T19:56:17.938Z"
      },
      {
        "duration": 24,
        "start_time": "2023-01-08T19:57:16.244Z"
      },
      {
        "duration": 20,
        "start_time": "2023-01-08T19:57:30.106Z"
      },
      {
        "duration": 20,
        "start_time": "2023-01-08T19:57:42.880Z"
      },
      {
        "duration": 21,
        "start_time": "2023-01-08T19:57:47.004Z"
      },
      {
        "duration": 21,
        "start_time": "2023-01-08T19:57:53.958Z"
      },
      {
        "duration": 25,
        "start_time": "2023-01-08T19:59:42.156Z"
      },
      {
        "duration": 88,
        "start_time": "2023-01-08T20:02:09.584Z"
      },
      {
        "duration": 22,
        "start_time": "2023-01-08T20:02:17.111Z"
      },
      {
        "duration": 27,
        "start_time": "2023-01-08T20:05:44.097Z"
      },
      {
        "duration": 535,
        "start_time": "2023-01-09T06:50:22.705Z"
      },
      {
        "duration": 25,
        "start_time": "2023-01-09T06:50:23.242Z"
      },
      {
        "duration": 17,
        "start_time": "2023-01-09T06:50:23.380Z"
      },
      {
        "duration": 12,
        "start_time": "2023-01-09T06:50:24.073Z"
      },
      {
        "duration": 37,
        "start_time": "2023-01-09T06:50:24.408Z"
      },
      {
        "duration": 4,
        "start_time": "2023-01-09T06:50:25.120Z"
      },
      {
        "duration": 10,
        "start_time": "2023-01-09T06:50:25.501Z"
      },
      {
        "duration": 5,
        "start_time": "2023-01-09T06:50:26.204Z"
      },
      {
        "duration": 8,
        "start_time": "2023-01-09T06:50:26.569Z"
      },
      {
        "duration": 6,
        "start_time": "2023-01-09T06:50:26.949Z"
      },
      {
        "duration": 54,
        "start_time": "2023-01-09T06:50:27.565Z"
      },
      {
        "duration": 17,
        "start_time": "2023-01-09T06:50:27.932Z"
      },
      {
        "duration": 4,
        "start_time": "2023-01-09T06:50:28.857Z"
      },
      {
        "duration": 18,
        "start_time": "2023-01-09T06:50:29.613Z"
      },
      {
        "duration": 23,
        "start_time": "2023-01-09T06:50:30.008Z"
      },
      {
        "duration": 19,
        "start_time": "2023-01-09T06:50:30.228Z"
      },
      {
        "duration": 4,
        "start_time": "2023-01-09T06:50:30.892Z"
      },
      {
        "duration": 12,
        "start_time": "2023-01-09T06:50:31.404Z"
      },
      {
        "duration": 7,
        "start_time": "2023-01-09T06:50:32.671Z"
      },
      {
        "duration": 4,
        "start_time": "2023-01-09T06:50:33.564Z"
      },
      {
        "duration": 10,
        "start_time": "2023-01-09T06:50:33.984Z"
      },
      {
        "duration": 72,
        "start_time": "2023-01-09T06:50:35.513Z"
      },
      {
        "duration": 121,
        "start_time": "2023-01-09T06:50:49.076Z"
      },
      {
        "duration": 15,
        "start_time": "2023-01-09T06:58:01.834Z"
      },
      {
        "duration": 22,
        "start_time": "2023-01-09T06:58:46.856Z"
      },
      {
        "duration": 22,
        "start_time": "2023-01-09T06:59:54.586Z"
      },
      {
        "duration": 682,
        "start_time": "2023-01-09T08:24:46.313Z"
      },
      {
        "duration": 22,
        "start_time": "2023-01-09T08:24:46.997Z"
      },
      {
        "duration": 15,
        "start_time": "2023-01-09T08:24:47.028Z"
      },
      {
        "duration": 11,
        "start_time": "2023-01-09T08:24:47.712Z"
      },
      {
        "duration": 33,
        "start_time": "2023-01-09T08:24:48.048Z"
      },
      {
        "duration": 4,
        "start_time": "2023-01-09T08:24:48.877Z"
      },
      {
        "duration": 9,
        "start_time": "2023-01-09T08:24:49.272Z"
      },
      {
        "duration": 5,
        "start_time": "2023-01-09T08:24:49.843Z"
      },
      {
        "duration": 6,
        "start_time": "2023-01-09T08:24:50.260Z"
      },
      {
        "duration": 4,
        "start_time": "2023-01-09T08:24:50.729Z"
      },
      {
        "duration": 54,
        "start_time": "2023-01-09T08:24:51.538Z"
      },
      {
        "duration": 16,
        "start_time": "2023-01-09T08:24:51.974Z"
      },
      {
        "duration": 5,
        "start_time": "2023-01-09T08:24:53.024Z"
      },
      {
        "duration": 18,
        "start_time": "2023-01-09T08:24:54.256Z"
      },
      {
        "duration": 31,
        "start_time": "2023-01-09T08:24:55.109Z"
      },
      {
        "duration": 26,
        "start_time": "2023-01-09T08:24:55.249Z"
      },
      {
        "duration": 4,
        "start_time": "2023-01-09T08:24:56.050Z"
      },
      {
        "duration": 12,
        "start_time": "2023-01-09T08:24:56.660Z"
      },
      {
        "duration": 6,
        "start_time": "2023-01-09T08:24:57.398Z"
      },
      {
        "duration": 3,
        "start_time": "2023-01-09T08:24:58.416Z"
      },
      {
        "duration": 9,
        "start_time": "2023-01-09T08:24:58.816Z"
      },
      {
        "duration": 107,
        "start_time": "2023-01-09T08:30:15.615Z"
      },
      {
        "duration": 15,
        "start_time": "2023-01-09T08:30:23.826Z"
      },
      {
        "duration": 11,
        "start_time": "2023-01-09T08:30:40.377Z"
      },
      {
        "duration": 31,
        "start_time": "2023-01-09T08:31:25.226Z"
      },
      {
        "duration": 10,
        "start_time": "2023-01-09T08:31:31.455Z"
      },
      {
        "duration": 19,
        "start_time": "2023-01-09T08:31:38.872Z"
      },
      {
        "duration": 21,
        "start_time": "2023-01-09T08:32:25.807Z"
      },
      {
        "duration": 11,
        "start_time": "2023-01-09T08:32:32.444Z"
      },
      {
        "duration": 21,
        "start_time": "2023-01-09T08:33:05.615Z"
      },
      {
        "duration": 20,
        "start_time": "2023-01-09T08:33:53.812Z"
      },
      {
        "duration": 61,
        "start_time": "2023-01-09T08:34:29.766Z"
      },
      {
        "duration": 20,
        "start_time": "2023-01-09T08:34:52.255Z"
      },
      {
        "duration": 5,
        "start_time": "2023-01-09T08:47:52.014Z"
      },
      {
        "duration": 14,
        "start_time": "2023-01-09T08:50:23.586Z"
      },
      {
        "duration": 29,
        "start_time": "2023-01-09T08:51:00.373Z"
      },
      {
        "duration": 28,
        "start_time": "2023-01-09T08:51:05.761Z"
      },
      {
        "duration": 36,
        "start_time": "2023-01-09T08:51:48.118Z"
      },
      {
        "duration": 12,
        "start_time": "2023-01-09T08:54:09.669Z"
      },
      {
        "duration": 35,
        "start_time": "2023-01-09T08:54:18.581Z"
      },
      {
        "duration": 35,
        "start_time": "2023-01-09T08:54:34.269Z"
      },
      {
        "duration": 35,
        "start_time": "2023-01-09T08:54:41.535Z"
      },
      {
        "duration": 33,
        "start_time": "2023-01-09T08:59:15.205Z"
      },
      {
        "duration": 32,
        "start_time": "2023-01-09T09:01:46.422Z"
      },
      {
        "duration": 42,
        "start_time": "2023-01-09T09:01:59.844Z"
      },
      {
        "duration": 12,
        "start_time": "2023-01-09T09:02:29.233Z"
      },
      {
        "duration": 9,
        "start_time": "2023-01-09T09:02:38.421Z"
      },
      {
        "duration": 11,
        "start_time": "2023-01-09T09:02:58.303Z"
      },
      {
        "duration": 155,
        "start_time": "2023-01-09T09:03:02.364Z"
      },
      {
        "duration": 16,
        "start_time": "2023-01-09T09:03:02.521Z"
      },
      {
        "duration": 22,
        "start_time": "2023-01-09T09:03:02.724Z"
      },
      {
        "duration": 15,
        "start_time": "2023-01-09T09:03:03.248Z"
      },
      {
        "duration": 58,
        "start_time": "2023-01-09T09:03:03.569Z"
      },
      {
        "duration": 5,
        "start_time": "2023-01-09T09:03:05.730Z"
      },
      {
        "duration": 13,
        "start_time": "2023-01-09T09:03:05.737Z"
      },
      {
        "duration": 7,
        "start_time": "2023-01-09T09:03:05.851Z"
      },
      {
        "duration": 9,
        "start_time": "2023-01-09T09:03:06.591Z"
      },
      {
        "duration": 12,
        "start_time": "2023-01-09T09:03:06.603Z"
      },
      {
        "duration": 39,
        "start_time": "2023-01-09T09:03:06.618Z"
      },
      {
        "duration": 11,
        "start_time": "2023-01-09T09:03:06.718Z"
      },
      {
        "duration": 4,
        "start_time": "2023-01-09T09:03:07.335Z"
      },
      {
        "duration": 11,
        "start_time": "2023-01-09T09:03:07.858Z"
      },
      {
        "duration": 20,
        "start_time": "2023-01-09T09:03:08.229Z"
      },
      {
        "duration": 18,
        "start_time": "2023-01-09T09:03:08.430Z"
      },
      {
        "duration": 4,
        "start_time": "2023-01-09T09:03:09.317Z"
      },
      {
        "duration": 13,
        "start_time": "2023-01-09T09:03:09.322Z"
      },
      {
        "duration": 6,
        "start_time": "2023-01-09T09:03:10.464Z"
      },
      {
        "duration": 3,
        "start_time": "2023-01-09T09:03:12.027Z"
      },
      {
        "duration": 11,
        "start_time": "2023-01-09T09:03:12.563Z"
      },
      {
        "duration": 22,
        "start_time": "2023-01-09T09:03:14.052Z"
      },
      {
        "duration": 73,
        "start_time": "2023-01-09T09:03:15.922Z"
      },
      {
        "duration": 19,
        "start_time": "2023-01-09T09:03:17.112Z"
      },
      {
        "duration": 30,
        "start_time": "2023-01-09T09:03:23.119Z"
      },
      {
        "duration": 28,
        "start_time": "2023-01-09T09:03:27.484Z"
      },
      {
        "duration": 21,
        "start_time": "2023-01-09T09:09:24.003Z"
      },
      {
        "duration": 21,
        "start_time": "2023-01-09T09:10:02.489Z"
      },
      {
        "duration": 24,
        "start_time": "2023-01-09T09:10:32.435Z"
      },
      {
        "duration": 72,
        "start_time": "2023-01-09T09:10:38.366Z"
      },
      {
        "duration": 15,
        "start_time": "2023-01-09T09:10:38.813Z"
      },
      {
        "duration": 23,
        "start_time": "2023-01-09T09:10:39.217Z"
      },
      {
        "duration": 15,
        "start_time": "2023-01-09T09:10:40.013Z"
      },
      {
        "duration": 44,
        "start_time": "2023-01-09T09:10:40.048Z"
      },
      {
        "duration": 3,
        "start_time": "2023-01-09T09:10:40.720Z"
      },
      {
        "duration": 9,
        "start_time": "2023-01-09T09:10:41.037Z"
      },
      {
        "duration": 4,
        "start_time": "2023-01-09T09:10:41.557Z"
      },
      {
        "duration": 5,
        "start_time": "2023-01-09T09:10:41.920Z"
      },
      {
        "duration": 5,
        "start_time": "2023-01-09T09:10:42.257Z"
      },
      {
        "duration": 33,
        "start_time": "2023-01-09T09:10:42.819Z"
      },
      {
        "duration": 11,
        "start_time": "2023-01-09T09:10:43.190Z"
      },
      {
        "duration": 4,
        "start_time": "2023-01-09T09:10:43.729Z"
      },
      {
        "duration": 11,
        "start_time": "2023-01-09T09:10:44.312Z"
      },
      {
        "duration": 19,
        "start_time": "2023-01-09T09:10:44.718Z"
      },
      {
        "duration": 17,
        "start_time": "2023-01-09T09:10:44.878Z"
      },
      {
        "duration": 3,
        "start_time": "2023-01-09T09:10:45.482Z"
      },
      {
        "duration": 16,
        "start_time": "2023-01-09T09:10:45.690Z"
      },
      {
        "duration": 8,
        "start_time": "2023-01-09T09:10:46.322Z"
      },
      {
        "duration": 4,
        "start_time": "2023-01-09T09:10:47.694Z"
      },
      {
        "duration": 9,
        "start_time": "2023-01-09T09:10:48.085Z"
      },
      {
        "duration": 26,
        "start_time": "2023-01-09T09:11:00.589Z"
      },
      {
        "duration": 40,
        "start_time": "2023-01-09T09:12:27.128Z"
      },
      {
        "duration": 45,
        "start_time": "2023-01-09T09:15:02.350Z"
      },
      {
        "duration": 32,
        "start_time": "2023-01-09T09:15:05.929Z"
      },
      {
        "duration": 40,
        "start_time": "2023-01-09T09:15:16.128Z"
      },
      {
        "duration": 18,
        "start_time": "2023-01-09T09:17:33.990Z"
      },
      {
        "duration": 18,
        "start_time": "2023-01-09T09:17:39.140Z"
      },
      {
        "duration": 21,
        "start_time": "2023-01-09T09:18:28.738Z"
      },
      {
        "duration": 22,
        "start_time": "2023-01-09T09:20:53.122Z"
      },
      {
        "duration": 36,
        "start_time": "2023-01-09T09:21:05.132Z"
      },
      {
        "duration": 16,
        "start_time": "2023-01-09T09:29:54.089Z"
      },
      {
        "duration": 23,
        "start_time": "2023-01-09T09:30:05.316Z"
      },
      {
        "duration": 16,
        "start_time": "2023-01-09T09:30:31.973Z"
      },
      {
        "duration": 17,
        "start_time": "2023-01-09T09:30:42.337Z"
      },
      {
        "duration": 16,
        "start_time": "2023-01-09T09:31:24.353Z"
      },
      {
        "duration": 34,
        "start_time": "2023-01-09T09:31:58.852Z"
      },
      {
        "duration": 35,
        "start_time": "2023-01-09T09:34:12.357Z"
      },
      {
        "duration": 32,
        "start_time": "2023-01-09T10:09:01.943Z"
      },
      {
        "duration": 31,
        "start_time": "2023-01-09T10:10:02.910Z"
      },
      {
        "duration": 505,
        "start_time": "2023-01-09T11:51:03.094Z"
      },
      {
        "duration": 33,
        "start_time": "2023-01-09T11:51:03.601Z"
      },
      {
        "duration": 32,
        "start_time": "2023-01-09T11:51:03.636Z"
      },
      {
        "duration": 28,
        "start_time": "2023-01-09T11:51:03.671Z"
      },
      {
        "duration": 41,
        "start_time": "2023-01-09T11:51:03.702Z"
      },
      {
        "duration": 4,
        "start_time": "2023-01-09T11:51:03.745Z"
      },
      {
        "duration": 43,
        "start_time": "2023-01-09T11:51:03.751Z"
      },
      {
        "duration": 4,
        "start_time": "2023-01-09T11:51:03.796Z"
      },
      {
        "duration": 9,
        "start_time": "2023-01-09T11:51:03.802Z"
      },
      {
        "duration": 4,
        "start_time": "2023-01-09T11:51:03.813Z"
      },
      {
        "duration": 36,
        "start_time": "2023-01-09T11:51:03.819Z"
      },
      {
        "duration": 20,
        "start_time": "2023-01-09T11:51:03.862Z"
      },
      {
        "duration": 6,
        "start_time": "2023-01-09T11:51:03.884Z"
      },
      {
        "duration": 15,
        "start_time": "2023-01-09T11:51:03.893Z"
      },
      {
        "duration": 19,
        "start_time": "2023-01-09T11:51:03.910Z"
      },
      {
        "duration": 44,
        "start_time": "2023-01-09T11:51:03.931Z"
      },
      {
        "duration": 8,
        "start_time": "2023-01-09T11:51:03.980Z"
      },
      {
        "duration": 13,
        "start_time": "2023-01-09T11:51:03.990Z"
      },
      {
        "duration": 6,
        "start_time": "2023-01-09T11:51:04.005Z"
      },
      {
        "duration": 4,
        "start_time": "2023-01-09T11:51:04.012Z"
      },
      {
        "duration": 10,
        "start_time": "2023-01-09T11:51:04.018Z"
      },
      {
        "duration": 68,
        "start_time": "2023-01-09T11:51:04.030Z"
      },
      {
        "duration": 104,
        "start_time": "2023-01-09T11:51:04.099Z"
      },
      {
        "duration": 0,
        "start_time": "2023-01-09T11:51:04.205Z"
      },
      {
        "duration": 0,
        "start_time": "2023-01-09T11:51:04.206Z"
      },
      {
        "duration": 0,
        "start_time": "2023-01-09T11:51:04.207Z"
      },
      {
        "duration": 45,
        "start_time": "2023-01-09T19:52:49.670Z"
      },
      {
        "duration": 50,
        "start_time": "2023-01-09T20:24:36.779Z"
      },
      {
        "duration": 758,
        "start_time": "2023-01-09T20:24:44.599Z"
      },
      {
        "duration": 23,
        "start_time": "2023-01-09T20:24:45.944Z"
      },
      {
        "duration": 36,
        "start_time": "2023-01-09T20:24:53.497Z"
      },
      {
        "duration": 15,
        "start_time": "2023-01-09T20:33:30.311Z"
      },
      {
        "duration": 32,
        "start_time": "2023-01-09T20:33:30.932Z"
      },
      {
        "duration": 4,
        "start_time": "2023-01-09T20:33:31.827Z"
      },
      {
        "duration": 20,
        "start_time": "2023-01-09T20:33:32.206Z"
      },
      {
        "duration": 5,
        "start_time": "2023-01-09T20:33:32.729Z"
      },
      {
        "duration": 6,
        "start_time": "2023-01-09T20:33:33.075Z"
      },
      {
        "duration": 5,
        "start_time": "2023-01-09T20:33:33.468Z"
      },
      {
        "duration": 47,
        "start_time": "2023-01-09T20:33:34.009Z"
      },
      {
        "duration": 10,
        "start_time": "2023-01-09T20:33:34.393Z"
      },
      {
        "duration": 4,
        "start_time": "2023-01-09T20:33:34.982Z"
      },
      {
        "duration": 12,
        "start_time": "2023-01-09T20:33:35.649Z"
      },
      {
        "duration": 24,
        "start_time": "2023-01-09T20:33:36.101Z"
      },
      {
        "duration": 18,
        "start_time": "2023-01-09T20:33:36.303Z"
      },
      {
        "duration": 5,
        "start_time": "2023-01-09T20:33:36.930Z"
      },
      {
        "duration": 10,
        "start_time": "2023-01-09T20:33:37.983Z"
      },
      {
        "duration": 8,
        "start_time": "2023-01-09T20:34:14.026Z"
      },
      {
        "duration": 3,
        "start_time": "2023-01-09T20:34:15.698Z"
      },
      {
        "duration": 11,
        "start_time": "2023-01-09T20:34:16.569Z"
      },
      {
        "duration": 44,
        "start_time": "2023-01-09T20:34:27.306Z"
      },
      {
        "duration": 37,
        "start_time": "2023-01-09T20:41:25.988Z"
      }
    ],
    "colab": {
      "provenance": []
    },
    "kernelspec": {
      "display_name": "Python 3 (ipykernel)",
      "language": "python",
      "name": "python3"
    },
    "language_info": {
      "codemirror_mode": {
        "name": "ipython",
        "version": 3
      },
      "file_extension": ".py",
      "mimetype": "text/x-python",
      "name": "python",
      "nbconvert_exporter": "python",
      "pygments_lexer": "ipython3",
      "version": "3.9.5"
    },
    "toc": {
      "base_numbering": 1,
      "nav_menu": {},
      "number_sections": true,
      "sideBar": true,
      "skip_h1_title": true,
      "title_cell": "Table of Contents",
      "title_sidebar": "Contents",
      "toc_cell": false,
      "toc_position": {
        "height": "calc(100% - 180px)",
        "left": "10px",
        "top": "150px",
        "width": "165px"
      },
      "toc_section_display": true,
      "toc_window_display": true
    }
  },
  "nbformat": 4,
  "nbformat_minor": 5
}