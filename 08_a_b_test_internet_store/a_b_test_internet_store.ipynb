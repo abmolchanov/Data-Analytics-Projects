{
 "cells": [
  {
   "cell_type": "markdown",
   "metadata": {},
   "source": [
    "<div style=\"border:solid Chocolate 2px; padding: 40px\">\n",
    "\n",
    "Андрей, привет, меня зовут Станислав Коротченко, и я буду проверять твой проект. Предлагаю общаться на «ты», но если это неудобно - дай знать, и мы перейдем на «вы».\n",
    "Это учебный проект и здесь не стоит бояться делать ошибки, я хочу поделиться своим опытом и помочь тебе стать аналитиком данных.\n",
    "Уже выполнена большая работа над проектом, давай сделаем его еще лучше. Ниже ты найдешь мои комментарии - пожалуйста, не перемещай, не изменяй и не удаляй их. Я буду использовать цветовую разметку:\n",
    "\n",
    "<div class=\"alert alert-danger\">\n",
    "<b>Комментарий с замечанием ревьюера:</b> Так выделены самые важные замечания. Как только ты их исправишь проект будет принят. </div>\n",
    "\n",
    "<div class=\"alert alert-warning\">\n",
    "<b>Комментарий с небольшим замечанием или советом ревьюера:</b> Так выделены небольшие замечания или советы. \n",
    "</div>\n",
    "\n",
    "<div class=\"alert alert-success\">\n",
    "<b>Комментарий с комплиментом ревьюера:</b> Так я выделяю все остальные комментарии.</div>\n",
    "\n",
    "Давай работать над проектом в диалоге: если ты что-то меняешь в проекте или отвечаешь на мои комментарии — пиши об этом.\n",
    "Мне будет легче отследить изменения, если ты выделишь свои комментарии:\n",
    "<div class=\"alert alert-info\"> <b>Комментарий студента:</b> Например, вот так.</div>\n",
    "\n",
    "Всё это поможет выполнить повторную проверку твоего проекта оперативнее.\n",
    "</div>\n"
   ]
  },
  {
   "cell_type": "markdown",
   "metadata": {},
   "source": [
    "<div style=\"border:solid Chocolate 2px; padding: 40px\">\n",
    "\n",
    "# Общий вывод ревьюера\n",
    "\n",
    "<div class=\"alert alert-success\">\n",
    "\n",
    "Проделана хорошая аналитическая работа. Код написан чисто, соблюдена структура проекта, написаны логичные и обоснованные выводы. Проект выполнен на хорошем аналитическом уровне, поэтому замечаний не много. Я отметил в проекте моменты, на которые необходимо обратить внимание, исправь их и проект будет принят.\n",
    "\n",
    "- по ссылкам ниже интересные материалы по А/В тестам\n",
    "  \n",
    "    \n",
    "https://habr.com/ru/company/avito/blog/571094/\n",
    "\n",
    "https://habr.com/ru/company/yandex/blog/476826/\n",
    "\n",
    "https://academy.yandex.ru/journal/kak-provesti-a-b-testirovanie-6-prostykh-shagov\n",
    "\n",
    "https://habr.com/ru/company/yandex/blog/342704/\n",
    "\n",
    "https://r-analytics.blogspot.com/2013/10/blog-post_13.html \n",
    "\n",
    "</div>\n",
    "\n",
    "<div class=\"alert alert-danger\">\n",
    "\n",
    "- добавь, пожалуйста, подписи осей для всех графиков в проекте\n",
    "\n",
    "</div>\n",
    "\n",
    "\n"
   ]
  },
  {
   "cell_type": "markdown",
   "metadata": {},
   "source": [
    "<div style=\"border:solid Chocolate 2px; padding: 40px\">\n",
    "\n",
    "# Общий вывод ревьюера в2\n",
    "\n",
    "<div class=\"alert alert-success\">\n",
    "\n",
    "Отлично, замечания исправлены корректно, работу принимаю и желаю успеха в следующих проектах"
   ]
  },
  {
   "cell_type": "markdown",
   "metadata": {},
   "source": [
    "# Проект по анализу гипотез для увеличения выручки интернет-магазина"
   ]
  },
  {
   "cell_type": "markdown",
   "metadata": {},
   "source": [
    "## Описание проекта"
   ]
  },
  {
   "cell_type": "markdown",
   "metadata": {},
   "source": [
    "Вместе с отделом маркетинга подготовлен список гипотез для увеличения выручки.\n",
    "Необходимо приоритизируйте гипотезы, запустить A/B-тест и проанализируйте результаты. "
   ]
  },
  {
   "cell_type": "markdown",
   "metadata": {},
   "source": [
    "**Часть 1. Приоритизация гипотез.**"
   ]
  },
  {
   "cell_type": "markdown",
   "metadata": {},
   "source": [
    "**Задачи:**\n",
    "* Приоритизировать гипотезы через фреймворк ICE. \n",
    "* Приоритизировать гипотезы через фреймворк RICE.\n",
    "* Проанализировать изменение приоритизацим гипотез при применении RICE вместо ICE."
   ]
  },
  {
   "cell_type": "markdown",
   "metadata": {},
   "source": [
    "**Часть 2. Анализ A/B-теста**"
   ]
  },
  {
   "cell_type": "markdown",
   "metadata": {},
   "source": [
    "**Задачи:**\n",
    "\n",
    "Проанализировать A/B-тест:\n",
    "* Построить график кумулятивной выручки по группам.\n",
    "* Построить график кумулятивного среднего чека по группам.\n",
    "* Построить график относительного изменения кумулятивного среднего чека группы B к группе A. \n",
    "* Построить график кумулятивного среднего количества заказов на посетителя по группам.\n",
    "* Построить график относительного изменения кумулятивного среднего количества заказов на посетителя группы B к группе A. \n",
    "* Построить точечный график количества заказов по пользователям.\n",
    "* Посчитать 95-й и 99-й перцентили количества заказов на пользователя. Выбрать границу для определения аномальных пользователей.\n",
    "* Построить точечный график стоимостей заказов. \n",
    "* Посчитать 95-й и 99-й перцентили стоимости заказов. Выбрать границу для определения аномальных заказов.\n",
    "* Посчитать статистическую значимость различий в среднем количестве заказов на посетителя между группами по «сырым» данным. \n",
    "* Посчитать статистическую значимость различий в среднем чеке заказа между группами по «сырым» данным. \n",
    "* Посчитать статистическую значимость различий в среднем количестве заказов на посетителя между группами по «очищенным» данным. \n",
    "* Посчитать статистическую значимость различий в среднем чеке заказа между группами по «очищенным» данным. \n",
    "\n",
    "Принять решение по результатам теста и объяснить его:\n",
    "* Остановить тест, зафиксировать победу одной из групп\n",
    "* Остановить тест, зафиксировать отсутствие различий между группами\n",
    "* Продолжить тест."
   ]
  },
  {
   "cell_type": "markdown",
   "metadata": {},
   "source": [
    "## Описание данных"
   ]
  },
  {
   "cell_type": "markdown",
   "metadata": {},
   "source": [
    "**Данные для первой части**\n",
    "\n",
    "Файл /datasets/hypothesis.csv. \n",
    "\n",
    "* Hypothesis — краткое описание гипотезы;\n",
    "* Reach — охват пользователей по 10-балльной шкале;\n",
    "* Impact — влияние на пользователей по 10-балльной шкале;\n",
    "* Confidence — уверенность в гипотезе по 10-балльной шкале;\n",
    "* Efforts — затраты ресурсов на проверку гипотезы по 10-балльной шкале. Чем больше значение Efforts, тем дороже проверка гипотезы.\n",
    "\n",
    "**Данные для второй части**\n",
    "\n",
    "Файл /datasets/orders.csv.\n",
    "\n",
    "* transactionId — идентификатор заказа;\n",
    "* visitorId — идентификатор пользователя, совершившего заказ;\n",
    "* date — дата, когда был совершён заказ;\n",
    "* revenue — выручка заказа;\n",
    "* group — группа A/B-теста, в которую попал заказ.\n",
    "\n",
    "Файл /datasets/visitors.csv.\n",
    "\n",
    "* date — дата;\n",
    "* group — группа A/B-теста;\n",
    "* visitors — количество пользователей в указанную дату в указанной группе A/B-теста"
   ]
  },
  {
   "cell_type": "markdown",
   "metadata": {},
   "source": [
    "<div class=\"alert alert-success\">\n",
    "<b>Комментарий с комплиментом ревьюера:</b> \n",
    "  \n",
    "\n",
    "Отличная вводная часть, полное описание предстоящих задач.  \n",
    "<div>\n"
   ]
  },
  {
   "cell_type": "code",
   "execution_count": 1,
   "metadata": {},
   "outputs": [],
   "source": [
    "# Импорт необходимых библиотек\n",
    "import pandas as pd\n",
    "import datetime as dt\n",
    "import numpy as np\n",
    "import matplotlib.pyplot as plt\n",
    "import scipy.stats as stats"
   ]
  },
  {
   "cell_type": "markdown",
   "metadata": {},
   "source": [
    "##  Приоритизация гипотез."
   ]
  },
  {
   "cell_type": "code",
   "execution_count": 2,
   "metadata": {
    "scrolled": true
   },
   "outputs": [
    {
     "data": {
      "text/html": [
       "<div>\n",
       "<style scoped>\n",
       "    .dataframe tbody tr th:only-of-type {\n",
       "        vertical-align: middle;\n",
       "    }\n",
       "\n",
       "    .dataframe tbody tr th {\n",
       "        vertical-align: top;\n",
       "    }\n",
       "\n",
       "    .dataframe thead th {\n",
       "        text-align: right;\n",
       "    }\n",
       "</style>\n",
       "<table border=\"1\" class=\"dataframe\">\n",
       "  <thead>\n",
       "    <tr style=\"text-align: right;\">\n",
       "      <th></th>\n",
       "      <th>Hypothesis</th>\n",
       "      <th>Reach</th>\n",
       "      <th>Impact</th>\n",
       "      <th>Confidence</th>\n",
       "      <th>Efforts</th>\n",
       "    </tr>\n",
       "  </thead>\n",
       "  <tbody>\n",
       "    <tr>\n",
       "      <th>0</th>\n",
       "      <td>Добавить два новых канала привлечения трафика, что позволит привлекать на 30% больше пользователей</td>\n",
       "      <td>3</td>\n",
       "      <td>10</td>\n",
       "      <td>8</td>\n",
       "      <td>6</td>\n",
       "    </tr>\n",
       "    <tr>\n",
       "      <th>1</th>\n",
       "      <td>Запустить собственную службу доставки, что сократит срок доставки заказов</td>\n",
       "      <td>2</td>\n",
       "      <td>5</td>\n",
       "      <td>4</td>\n",
       "      <td>10</td>\n",
       "    </tr>\n",
       "    <tr>\n",
       "      <th>2</th>\n",
       "      <td>Добавить блоки рекомендаций товаров на сайт интернет магазина, чтобы повысить конверсию и средний чек заказа</td>\n",
       "      <td>8</td>\n",
       "      <td>3</td>\n",
       "      <td>7</td>\n",
       "      <td>3</td>\n",
       "    </tr>\n",
       "    <tr>\n",
       "      <th>3</th>\n",
       "      <td>Изменить структура категорий, что увеличит конверсию, т.к. пользователи быстрее найдут нужный товар</td>\n",
       "      <td>8</td>\n",
       "      <td>3</td>\n",
       "      <td>3</td>\n",
       "      <td>8</td>\n",
       "    </tr>\n",
       "    <tr>\n",
       "      <th>4</th>\n",
       "      <td>Изменить цвет фона главной страницы, чтобы увеличить вовлеченность пользователей</td>\n",
       "      <td>3</td>\n",
       "      <td>1</td>\n",
       "      <td>1</td>\n",
       "      <td>1</td>\n",
       "    </tr>\n",
       "    <tr>\n",
       "      <th>5</th>\n",
       "      <td>Добавить страницу отзывов клиентов о магазине, что позволит увеличить количество заказов</td>\n",
       "      <td>3</td>\n",
       "      <td>2</td>\n",
       "      <td>2</td>\n",
       "      <td>3</td>\n",
       "    </tr>\n",
       "    <tr>\n",
       "      <th>6</th>\n",
       "      <td>Показать на главной странице баннеры с актуальными акциями и распродажами, чтобы увеличить конверсию</td>\n",
       "      <td>5</td>\n",
       "      <td>3</td>\n",
       "      <td>8</td>\n",
       "      <td>3</td>\n",
       "    </tr>\n",
       "    <tr>\n",
       "      <th>7</th>\n",
       "      <td>Добавить форму подписки на все основные страницы, чтобы собрать базу клиентов для email-рассылок</td>\n",
       "      <td>10</td>\n",
       "      <td>7</td>\n",
       "      <td>8</td>\n",
       "      <td>5</td>\n",
       "    </tr>\n",
       "    <tr>\n",
       "      <th>8</th>\n",
       "      <td>Запустить акцию, дающую скидку на товар в день рождения</td>\n",
       "      <td>1</td>\n",
       "      <td>9</td>\n",
       "      <td>9</td>\n",
       "      <td>5</td>\n",
       "    </tr>\n",
       "  </tbody>\n",
       "</table>\n",
       "</div>"
      ],
      "text/plain": [
       "                                                                                                     Hypothesis  \\\n",
       "0  Добавить два новых канала привлечения трафика, что позволит привлекать на 30% больше пользователей             \n",
       "1  Запустить собственную службу доставки, что сократит срок доставки заказов                                      \n",
       "2  Добавить блоки рекомендаций товаров на сайт интернет магазина, чтобы повысить конверсию и средний чек заказа   \n",
       "3  Изменить структура категорий, что увеличит конверсию, т.к. пользователи быстрее найдут нужный товар            \n",
       "4  Изменить цвет фона главной страницы, чтобы увеличить вовлеченность пользователей                               \n",
       "5  Добавить страницу отзывов клиентов о магазине, что позволит увеличить количество заказов                       \n",
       "6  Показать на главной странице баннеры с актуальными акциями и распродажами, чтобы увеличить конверсию           \n",
       "7  Добавить форму подписки на все основные страницы, чтобы собрать базу клиентов для email-рассылок               \n",
       "8  Запустить акцию, дающую скидку на товар в день рождения                                                        \n",
       "\n",
       "   Reach  Impact  Confidence  Efforts  \n",
       "0  3      10      8           6        \n",
       "1  2      5       4           10       \n",
       "2  8      3       7           3        \n",
       "3  8      3       3           8        \n",
       "4  3      1       1           1        \n",
       "5  3      2       2           3        \n",
       "6  5      3       8           3        \n",
       "7  10     7       8           5        \n",
       "8  1      9       9           5        "
      ]
     },
     "execution_count": 2,
     "metadata": {},
     "output_type": "execute_result"
    }
   ],
   "source": [
    "# выгрузка данных из файла hypothesis.csv\n",
    "\n",
    "data = pd.read_csv('/datasets/hypothesis.csv')\n",
    "\n",
    "# вывод содержимого датафрейма\n",
    "\n",
    "pd.set_option('display.max_colwidth', False)\n",
    "data"
   ]
  },
  {
   "cell_type": "markdown",
   "metadata": {},
   "source": [
    "\n",
    "<div class=\"alert alert-warning\">\n",
    "<b>Комментарий с советом ревьюера:</b> \n",
    "    \n",
    "Чтобы названия гипотез выводились целиком, используй настройку pd.set_option('display.max_colwidth', False)\n",
    " </div>\n"
   ]
  },
  {
   "cell_type": "markdown",
   "metadata": {},
   "source": [
    "<div class=\"alert alert-info\"> <b>Комментарий студента:</b> Сделано.</div>"
   ]
  },
  {
   "cell_type": "markdown",
   "metadata": {},
   "source": [
    "<div class=\"alert alert-success\">\n",
    "<b>Комментарий с комплиментом ревьюера в2:</b> \n",
    "  \n",
    "\n",
    "Отлично  \n",
    "<div>\n"
   ]
  },
  {
   "cell_type": "markdown",
   "metadata": {},
   "source": [
    "### Приоритизация гипотез через фреймворк ICE"
   ]
  },
  {
   "cell_type": "code",
   "execution_count": 3,
   "metadata": {},
   "outputs": [
    {
     "data": {
      "text/html": [
       "<div>\n",
       "<style scoped>\n",
       "    .dataframe tbody tr th:only-of-type {\n",
       "        vertical-align: middle;\n",
       "    }\n",
       "\n",
       "    .dataframe tbody tr th {\n",
       "        vertical-align: top;\n",
       "    }\n",
       "\n",
       "    .dataframe thead th {\n",
       "        text-align: right;\n",
       "    }\n",
       "</style>\n",
       "<table border=\"1\" class=\"dataframe\">\n",
       "  <thead>\n",
       "    <tr style=\"text-align: right;\">\n",
       "      <th></th>\n",
       "      <th>Hypothesis</th>\n",
       "      <th>ICE</th>\n",
       "    </tr>\n",
       "  </thead>\n",
       "  <tbody>\n",
       "    <tr>\n",
       "      <th>8</th>\n",
       "      <td>Запустить акцию, дающую скидку на товар в день рождения</td>\n",
       "      <td>16.2</td>\n",
       "    </tr>\n",
       "    <tr>\n",
       "      <th>0</th>\n",
       "      <td>Добавить два новых канала привлечения трафика, что позволит привлекать на 30% больше пользователей</td>\n",
       "      <td>13.3</td>\n",
       "    </tr>\n",
       "    <tr>\n",
       "      <th>7</th>\n",
       "      <td>Добавить форму подписки на все основные страницы, чтобы собрать базу клиентов для email-рассылок</td>\n",
       "      <td>11.2</td>\n",
       "    </tr>\n",
       "    <tr>\n",
       "      <th>6</th>\n",
       "      <td>Показать на главной странице баннеры с актуальными акциями и распродажами, чтобы увеличить конверсию</td>\n",
       "      <td>8.0</td>\n",
       "    </tr>\n",
       "    <tr>\n",
       "      <th>2</th>\n",
       "      <td>Добавить блоки рекомендаций товаров на сайт интернет магазина, чтобы повысить конверсию и средний чек заказа</td>\n",
       "      <td>7.0</td>\n",
       "    </tr>\n",
       "    <tr>\n",
       "      <th>1</th>\n",
       "      <td>Запустить собственную службу доставки, что сократит срок доставки заказов</td>\n",
       "      <td>2.0</td>\n",
       "    </tr>\n",
       "    <tr>\n",
       "      <th>5</th>\n",
       "      <td>Добавить страницу отзывов клиентов о магазине, что позволит увеличить количество заказов</td>\n",
       "      <td>1.3</td>\n",
       "    </tr>\n",
       "    <tr>\n",
       "      <th>3</th>\n",
       "      <td>Изменить структура категорий, что увеличит конверсию, т.к. пользователи быстрее найдут нужный товар</td>\n",
       "      <td>1.1</td>\n",
       "    </tr>\n",
       "    <tr>\n",
       "      <th>4</th>\n",
       "      <td>Изменить цвет фона главной страницы, чтобы увеличить вовлеченность пользователей</td>\n",
       "      <td>1.0</td>\n",
       "    </tr>\n",
       "  </tbody>\n",
       "</table>\n",
       "</div>"
      ],
      "text/plain": [
       "                                                                                                     Hypothesis  \\\n",
       "8  Запустить акцию, дающую скидку на товар в день рождения                                                        \n",
       "0  Добавить два новых канала привлечения трафика, что позволит привлекать на 30% больше пользователей             \n",
       "7  Добавить форму подписки на все основные страницы, чтобы собрать базу клиентов для email-рассылок               \n",
       "6  Показать на главной странице баннеры с актуальными акциями и распродажами, чтобы увеличить конверсию           \n",
       "2  Добавить блоки рекомендаций товаров на сайт интернет магазина, чтобы повысить конверсию и средний чек заказа   \n",
       "1  Запустить собственную службу доставки, что сократит срок доставки заказов                                      \n",
       "5  Добавить страницу отзывов клиентов о магазине, что позволит увеличить количество заказов                       \n",
       "3  Изменить структура категорий, что увеличит конверсию, т.к. пользователи быстрее найдут нужный товар            \n",
       "4  Изменить цвет фона главной страницы, чтобы увеличить вовлеченность пользователей                               \n",
       "\n",
       "    ICE  \n",
       "8  16.2  \n",
       "0  13.3  \n",
       "7  11.2  \n",
       "6  8.0   \n",
       "2  7.0   \n",
       "1  2.0   \n",
       "5  1.3   \n",
       "3  1.1   \n",
       "4  1.0   "
      ]
     },
     "execution_count": 3,
     "metadata": {},
     "output_type": "execute_result"
    }
   ],
   "source": [
    "# Расчет ICE и сохрание результатов в отдельный столбец\n",
    "\n",
    "data['ICE'] = round(data['Impact']*data['Confidence']/data['Efforts'],1)\n",
    "\n",
    "\n",
    "# Вывод названия категории и приоритета \n",
    "\n",
    "data[['Hypothesis', 'ICE']].sort_values(by='ICE', ascending=False)"
   ]
  },
  {
   "cell_type": "markdown",
   "metadata": {},
   "source": [
    "### Приоритизация гипотез через фреймворк RICE"
   ]
  },
  {
   "cell_type": "code",
   "execution_count": 4,
   "metadata": {},
   "outputs": [
    {
     "data": {
      "text/html": [
       "<div>\n",
       "<style scoped>\n",
       "    .dataframe tbody tr th:only-of-type {\n",
       "        vertical-align: middle;\n",
       "    }\n",
       "\n",
       "    .dataframe tbody tr th {\n",
       "        vertical-align: top;\n",
       "    }\n",
       "\n",
       "    .dataframe thead th {\n",
       "        text-align: right;\n",
       "    }\n",
       "</style>\n",
       "<table border=\"1\" class=\"dataframe\">\n",
       "  <thead>\n",
       "    <tr style=\"text-align: right;\">\n",
       "      <th></th>\n",
       "      <th>Hypothesis</th>\n",
       "      <th>RICE</th>\n",
       "    </tr>\n",
       "  </thead>\n",
       "  <tbody>\n",
       "    <tr>\n",
       "      <th>7</th>\n",
       "      <td>Добавить форму подписки на все основные страницы, чтобы собрать базу клиентов для email-рассылок</td>\n",
       "      <td>112.0</td>\n",
       "    </tr>\n",
       "    <tr>\n",
       "      <th>2</th>\n",
       "      <td>Добавить блоки рекомендаций товаров на сайт интернет магазина, чтобы повысить конверсию и средний чек заказа</td>\n",
       "      <td>56.0</td>\n",
       "    </tr>\n",
       "    <tr>\n",
       "      <th>0</th>\n",
       "      <td>Добавить два новых канала привлечения трафика, что позволит привлекать на 30% больше пользователей</td>\n",
       "      <td>40.0</td>\n",
       "    </tr>\n",
       "    <tr>\n",
       "      <th>6</th>\n",
       "      <td>Показать на главной странице баннеры с актуальными акциями и распродажами, чтобы увеличить конверсию</td>\n",
       "      <td>40.0</td>\n",
       "    </tr>\n",
       "    <tr>\n",
       "      <th>8</th>\n",
       "      <td>Запустить акцию, дающую скидку на товар в день рождения</td>\n",
       "      <td>16.2</td>\n",
       "    </tr>\n",
       "    <tr>\n",
       "      <th>3</th>\n",
       "      <td>Изменить структура категорий, что увеличит конверсию, т.к. пользователи быстрее найдут нужный товар</td>\n",
       "      <td>9.0</td>\n",
       "    </tr>\n",
       "    <tr>\n",
       "      <th>1</th>\n",
       "      <td>Запустить собственную службу доставки, что сократит срок доставки заказов</td>\n",
       "      <td>4.0</td>\n",
       "    </tr>\n",
       "    <tr>\n",
       "      <th>5</th>\n",
       "      <td>Добавить страницу отзывов клиентов о магазине, что позволит увеличить количество заказов</td>\n",
       "      <td>4.0</td>\n",
       "    </tr>\n",
       "    <tr>\n",
       "      <th>4</th>\n",
       "      <td>Изменить цвет фона главной страницы, чтобы увеличить вовлеченность пользователей</td>\n",
       "      <td>3.0</td>\n",
       "    </tr>\n",
       "  </tbody>\n",
       "</table>\n",
       "</div>"
      ],
      "text/plain": [
       "                                                                                                     Hypothesis  \\\n",
       "7  Добавить форму подписки на все основные страницы, чтобы собрать базу клиентов для email-рассылок               \n",
       "2  Добавить блоки рекомендаций товаров на сайт интернет магазина, чтобы повысить конверсию и средний чек заказа   \n",
       "0  Добавить два новых канала привлечения трафика, что позволит привлекать на 30% больше пользователей             \n",
       "6  Показать на главной странице баннеры с актуальными акциями и распродажами, чтобы увеличить конверсию           \n",
       "8  Запустить акцию, дающую скидку на товар в день рождения                                                        \n",
       "3  Изменить структура категорий, что увеличит конверсию, т.к. пользователи быстрее найдут нужный товар            \n",
       "1  Запустить собственную службу доставки, что сократит срок доставки заказов                                      \n",
       "5  Добавить страницу отзывов клиентов о магазине, что позволит увеличить количество заказов                       \n",
       "4  Изменить цвет фона главной страницы, чтобы увеличить вовлеченность пользователей                               \n",
       "\n",
       "    RICE  \n",
       "7  112.0  \n",
       "2  56.0   \n",
       "0  40.0   \n",
       "6  40.0   \n",
       "8  16.2   \n",
       "3  9.0    \n",
       "1  4.0    \n",
       "5  4.0    \n",
       "4  3.0    "
      ]
     },
     "execution_count": 4,
     "metadata": {},
     "output_type": "execute_result"
    }
   ],
   "source": [
    "# Расчет RICE и сохрание результатов в отдельный столбец\n",
    "\n",
    "data['RICE'] = data['Reach']*data['Impact']*data['Confidence']/data['Efforts']\n",
    "\n",
    "# Вывод названия категории и приоритета \n",
    "data[['Hypothesis', 'RICE']].sort_values(by='RICE', ascending=False)"
   ]
  },
  {
   "cell_type": "markdown",
   "metadata": {},
   "source": [
    "Вывод: \n",
    "По методу ICE наибольшую оценку получили гипотезы 8, 0, 7. \n",
    "По методу RICE приоритеты изменились на гпиотезы 7,2,0. \n",
    "\n",
    "Это объясняется тем, что в случае фреймворка ICE, в отличие от RICE, не учитывается охват изменений, тогда как это важная составляющая оценки гипотез.\n",
    "\n",
    "Для данного исследования возьмем за основу приоритизацию по методу RICE и гипотезы 7, 2, 0."
   ]
  },
  {
   "cell_type": "markdown",
   "metadata": {},
   "source": [
    "<div class=\"alert alert-success\">\n",
    "<b>Комментарий с комплиментом ревьюера:</b>\n",
    "    \n",
    "Гипотезы проанализированы верно, молодец.\n",
    "\n",
    "Здорово, что указано на изменение приоритетов при учете охвата.\n",
    "</div>\n"
   ]
  },
  {
   "cell_type": "markdown",
   "metadata": {},
   "source": [
    "## Анализ A/B-теста"
   ]
  },
  {
   "cell_type": "code",
   "execution_count": 5,
   "metadata": {},
   "outputs": [
    {
     "data": {
      "text/html": [
       "<div>\n",
       "<style scoped>\n",
       "    .dataframe tbody tr th:only-of-type {\n",
       "        vertical-align: middle;\n",
       "    }\n",
       "\n",
       "    .dataframe tbody tr th {\n",
       "        vertical-align: top;\n",
       "    }\n",
       "\n",
       "    .dataframe thead th {\n",
       "        text-align: right;\n",
       "    }\n",
       "</style>\n",
       "<table border=\"1\" class=\"dataframe\">\n",
       "  <thead>\n",
       "    <tr style=\"text-align: right;\">\n",
       "      <th></th>\n",
       "      <th>transactionId</th>\n",
       "      <th>visitorId</th>\n",
       "      <th>date</th>\n",
       "      <th>revenue</th>\n",
       "      <th>group</th>\n",
       "    </tr>\n",
       "  </thead>\n",
       "  <tbody>\n",
       "    <tr>\n",
       "      <th>0</th>\n",
       "      <td>3667963787</td>\n",
       "      <td>3312258926</td>\n",
       "      <td>2019-08-15</td>\n",
       "      <td>1650</td>\n",
       "      <td>B</td>\n",
       "    </tr>\n",
       "    <tr>\n",
       "      <th>1</th>\n",
       "      <td>2804400009</td>\n",
       "      <td>3642806036</td>\n",
       "      <td>2019-08-15</td>\n",
       "      <td>730</td>\n",
       "      <td>B</td>\n",
       "    </tr>\n",
       "    <tr>\n",
       "      <th>2</th>\n",
       "      <td>2961555356</td>\n",
       "      <td>4069496402</td>\n",
       "      <td>2019-08-15</td>\n",
       "      <td>400</td>\n",
       "      <td>A</td>\n",
       "    </tr>\n",
       "    <tr>\n",
       "      <th>3</th>\n",
       "      <td>3797467345</td>\n",
       "      <td>1196621759</td>\n",
       "      <td>2019-08-15</td>\n",
       "      <td>9759</td>\n",
       "      <td>B</td>\n",
       "    </tr>\n",
       "    <tr>\n",
       "      <th>4</th>\n",
       "      <td>2282983706</td>\n",
       "      <td>2322279887</td>\n",
       "      <td>2019-08-15</td>\n",
       "      <td>2308</td>\n",
       "      <td>B</td>\n",
       "    </tr>\n",
       "  </tbody>\n",
       "</table>\n",
       "</div>"
      ],
      "text/plain": [
       "   transactionId   visitorId        date  revenue group\n",
       "0  3667963787     3312258926  2019-08-15  1650     B   \n",
       "1  2804400009     3642806036  2019-08-15  730      B   \n",
       "2  2961555356     4069496402  2019-08-15  400      A   \n",
       "3  3797467345     1196621759  2019-08-15  9759     B   \n",
       "4  2282983706     2322279887  2019-08-15  2308     B   "
      ]
     },
     "execution_count": 5,
     "metadata": {},
     "output_type": "execute_result"
    }
   ],
   "source": [
    "# Выгрузка данных из файла orders.csv\n",
    "\n",
    "orders = pd.read_csv('/datasets/orders.csv')\n",
    "\n",
    "# Вывод первых 5 строк таблицы\n",
    "\n",
    "orders.head()"
   ]
  },
  {
   "cell_type": "code",
   "execution_count": 6,
   "metadata": {},
   "outputs": [
    {
     "data": {
      "text/html": [
       "<div>\n",
       "<style scoped>\n",
       "    .dataframe tbody tr th:only-of-type {\n",
       "        vertical-align: middle;\n",
       "    }\n",
       "\n",
       "    .dataframe tbody tr th {\n",
       "        vertical-align: top;\n",
       "    }\n",
       "\n",
       "    .dataframe thead th {\n",
       "        text-align: right;\n",
       "    }\n",
       "</style>\n",
       "<table border=\"1\" class=\"dataframe\">\n",
       "  <thead>\n",
       "    <tr style=\"text-align: right;\">\n",
       "      <th></th>\n",
       "      <th>date</th>\n",
       "      <th>group</th>\n",
       "      <th>visitors</th>\n",
       "    </tr>\n",
       "  </thead>\n",
       "  <tbody>\n",
       "    <tr>\n",
       "      <th>0</th>\n",
       "      <td>2019-08-01</td>\n",
       "      <td>A</td>\n",
       "      <td>719</td>\n",
       "    </tr>\n",
       "    <tr>\n",
       "      <th>1</th>\n",
       "      <td>2019-08-02</td>\n",
       "      <td>A</td>\n",
       "      <td>619</td>\n",
       "    </tr>\n",
       "    <tr>\n",
       "      <th>2</th>\n",
       "      <td>2019-08-03</td>\n",
       "      <td>A</td>\n",
       "      <td>507</td>\n",
       "    </tr>\n",
       "    <tr>\n",
       "      <th>3</th>\n",
       "      <td>2019-08-04</td>\n",
       "      <td>A</td>\n",
       "      <td>717</td>\n",
       "    </tr>\n",
       "    <tr>\n",
       "      <th>4</th>\n",
       "      <td>2019-08-05</td>\n",
       "      <td>A</td>\n",
       "      <td>756</td>\n",
       "    </tr>\n",
       "  </tbody>\n",
       "</table>\n",
       "</div>"
      ],
      "text/plain": [
       "         date group  visitors\n",
       "0  2019-08-01  A     719     \n",
       "1  2019-08-02  A     619     \n",
       "2  2019-08-03  A     507     \n",
       "3  2019-08-04  A     717     \n",
       "4  2019-08-05  A     756     "
      ]
     },
     "execution_count": 6,
     "metadata": {},
     "output_type": "execute_result"
    }
   ],
   "source": [
    "# Выгрузка данных из файла visitors.csv\n",
    "\n",
    "visitors = pd.read_csv('/datasets/visitors.csv')\n",
    "\n",
    "# Вывод первых 5 строк таблицы\n",
    "\n",
    "visitors.head()"
   ]
  },
  {
   "cell_type": "markdown",
   "metadata": {},
   "source": [
    "### Предобработка данных"
   ]
  },
  {
   "cell_type": "code",
   "execution_count": 7,
   "metadata": {},
   "outputs": [
    {
     "name": "stdout",
     "output_type": "stream",
     "text": [
      "<class 'pandas.core.frame.DataFrame'>\n",
      "RangeIndex: 62 entries, 0 to 61\n",
      "Data columns (total 3 columns):\n",
      " #   Column    Non-Null Count  Dtype \n",
      "---  ------    --------------  ----- \n",
      " 0   date      62 non-null     object\n",
      " 1   group     62 non-null     object\n",
      " 2   visitors  62 non-null     int64 \n",
      "dtypes: int64(1), object(2)\n",
      "memory usage: 1.6+ KB\n"
     ]
    }
   ],
   "source": [
    "# Проверим таблицу visitors на наличие пропусков\n",
    "visitors.info()"
   ]
  },
  {
   "cell_type": "code",
   "execution_count": 8,
   "metadata": {},
   "outputs": [
    {
     "data": {
      "text/plain": [
       "0"
      ]
     },
     "execution_count": 8,
     "metadata": {},
     "output_type": "execute_result"
    }
   ],
   "source": [
    "# Проверим таблицу visitors на наличие дубликатов\n",
    "visitors.duplicated().sum()"
   ]
  },
  {
   "cell_type": "code",
   "execution_count": 9,
   "metadata": {},
   "outputs": [
    {
     "name": "stdout",
     "output_type": "stream",
     "text": [
      "<class 'pandas.core.frame.DataFrame'>\n",
      "RangeIndex: 62 entries, 0 to 61\n",
      "Data columns (total 3 columns):\n",
      " #   Column    Non-Null Count  Dtype         \n",
      "---  ------    --------------  -----         \n",
      " 0   date      62 non-null     datetime64[ns]\n",
      " 1   group     62 non-null     object        \n",
      " 2   visitors  62 non-null     int64         \n",
      "dtypes: datetime64[ns](1), int64(1), object(1)\n",
      "memory usage: 1.6+ KB\n"
     ]
    }
   ],
   "source": [
    "# Приведем тип данных в столбце date таблицы orders к формату datetime\n",
    "visitors['date'] = visitors['date'].map(lambda x: dt.datetime.strptime(x, '%Y-%m-%d'))\n",
    "visitors.info()"
   ]
  },
  {
   "cell_type": "code",
   "execution_count": 10,
   "metadata": {},
   "outputs": [
    {
     "name": "stdout",
     "output_type": "stream",
     "text": [
      "<class 'pandas.core.frame.DataFrame'>\n",
      "RangeIndex: 1197 entries, 0 to 1196\n",
      "Data columns (total 5 columns):\n",
      " #   Column         Non-Null Count  Dtype \n",
      "---  ------         --------------  ----- \n",
      " 0   transactionId  1197 non-null   int64 \n",
      " 1   visitorId      1197 non-null   int64 \n",
      " 2   date           1197 non-null   object\n",
      " 3   revenue        1197 non-null   int64 \n",
      " 4   group          1197 non-null   object\n",
      "dtypes: int64(3), object(2)\n",
      "memory usage: 46.9+ KB\n"
     ]
    }
   ],
   "source": [
    "# Проверим таблицу orders на наличие пропусков\n",
    "orders.info()"
   ]
  },
  {
   "cell_type": "code",
   "execution_count": 11,
   "metadata": {},
   "outputs": [
    {
     "data": {
      "text/plain": [
       "0"
      ]
     },
     "execution_count": 11,
     "metadata": {},
     "output_type": "execute_result"
    }
   ],
   "source": [
    "# Проверим таблицу orders на наличие дубликатов\n",
    "visitors.duplicated().sum()"
   ]
  },
  {
   "cell_type": "code",
   "execution_count": 12,
   "metadata": {
    "scrolled": false
   },
   "outputs": [
    {
     "name": "stdout",
     "output_type": "stream",
     "text": [
      "<class 'pandas.core.frame.DataFrame'>\n",
      "RangeIndex: 1197 entries, 0 to 1196\n",
      "Data columns (total 5 columns):\n",
      " #   Column         Non-Null Count  Dtype         \n",
      "---  ------         --------------  -----         \n",
      " 0   transactionId  1197 non-null   int64         \n",
      " 1   visitorId      1197 non-null   int64         \n",
      " 2   date           1197 non-null   datetime64[ns]\n",
      " 3   revenue        1197 non-null   int64         \n",
      " 4   group          1197 non-null   object        \n",
      "dtypes: datetime64[ns](1), int64(3), object(1)\n",
      "memory usage: 46.9+ KB\n"
     ]
    }
   ],
   "source": [
    "# Приведем тип данных в столбце date таблицы orders к формату datetime\n",
    "orders['date'] = orders['date'].map(lambda x: dt.datetime.strptime(x, '%Y-%m-%d'))\n",
    "orders.info()"
   ]
  },
  {
   "cell_type": "code",
   "execution_count": 13,
   "metadata": {},
   "outputs": [
    {
     "name": "stdout",
     "output_type": "stream",
     "text": [
      "Количестов пользователей в группе A: 503\n",
      "Количестов пользователей в группе B: 586\n",
      "Количество одинаковых пользователей в группах: 58\n"
     ]
    }
   ],
   "source": [
    "# Проверим группы на совпадение пользователей\n",
    "\n",
    "# Отберем пользователей группы А\n",
    "group_a = orders.query('group == \"A\"')\n",
    "\n",
    "# Отберем пользователей группы B\n",
    "group_b = orders.query('group == \"B\"')\n",
    "\n",
    "#Отберем пользователей, которые попали в обе группы через объединение таблиц\n",
    "visitors_ab = pd.merge(group_a, group_b, on='visitorId')\n",
    "\n",
    "print('Количестов пользователей в группе A:', group_a['visitorId'].nunique())\n",
    "print('Количестов пользователей в группе B:', group_b['visitorId'].nunique())\n",
    "print('Количество одинаковых пользователей в группах:', visitors_ab['visitorId'].nunique())"
   ]
  },
  {
   "cell_type": "code",
   "execution_count": 14,
   "metadata": {},
   "outputs": [
    {
     "name": "stdout",
     "output_type": "stream",
     "text": [
      "<class 'pandas.core.frame.DataFrame'>\n",
      "Int64Index: 1016 entries, 0 to 1196\n",
      "Data columns (total 5 columns):\n",
      " #   Column         Non-Null Count  Dtype         \n",
      "---  ------         --------------  -----         \n",
      " 0   transactionId  1016 non-null   int64         \n",
      " 1   visitorId      1016 non-null   int64         \n",
      " 2   date           1016 non-null   datetime64[ns]\n",
      " 3   revenue        1016 non-null   int64         \n",
      " 4   group          1016 non-null   object        \n",
      "dtypes: datetime64[ns](1), int64(3), object(1)\n",
      "memory usage: 47.6+ KB\n"
     ]
    }
   ],
   "source": [
    "# Удалим пользователей, которые присутствуют в двух группах сразу\n",
    "\n",
    "orders = orders.query('visitorId not in @visitors_ab[\"visitorId\"]')\n",
    "orders.info()"
   ]
  },
  {
   "cell_type": "markdown",
   "metadata": {},
   "source": [
    "Вывод: \n",
    "* Пропуски и дубликаты в таблицах отсутствуют. \n",
    "* Тип данных в столбце date в таблицах изначально имеет неправильный формат и был приведен к формату datetime. \n",
    "* Удалены пользователи, которые присутвтуют одновременно в двух выборках (8% данных)."
   ]
  },
  {
   "cell_type": "markdown",
   "metadata": {},
   "source": [
    "<div class=\"alert alert-success\">\n",
    "<b>Комментарий с комплиментом ревьюера:</b>\n",
    "    \n",
    "Данные корректно подготовлены к работе.\n",
    "</div>\n"
   ]
  },
  {
   "cell_type": "markdown",
   "metadata": {},
   "source": [
    "<div class=\"alert alert-warning\">\n",
    "<b>Комментарий с небольшим замечанием или советом ревьюера:</b>\n",
    "  \n",
    "Здорово, что пересекающиеся пользователи обработаны. Всегда необходимо обращать внимание на такие ошибки, но надо внимательно относиться к обработке таких данных.    \n",
    "    \n",
    "Одни и те же пользователи попали в две группы теста — это говорит об ошибке в сборе данных. Удаление этих пользователей повлияет на конверсию, поскольку мы можем удалить этих пользователей из таблицы с заказами, но не сможем удалить из таблицы с визитами, поскольку там данные уже агрегированы за день.\n",
    "\n",
    "\n",
    "  </div>\n"
   ]
  },
  {
   "cell_type": "markdown",
   "metadata": {},
   "source": [
    "### Построение графика кумулятивной выручки по группам"
   ]
  },
  {
   "cell_type": "code",
   "execution_count": 15,
   "metadata": {
    "scrolled": true
   },
   "outputs": [
    {
     "data": {
      "text/html": [
       "<div>\n",
       "<style scoped>\n",
       "    .dataframe tbody tr th:only-of-type {\n",
       "        vertical-align: middle;\n",
       "    }\n",
       "\n",
       "    .dataframe tbody tr th {\n",
       "        vertical-align: top;\n",
       "    }\n",
       "\n",
       "    .dataframe thead th {\n",
       "        text-align: right;\n",
       "    }\n",
       "</style>\n",
       "<table border=\"1\" class=\"dataframe\">\n",
       "  <thead>\n",
       "    <tr style=\"text-align: right;\">\n",
       "      <th></th>\n",
       "      <th>date</th>\n",
       "      <th>group</th>\n",
       "      <th>orders</th>\n",
       "      <th>buyers</th>\n",
       "      <th>revenue</th>\n",
       "      <th>visitors</th>\n",
       "    </tr>\n",
       "  </thead>\n",
       "  <tbody>\n",
       "    <tr>\n",
       "      <th>0</th>\n",
       "      <td>2019-08-01</td>\n",
       "      <td>A</td>\n",
       "      <td>23</td>\n",
       "      <td>19</td>\n",
       "      <td>142779</td>\n",
       "      <td>719</td>\n",
       "    </tr>\n",
       "    <tr>\n",
       "      <th>1</th>\n",
       "      <td>2019-08-01</td>\n",
       "      <td>B</td>\n",
       "      <td>17</td>\n",
       "      <td>17</td>\n",
       "      <td>59758</td>\n",
       "      <td>713</td>\n",
       "    </tr>\n",
       "    <tr>\n",
       "      <th>2</th>\n",
       "      <td>2019-08-02</td>\n",
       "      <td>A</td>\n",
       "      <td>42</td>\n",
       "      <td>36</td>\n",
       "      <td>234381</td>\n",
       "      <td>1338</td>\n",
       "    </tr>\n",
       "    <tr>\n",
       "      <th>3</th>\n",
       "      <td>2019-08-02</td>\n",
       "      <td>B</td>\n",
       "      <td>40</td>\n",
       "      <td>39</td>\n",
       "      <td>221801</td>\n",
       "      <td>1294</td>\n",
       "    </tr>\n",
       "    <tr>\n",
       "      <th>4</th>\n",
       "      <td>2019-08-03</td>\n",
       "      <td>A</td>\n",
       "      <td>66</td>\n",
       "      <td>60</td>\n",
       "      <td>346854</td>\n",
       "      <td>1845</td>\n",
       "    </tr>\n",
       "  </tbody>\n",
       "</table>\n",
       "</div>"
      ],
      "text/plain": [
       "        date group  orders  buyers  revenue  visitors\n",
       "0 2019-08-01  A     23      19      142779   719     \n",
       "1 2019-08-01  B     17      17      59758    713     \n",
       "2 2019-08-02  A     42      36      234381   1338    \n",
       "3 2019-08-02  B     40      39      221801   1294    \n",
       "4 2019-08-03  A     66      60      346854   1845    "
      ]
     },
     "execution_count": 15,
     "metadata": {},
     "output_type": "execute_result"
    }
   ],
   "source": [
    "# создаем массив уникальных пар значений дат и групп теста\n",
    "\n",
    "datesGroups = orders[['date','group']].drop_duplicates() \n",
    "\n",
    "# получаем агрегированные кумулятивные по дням данные о заказах \n",
    "\n",
    "ordersAggregated = (datesGroups.apply(\n",
    "                    lambda x: orders[np.logical_and(orders['date'] <= x['date'], orders['group'] == x['group'])]\n",
    "                    .agg({'date' : 'max', 'group' : 'max', 'transactionId' : 'nunique', 'visitorId' : 'nunique', 'revenue' : 'sum'}), axis=1)\n",
    "                    .sort_values(by=['date','group'])\n",
    ")\n",
    "\n",
    "# получаем агрегированные кумулятивные по дням данные о посетителях интернет-магазина \n",
    "\n",
    "visitorsAggregated = (datesGroups.apply(\n",
    "                        lambda x: visitors[np.logical_and(visitors['date'] <= x['date'], visitors['group'] == x['group'])]\n",
    "                        .agg({'date' : 'max', 'group' : 'max', 'visitors' : 'sum'}), axis=1)\n",
    "                        .sort_values(by=['date','group'])\n",
    ")\n",
    "\n",
    "# объединяем кумулятивные данные в одной таблице и присваиваем ее столбцам понятные названия\n",
    "\n",
    "cumulativeData = ordersAggregated.merge(visitorsAggregated, left_on=['date', 'group'], right_on=['date', 'group'])\n",
    "cumulativeData.columns = ['date', 'group', 'orders', 'buyers', 'revenue', 'visitors']\n",
    "\n",
    "cumulativeData.head(5)"
   ]
  },
  {
   "cell_type": "code",
   "execution_count": 16,
   "metadata": {
    "scrolled": true
   },
   "outputs": [
    {
     "data": {
      "image/png": "[encoded data removed]",
      "text/plain": [
       "<Figure size 1080x360 with 1 Axes>"
      ]
     },
     "metadata": {
      "needs_background": "light"
     },
     "output_type": "display_data"
    }
   ],
   "source": [
    "# датафрейм с кумулятивным количеством заказов и кумулятивной выручкой по дням в группе А\n",
    "cumulativeRevenueA = cumulativeData[cumulativeData['group']=='A'][['date','revenue', 'orders']]\n",
    "\n",
    "# датафрейм с кумулятивным количеством заказов и кумулятивной выручкой по дням в группе B\n",
    "cumulativeRevenueB = cumulativeData[cumulativeData['group']=='B'][['date','revenue', 'orders']]\n",
    "\n",
    "plt.figure(figsize=(15,5))\n",
    "plt.grid()\n",
    "plt.title('График кумулятивной выручки по группам')\n",
    "plt.ylabel('Выручка')\n",
    "plt.xlabel('Дата')\n",
    "\n",
    "# Строим график выручки группы А\n",
    "plt.plot(cumulativeRevenueA['date'], cumulativeRevenueA['revenue'], label='A')\n",
    "\n",
    "# Строим график выручки группы B\n",
    "plt.plot(cumulativeRevenueB['date'], cumulativeRevenueB['revenue'], label='B')\n",
    "\n",
    "plt.legend();"
   ]
  },
  {
   "cell_type": "markdown",
   "metadata": {},
   "source": [
    "<div class=\"alert alert-danger\">\n",
    "<b>Комментарий с замечанием ревьюера:</b>\n",
    "    \n",
    "Графики в проекте будут смотреться лучше, если добавить подписи осей\n",
    "  </div>\n"
   ]
  },
  {
   "cell_type": "markdown",
   "metadata": {},
   "source": [
    "<div class=\"alert alert-info\"> <b>Комментарий студента:</b> Сделано. Подписи осей для всех графиков добавлены</div>"
   ]
  },
  {
   "cell_type": "markdown",
   "metadata": {},
   "source": [
    "<div class=\"alert alert-success\">\n",
    "<b>Комментарий с комплиментом ревьюера в2:</b> \n",
    "  \n",
    "\n",
    "Отлично  \n",
    "<div>"
   ]
  },
  {
   "cell_type": "markdown",
   "metadata": {},
   "source": [
    "Выводы:\n",
    "Группа B показывает стабильно большую выручку, чем группа \"A\". Выручка почти равномерно увеличивается в течение всего теста. Однако график выручки группы \"B\" в одной точке резко растет после 18.08.2019. Это может сигнализировать о всплесках числа заказов, либо о появлении очень дорогих заказов в выборке."
   ]
  },
  {
   "cell_type": "markdown",
   "metadata": {},
   "source": [
    "<div class=\"alert alert-success\">\n",
    "<b>Комментарий с комплиментом ревьюера:</b>\n",
    "    \n",
    "График интерпретирован верно, здорово, что выдвинуто предположение природы появления всплеска.\n",
    "</div>\n"
   ]
  },
  {
   "cell_type": "markdown",
   "metadata": {},
   "source": [
    "### Построение графика кумулятивного среднего чека по группам."
   ]
  },
  {
   "cell_type": "code",
   "execution_count": 17,
   "metadata": {
    "scrolled": true
   },
   "outputs": [
    {
     "data": {
      "image/png": "[encoded data removed]",
      "text/plain": [
       "<Figure size 1080x360 with 1 Axes>"
      ]
     },
     "metadata": {
      "needs_background": "light"
     },
     "output_type": "display_data"
    }
   ],
   "source": [
    "plt.figure(figsize=(15,5))\n",
    "plt.grid()\n",
    "plt.title('График кумулятивного среднего чека по группам')\n",
    "plt.ylabel('Средний чек')\n",
    "plt.xlabel('Дата')\n",
    "\n",
    "\n",
    "plt.plot(cumulativeRevenueA['date'], cumulativeRevenueA['revenue']/cumulativeRevenueA['orders'], label='A')\n",
    "plt.plot(cumulativeRevenueB['date'], cumulativeRevenueB['revenue']/cumulativeRevenueB['orders'], label='B')\n",
    "plt.legend();"
   ]
  },
  {
   "cell_type": "markdown",
   "metadata": {},
   "source": [
    "Выводы: Средний чек по группам становится равномерным ближе к концу теста: показывает небольшой рост для группы \"A\" и падение для группы \"B\". Также присутствует резкий подъем среднего чека для группы B после 18.08.2019. Возможно, в группу B попали крупные заказы (резкий всплеск на графике)."
   ]
  },
  {
   "cell_type": "markdown",
   "metadata": {},
   "source": [
    "<div class=\"alert alert-success\">\n",
    "<b>Комментарий с комплиментом ревьюера:</b>\n",
    "    \n",
    "Согласен с выводом по графику.\n",
    "</div>\n"
   ]
  },
  {
   "cell_type": "markdown",
   "metadata": {},
   "source": [
    "### Построение графика относительного изменения кумулятивного среднего чека группы B к группе A."
   ]
  },
  {
   "cell_type": "code",
   "execution_count": 18,
   "metadata": {
    "scrolled": false
   },
   "outputs": [
    {
     "data": {
      "image/png": "[encoded data removed]",
      "text/plain": [
       "<Figure size 1080x360 with 1 Axes>"
      ]
     },
     "metadata": {
      "needs_background": "light"
     },
     "output_type": "display_data"
    }
   ],
   "source": [
    "# собираем данные в одном датафрейме\n",
    "mergedCumulativeRevenue = cumulativeRevenueA.merge(cumulativeRevenueB, left_on='date', right_on='date', how='left', suffixes=['A', 'B'])\n",
    "\n",
    "plt.figure(figsize=(15,5))\n",
    "plt.grid()\n",
    "plt.title('График относительного изменения кумулятивного среднего чека группы B к группе A')\n",
    "plt.ylabel('Отношение')\n",
    "plt.xlabel('Дата')\n",
    "\n",
    "# cтроим отношение средних чеков\n",
    "plt.plot(mergedCumulativeRevenue['date'], (mergedCumulativeRevenue['revenueB']/mergedCumulativeRevenue['ordersB'])/(mergedCumulativeRevenue['revenueA']/mergedCumulativeRevenue['ordersA'])-1)\n",
    "\n",
    "# добавляем ось X\n",
    "plt.axhline(y=0, color='black', linestyle='--');"
   ]
  },
  {
   "cell_type": "markdown",
   "metadata": {},
   "source": [
    "В нескольких точках график различия между сегментами резко «скачет». Вероятно где-то (скорее всего в группе В) есть крупные заказы и выбросы."
   ]
  },
  {
   "cell_type": "markdown",
   "metadata": {},
   "source": [
    "<div class=\"alert alert-success\">\n",
    "<b>Комментарий с комплиментом ревьюера:</b>\n",
    "    \n",
    "Сначала средний чек группы B стабильно растет, потом резко падает и снова растет. Согласен, влияние крупных заказов.   \n",
    "</div>\n"
   ]
  },
  {
   "cell_type": "markdown",
   "metadata": {},
   "source": [
    "### Построение графика кумулятивного среднего количества заказов на посетителя по группам."
   ]
  },
  {
   "cell_type": "code",
   "execution_count": 19,
   "metadata": {
    "scrolled": false
   },
   "outputs": [
    {
     "data": {
      "image/png": "[encoded data removed]",
      "text/plain": [
       "<Figure size 1080x360 with 1 Axes>"
      ]
     },
     "metadata": {
      "needs_background": "light"
     },
     "output_type": "display_data"
    }
   ],
   "source": [
    "# считаем кумулятивную конверсию\n",
    "cumulativeData['conversion'] = cumulativeData['orders']/cumulativeData['visitors']\n",
    "\n",
    "# отделяем данные по группе A\n",
    "cumulativeDataA = cumulativeData[cumulativeData['group']=='A']\n",
    "\n",
    "# отделяем данные по группе B\n",
    "cumulativeDataB = cumulativeData[cumulativeData['group']=='B']\n",
    "\n",
    "# строим графики\n",
    "plt.figure(figsize=(15,5))\n",
    "plt.grid()\n",
    "plt.title('График кумулятивного среднего количества заказов на посетителя по группам')\n",
    "plt.ylabel('Конверсия')\n",
    "plt.xlabel('Дата')\n",
    "\n",
    "\n",
    "plt.plot(cumulativeDataA['date'], cumulativeDataA['conversion'], label='A')\n",
    "plt.plot(cumulativeDataB['date'], cumulativeDataB['conversion'], label='B')\n",
    "plt.legend()\n",
    "\n",
    "# задаем масштаб осей\n",
    "plt.axis([min(cumulativeData['date']), \n",
    "          max(cumulativeData['date']), \n",
    "          min(cumulativeData['conversion']), \n",
    "          max(cumulativeData['conversion'])]);"
   ]
  },
  {
   "cell_type": "markdown",
   "metadata": {},
   "source": [
    "Вывод: Среднее количество заказов на посетителя в общем у группы В выше, хотя у группы А был всплекс в начале и количество было выше группы B. После резких скачков в превую неделю среднее количество заказов зафиксировалась и показывает относительно стабильную динамику. "
   ]
  },
  {
   "cell_type": "markdown",
   "metadata": {},
   "source": [
    "<div class=\"alert alert-success\">\n",
    "<b>Комментарий с комплиментом ревьюера:</b>\n",
    "    \n",
    "Все верно, среднее количество заказов группы В продолжает выигрывать до конца. \n",
    "    \n",
    "Только согласно ТЗ мы анализируем среднее количество заказов, а не конвервсию, скорректируй, пожалуйста, формулировку вывода.\n",
    "</div>\n"
   ]
  },
  {
   "cell_type": "markdown",
   "metadata": {},
   "source": [
    "<div class=\"alert alert-info\"> <b>Комментарий студента:</b> Сделано. Вывод скорректирован</div>"
   ]
  },
  {
   "cell_type": "markdown",
   "metadata": {},
   "source": [
    "<div class=\"alert alert-success\">\n",
    "<b>Комментарий с комплиментом ревьюера в2:</b> \n",
    "  \n",
    "\n",
    "Отлично  \n",
    "<div>"
   ]
  },
  {
   "cell_type": "markdown",
   "metadata": {},
   "source": [
    "### Построение графика относительного изменения кумулятивного среднего количества заказов на посетителя группы B к группе A."
   ]
  },
  {
   "cell_type": "code",
   "execution_count": 20,
   "metadata": {},
   "outputs": [
    {
     "data": {
      "image/png": "[encoded data removed]",
      "text/plain": [
       "<Figure size 1080x360 with 1 Axes>"
      ]
     },
     "metadata": {
      "needs_background": "light"
     },
     "output_type": "display_data"
    }
   ],
   "source": [
    "mergedCumulativeConversions = (\n",
    "        cumulativeDataA[['date','conversion']]\n",
    "        .merge(cumulativeDataB[['date','conversion']], left_on='date', right_on='date', how='left', suffixes=['A', 'B'])\n",
    "    )\n",
    "plt.figure(figsize=(15,5))\n",
    "plt.grid()\n",
    "plt.title('График относительного изменения кумулятивного среднего количества заказов на посетителя группы B к группе A')\n",
    "plt.ylabel('Отношение')\n",
    "plt.xlabel('Дата')\n",
    "\n",
    "plt.plot(\n",
    "        mergedCumulativeConversions['date'], \n",
    "        mergedCumulativeConversions['conversionB']/mergedCumulativeConversions['conversionA']-1, \n",
    "        label=\"Относительный прирост конверсии группы B относительно группы A\"\n",
    ")\n",
    "\n",
    "plt.axhline(y=0, color='black', linestyle='--')\n",
    "plt.axhline(y=0.12, color='grey', linestyle='--')\n",
    "plt.axhline(y=0.2, color='grey', linestyle='--')\n",
    "plt.axis([min(cumulativeData['date']), max(cumulativeData['date']), -0.3, 0.3]);"
   ]
  },
  {
   "cell_type": "markdown",
   "metadata": {},
   "source": [
    "Вывод: Данный график подтверждает выводы по предыдущему графику. Через неделю среднее количество заказов в группе B стабильно выше чем в группе A более чем на 12%."
   ]
  },
  {
   "cell_type": "markdown",
   "metadata": {},
   "source": [
    "<div class=\"alert alert-success\">\n",
    "<b>Комментарий с комплиментом ревьюера:</b>\n",
    "    \n",
    "Все верно, здорово, что для анализа была использована axhline.\n",
    "    \n",
    "    \n",
    "Здесь также сформуируй с учетом ТЗ, рекомндую убрать легенду, поскольку она не несет смысловой нагрузки и занимает значительное место на графике.\n"
   ]
  },
  {
   "cell_type": "markdown",
   "metadata": {},
   "source": [
    "### Построение точечного графика количества заказов по пользователям."
   ]
  },
  {
   "cell_type": "code",
   "execution_count": 21,
   "metadata": {
    "scrolled": false
   },
   "outputs": [
    {
     "data": {
      "text/html": [
       "<div>\n",
       "<style scoped>\n",
       "    .dataframe tbody tr th:only-of-type {\n",
       "        vertical-align: middle;\n",
       "    }\n",
       "\n",
       "    .dataframe tbody tr th {\n",
       "        vertical-align: top;\n",
       "    }\n",
       "\n",
       "    .dataframe thead th {\n",
       "        text-align: right;\n",
       "    }\n",
       "</style>\n",
       "<table border=\"1\" class=\"dataframe\">\n",
       "  <thead>\n",
       "    <tr style=\"text-align: right;\">\n",
       "      <th></th>\n",
       "      <th>visitorId</th>\n",
       "      <th>orders</th>\n",
       "    </tr>\n",
       "  </thead>\n",
       "  <tbody>\n",
       "    <tr>\n",
       "      <th>908</th>\n",
       "      <td>3967698036</td>\n",
       "      <td>3</td>\n",
       "    </tr>\n",
       "    <tr>\n",
       "      <th>55</th>\n",
       "      <td>249864742</td>\n",
       "      <td>3</td>\n",
       "    </tr>\n",
       "    <tr>\n",
       "      <th>478</th>\n",
       "      <td>2108163459</td>\n",
       "      <td>3</td>\n",
       "    </tr>\n",
       "    <tr>\n",
       "      <th>687</th>\n",
       "      <td>2988190573</td>\n",
       "      <td>3</td>\n",
       "    </tr>\n",
       "    <tr>\n",
       "      <th>890</th>\n",
       "      <td>3908431265</td>\n",
       "      <td>3</td>\n",
       "    </tr>\n",
       "    <tr>\n",
       "      <th>138</th>\n",
       "      <td>611059232</td>\n",
       "      <td>3</td>\n",
       "    </tr>\n",
       "    <tr>\n",
       "      <th>632</th>\n",
       "      <td>2742574263</td>\n",
       "      <td>3</td>\n",
       "    </tr>\n",
       "    <tr>\n",
       "      <th>157</th>\n",
       "      <td>678354126</td>\n",
       "      <td>2</td>\n",
       "    </tr>\n",
       "    <tr>\n",
       "      <th>323</th>\n",
       "      <td>1404560065</td>\n",
       "      <td>2</td>\n",
       "    </tr>\n",
       "    <tr>\n",
       "      <th>452</th>\n",
       "      <td>1985475298</td>\n",
       "      <td>2</td>\n",
       "    </tr>\n",
       "  </tbody>\n",
       "</table>\n",
       "</div>"
      ],
      "text/plain": [
       "      visitorId  orders\n",
       "908  3967698036  3     \n",
       "55   249864742   3     \n",
       "478  2108163459  3     \n",
       "687  2988190573  3     \n",
       "890  3908431265  3     \n",
       "138  611059232   3     \n",
       "632  2742574263  3     \n",
       "157  678354126   2     \n",
       "323  1404560065  2     \n",
       "452  1985475298  2     "
      ]
     },
     "execution_count": 21,
     "metadata": {},
     "output_type": "execute_result"
    }
   ],
   "source": [
    "# Подсчет количества заказов по пользователям\n",
    "\n",
    "ordersByUsers = (\n",
    "    orders.groupby('visitorId', as_index=False)\n",
    "    .agg({'transactionId': 'nunique'})\n",
    ")\n",
    "\n",
    "# Переименуем столбцы\n",
    "\n",
    "ordersByUsers.columns = ['visitorId', 'orders']\n",
    "\n",
    "\n",
    "ordersByUsers.sort_values(by='orders', ascending=False).head(10)"
   ]
  },
  {
   "cell_type": "code",
   "execution_count": 22,
   "metadata": {
    "scrolled": true
   },
   "outputs": [
    {
     "data": {
      "image/png": "[encoded data removed]",
      "text/plain": [
       "<Figure size 1080x360 with 1 Axes>"
      ]
     },
     "metadata": {
      "needs_background": "light"
     },
     "output_type": "display_data"
    }
   ],
   "source": [
    "# Построим гистрограмму распределения количества заказов на одного пользователя.\n",
    "\n",
    "plt.figure(figsize=(15,5))\n",
    "plt.grid()\n",
    "plt.ylabel('Количество пользователей')\n",
    "plt.xlabel('Количество заказов')\n",
    "plt.title('Гистрограмма распределения количества заказов на одного пользователя')\n",
    "plt.hist(ordersByUsers['orders'], bins = 10); "
   ]
  },
  {
   "cell_type": "markdown",
   "metadata": {},
   "source": [
    "Вывод: Большинство пользователей заказывали один раз, также есть большое количество пользователй с 2-3 заказами."
   ]
  },
  {
   "cell_type": "code",
   "execution_count": 23,
   "metadata": {},
   "outputs": [
    {
     "data": {
      "text/plain": [
       "<matplotlib.collections.PathCollection at 0x7fca8b56cc10>"
      ]
     },
     "execution_count": 23,
     "metadata": {},
     "output_type": "execute_result"
    },
    {
     "data": {
      "image/png": "[encoded data removed]",
      "text/plain": [
       "<Figure size 1080x504 with 1 Axes>"
      ]
     },
     "metadata": {
      "needs_background": "light"
     },
     "output_type": "display_data"
    }
   ],
   "source": [
    "# Построим точечную диаграмму числа заказов на одного пользователя\n",
    "\n",
    "x_values = pd.Series(range(0,len(ordersByUsers)))\n",
    "\n",
    "plt.figure(figsize=(15,7))\n",
    "plt.grid()\n",
    "plt.title('Точечная диаграмма числа заказов на одного пользователя')\n",
    "plt.ylabel('Количество заказов')\n",
    "plt.xlabel('Количество пользователей')\n",
    "plt.scatter(x_values, ordersByUsers['orders']) "
   ]
  },
  {
   "cell_type": "markdown",
   "metadata": {},
   "source": [
    "Вывод: Точечная диаграмм подвтверждает выводы, что большинство пользователей сделали один заказ, а также много пользователей с 2-3 заказами"
   ]
  },
  {
   "cell_type": "markdown",
   "metadata": {},
   "source": [
    "<div class=\"alert alert-success\">\n",
    "<b>Комментарий с комплиментом ревьюера:</b>\n",
    "    \n",
    "Отлично\n"
   ]
  },
  {
   "cell_type": "markdown",
   "metadata": {},
   "source": [
    "### Подсчет 95-го и 99-го перцентилей количества заказов на пользователя."
   ]
  },
  {
   "cell_type": "code",
   "execution_count": 24,
   "metadata": {},
   "outputs": [
    {
     "name": "stdout",
     "output_type": "stream",
     "text": [
      "[1. 2.]\n"
     ]
    }
   ],
   "source": [
    "print(np.percentile(ordersByUsers['orders'], [95, 99])) "
   ]
  },
  {
   "cell_type": "markdown",
   "metadata": {},
   "source": [
    "Вывод: Не более 1% пользователей оформили больше чем 2 заказа."
   ]
  },
  {
   "cell_type": "markdown",
   "metadata": {},
   "source": [
    "<div class=\"alert alert-success\">\n",
    "<b>Комментарий с комплиментом ревьюера:</b>\n",
    "\n",
    "95-й и 99-й перцентили определены верно, нижняя граница числа заказов выбрана корректно, молодец.</div>\n"
   ]
  },
  {
   "cell_type": "markdown",
   "metadata": {},
   "source": [
    "### Построение точечного графика стоимостей заказов."
   ]
  },
  {
   "cell_type": "code",
   "execution_count": 25,
   "metadata": {},
   "outputs": [
    {
     "data": {
      "image/png": "[encoded data removed]",
      "text/plain": [
       "<Figure size 1080x504 with 1 Axes>"
      ]
     },
     "metadata": {
      "needs_background": "light"
     },
     "output_type": "display_data"
    }
   ],
   "source": [
    "# Построим гистогамму распределения стоимостей заказов\n",
    "\n",
    "plt.figure(figsize=(15,7))\n",
    "plt.grid()\n",
    "plt.title('Гистрограмма распределения стоимостей заказов')\n",
    "plt.ylabel('Количество заказов')\n",
    "plt.xlabel('Стоимость заказа')\n",
    "plt.hist(orders['revenue'], range=(0,100000), bins=100);"
   ]
  },
  {
   "cell_type": "markdown",
   "metadata": {},
   "source": [
    "Вывод: Большинство сделаных заказов имеют выручку меньше 20000."
   ]
  },
  {
   "cell_type": "code",
   "execution_count": 26,
   "metadata": {},
   "outputs": [
    {
     "data": {
      "image/png": "[encoded data removed]",
      "text/plain": [
       "<Figure size 1080x504 with 1 Axes>"
      ]
     },
     "metadata": {
      "needs_background": "light"
     },
     "output_type": "display_data"
    }
   ],
   "source": [
    "# Построим точечную диаграмму стоимостей заказов\n",
    "\n",
    "x_values = pd.Series(range(0,len(orders['revenue'])))\n",
    "\n",
    "plt.figure(figsize=(15,7))\n",
    "plt.grid()\n",
    "plt.title('Точечная диаграмма стоимостей заказов')\n",
    "plt.ylabel('Сумма заказа')\n",
    "plt.xlabel('Количесво заказов')\n",
    "plt.axis([0, 1200, 0, 200000])\n",
    "\n",
    "plt.scatter(x_values, orders['revenue']);"
   ]
  },
  {
   "cell_type": "markdown",
   "metadata": {},
   "source": [
    "Вывод: Большинство пользователей делает заказы на сумму менее 25000 рублей."
   ]
  },
  {
   "cell_type": "markdown",
   "metadata": {},
   "source": [
    "\n",
    "<div class=\"alert alert-success\">\n",
    "<b>Комментарий с комплиментом ревьюера:</b>\n",
    "    \n",
    "График построен правильно, видны аномалии. </div>\n"
   ]
  },
  {
   "cell_type": "markdown",
   "metadata": {},
   "source": [
    "### Подсчет 95-го и 99-го перцентилей стоимости заказов."
   ]
  },
  {
   "cell_type": "code",
   "execution_count": 27,
   "metadata": {},
   "outputs": [
    {
     "data": {
      "text/plain": [
       "array([26785., 53904.])"
      ]
     },
     "execution_count": 27,
     "metadata": {},
     "output_type": "execute_result"
    }
   ],
   "source": [
    "np.percentile(orders['revenue'], [95, 99])"
   ]
  },
  {
   "cell_type": "markdown",
   "metadata": {},
   "source": [
    "Вывод: Не более 5% пользователей делали заказ на сумму более 26785, менее 1% заказ более 53904. Соответственно будем считать все заказы стоимостью более чем 53904 рублей аномальными."
   ]
  },
  {
   "cell_type": "markdown",
   "metadata": {},
   "source": [
    "<div class=\"alert alert-warning\">\n",
    "<b>Комментарий с небольшим замечанием ревьюера:</b>\n",
    "    \n",
    "Согласно заданию, здесь надо выбрать нижнюю границу стоимости заказов.\n",
    " \n",
    "</div>\n"
   ]
  },
  {
   "cell_type": "markdown",
   "metadata": {},
   "source": [
    "<div class=\"alert alert-info\"> <b>Комментарий студента:</b> Сделано. Граница указана</div>"
   ]
  },
  {
   "cell_type": "markdown",
   "metadata": {},
   "source": [
    "<div class=\"alert alert-success\">\n",
    "<b>Комментарий с комплиментом ревьюера в2:</b> \n",
    "  \n",
    "\n",
    "Отлично  \n",
    "<div>"
   ]
  },
  {
   "cell_type": "markdown",
   "metadata": {},
   "source": [
    "### Подсчет статистической значимости различий в среднем количестве заказов на посетителя между группами по «сырым» данным."
   ]
  },
  {
   "cell_type": "markdown",
   "metadata": {},
   "source": [
    "Создадим переменные ordersByUsersA и ordersByUsersB со столбцами 'visitorId', 'orders'. В них для пользователей, которые заказывали хотя бы 1 раз, укажем число совершённых заказов."
   ]
  },
  {
   "cell_type": "code",
   "execution_count": 28,
   "metadata": {
    "scrolled": true
   },
   "outputs": [],
   "source": [
    "ordersByUsersA = (\n",
    "    orders[orders['group'] == 'A']\n",
    "    .groupby('visitorId', as_index=False)\n",
    "    .agg({'transactionId': pd.Series.nunique})\n",
    ")\n",
    "\n",
    "ordersByUsersA.columns = ['visitorId', 'orders']\n",
    "\n",
    "ordersByUsersB = (\n",
    "    orders[orders['group'] == 'B']\n",
    "    .groupby('visitorId', as_index=False)\n",
    "    .agg({'transactionId': pd.Series.nunique})\n",
    ")\n",
    "ordersByUsersB.columns = ['visitorId', 'orders']"
   ]
  },
  {
   "cell_type": "markdown",
   "metadata": {},
   "source": [
    "Объявим переменные sampleA и sampleB, в которых пользователям из разных групп будет соответствовать количество заказов. Тем, кто ничего не заказал, будут соответствовать нули. Это нужно, чтобы подготовить выборки к проверке критерием Манна-Уитни.\n",
    "\n",
    "Переменная sampleA должна состоять из двух частей:\n",
    "* Список с количеством заказов для каждого из пользователей.\n",
    "* Нули для пользователей, которые ничего не заказывали. Их количество равно разнице между суммой посетителей и количеством записей о заказах."
   ]
  },
  {
   "cell_type": "code",
   "execution_count": 29,
   "metadata": {},
   "outputs": [],
   "source": [
    "sampleA = pd.concat(\n",
    "    [\n",
    "        ordersByUsersA['orders'],\n",
    "        pd.Series(\n",
    "            0,\n",
    "            index=np.arange(\n",
    "                visitors[visitors['group']=='A']['visitors'].sum() - len(ordersByUsersA['orders'])\n",
    "            ),\n",
    "            name='orders',\n",
    "        ),\n",
    "    ],\n",
    "    axis=0,\n",
    ")\n",
    "\n",
    "sampleB = pd.concat(\n",
    "    [\n",
    "        ordersByUsersB['orders'],\n",
    "        pd.Series(\n",
    "            0,\n",
    "            index=np.arange(\n",
    "                visitors[visitors['group']=='B']['visitors'].sum() - len(ordersByUsersB['orders'])\n",
    "            ),\n",
    "            name='orders',\n",
    "        ),\n",
    "    ],\n",
    "    axis=0,\n",
    ")\n",
    " "
   ]
  },
  {
   "cell_type": "markdown",
   "metadata": {},
   "source": [
    "* Нулевая гипотеза: Конверсия в группе A равна группе B (статистическая значимость не значительна и сделать вывод о различии нельзя)\n",
    "* Альтернативная гипотеза: Конверсия в группе A не равна группе B (между выборками имеется статистическая значимость)\n",
    "\n",
    "Применим критерий Манна-Уитни. "
   ]
  },
  {
   "cell_type": "markdown",
   "metadata": {},
   "source": [
    "<div class=\"alert alert-success\">\n",
    "<b>Комментарий с комплиментом ревьюера:</b> \n",
    "\n",
    "Гипотезы сформулированы верно, молодец.\n",
    "</div>\n"
   ]
  },
  {
   "cell_type": "code",
   "execution_count": 30,
   "metadata": {},
   "outputs": [
    {
     "name": "stdout",
     "output_type": "stream",
     "text": [
      "p-value = 0.011\n",
      "Относительный показатель 'B' и 'A' =  0.160\n"
     ]
    }
   ],
   "source": [
    "print(\"p-value = {0:.3f}\".format(stats.mannwhitneyu(sampleA, sampleB)[1]))\n",
    "\n",
    "print(\"Относительный показатель 'B' и 'A' =  {0:.3f}\".format(sampleB.mean() / sampleA.mean() - 1))\n",
    " "
   ]
  },
  {
   "cell_type": "markdown",
   "metadata": {},
   "source": [
    "<div class=\"alert alert-success\">\n",
    "<b>Комментарий с комплиментом ревьюера:</b> \n",
    "\n",
    "Все верно, молодец, что используешь форматированный вывод.\n",
    "</div>\n"
   ]
  },
  {
   "cell_type": "markdown",
   "metadata": {},
   "source": [
    "Вывод: P-value значительно меньше 0.05, не получилось подтвердить нулевую гипотезу. \n",
    "Конверсия в группе A не равна группе B (между выборками имеется статистическая значимость). Относительный прирост среднего группы В к конверсии группы А равен 16%."
   ]
  },
  {
   "cell_type": "markdown",
   "metadata": {},
   "source": [
    "<div class=\"alert alert-success\">\n",
    "<b>Комментарий с комплиментом ревьюера:</b> \n",
    "\n",
    "Гипотеза проверена верно.\n",
    "</div>\n"
   ]
  },
  {
   "cell_type": "markdown",
   "metadata": {},
   "source": [
    "### Подсчет статистической значимости различий в среднем чеке заказа между группами по «сырым» данным."
   ]
  },
  {
   "cell_type": "markdown",
   "metadata": {},
   "source": [
    "Проверим статистическую значимость различий в среднем чеке между сегментами. \n",
    "* Нулевая гипотеза: Средний чек в группе А равен среднему чеку в группе В. \n",
    "* Альтернативная гипотеза:  Средний чек в группе A не равен среднему чеку в группе B. "
   ]
  },
  {
   "cell_type": "code",
   "execution_count": 31,
   "metadata": {},
   "outputs": [
    {
     "name": "stdout",
     "output_type": "stream",
     "text": [
      "0.829\n",
      "0.287\n"
     ]
    }
   ],
   "source": [
    "print('{0:.3f}'.format(stats.mannwhitneyu(orders[orders['group']=='A']['revenue'], orders[orders['group']=='B']['revenue'])[1]))\n",
    "\n",
    "print('{0:.3f}'.format(orders[orders['group']=='B']['revenue'].mean()/orders[orders['group']=='A']['revenue'].mean()-1)) "
   ]
  },
  {
   "cell_type": "markdown",
   "metadata": {},
   "source": [
    "P-value значительно больше 0.05,  значит, причин отвергать нулевую гипотезу и считать, что в среднем чеке есть различия, нет. Средний чек в группе A равен среднему чеку в группе B.\n",
    "\n",
    "Относительный прирост среднего чека группы В к группе А равен 28,7%"
   ]
  },
  {
   "cell_type": "markdown",
   "metadata": {},
   "source": [
    "<div class=\"alert alert-success\">\n",
    "<b>Комментарий с комплиментом ревьюера:</b> \n",
    "\n",
    "Все верно. \n",
    "\n",
    "Если p-value > alpha значит средний чек группы B **равен** среднему чеку группы A (или не отличается). Наблюдаемое различие не значимо, получено случайно из-за единичных выбросов.\n",
    "\n",
    "</div>\n"
   ]
  },
  {
   "cell_type": "markdown",
   "metadata": {},
   "source": [
    "### Подсчет статистической значимости различий в среднем количестве заказов на посетителя между группами по «очищенным» данным."
   ]
  },
  {
   "cell_type": "markdown",
   "metadata": {},
   "source": [
    "На основании проведенного анализа мы получили данные, что большинство пользователей не делает более 2 заказов и сумма покупки не превышает 53904 рублей. \n",
    "\n",
    "Примем за аномальных пользователей тех, кто совершил более 2 заказов или совершил заказ дороже 53 904 рубля. Так мы уберём 5% пользователей с наибольшим числом заказов и от 1% до 5% пользователей с дорогими заказами. \n",
    "\n",
    "Сделаем срезы пользователей с числом заказов больше 2 — usersWithManyOrders и пользователей, совершивших заказы дороже 53 904 — usersWithExpensiveOrders. Объединим их в таблице abnormalUsers. "
   ]
  },
  {
   "cell_type": "code",
   "execution_count": 32,
   "metadata": {
    "scrolled": true
   },
   "outputs": [
    {
     "name": "stdout",
     "output_type": "stream",
     "text": [
      "1099    148427295\n",
      "33      249864742\n",
      "58      611059232\n",
      "949     887908475\n",
      "744     888512513\n",
      "Name: visitorId, dtype: int64\n",
      "16\n"
     ]
    }
   ],
   "source": [
    "usersWithManyOrders = pd.concat(\n",
    "    [\n",
    "        ordersByUsersA[ordersByUsersA['orders'] > int(np.percentile(ordersByUsers['orders'], [99]))]['visitorId'],\n",
    "        ordersByUsersB[ordersByUsersB['orders'] > int(np.percentile(ordersByUsers['orders'], [99]))]['visitorId'],\n",
    "    ],\n",
    "    axis=0,\n",
    ")\n",
    "usersWithExpensiveOrders = orders[orders['revenue'] > int(np.percentile(orders['revenue'], [99]))]['visitorId']\n",
    "abnormalUsers = (\n",
    "    pd.concat([usersWithManyOrders, usersWithExpensiveOrders], axis=0)\n",
    "    .drop_duplicates()\n",
    "    .sort_values()\n",
    ")\n",
    "print(abnormalUsers.head(5))\n",
    "print(abnormalUsers.shape[0]) "
   ]
  },
  {
   "cell_type": "markdown",
   "metadata": {},
   "source": [
    "<div class=\"alert alert-warning\">\n",
    "<b>Комментарий с советом ревьюера:</b> \n",
    "\n",
    "Лучше использовать код (расчет перцентилей) вместо ручного ввода аномальных значений. \n",
    "Это снизит возможные ошибки при повторном использовании кода.\n"
   ]
  },
  {
   "cell_type": "markdown",
   "metadata": {},
   "source": [
    "<div class=\"alert alert-info\"> <b>Комментарий студента:</b> Сделано. Значения заменены на код</div>"
   ]
  },
  {
   "cell_type": "markdown",
   "metadata": {},
   "source": [
    "<div class=\"alert alert-success\">\n",
    "<b>Комментарий с комплиментом ревьюера в2:</b> \n",
    "  \n",
    "\n",
    "Отлично  \n",
    "<div>"
   ]
  },
  {
   "cell_type": "markdown",
   "metadata": {},
   "source": [
    "Количество аномальных пользователей - 16. Проанализируем, как их действия повлияли на результаты теста. Посчитаем статистическую значимость различий в среднем количестве заказов между группами теста по очищенным данным. Сначала подготовим выборки количества заказов по пользователям по группам теста:"
   ]
  },
  {
   "cell_type": "code",
   "execution_count": 33,
   "metadata": {},
   "outputs": [],
   "source": [
    "sampleAFiltered = pd.concat(\n",
    "    [\n",
    "        ordersByUsersA[\n",
    "            np.logical_not(ordersByUsersA['visitorId'].isin(abnormalUsers))\n",
    "        ]['orders'],\n",
    "        pd.Series(\n",
    "            0,\n",
    "            index=np.arange(\n",
    "                visitors[visitors['group']=='A']['visitors'].sum() - len(ordersByUsersA['orders'])\n",
    "            ),\n",
    "            name='orders',\n",
    "        ),\n",
    "    ],\n",
    "    axis=0,\n",
    ")\n",
    "\n",
    "sampleBFiltered = pd.concat(\n",
    "    [\n",
    "        ordersByUsersB[\n",
    "            np.logical_not(ordersByUsersB['visitorId'].isin(abnormalUsers))\n",
    "        ]['orders'],\n",
    "        pd.Series(\n",
    "            0,\n",
    "            index=np.arange(\n",
    "                visitors[visitors['group']=='B']['visitors'].sum() - len(ordersByUsersB['orders'])\n",
    "            ),\n",
    "            name='orders',\n",
    "        ),\n",
    "    ],\n",
    "    axis=0,\n",
    ") "
   ]
  },
  {
   "cell_type": "markdown",
   "metadata": {},
   "source": [
    "Применим статистический критерий Манна-Уитни к полученным выборкам.\n",
    "* Нулевая гипотеза: Конверсия в группе A равна группе B (статистическая значимость не значительна и сделать вывод о различии нельзя)\n",
    "* Альтернативная гипотеза: Конверсия в группе A не равна группе B (между выборками имеется статистическая значимость)"
   ]
  },
  {
   "cell_type": "code",
   "execution_count": 34,
   "metadata": {
    "scrolled": true
   },
   "outputs": [
    {
     "name": "stdout",
     "output_type": "stream",
     "text": [
      "p-value = 0.007\n",
      "Относительный показатель 'B' и 'A' = 0.189\n"
     ]
    }
   ],
   "source": [
    "print(\"p-value = {0:.3f}\".format(stats.mannwhitneyu(sampleAFiltered, sampleBFiltered, alternative = 'two-sided')[1]))\n",
    "print(\"Относительный показатель 'B' и 'A' = {0:.3f}\".format(sampleBFiltered.mean()/sampleAFiltered.mean()-1))"
   ]
  },
  {
   "cell_type": "markdown",
   "metadata": {},
   "source": [
    "Вывод: P-value значительно меньше 0.05, не получилось подтвердить нулевую гипотезу. Конверсия в группе A не равна группе B (между выборками имеется статистическая значимость). Относительный прирост среднего группы В к конверсии группы А равен 18.9%, что выше, чем по неочищенным данным на 2,9%"
   ]
  },
  {
   "cell_type": "markdown",
   "metadata": {},
   "source": [
    "<div class=\"alert alert-success\">\n",
    "<b>Комментарий с комплиментом ревьюера:</b> \n",
    "    \n",
    "Проверка проведена корректно, согласен группа B лучше группы A на 18.9%.\n"
   ]
  },
  {
   "cell_type": "markdown",
   "metadata": {},
   "source": [
    "### Подсчет статистической значимости различий в среднем чеке заказа между группами по «очищенным» данным."
   ]
  },
  {
   "cell_type": "markdown",
   "metadata": {},
   "source": [
    "Проверим статистическую значимость различий в среднем чеке между сегментами.\n",
    "* Нулевая гипотеза: Средний чек в группе А равен среднему чеку в группе В.\n",
    "* Альтернативная гипотеза: Средний чек в группе A не равен среднему чеку в группе B."
   ]
  },
  {
   "cell_type": "code",
   "execution_count": 35,
   "metadata": {},
   "outputs": [
    {
     "name": "stdout",
     "output_type": "stream",
     "text": [
      "0.788\n",
      "-0.032\n"
     ]
    }
   ],
   "source": [
    "print('{0:.3f}'.format(\n",
    "        stats.mannwhitneyu(\n",
    "            orders[\n",
    "                np.logical_and(\n",
    "                    orders['group'] == 'A',\n",
    "                    np.logical_not(orders['visitorId'].isin(abnormalUsers)),\n",
    "                )\n",
    "            ]['revenue'],\n",
    "            orders[\n",
    "                np.logical_and(\n",
    "                    orders['group'] == 'B',\n",
    "                    np.logical_not(orders['visitorId'].isin(abnormalUsers)),\n",
    "                )\n",
    "            ]['revenue'],\n",
    "        )[1]\n",
    "    )\n",
    ")\n",
    "\n",
    "\n",
    "print(\"{0:.3f}\".format(\n",
    "        orders[\n",
    "            np.logical_and(\n",
    "                orders['group'] == 'B',\n",
    "                np.logical_not(orders['visitorId'].isin(abnormalUsers)),\n",
    "            )\n",
    "        ]['revenue'].mean()\n",
    "        / orders[\n",
    "            np.logical_and(\n",
    "                orders['group'] == 'A',\n",
    "                np.logical_not(orders['visitorId'].isin(abnormalUsers)),\n",
    "            )\n",
    "        ]['revenue'].mean()\n",
    "        - 1\n",
    "    )\n",
    "     )"
   ]
  },
  {
   "cell_type": "markdown",
   "metadata": {},
   "source": [
    "P-value значительно больше 0.05, значит, причин отвергать нулевую гипотезу и считать, что в среднем чеке есть различия, нет. Средний чек в группе A равен среднему чеку в группе B. Относительное снижение среднего чека группы В к группе А примерно равно 3%. Изменение по сравнению с прошлыми результатами - 25,5%.\n",
    "\n",
    "Подтвердилась таже гипотеза, что и для неочищенных данных."
   ]
  },
  {
   "cell_type": "markdown",
   "metadata": {},
   "source": [
    "<div class=\"alert alert-success\">\n",
    "<b>Комментарий с комплиментом ревьюера:</b> \n",
    " \n",
    "Верно, сильное влияние аномалий.\n"
   ]
  },
  {
   "cell_type": "markdown",
   "metadata": {},
   "source": [
    "## Выводы"
   ]
  },
  {
   "cell_type": "markdown",
   "metadata": {},
   "source": [
    "Имеющиеся факты по проведенному тесту:\n",
    "* Есть статистически значимые различия по конверсии между группами и по «сырым», и по данным после фильтрации аномалий. \n",
    "* Нет статистически значимого различия по среднему чеку между группами ни по «сырым», ни по данным после фильтрации аномалий.\n",
    "* График различия среднего количества заказов между группами сообщает, что результаты группы B лучше группы A и нет значительной тенденции к ухудшению.\n",
    "* График различия среднего чека говорит о том, что результаты группы B лучше группы А на 28,7%: Но при отстутсвии анамалий мы видим незначительное снижение на 2%.\n",
    "\n",
    "Исходя из обнаруженных фактов можно принять решение остановить тест, зафиксировать победу группы B над группой А. Группа B значительно лучше (эффективнее) группы A по конверсии, хотя по среднему чеку группы примерно равны"
   ]
  },
  {
   "cell_type": "markdown",
   "metadata": {},
   "source": [
    "<div class=\"alert alert-success\">\n",
    "<b>Комментарий с комплиментом ревьюера:</b> \n",
    "    \n",
    "Решение верное.\n",
    "    \n",
    "Хороший аналитический вывод, вынесены основные показатели, которые получены в результате анализа.\n",
    "\n",
    "Действительно группы равны по среднему чеку, а по среднему количеству заказов группа В лучше группы А.  \n"
   ]
  },
  {
   "cell_type": "markdown",
   "metadata": {},
   "source": [
    "<div style=\"border:solid Chocolate 2px; padding: 40px\">\n",
    "\n",
    "# Общий вывод ревьюера\n",
    "\n",
    "<div class=\"alert alert-success\">\n",
    "\n",
    "Проделана хорошая аналитическая работа. Код написан чисто, соблюдена структура проекта, написаны логичные и обоснованные выводы. Проект выполнен на хорошем аналитическом уровне, поэтому замечаний не много. Я отметил в проекте моменты, на которые необходимо обратить внимание, исправь их и проект будет принят.\n",
    "\n",
    "- по ссылкам ниже интересные материалы по А/В тестам\n",
    "  \n",
    "    \n",
    "https://habr.com/ru/company/avito/blog/571094/\n",
    "\n",
    "https://habr.com/ru/company/yandex/blog/476826/\n",
    "\n",
    "https://academy.yandex.ru/journal/kak-provesti-a-b-testirovanie-6-prostykh-shagov\n",
    "\n",
    "https://habr.com/ru/company/yandex/blog/342704/\n",
    "\n",
    "https://r-analytics.blogspot.com/2013/10/blog-post_13.html \n",
    "\n",
    "</div>\n",
    "\n",
    "<div class=\"alert alert-danger\">\n",
    "\n",
    "- добавь, пожалуйста, подписи осей для всех графиков в проекте\n",
    "\n",
    "</div>\n",
    "\n",
    "\n"
   ]
  },
  {
   "cell_type": "markdown",
   "metadata": {},
   "source": [
    "<div style=\"border:solid Chocolate 2px; padding: 40px\">\n",
    "\n",
    "# Общий вывод ревьюера в2\n",
    "\n",
    "<div class=\"alert alert-success\">\n",
    "\n",
    "Отлично, замечания исправлены корректно, работу принимаю и желаю успеха в следующих проектах"
   ]
  },
  {
   "cell_type": "code",
   "execution_count": null,
   "metadata": {},
   "outputs": [],
   "source": []
  }
 ],
 "metadata": {
  "ExecuteTimeLog": [
   {
    "duration": 4,
    "start_time": "2023-04-13T13:28:27.062Z"
   },
   {
    "duration": 2,
    "start_time": "2023-04-13T13:30:08.218Z"
   },
   {
    "duration": 60,
    "start_time": "2023-04-13T13:31:40.898Z"
   },
   {
    "duration": 333,
    "start_time": "2023-04-13T13:31:44.796Z"
   },
   {
    "duration": 67,
    "start_time": "2023-04-13T13:31:45.780Z"
   },
   {
    "duration": 32,
    "start_time": "2023-04-13T13:32:19.749Z"
   },
   {
    "duration": 27,
    "start_time": "2023-04-13T13:32:44.859Z"
   },
   {
    "duration": 115,
    "start_time": "2023-04-13T14:06:24.953Z"
   },
   {
    "duration": 100,
    "start_time": "2023-04-13T14:06:33.491Z"
   },
   {
    "duration": 44,
    "start_time": "2023-04-13T14:07:05.159Z"
   },
   {
    "duration": 54,
    "start_time": "2023-04-13T14:07:34.082Z"
   },
   {
    "duration": 72,
    "start_time": "2023-04-13T14:07:51.305Z"
   },
   {
    "duration": 6,
    "start_time": "2023-04-13T14:11:05.813Z"
   },
   {
    "duration": 14,
    "start_time": "2023-04-13T14:12:11.381Z"
   },
   {
    "duration": 11,
    "start_time": "2023-04-13T14:13:01.985Z"
   },
   {
    "duration": 14,
    "start_time": "2023-04-13T14:13:06.983Z"
   },
   {
    "duration": 7,
    "start_time": "2023-04-13T14:14:20.946Z"
   },
   {
    "duration": 13,
    "start_time": "2023-04-13T14:15:13.652Z"
   },
   {
    "duration": 371,
    "start_time": "2023-04-14T13:34:10.137Z"
   },
   {
    "duration": 92,
    "start_time": "2023-04-14T13:34:11.916Z"
   },
   {
    "duration": 13,
    "start_time": "2023-04-14T13:34:12.478Z"
   },
   {
    "duration": 12,
    "start_time": "2023-04-14T13:34:13.040Z"
   },
   {
    "duration": 104,
    "start_time": "2023-04-14T13:34:13.788Z"
   },
   {
    "duration": 67,
    "start_time": "2023-04-14T13:34:13.960Z"
   },
   {
    "duration": 6,
    "start_time": "2023-04-14T13:46:20.849Z"
   },
   {
    "duration": 12,
    "start_time": "2023-04-14T13:46:31.746Z"
   },
   {
    "duration": 89,
    "start_time": "2023-04-14T13:47:43.687Z"
   },
   {
    "duration": 112,
    "start_time": "2023-04-14T13:50:30.323Z"
   },
   {
    "duration": 124,
    "start_time": "2023-04-14T13:50:39.125Z"
   },
   {
    "duration": 132,
    "start_time": "2023-04-14T13:51:02.258Z"
   },
   {
    "duration": 88,
    "start_time": "2023-04-14T13:51:42.665Z"
   },
   {
    "duration": 85,
    "start_time": "2023-04-14T13:51:56.375Z"
   },
   {
    "duration": 134,
    "start_time": "2023-04-14T13:51:59.738Z"
   },
   {
    "duration": 100,
    "start_time": "2023-04-14T13:52:03.737Z"
   },
   {
    "duration": 78,
    "start_time": "2023-04-14T13:52:26.926Z"
   },
   {
    "duration": 86,
    "start_time": "2023-04-14T13:52:37.808Z"
   },
   {
    "duration": 210,
    "start_time": "2023-04-14T13:52:40.172Z"
   },
   {
    "duration": 158,
    "start_time": "2023-04-14T13:52:42.768Z"
   },
   {
    "duration": 25,
    "start_time": "2023-04-14T13:52:59.381Z"
   },
   {
    "duration": 249,
    "start_time": "2023-04-14T13:54:41.036Z"
   },
   {
    "duration": 436,
    "start_time": "2023-04-14T13:57:14.584Z"
   },
   {
    "duration": 249,
    "start_time": "2023-04-14T13:57:40.844Z"
   },
   {
    "duration": 285,
    "start_time": "2023-04-14T14:01:11.984Z"
   },
   {
    "duration": 416,
    "start_time": "2023-04-14T14:02:37.429Z"
   },
   {
    "duration": 195,
    "start_time": "2023-04-14T14:10:55.254Z"
   },
   {
    "duration": 268,
    "start_time": "2023-04-14T14:12:34.839Z"
   },
   {
    "duration": 74,
    "start_time": "2023-04-14T14:12:55.786Z"
   },
   {
    "duration": 4,
    "start_time": "2023-04-14T14:13:01.047Z"
   },
   {
    "duration": 4,
    "start_time": "2023-04-14T14:13:26.423Z"
   },
   {
    "duration": 4,
    "start_time": "2023-04-14T14:13:44.193Z"
   },
   {
    "duration": 91,
    "start_time": "2023-04-14T14:13:53.428Z"
   },
   {
    "duration": 246,
    "start_time": "2023-04-14T14:13:56.621Z"
   },
   {
    "duration": 258,
    "start_time": "2023-04-14T14:14:04.039Z"
   },
   {
    "duration": 4,
    "start_time": "2023-04-14T14:15:42.783Z"
   },
   {
    "duration": 317,
    "start_time": "2023-04-14T14:15:51.838Z"
   },
   {
    "duration": 97,
    "start_time": "2023-04-14T14:31:17.772Z"
   },
   {
    "duration": 231,
    "start_time": "2023-04-14T14:31:40.064Z"
   },
   {
    "duration": 104,
    "start_time": "2023-04-14T14:32:06.935Z"
   },
   {
    "duration": 97,
    "start_time": "2023-04-14T14:33:37.911Z"
   },
   {
    "duration": 96,
    "start_time": "2023-04-14T14:33:44.113Z"
   },
   {
    "duration": 267,
    "start_time": "2023-04-14T14:34:12.005Z"
   },
   {
    "duration": 284,
    "start_time": "2023-04-14T14:34:47.001Z"
   },
   {
    "duration": 318,
    "start_time": "2023-04-14T14:35:05.073Z"
   },
   {
    "duration": 242,
    "start_time": "2023-04-14T14:35:13.722Z"
   },
   {
    "duration": 287,
    "start_time": "2023-04-14T14:35:52.879Z"
   },
   {
    "duration": 371,
    "start_time": "2023-04-14T14:35:55.903Z"
   },
   {
    "duration": 367,
    "start_time": "2023-04-14T14:36:26.700Z"
   },
   {
    "duration": 383,
    "start_time": "2023-04-14T14:36:39.413Z"
   },
   {
    "duration": 2261,
    "start_time": "2023-04-14T14:38:27.413Z"
   },
   {
    "duration": 135,
    "start_time": "2023-04-14T14:39:04.450Z"
   },
   {
    "duration": 2386,
    "start_time": "2023-04-14T14:39:36.318Z"
   },
   {
    "duration": 134,
    "start_time": "2023-04-14T14:39:47.684Z"
   },
   {
    "duration": 87,
    "start_time": "2023-04-14T14:42:29.437Z"
   },
   {
    "duration": 100,
    "start_time": "2023-04-14T14:42:56.629Z"
   },
   {
    "duration": 137,
    "start_time": "2023-04-14T14:43:19.107Z"
   },
   {
    "duration": 10,
    "start_time": "2023-04-14T14:44:18.853Z"
   },
   {
    "duration": 114,
    "start_time": "2023-04-14T14:44:22.916Z"
   },
   {
    "duration": 5,
    "start_time": "2023-04-14T14:45:06.085Z"
   },
   {
    "duration": 138,
    "start_time": "2023-04-14T14:47:32.690Z"
   },
   {
    "duration": 5,
    "start_time": "2023-04-14T14:47:59.169Z"
   },
   {
    "duration": 121,
    "start_time": "2023-04-14T14:49:02.588Z"
   },
   {
    "duration": 113,
    "start_time": "2023-04-14T14:49:06.217Z"
   },
   {
    "duration": 2141,
    "start_time": "2023-04-14T14:49:19.360Z"
   },
   {
    "duration": 1515,
    "start_time": "2023-04-14T14:49:47.943Z"
   },
   {
    "duration": 15,
    "start_time": "2023-04-14T14:50:05.965Z"
   },
   {
    "duration": 2382,
    "start_time": "2023-04-14T14:50:41.516Z"
   },
   {
    "duration": 2086,
    "start_time": "2023-04-14T14:50:59.356Z"
   },
   {
    "duration": 254,
    "start_time": "2023-04-14T15:16:57.037Z"
   },
   {
    "duration": 407,
    "start_time": "2023-04-14T15:17:56.377Z"
   },
   {
    "duration": 964,
    "start_time": "2023-04-16T06:20:00.911Z"
   },
   {
    "duration": 114,
    "start_time": "2023-04-16T06:20:02.421Z"
   },
   {
    "duration": 15,
    "start_time": "2023-04-16T06:20:04.264Z"
   },
   {
    "duration": 43,
    "start_time": "2023-04-16T06:20:32.429Z"
   },
   {
    "duration": 14,
    "start_time": "2023-04-16T06:20:32.851Z"
   },
   {
    "duration": 12,
    "start_time": "2023-04-16T06:20:33.392Z"
   },
   {
    "duration": 118,
    "start_time": "2023-04-16T06:20:34.154Z"
   },
   {
    "duration": 72,
    "start_time": "2023-04-16T06:20:34.359Z"
   },
   {
    "duration": 300,
    "start_time": "2023-04-16T06:20:34.701Z"
   },
   {
    "duration": 330,
    "start_time": "2023-04-16T06:20:35.003Z"
   },
   {
    "duration": 323,
    "start_time": "2023-04-16T06:20:35.571Z"
   },
   {
    "duration": 446,
    "start_time": "2023-04-16T06:20:36.232Z"
   },
   {
    "duration": 309,
    "start_time": "2023-04-16T06:20:36.770Z"
   },
   {
    "duration": 492,
    "start_time": "2023-04-16T06:20:37.281Z"
   },
   {
    "duration": 11,
    "start_time": "2023-04-16T06:20:37.870Z"
   },
   {
    "duration": 126,
    "start_time": "2023-04-16T06:20:38.053Z"
   },
   {
    "duration": 5,
    "start_time": "2023-04-16T06:20:38.608Z"
   },
   {
    "duration": 1451,
    "start_time": "2023-04-16T06:20:39.166Z"
   },
   {
    "duration": 0,
    "start_time": "2023-04-16T06:20:40.619Z"
   },
   {
    "duration": 0,
    "start_time": "2023-04-16T06:20:40.621Z"
   },
   {
    "duration": 1474,
    "start_time": "2023-04-16T06:22:09.798Z"
   },
   {
    "duration": 412,
    "start_time": "2023-04-16T06:46:27.480Z"
   },
   {
    "duration": 276,
    "start_time": "2023-04-16T06:46:53.648Z"
   },
   {
    "duration": 277,
    "start_time": "2023-04-16T06:47:02.756Z"
   },
   {
    "duration": 6,
    "start_time": "2023-04-16T07:00:25.111Z"
   },
   {
    "duration": 7,
    "start_time": "2023-04-16T07:00:36.983Z"
   },
   {
    "duration": 8,
    "start_time": "2023-04-16T07:00:41.183Z"
   },
   {
    "duration": 6,
    "start_time": "2023-04-16T07:01:01.269Z"
   },
   {
    "duration": 3,
    "start_time": "2023-04-16T07:01:24.950Z"
   },
   {
    "duration": 14,
    "start_time": "2023-04-16T07:01:37.191Z"
   },
   {
    "duration": 15,
    "start_time": "2023-04-16T07:02:03.255Z"
   },
   {
    "duration": 7,
    "start_time": "2023-04-16T07:02:06.412Z"
   },
   {
    "duration": 13,
    "start_time": "2023-04-16T07:03:16.803Z"
   },
   {
    "duration": 12,
    "start_time": "2023-04-16T07:03:33.779Z"
   },
   {
    "duration": 14,
    "start_time": "2023-04-16T07:05:02.977Z"
   },
   {
    "duration": 20,
    "start_time": "2023-04-16T07:05:12.325Z"
   },
   {
    "duration": 16,
    "start_time": "2023-04-16T07:05:19.764Z"
   },
   {
    "duration": 15,
    "start_time": "2023-04-16T07:05:36.196Z"
   },
   {
    "duration": 60,
    "start_time": "2023-04-16T07:05:43.504Z"
   },
   {
    "duration": 29,
    "start_time": "2023-04-16T07:05:44.127Z"
   },
   {
    "duration": 16,
    "start_time": "2023-04-16T07:05:44.762Z"
   },
   {
    "duration": 10,
    "start_time": "2023-04-16T07:05:45.179Z"
   },
   {
    "duration": 13,
    "start_time": "2023-04-16T07:05:45.690Z"
   },
   {
    "duration": 6,
    "start_time": "2023-04-16T07:05:46.204Z"
   },
   {
    "duration": 15,
    "start_time": "2023-04-16T07:05:46.660Z"
   },
   {
    "duration": 13,
    "start_time": "2023-04-16T07:06:01.336Z"
   },
   {
    "duration": 107,
    "start_time": "2023-04-16T07:57:21.943Z"
   },
   {
    "duration": 20,
    "start_time": "2023-04-16T07:57:28.957Z"
   },
   {
    "duration": 25,
    "start_time": "2023-04-16T07:58:20.439Z"
   },
   {
    "duration": 10,
    "start_time": "2023-04-16T08:01:27.013Z"
   },
   {
    "duration": 9,
    "start_time": "2023-04-16T08:02:23.590Z"
   },
   {
    "duration": 22,
    "start_time": "2023-04-16T08:06:22.531Z"
   },
   {
    "duration": 23,
    "start_time": "2023-04-16T08:06:27.488Z"
   },
   {
    "duration": 15,
    "start_time": "2023-04-16T08:06:36.815Z"
   },
   {
    "duration": 20,
    "start_time": "2023-04-16T08:06:42.384Z"
   },
   {
    "duration": 18,
    "start_time": "2023-04-16T08:06:47.395Z"
   },
   {
    "duration": 31,
    "start_time": "2023-04-16T08:07:20.722Z"
   },
   {
    "duration": 32,
    "start_time": "2023-04-16T08:07:28.766Z"
   },
   {
    "duration": 35,
    "start_time": "2023-04-16T08:08:04.771Z"
   },
   {
    "duration": 39,
    "start_time": "2023-04-16T08:08:10.430Z"
   },
   {
    "duration": 40,
    "start_time": "2023-04-16T08:11:32.016Z"
   },
   {
    "duration": 36,
    "start_time": "2023-04-16T08:11:37.053Z"
   },
   {
    "duration": 28,
    "start_time": "2023-04-16T08:12:02.875Z"
   },
   {
    "duration": 17,
    "start_time": "2023-04-16T08:12:08.000Z"
   },
   {
    "duration": 19,
    "start_time": "2023-04-16T08:13:22.735Z"
   },
   {
    "duration": 18,
    "start_time": "2023-04-16T08:15:20.212Z"
   },
   {
    "duration": 112,
    "start_time": "2023-04-16T08:16:23.702Z"
   },
   {
    "duration": 16,
    "start_time": "2023-04-16T08:16:32.691Z"
   },
   {
    "duration": 15,
    "start_time": "2023-04-16T08:16:37.986Z"
   },
   {
    "duration": 46,
    "start_time": "2023-04-16T08:18:52.471Z"
   },
   {
    "duration": 18,
    "start_time": "2023-04-16T08:19:03.374Z"
   },
   {
    "duration": 21,
    "start_time": "2023-04-16T08:19:17.468Z"
   },
   {
    "duration": 99,
    "start_time": "2023-04-16T08:20:43.215Z"
   },
   {
    "duration": 1703,
    "start_time": "2023-04-16T08:20:51.026Z"
   },
   {
    "duration": 23,
    "start_time": "2023-04-16T08:21:01.513Z"
   },
   {
    "duration": 7,
    "start_time": "2023-04-16T08:22:58.050Z"
   },
   {
    "duration": 6,
    "start_time": "2023-04-16T08:23:27.914Z"
   },
   {
    "duration": 7,
    "start_time": "2023-04-16T08:23:45.925Z"
   },
   {
    "duration": 7,
    "start_time": "2023-04-16T08:24:36.181Z"
   },
   {
    "duration": 8,
    "start_time": "2023-04-16T08:24:36.740Z"
   },
   {
    "duration": 5,
    "start_time": "2023-04-16T08:25:09.008Z"
   },
   {
    "duration": 17,
    "start_time": "2023-04-16T08:25:19.734Z"
   },
   {
    "duration": 32,
    "start_time": "2023-04-16T08:25:31.341Z"
   },
   {
    "duration": 19,
    "start_time": "2023-04-16T08:25:38.379Z"
   },
   {
    "duration": 13,
    "start_time": "2023-04-16T08:25:47.369Z"
   },
   {
    "duration": 13,
    "start_time": "2023-04-16T08:25:57.679Z"
   },
   {
    "duration": 3,
    "start_time": "2023-04-16T08:26:02.880Z"
   },
   {
    "duration": 58,
    "start_time": "2023-04-16T08:26:03.443Z"
   },
   {
    "duration": 14,
    "start_time": "2023-04-16T08:26:04.200Z"
   },
   {
    "duration": 15,
    "start_time": "2023-04-16T08:26:05.122Z"
   },
   {
    "duration": 87,
    "start_time": "2023-04-16T08:26:06.204Z"
   },
   {
    "duration": 38,
    "start_time": "2023-04-16T08:26:06.542Z"
   },
   {
    "duration": 23,
    "start_time": "2023-04-16T08:26:07.241Z"
   },
   {
    "duration": 7,
    "start_time": "2023-04-16T08:26:07.581Z"
   },
   {
    "duration": 15,
    "start_time": "2023-04-16T08:26:07.920Z"
   },
   {
    "duration": 15,
    "start_time": "2023-04-16T08:26:08.266Z"
   },
   {
    "duration": 8,
    "start_time": "2023-04-16T08:26:08.600Z"
   },
   {
    "duration": 14,
    "start_time": "2023-04-16T08:26:09.003Z"
   },
   {
    "duration": 16,
    "start_time": "2023-04-16T08:26:09.419Z"
   },
   {
    "duration": 22,
    "start_time": "2023-04-16T08:26:09.865Z"
   },
   {
    "duration": 388,
    "start_time": "2023-04-16T08:26:11.632Z"
   },
   {
    "duration": 329,
    "start_time": "2023-04-16T08:26:42.995Z"
   },
   {
    "duration": 24,
    "start_time": "2023-04-16T08:27:28.197Z"
   },
   {
    "duration": 285,
    "start_time": "2023-04-16T08:27:55.436Z"
   },
   {
    "duration": 291,
    "start_time": "2023-04-16T08:28:02.603Z"
   },
   {
    "duration": 440,
    "start_time": "2023-04-16T08:28:12.973Z"
   },
   {
    "duration": 258,
    "start_time": "2023-04-16T08:29:41.874Z"
   },
   {
    "duration": 282,
    "start_time": "2023-04-16T08:29:53.334Z"
   },
   {
    "duration": 265,
    "start_time": "2023-04-16T08:30:40.969Z"
   },
   {
    "duration": 330,
    "start_time": "2023-04-16T08:33:35.003Z"
   },
   {
    "duration": 416,
    "start_time": "2023-04-16T08:33:46.356Z"
   },
   {
    "duration": 387,
    "start_time": "2023-04-16T08:34:00.428Z"
   },
   {
    "duration": 287,
    "start_time": "2023-04-16T08:42:03.529Z"
   },
   {
    "duration": 273,
    "start_time": "2023-04-16T08:42:29.636Z"
   },
   {
    "duration": 258,
    "start_time": "2023-04-16T08:45:43.772Z"
   },
   {
    "duration": 382,
    "start_time": "2023-04-16T08:46:35.885Z"
   },
   {
    "duration": 491,
    "start_time": "2023-04-16T08:57:27.432Z"
   },
   {
    "duration": 361,
    "start_time": "2023-04-16T09:00:50.566Z"
   },
   {
    "duration": 413,
    "start_time": "2023-04-16T09:01:00.697Z"
   },
   {
    "duration": 387,
    "start_time": "2023-04-16T09:01:04.785Z"
   },
   {
    "duration": 342,
    "start_time": "2023-04-16T09:01:17.381Z"
   },
   {
    "duration": 202,
    "start_time": "2023-04-16T09:03:02.274Z"
   },
   {
    "duration": 148,
    "start_time": "2023-04-16T09:06:22.927Z"
   },
   {
    "duration": 106,
    "start_time": "2023-04-16T09:06:37.712Z"
   },
   {
    "duration": 79,
    "start_time": "2023-04-16T09:06:42.668Z"
   },
   {
    "duration": 183,
    "start_time": "2023-04-16T09:06:56.996Z"
   },
   {
    "duration": 150,
    "start_time": "2023-04-16T09:08:38.479Z"
   },
   {
    "duration": 167,
    "start_time": "2023-04-16T09:08:45.195Z"
   },
   {
    "duration": 147,
    "start_time": "2023-04-16T09:09:53.795Z"
   },
   {
    "duration": 150,
    "start_time": "2023-04-16T09:10:26.223Z"
   },
   {
    "duration": 292,
    "start_time": "2023-04-16T09:12:18.636Z"
   },
   {
    "duration": 243,
    "start_time": "2023-04-16T09:12:24.829Z"
   },
   {
    "duration": 208,
    "start_time": "2023-04-16T09:12:32.120Z"
   },
   {
    "duration": 204,
    "start_time": "2023-04-16T09:12:39.033Z"
   },
   {
    "duration": 151,
    "start_time": "2023-04-16T09:13:04.967Z"
   },
   {
    "duration": 164,
    "start_time": "2023-04-16T09:14:05.470Z"
   },
   {
    "duration": 179,
    "start_time": "2023-04-16T09:14:22.801Z"
   },
   {
    "duration": 175,
    "start_time": "2023-04-16T09:15:08.131Z"
   },
   {
    "duration": 200,
    "start_time": "2023-04-16T09:16:38.712Z"
   },
   {
    "duration": 5,
    "start_time": "2023-04-16T09:19:13.614Z"
   },
   {
    "duration": 3387,
    "start_time": "2023-04-16T09:20:03.134Z"
   },
   {
    "duration": 155,
    "start_time": "2023-04-16T09:20:32.278Z"
   },
   {
    "duration": 213,
    "start_time": "2023-04-16T09:21:06.976Z"
   },
   {
    "duration": 207,
    "start_time": "2023-04-16T09:21:37.611Z"
   },
   {
    "duration": 424,
    "start_time": "2023-04-16T09:21:48.610Z"
   },
   {
    "duration": 375,
    "start_time": "2023-04-16T09:21:59.035Z"
   },
   {
    "duration": 315,
    "start_time": "2023-04-16T09:22:27.582Z"
   },
   {
    "duration": 406,
    "start_time": "2023-04-16T09:25:04.770Z"
   },
   {
    "duration": 356,
    "start_time": "2023-04-16T09:25:14.371Z"
   },
   {
    "duration": 174,
    "start_time": "2023-04-16T09:25:30.504Z"
   },
   {
    "duration": 281,
    "start_time": "2023-04-16T09:26:46.204Z"
   },
   {
    "duration": 382,
    "start_time": "2023-04-16T09:26:51.511Z"
   },
   {
    "duration": 213,
    "start_time": "2023-04-16T09:27:32.192Z"
   },
   {
    "duration": 11,
    "start_time": "2023-04-16T09:28:56.845Z"
   },
   {
    "duration": 1984,
    "start_time": "2023-04-16T09:29:30.683Z"
   },
   {
    "duration": 6,
    "start_time": "2023-04-16T09:29:43.118Z"
   },
   {
    "duration": 125,
    "start_time": "2023-04-16T09:35:47.001Z"
   },
   {
    "duration": 168,
    "start_time": "2023-04-16T09:39:16.368Z"
   },
   {
    "duration": 143,
    "start_time": "2023-04-16T09:43:48.632Z"
   },
   {
    "duration": 19,
    "start_time": "2023-04-16T09:49:06.317Z"
   },
   {
    "duration": 17,
    "start_time": "2023-04-16T09:49:16.760Z"
   },
   {
    "duration": 14,
    "start_time": "2023-04-16T09:53:16.182Z"
   },
   {
    "duration": 560,
    "start_time": "2023-04-16T09:55:00.172Z"
   },
   {
    "duration": 28,
    "start_time": "2023-04-16T09:55:14.140Z"
   },
   {
    "duration": 28,
    "start_time": "2023-04-16T09:56:43.656Z"
   },
   {
    "duration": 51,
    "start_time": "2023-04-16T10:03:15.946Z"
   },
   {
    "duration": 97,
    "start_time": "2023-04-16T10:07:13.968Z"
   },
   {
    "duration": 1860,
    "start_time": "2023-04-16T10:10:26.363Z"
   },
   {
    "duration": 1736,
    "start_time": "2023-04-16T10:10:46.098Z"
   },
   {
    "duration": 1578,
    "start_time": "2023-04-16T10:10:51.514Z"
   },
   {
    "duration": 52,
    "start_time": "2023-04-16T14:21:19.931Z"
   },
   {
    "duration": 1294,
    "start_time": "2023-04-16T14:21:31.132Z"
   },
   {
    "duration": 90,
    "start_time": "2023-04-16T14:21:32.428Z"
   },
   {
    "duration": 12,
    "start_time": "2023-04-16T14:21:32.519Z"
   },
   {
    "duration": 10,
    "start_time": "2023-04-16T14:21:32.533Z"
   },
   {
    "duration": 99,
    "start_time": "2023-04-16T14:21:33.214Z"
   },
   {
    "duration": 67,
    "start_time": "2023-04-16T14:21:33.433Z"
   },
   {
    "duration": 11,
    "start_time": "2023-04-16T14:21:33.871Z"
   },
   {
    "duration": 6,
    "start_time": "2023-04-16T14:21:34.067Z"
   },
   {
    "duration": 12,
    "start_time": "2023-04-16T14:21:34.301Z"
   },
   {
    "duration": 10,
    "start_time": "2023-04-16T14:21:34.522Z"
   },
   {
    "duration": 6,
    "start_time": "2023-04-16T14:21:34.673Z"
   },
   {
    "duration": 14,
    "start_time": "2023-04-16T14:21:34.915Z"
   },
   {
    "duration": 13,
    "start_time": "2023-04-16T14:21:37.323Z"
   },
   {
    "duration": 79,
    "start_time": "2023-04-16T14:21:37.582Z"
   },
   {
    "duration": 267,
    "start_time": "2023-04-16T14:21:38.260Z"
   },
   {
    "duration": 281,
    "start_time": "2023-04-16T14:21:38.529Z"
   },
   {
    "duration": 193,
    "start_time": "2023-04-16T14:21:39.149Z"
   },
   {
    "duration": 311,
    "start_time": "2023-04-16T14:21:39.784Z"
   },
   {
    "duration": 195,
    "start_time": "2023-04-16T14:21:40.425Z"
   },
   {
    "duration": 343,
    "start_time": "2023-04-16T14:21:41.021Z"
   },
   {
    "duration": 9,
    "start_time": "2023-04-16T14:21:41.721Z"
   },
   {
    "duration": 149,
    "start_time": "2023-04-16T14:21:41.938Z"
   },
   {
    "duration": 216,
    "start_time": "2023-04-16T14:21:43.030Z"
   },
   {
    "duration": 4,
    "start_time": "2023-04-16T14:21:43.873Z"
   },
   {
    "duration": 337,
    "start_time": "2023-04-16T14:21:44.528Z"
   },
   {
    "duration": 164,
    "start_time": "2023-04-16T14:21:45.014Z"
   },
   {
    "duration": 5,
    "start_time": "2023-04-16T14:21:46.075Z"
   },
   {
    "duration": 127,
    "start_time": "2023-04-16T14:21:47.602Z"
   },
   {
    "duration": 7,
    "start_time": "2023-04-16T14:21:48.022Z"
   },
   {
    "duration": 20,
    "start_time": "2023-04-16T14:21:48.230Z"
   },
   {
    "duration": 9,
    "start_time": "2023-04-16T14:21:49.117Z"
   },
   {
    "duration": 1433,
    "start_time": "2023-04-16T14:21:50.010Z"
   },
   {
    "duration": 131,
    "start_time": "2023-04-16T14:22:38.641Z"
   },
   {
    "duration": 7,
    "start_time": "2023-04-16T14:22:41.618Z"
   },
   {
    "duration": 25,
    "start_time": "2023-04-16T14:22:42.461Z"
   },
   {
    "duration": 14,
    "start_time": "2023-04-16T14:22:43.861Z"
   },
   {
    "duration": 14,
    "start_time": "2023-04-16T14:22:44.681Z"
   },
   {
    "duration": 1283,
    "start_time": "2023-04-16T14:28:42.137Z"
   },
   {
    "duration": 1468,
    "start_time": "2023-04-16T14:29:32.774Z"
   },
   {
    "duration": 9,
    "start_time": "2023-04-16T14:32:47.507Z"
   },
   {
    "duration": 88,
    "start_time": "2023-04-16T14:34:18.138Z"
   },
   {
    "duration": 22,
    "start_time": "2023-04-16T14:34:40.538Z"
   },
   {
    "duration": 7,
    "start_time": "2023-04-16T14:37:54.140Z"
   },
   {
    "duration": 1499,
    "start_time": "2023-04-16T14:38:17.543Z"
   },
   {
    "duration": 15,
    "start_time": "2023-04-16T14:38:38.520Z"
   },
   {
    "duration": 13,
    "start_time": "2023-04-16T14:38:48.875Z"
   },
   {
    "duration": 13,
    "start_time": "2023-04-16T14:39:43.468Z"
   },
   {
    "duration": 94,
    "start_time": "2023-04-16T15:15:29.605Z"
   },
   {
    "duration": 7,
    "start_time": "2023-04-16T15:35:40.604Z"
   },
   {
    "duration": 9,
    "start_time": "2023-04-16T15:35:43.479Z"
   },
   {
    "duration": 10,
    "start_time": "2023-04-16T15:36:53.112Z"
   },
   {
    "duration": 97,
    "start_time": "2023-04-16T15:39:00.702Z"
   },
   {
    "duration": 31,
    "start_time": "2023-04-16T15:39:04.610Z"
   },
   {
    "duration": 5,
    "start_time": "2023-04-16T15:42:14.398Z"
   },
   {
    "duration": 12,
    "start_time": "2023-04-16T15:42:43.022Z"
   },
   {
    "duration": 5,
    "start_time": "2023-04-16T15:42:52.681Z"
   },
   {
    "duration": 10,
    "start_time": "2023-04-16T15:43:01.793Z"
   },
   {
    "duration": 13,
    "start_time": "2023-04-16T15:43:07.520Z"
   },
   {
    "duration": 46,
    "start_time": "2023-04-16T15:43:32.338Z"
   },
   {
    "duration": 3,
    "start_time": "2023-04-16T15:47:12.597Z"
   },
   {
    "duration": 4,
    "start_time": "2023-04-16T15:47:17.816Z"
   },
   {
    "duration": 3,
    "start_time": "2023-04-16T15:47:34.494Z"
   },
   {
    "duration": 32,
    "start_time": "2023-04-16T15:47:34.900Z"
   },
   {
    "duration": 10,
    "start_time": "2023-04-16T15:47:35.223Z"
   },
   {
    "duration": 10,
    "start_time": "2023-04-16T15:47:35.598Z"
   },
   {
    "duration": 58,
    "start_time": "2023-04-16T15:47:36.177Z"
   },
   {
    "duration": 52,
    "start_time": "2023-04-16T15:47:36.335Z"
   },
   {
    "duration": 9,
    "start_time": "2023-04-16T15:47:36.792Z"
   },
   {
    "duration": 5,
    "start_time": "2023-04-16T15:47:36.996Z"
   },
   {
    "duration": 29,
    "start_time": "2023-04-16T15:47:37.238Z"
   },
   {
    "duration": 9,
    "start_time": "2023-04-16T15:47:37.417Z"
   },
   {
    "duration": 4,
    "start_time": "2023-04-16T15:47:37.621Z"
   },
   {
    "duration": 12,
    "start_time": "2023-04-16T15:47:37.816Z"
   },
   {
    "duration": 14,
    "start_time": "2023-04-16T15:47:38.023Z"
   },
   {
    "duration": 18,
    "start_time": "2023-04-16T15:47:38.296Z"
   },
   {
    "duration": 374,
    "start_time": "2023-04-16T15:47:39.192Z"
   },
   {
    "duration": 307,
    "start_time": "2023-04-16T15:47:39.792Z"
   },
   {
    "duration": 268,
    "start_time": "2023-04-16T15:47:41.538Z"
   },
   {
    "duration": 318,
    "start_time": "2023-04-16T15:47:45.024Z"
   },
   {
    "duration": 269,
    "start_time": "2023-04-16T15:47:47.028Z"
   },
   {
    "duration": 327,
    "start_time": "2023-04-16T15:47:48.414Z"
   },
   {
    "duration": 358,
    "start_time": "2023-04-16T15:47:59.135Z"
   },
   {
    "duration": 9,
    "start_time": "2023-04-16T15:48:11.785Z"
   },
   {
    "duration": 180,
    "start_time": "2023-04-16T15:48:12.922Z"
   },
   {
    "duration": 186,
    "start_time": "2023-04-16T15:48:27.811Z"
   },
   {
    "duration": 5,
    "start_time": "2023-04-16T15:48:31.501Z"
   },
   {
    "duration": 31,
    "start_time": "2023-04-16T15:51:18.695Z"
   },
   {
    "duration": 11,
    "start_time": "2023-04-16T15:51:20.098Z"
   },
   {
    "duration": 10,
    "start_time": "2023-04-16T15:51:20.995Z"
   },
   {
    "duration": 69,
    "start_time": "2023-04-16T15:51:21.997Z"
   },
   {
    "duration": 20,
    "start_time": "2023-04-16T15:51:22.996Z"
   },
   {
    "duration": 20,
    "start_time": "2023-04-16T15:51:24.642Z"
   },
   {
    "duration": 5,
    "start_time": "2023-04-16T15:51:25.411Z"
   },
   {
    "duration": 12,
    "start_time": "2023-04-16T15:51:32.933Z"
   },
   {
    "duration": 102,
    "start_time": "2023-04-16T15:51:38.796Z"
   },
   {
    "duration": 57,
    "start_time": "2023-04-16T15:51:40.931Z"
   },
   {
    "duration": 14,
    "start_time": "2023-04-16T15:51:43.592Z"
   },
   {
    "duration": 20,
    "start_time": "2023-04-16T15:51:46.585Z"
   },
   {
    "duration": 293,
    "start_time": "2023-04-16T15:51:50.612Z"
   },
   {
    "duration": 224,
    "start_time": "2023-04-16T15:51:51.504Z"
   },
   {
    "duration": 291,
    "start_time": "2023-04-16T15:51:53.803Z"
   },
   {
    "duration": 295,
    "start_time": "2023-04-16T15:51:55.293Z"
   },
   {
    "duration": 212,
    "start_time": "2023-04-16T15:51:56.795Z"
   },
   {
    "duration": 373,
    "start_time": "2023-04-16T15:51:58.226Z"
   },
   {
    "duration": 11,
    "start_time": "2023-04-16T15:51:59.879Z"
   },
   {
    "duration": 170,
    "start_time": "2023-04-16T15:52:00.527Z"
   },
   {
    "duration": 195,
    "start_time": "2023-04-16T15:52:03.099Z"
   },
   {
    "duration": 4,
    "start_time": "2023-04-16T15:52:05.110Z"
   },
   {
    "duration": 101,
    "start_time": "2023-04-16T15:52:12.613Z"
   },
   {
    "duration": 4,
    "start_time": "2023-04-16T15:52:15.338Z"
   },
   {
    "duration": 4,
    "start_time": "2023-04-16T15:52:20.795Z"
   },
   {
    "duration": 9,
    "start_time": "2023-04-16T15:53:01.494Z"
   },
   {
    "duration": 210,
    "start_time": "2023-04-16T15:53:02.375Z"
   },
   {
    "duration": 244,
    "start_time": "2023-04-16T15:53:03.233Z"
   },
   {
    "duration": 4,
    "start_time": "2023-04-16T15:53:04.901Z"
   },
   {
    "duration": 286,
    "start_time": "2023-04-16T15:53:06.320Z"
   },
   {
    "duration": 5,
    "start_time": "2023-04-16T15:53:13.797Z"
   },
   {
    "duration": 333,
    "start_time": "2023-04-16T15:55:03.189Z"
   },
   {
    "duration": 241,
    "start_time": "2023-04-16T15:55:05.242Z"
   },
   {
    "duration": 6,
    "start_time": "2023-04-16T15:55:06.797Z"
   },
   {
    "duration": 2,
    "start_time": "2023-04-16T15:55:27.936Z"
   },
   {
    "duration": 31,
    "start_time": "2023-04-16T15:55:29.191Z"
   },
   {
    "duration": 10,
    "start_time": "2023-04-16T15:55:30.331Z"
   },
   {
    "duration": 10,
    "start_time": "2023-04-16T15:55:31.504Z"
   },
   {
    "duration": 54,
    "start_time": "2023-04-16T15:55:36.092Z"
   },
   {
    "duration": 31,
    "start_time": "2023-04-16T15:55:39.295Z"
   },
   {
    "duration": 11,
    "start_time": "2023-04-16T15:55:40.389Z"
   },
   {
    "duration": 5,
    "start_time": "2023-04-16T15:55:41.192Z"
   },
   {
    "duration": 11,
    "start_time": "2023-04-16T15:55:43.196Z"
   },
   {
    "duration": 15,
    "start_time": "2023-04-16T15:55:45.143Z"
   },
   {
    "duration": 5,
    "start_time": "2023-04-16T15:55:51.482Z"
   },
   {
    "duration": 19,
    "start_time": "2023-04-16T15:55:51.992Z"
   },
   {
    "duration": 280,
    "start_time": "2023-04-16T15:55:55.808Z"
   },
   {
    "duration": 233,
    "start_time": "2023-04-16T15:55:56.141Z"
   },
   {
    "duration": 233,
    "start_time": "2023-04-16T15:55:57.309Z"
   },
   {
    "duration": 291,
    "start_time": "2023-04-16T15:55:58.624Z"
   },
   {
    "duration": 278,
    "start_time": "2023-04-16T15:56:00.917Z"
   },
   {
    "duration": 335,
    "start_time": "2023-04-16T15:56:03.227Z"
   },
   {
    "duration": 8,
    "start_time": "2023-04-16T15:56:04.817Z"
   },
   {
    "duration": 161,
    "start_time": "2023-04-16T15:56:05.418Z"
   },
   {
    "duration": 166,
    "start_time": "2023-04-16T15:56:06.476Z"
   },
   {
    "duration": 4,
    "start_time": "2023-04-16T15:56:08.014Z"
   },
   {
    "duration": 14,
    "start_time": "2023-04-16T15:56:43.211Z"
   },
   {
    "duration": 1407,
    "start_time": "2023-04-16T16:01:49.901Z"
   },
   {
    "duration": 21,
    "start_time": "2023-04-16T16:02:03.020Z"
   },
   {
    "duration": 19,
    "start_time": "2023-04-16T16:02:18.295Z"
   },
   {
    "duration": 291,
    "start_time": "2023-04-16T16:02:19.225Z"
   },
   {
    "duration": 240,
    "start_time": "2023-04-16T16:02:19.518Z"
   },
   {
    "duration": 204,
    "start_time": "2023-04-16T16:02:20.037Z"
   },
   {
    "duration": 365,
    "start_time": "2023-04-16T16:02:20.625Z"
   },
   {
    "duration": 218,
    "start_time": "2023-04-16T16:02:21.313Z"
   },
   {
    "duration": 307,
    "start_time": "2023-04-16T16:02:22.389Z"
   },
   {
    "duration": 10,
    "start_time": "2023-04-16T16:02:22.917Z"
   },
   {
    "duration": 157,
    "start_time": "2023-04-16T16:02:23.189Z"
   },
   {
    "duration": 183,
    "start_time": "2023-04-16T16:02:23.727Z"
   },
   {
    "duration": 4,
    "start_time": "2023-04-16T16:02:25.174Z"
   },
   {
    "duration": 13,
    "start_time": "2023-04-16T16:06:16.241Z"
   },
   {
    "duration": 4,
    "start_time": "2023-04-16T16:06:53.720Z"
   },
   {
    "duration": 230,
    "start_time": "2023-04-16T16:07:43.593Z"
   },
   {
    "duration": 189,
    "start_time": "2023-04-16T16:07:44.797Z"
   },
   {
    "duration": 5,
    "start_time": "2023-04-16T16:07:46.555Z"
   },
   {
    "duration": 137,
    "start_time": "2023-04-16T16:08:20.722Z"
   },
   {
    "duration": 38,
    "start_time": "2023-04-16T16:09:52.955Z"
   },
   {
    "duration": 9,
    "start_time": "2023-04-16T16:10:18.832Z"
   },
   {
    "duration": 9,
    "start_time": "2023-04-16T16:10:55.017Z"
   },
   {
    "duration": 8,
    "start_time": "2023-04-16T16:13:03.749Z"
   },
   {
    "duration": 9,
    "start_time": "2023-04-16T16:13:46.188Z"
   },
   {
    "duration": 21,
    "start_time": "2023-04-16T16:13:48.174Z"
   },
   {
    "duration": 15,
    "start_time": "2023-04-16T16:15:53.042Z"
   },
   {
    "duration": 1103,
    "start_time": "2023-04-16T17:33:47.360Z"
   },
   {
    "duration": 36,
    "start_time": "2023-04-16T17:33:48.464Z"
   },
   {
    "duration": 12,
    "start_time": "2023-04-16T17:33:48.502Z"
   },
   {
    "duration": 20,
    "start_time": "2023-04-16T17:33:48.517Z"
   },
   {
    "duration": 49,
    "start_time": "2023-04-16T17:33:48.539Z"
   },
   {
    "duration": 19,
    "start_time": "2023-04-16T17:33:48.589Z"
   },
   {
    "duration": 10,
    "start_time": "2023-04-16T17:33:48.609Z"
   },
   {
    "duration": 6,
    "start_time": "2023-04-16T17:33:48.620Z"
   },
   {
    "duration": 11,
    "start_time": "2023-04-16T17:33:48.628Z"
   },
   {
    "duration": 13,
    "start_time": "2023-04-16T17:33:48.641Z"
   },
   {
    "duration": 5,
    "start_time": "2023-04-16T17:33:48.655Z"
   },
   {
    "duration": 19,
    "start_time": "2023-04-16T17:33:48.661Z"
   },
   {
    "duration": 15,
    "start_time": "2023-04-16T17:33:48.682Z"
   },
   {
    "duration": 153,
    "start_time": "2023-04-16T17:33:48.698Z"
   },
   {
    "duration": 306,
    "start_time": "2023-04-16T17:33:48.853Z"
   },
   {
    "duration": 294,
    "start_time": "2023-04-16T17:33:49.161Z"
   },
   {
    "duration": 215,
    "start_time": "2023-04-16T17:33:49.457Z"
   },
   {
    "duration": 296,
    "start_time": "2023-04-16T17:33:49.674Z"
   },
   {
    "duration": 273,
    "start_time": "2023-04-16T17:33:49.972Z"
   },
   {
    "duration": 325,
    "start_time": "2023-04-16T17:33:50.247Z"
   },
   {
    "duration": 12,
    "start_time": "2023-04-16T17:33:50.573Z"
   },
   {
    "duration": 175,
    "start_time": "2023-04-16T17:33:50.586Z"
   },
   {
    "duration": 195,
    "start_time": "2023-04-16T17:33:50.764Z"
   },
   {
    "duration": 5,
    "start_time": "2023-04-16T17:33:50.961Z"
   },
   {
    "duration": 314,
    "start_time": "2023-04-16T17:33:50.967Z"
   },
   {
    "duration": 183,
    "start_time": "2023-04-16T17:33:51.283Z"
   },
   {
    "duration": 5,
    "start_time": "2023-04-16T17:33:51.467Z"
   },
   {
    "duration": 150,
    "start_time": "2023-04-16T17:33:51.476Z"
   },
   {
    "duration": 8,
    "start_time": "2023-04-16T17:33:51.627Z"
   },
   {
    "duration": 41,
    "start_time": "2023-04-16T17:33:51.636Z"
   },
   {
    "duration": 9,
    "start_time": "2023-04-16T17:33:51.678Z"
   },
   {
    "duration": 12,
    "start_time": "2023-04-16T17:33:51.689Z"
   },
   {
    "duration": 12,
    "start_time": "2023-04-16T17:33:51.702Z"
   },
   {
    "duration": 39,
    "start_time": "2023-04-16T17:33:51.715Z"
   },
   {
    "duration": 14,
    "start_time": "2023-04-16T17:33:51.756Z"
   },
   {
    "duration": 47,
    "start_time": "2023-04-17T04:19:35.574Z"
   },
   {
    "duration": 1288,
    "start_time": "2023-04-17T04:19:43.453Z"
   },
   {
    "duration": 120,
    "start_time": "2023-04-17T04:19:44.743Z"
   },
   {
    "duration": 31,
    "start_time": "2023-04-17T04:19:56.359Z"
   },
   {
    "duration": 30,
    "start_time": "2023-04-17T04:19:59.910Z"
   },
   {
    "duration": 56,
    "start_time": "2023-04-17T04:22:52.143Z"
   },
   {
    "duration": 37,
    "start_time": "2023-04-17T04:23:00.940Z"
   },
   {
    "duration": 47,
    "start_time": "2023-04-17T04:23:03.085Z"
   },
   {
    "duration": 12,
    "start_time": "2023-04-17T04:23:08.408Z"
   },
   {
    "duration": 12,
    "start_time": "2023-04-17T04:23:11.694Z"
   },
   {
    "duration": 11,
    "start_time": "2023-04-17T04:23:12.901Z"
   },
   {
    "duration": 82,
    "start_time": "2023-04-17T04:23:27.069Z"
   },
   {
    "duration": 66,
    "start_time": "2023-04-17T04:23:27.552Z"
   },
   {
    "duration": 12,
    "start_time": "2023-04-17T04:23:28.706Z"
   },
   {
    "duration": 6,
    "start_time": "2023-04-17T04:23:29.326Z"
   },
   {
    "duration": 12,
    "start_time": "2023-04-17T04:23:29.790Z"
   },
   {
    "duration": 11,
    "start_time": "2023-04-17T04:23:30.377Z"
   },
   {
    "duration": 6,
    "start_time": "2023-04-17T04:23:30.999Z"
   },
   {
    "duration": 26,
    "start_time": "2023-04-17T04:23:31.641Z"
   },
   {
    "duration": 18,
    "start_time": "2023-04-17T04:23:32.280Z"
   },
   {
    "duration": 25,
    "start_time": "2023-04-17T04:23:32.923Z"
   },
   {
    "duration": 283,
    "start_time": "2023-04-17T04:23:44.263Z"
   },
   {
    "duration": 318,
    "start_time": "2023-04-17T04:23:45.378Z"
   },
   {
    "duration": 205,
    "start_time": "2023-04-17T04:26:36.019Z"
   },
   {
    "duration": 241,
    "start_time": "2023-04-17T05:15:05.128Z"
   },
   {
    "duration": 208,
    "start_time": "2023-04-17T05:15:11.188Z"
   },
   {
    "duration": 322,
    "start_time": "2023-04-17T05:15:13.418Z"
   },
   {
    "duration": 272,
    "start_time": "2023-04-17T05:16:40.223Z"
   },
   {
    "duration": 300,
    "start_time": "2023-04-17T05:16:57.146Z"
   },
   {
    "duration": 383,
    "start_time": "2023-04-17T05:20:47.626Z"
   },
   {
    "duration": 311,
    "start_time": "2023-04-17T05:22:02.837Z"
   },
   {
    "duration": 301,
    "start_time": "2023-04-17T05:45:26.880Z"
   },
   {
    "duration": 227,
    "start_time": "2023-04-17T05:49:00.513Z"
   },
   {
    "duration": 371,
    "start_time": "2023-04-17T05:51:39.834Z"
   },
   {
    "duration": 188,
    "start_time": "2023-04-17T05:51:50.821Z"
   },
   {
    "duration": 352,
    "start_time": "2023-04-17T05:51:59.568Z"
   },
   {
    "duration": 306,
    "start_time": "2023-04-17T05:52:06.927Z"
   },
   {
    "duration": 335,
    "start_time": "2023-04-17T05:54:00.934Z"
   },
   {
    "duration": 177,
    "start_time": "2023-04-17T05:54:29.324Z"
   },
   {
    "duration": 137,
    "start_time": "2023-04-17T05:54:36.609Z"
   },
   {
    "duration": 158,
    "start_time": "2023-04-17T05:54:38.886Z"
   },
   {
    "duration": 321,
    "start_time": "2023-04-17T05:54:43.001Z"
   },
   {
    "duration": 303,
    "start_time": "2023-04-17T05:54:44.200Z"
   },
   {
    "duration": 12,
    "start_time": "2023-04-17T05:54:46.471Z"
   },
   {
    "duration": 159,
    "start_time": "2023-04-17T05:54:47.164Z"
   },
   {
    "duration": 201,
    "start_time": "2023-04-17T05:54:48.734Z"
   },
   {
    "duration": 175,
    "start_time": "2023-04-17T05:54:55.450Z"
   },
   {
    "duration": 182,
    "start_time": "2023-04-17T05:55:19.509Z"
   },
   {
    "duration": 200,
    "start_time": "2023-04-17T05:56:04.906Z"
   },
   {
    "duration": 5,
    "start_time": "2023-04-17T05:56:12.024Z"
   },
   {
    "duration": 318,
    "start_time": "2023-04-17T05:56:57.954Z"
   },
   {
    "duration": 211,
    "start_time": "2023-04-17T05:58:00.305Z"
   },
   {
    "duration": 9,
    "start_time": "2023-04-17T06:01:16.401Z"
   },
   {
    "duration": 12,
    "start_time": "2023-04-17T06:01:30.571Z"
   },
   {
    "duration": 142,
    "start_time": "2023-04-17T06:01:40.981Z"
   },
   {
    "duration": 8,
    "start_time": "2023-04-17T06:01:41.534Z"
   },
   {
    "duration": 24,
    "start_time": "2023-04-17T06:01:42.472Z"
   },
   {
    "duration": 11,
    "start_time": "2023-04-17T06:01:44.308Z"
   },
   {
    "duration": 16,
    "start_time": "2023-04-17T06:01:45.871Z"
   },
   {
    "duration": 5,
    "start_time": "2023-04-17T06:51:00.853Z"
   },
   {
    "duration": 9,
    "start_time": "2023-04-17T06:51:13.857Z"
   },
   {
    "duration": 5,
    "start_time": "2023-04-17T06:51:36.901Z"
   },
   {
    "duration": 11,
    "start_time": "2023-04-17T06:51:55.955Z"
   },
   {
    "duration": 3,
    "start_time": "2023-04-17T06:52:20.420Z"
   },
   {
    "duration": 28,
    "start_time": "2023-04-17T06:52:21.018Z"
   },
   {
    "duration": 14,
    "start_time": "2023-04-17T06:52:22.098Z"
   },
   {
    "duration": 12,
    "start_time": "2023-04-17T06:52:22.607Z"
   },
   {
    "duration": 46,
    "start_time": "2023-04-17T06:52:23.794Z"
   },
   {
    "duration": 27,
    "start_time": "2023-04-17T06:52:24.097Z"
   },
   {
    "duration": 12,
    "start_time": "2023-04-17T06:52:24.772Z"
   },
   {
    "duration": 5,
    "start_time": "2023-04-17T06:52:25.174Z"
   },
   {
    "duration": 14,
    "start_time": "2023-04-17T06:52:25.602Z"
   },
   {
    "duration": 13,
    "start_time": "2023-04-17T06:52:25.963Z"
   },
   {
    "duration": 5,
    "start_time": "2023-04-17T06:52:26.302Z"
   },
   {
    "duration": 19,
    "start_time": "2023-04-17T06:52:26.629Z"
   },
   {
    "duration": 14,
    "start_time": "2023-04-17T06:52:27.384Z"
   },
   {
    "duration": 23,
    "start_time": "2023-04-17T06:52:27.400Z"
   },
   {
    "duration": 267,
    "start_time": "2023-04-17T06:52:29.655Z"
   },
   {
    "duration": 201,
    "start_time": "2023-04-17T06:52:30.267Z"
   },
   {
    "duration": 289,
    "start_time": "2023-04-17T06:52:36.653Z"
   },
   {
    "duration": 300,
    "start_time": "2023-04-17T07:28:02.800Z"
   },
   {
    "duration": 223,
    "start_time": "2023-04-17T07:28:04.577Z"
   },
   {
    "duration": 316,
    "start_time": "2023-04-17T07:28:06.430Z"
   },
   {
    "duration": 12,
    "start_time": "2023-04-17T07:28:08.026Z"
   },
   {
    "duration": 162,
    "start_time": "2023-04-17T07:28:08.813Z"
   },
   {
    "duration": 235,
    "start_time": "2023-04-17T07:28:09.840Z"
   },
   {
    "duration": 4,
    "start_time": "2023-04-17T07:28:10.931Z"
   },
   {
    "duration": 295,
    "start_time": "2023-04-17T07:28:11.752Z"
   },
   {
    "duration": 221,
    "start_time": "2023-04-17T07:28:12.163Z"
   },
   {
    "duration": 5,
    "start_time": "2023-04-17T07:28:13.059Z"
   },
   {
    "duration": 140,
    "start_time": "2023-04-17T07:28:16.246Z"
   },
   {
    "duration": 9,
    "start_time": "2023-04-17T07:28:17.350Z"
   },
   {
    "duration": 31,
    "start_time": "2023-04-17T07:28:19.260Z"
   },
   {
    "duration": 13,
    "start_time": "2023-04-17T07:28:21.470Z"
   },
   {
    "duration": 12,
    "start_time": "2023-04-17T07:28:23.184Z"
   },
   {
    "duration": 14,
    "start_time": "2023-04-17T07:29:55.580Z"
   },
   {
    "duration": 10,
    "start_time": "2023-04-17T07:35:23.134Z"
   },
   {
    "duration": 18,
    "start_time": "2023-04-17T07:36:47.342Z"
   },
   {
    "duration": 18,
    "start_time": "2023-04-17T07:36:56.763Z"
   },
   {
    "duration": 11,
    "start_time": "2023-04-17T07:37:05.922Z"
   },
   {
    "duration": 1119,
    "start_time": "2023-04-17T22:19:22.772Z"
   },
   {
    "duration": 39,
    "start_time": "2023-04-17T22:19:23.893Z"
   },
   {
    "duration": 13,
    "start_time": "2023-04-17T22:19:23.934Z"
   },
   {
    "duration": 12,
    "start_time": "2023-04-17T22:19:23.949Z"
   },
   {
    "duration": 49,
    "start_time": "2023-04-17T22:19:23.963Z"
   },
   {
    "duration": 22,
    "start_time": "2023-04-17T22:19:24.013Z"
   },
   {
    "duration": 11,
    "start_time": "2023-04-17T22:19:24.037Z"
   },
   {
    "duration": 7,
    "start_time": "2023-04-17T22:19:24.049Z"
   },
   {
    "duration": 14,
    "start_time": "2023-04-17T22:19:24.057Z"
   },
   {
    "duration": 12,
    "start_time": "2023-04-17T22:19:24.073Z"
   },
   {
    "duration": 5,
    "start_time": "2023-04-17T22:19:24.087Z"
   },
   {
    "duration": 22,
    "start_time": "2023-04-17T22:19:24.112Z"
   },
   {
    "duration": 15,
    "start_time": "2023-04-17T22:19:24.135Z"
   },
   {
    "duration": 144,
    "start_time": "2023-04-17T22:19:24.153Z"
   },
   {
    "duration": 323,
    "start_time": "2023-04-17T22:19:24.299Z"
   },
   {
    "duration": 317,
    "start_time": "2023-04-17T22:19:24.623Z"
   },
   {
    "duration": 230,
    "start_time": "2023-04-17T22:19:24.942Z"
   },
   {
    "duration": 340,
    "start_time": "2023-04-17T22:19:25.173Z"
   },
   {
    "duration": 229,
    "start_time": "2023-04-17T22:19:25.515Z"
   },
   {
    "duration": 309,
    "start_time": "2023-04-17T22:19:25.746Z"
   },
   {
    "duration": 12,
    "start_time": "2023-04-17T22:19:26.057Z"
   },
   {
    "duration": 189,
    "start_time": "2023-04-17T22:19:26.070Z"
   },
   {
    "duration": 196,
    "start_time": "2023-04-17T22:19:26.261Z"
   },
   {
    "duration": 5,
    "start_time": "2023-04-17T22:19:26.459Z"
   },
   {
    "duration": 380,
    "start_time": "2023-04-17T22:19:26.467Z"
   },
   {
    "duration": 193,
    "start_time": "2023-04-17T22:19:26.849Z"
   },
   {
    "duration": 6,
    "start_time": "2023-04-17T22:19:27.044Z"
   },
   {
    "duration": 139,
    "start_time": "2023-04-17T22:19:27.052Z"
   },
   {
    "duration": 10,
    "start_time": "2023-04-17T22:19:27.193Z"
   },
   {
    "duration": 36,
    "start_time": "2023-04-17T22:19:27.204Z"
   },
   {
    "duration": 9,
    "start_time": "2023-04-17T22:19:27.242Z"
   },
   {
    "duration": 12,
    "start_time": "2023-04-17T22:19:27.253Z"
   },
   {
    "duration": 10,
    "start_time": "2023-04-17T22:19:27.267Z"
   },
   {
    "duration": 48,
    "start_time": "2023-04-17T22:19:27.279Z"
   },
   {
    "duration": 17,
    "start_time": "2023-04-17T22:19:27.329Z"
   }
  ],
  "kernelspec": {
   "display_name": "Python 3 (ipykernel)",
   "language": "python",
   "name": "python3"
  },
  "language_info": {
   "codemirror_mode": {
    "name": "ipython",
    "version": 3
   },
   "file_extension": ".py",
   "mimetype": "text/x-python",
   "name": "python",
   "nbconvert_exporter": "python",
   "pygments_lexer": "ipython3",
   "version": "3.9.5"
  },
  "toc": {
   "base_numbering": 1,
   "nav_menu": {},
   "number_sections": true,
   "sideBar": true,
   "skip_h1_title": true,
   "title_cell": "Table of Contents",
   "title_sidebar": "Contents",
   "toc_cell": false,
   "toc_position": {},
   "toc_section_display": true,
   "toc_window_display": true
  }
 },
 "nbformat": 4,
 "nbformat_minor": 2
}
