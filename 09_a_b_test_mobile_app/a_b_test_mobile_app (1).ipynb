{
  "cells": [
    {
      "cell_type": "markdown",
      "metadata": {
        "id": "RE0VGlwhlc6P"
      },
      "source": [
        "# Проект по анализу поведения пользователей мобильного приложения"
      ]
    },
    {
      "cell_type": "markdown",
      "metadata": {
        "id": "vWFLYaUplc6P"
      },
      "source": [
        "## Описание проекта"
      ]
    },
    {
      "cell_type": "markdown",
      "metadata": {
        "id": "d287sp2nlc6P"
      },
      "source": [
        "**Цель проекта**\n",
        "\n",
        "Разобраться, как ведут себя пользователи мобильного приложения. \n",
        "\n",
        "**Задачи проекта**\n",
        "* Изучить воронку продаж. Проанализировать как пользователи доходят до покупки. Сколько пользователей доходит до покупки, а сколько — «застревает» на предыдущих шагах? На каких именно?\n",
        "* Исследовать результаты A/A/B-эксперимента. Дизайнеры захотели поменять шрифты во всём приложении, а менеджеры испугались, что пользователям будет непривычно. Договорились принять решение по результатам A/A/B-теста. Пользователей разбили на 3 группы: 2 контрольные со старыми шрифтами и одну экспериментальную — с новыми. Нужно проанализировать какой шрифт лучше."
      ]
    },
    {
      "cell_type": "markdown",
      "metadata": {
        "id": "_BF0jhv2lc6P"
      },
      "source": [
        "## Описание данных"
      ]
    },
    {
      "cell_type": "markdown",
      "metadata": {
        "id": "ivGYaqM6lc6Q"
      },
      "source": [
        "В датасете `logs_exp.csv` представлены следующие данные:\n",
        "* `EventName` — название события;\n",
        "* `DeviceIDHash` — уникальный идентификатор пользователя;\n",
        "* `EventTimestamp` — время события;\n",
        "* ExpId — номер эксперимента: 246 и 247 — контрольные группы, а 248 — экспериментальная."
      ]
    },
    {
      "cell_type": "markdown",
      "metadata": {
        "id": "ea41P-zplc6Q"
      },
      "source": [
        "## Предобработка данных"
      ]
    },
    {
      "cell_type": "code",
      "execution_count": 38,
      "metadata": {
        "id": "64AV6WrZlc6Q"
      },
      "outputs": [],
      "source": [
        "# Импорт необходимых библиотек\n",
        "import pandas as pd\n",
        "import datetime as dt\n",
        "import numpy as np\n",
        "import matplotlib.pyplot as plt\n",
        "import scipy.stats as stats\n",
        "import math as mth\n",
        "import plotly.express as px"
      ]
    },
    {
      "cell_type": "markdown",
      "metadata": {
        "id": "qtIkkQImlc6Q"
      },
      "source": [
        "**Выгрузка данных из датасета**"
      ]
    },
    {
      "cell_type": "code",
      "execution_count": 39,
      "metadata": {
        "colab": {
          "base_uri": "https://localhost:8080/",
          "height": 206
        },
        "id": "8tbXXU2elc6R",
        "outputId": "30a4928a-18ff-48ca-ee62-69e5d6be80c0"
      },
      "outputs": [
        {
          "output_type": "execute_result",
          "data": {
            "text/plain": [
              "                 EventName         DeviceIDHash  EventTimestamp  ExpId\n",
              "0         MainScreenAppear  4575588528974610257      1564029816    246\n",
              "1         MainScreenAppear  7416695313311560658      1564053102    246\n",
              "2  PaymentScreenSuccessful  3518123091307005509      1564054127    248\n",
              "3         CartScreenAppear  3518123091307005509      1564054127    248\n",
              "4  PaymentScreenSuccessful  6217807653094995999      1564055322    248"
            ],
            "text/html": [
              "\n",
              "  <div id=\"df-fe782d64-7bc5-4eb5-9a6b-3dd40abcbe5c\">\n",
              "    <div class=\"colab-df-container\">\n",
              "      <div>\n",
              "<style scoped>\n",
              "    .dataframe tbody tr th:only-of-type {\n",
              "        vertical-align: middle;\n",
              "    }\n",
              "\n",
              "    .dataframe tbody tr th {\n",
              "        vertical-align: top;\n",
              "    }\n",
              "\n",
              "    .dataframe thead th {\n",
              "        text-align: right;\n",
              "    }\n",
              "</style>\n",
              "<table border=\"1\" class=\"dataframe\">\n",
              "  <thead>\n",
              "    <tr style=\"text-align: right;\">\n",
              "      <th></th>\n",
              "      <th>EventName</th>\n",
              "      <th>DeviceIDHash</th>\n",
              "      <th>EventTimestamp</th>\n",
              "      <th>ExpId</th>\n",
              "    </tr>\n",
              "  </thead>\n",
              "  <tbody>\n",
              "    <tr>\n",
              "      <th>0</th>\n",
              "      <td>MainScreenAppear</td>\n",
              "      <td>4575588528974610257</td>\n",
              "      <td>1564029816</td>\n",
              "      <td>246</td>\n",
              "    </tr>\n",
              "    <tr>\n",
              "      <th>1</th>\n",
              "      <td>MainScreenAppear</td>\n",
              "      <td>7416695313311560658</td>\n",
              "      <td>1564053102</td>\n",
              "      <td>246</td>\n",
              "    </tr>\n",
              "    <tr>\n",
              "      <th>2</th>\n",
              "      <td>PaymentScreenSuccessful</td>\n",
              "      <td>3518123091307005509</td>\n",
              "      <td>1564054127</td>\n",
              "      <td>248</td>\n",
              "    </tr>\n",
              "    <tr>\n",
              "      <th>3</th>\n",
              "      <td>CartScreenAppear</td>\n",
              "      <td>3518123091307005509</td>\n",
              "      <td>1564054127</td>\n",
              "      <td>248</td>\n",
              "    </tr>\n",
              "    <tr>\n",
              "      <th>4</th>\n",
              "      <td>PaymentScreenSuccessful</td>\n",
              "      <td>6217807653094995999</td>\n",
              "      <td>1564055322</td>\n",
              "      <td>248</td>\n",
              "    </tr>\n",
              "  </tbody>\n",
              "</table>\n",
              "</div>\n",
              "      <button class=\"colab-df-convert\" onclick=\"convertToInteractive('df-fe782d64-7bc5-4eb5-9a6b-3dd40abcbe5c')\"\n",
              "              title=\"Convert this dataframe to an interactive table.\"\n",
              "              style=\"display:none;\">\n",
              "        \n",
              "  <svg xmlns=\"http://www.w3.org/2000/svg\" height=\"24px\"viewBox=\"0 0 24 24\"\n",
              "       width=\"24px\">\n",
              "    <path d=\"M0 0h24v24H0V0z\" fill=\"none\"/>\n",
              "    <path d=\"M18.56 5.44l.94 2.06.94-2.06 2.06-.94-2.06-.94-.94-2.06-.94 2.06-2.06.94zm-11 1L8.5 8.5l.94-2.06 2.06-.94-2.06-.94L8.5 2.5l-.94 2.06-2.06.94zm10 10l.94 2.06.94-2.06 2.06-.94-2.06-.94-.94-2.06-.94 2.06-2.06.94z\"/><path d=\"M17.41 7.96l-1.37-1.37c-.4-.4-.92-.59-1.43-.59-.52 0-1.04.2-1.43.59L10.3 9.45l-7.72 7.72c-.78.78-.78 2.05 0 2.83L4 21.41c.39.39.9.59 1.41.59.51 0 1.02-.2 1.41-.59l7.78-7.78 2.81-2.81c.8-.78.8-2.07 0-2.86zM5.41 20L4 18.59l7.72-7.72 1.47 1.35L5.41 20z\"/>\n",
              "  </svg>\n",
              "      </button>\n",
              "      \n",
              "  <style>\n",
              "    .colab-df-container {\n",
              "      display:flex;\n",
              "      flex-wrap:wrap;\n",
              "      gap: 12px;\n",
              "    }\n",
              "\n",
              "    .colab-df-convert {\n",
              "      background-color: #E8F0FE;\n",
              "      border: none;\n",
              "      border-radius: 50%;\n",
              "      cursor: pointer;\n",
              "      display: none;\n",
              "      fill: #1967D2;\n",
              "      height: 32px;\n",
              "      padding: 0 0 0 0;\n",
              "      width: 32px;\n",
              "    }\n",
              "\n",
              "    .colab-df-convert:hover {\n",
              "      background-color: #E2EBFA;\n",
              "      box-shadow: 0px 1px 2px rgba(60, 64, 67, 0.3), 0px 1px 3px 1px rgba(60, 64, 67, 0.15);\n",
              "      fill: #174EA6;\n",
              "    }\n",
              "\n",
              "    [theme=dark] .colab-df-convert {\n",
              "      background-color: #3B4455;\n",
              "      fill: #D2E3FC;\n",
              "    }\n",
              "\n",
              "    [theme=dark] .colab-df-convert:hover {\n",
              "      background-color: #434B5C;\n",
              "      box-shadow: 0px 1px 3px 1px rgba(0, 0, 0, 0.15);\n",
              "      filter: drop-shadow(0px 1px 2px rgba(0, 0, 0, 0.3));\n",
              "      fill: #FFFFFF;\n",
              "    }\n",
              "  </style>\n",
              "\n",
              "      <script>\n",
              "        const buttonEl =\n",
              "          document.querySelector('#df-fe782d64-7bc5-4eb5-9a6b-3dd40abcbe5c button.colab-df-convert');\n",
              "        buttonEl.style.display =\n",
              "          google.colab.kernel.accessAllowed ? 'block' : 'none';\n",
              "\n",
              "        async function convertToInteractive(key) {\n",
              "          const element = document.querySelector('#df-fe782d64-7bc5-4eb5-9a6b-3dd40abcbe5c');\n",
              "          const dataTable =\n",
              "            await google.colab.kernel.invokeFunction('convertToInteractive',\n",
              "                                                     [key], {});\n",
              "          if (!dataTable) return;\n",
              "\n",
              "          const docLinkHtml = 'Like what you see? Visit the ' +\n",
              "            '<a target=\"_blank\" href=https://colab.research.google.com/notebooks/data_table.ipynb>data table notebook</a>'\n",
              "            + ' to learn more about interactive tables.';\n",
              "          element.innerHTML = '';\n",
              "          dataTable['output_type'] = 'display_data';\n",
              "          await google.colab.output.renderOutput(dataTable, element);\n",
              "          const docLink = document.createElement('div');\n",
              "          docLink.innerHTML = docLinkHtml;\n",
              "          element.appendChild(docLink);\n",
              "        }\n",
              "      </script>\n",
              "    </div>\n",
              "  </div>\n",
              "  "
            ]
          },
          "metadata": {},
          "execution_count": 39
        }
      ],
      "source": [
        "data = pd.read_csv('https://code.s3.yandex.net/datasets/logs_exp.csv', sep='\\t')\n",
        "\n",
        "data.head()"
      ]
    },
    {
      "cell_type": "code",
      "execution_count": 40,
      "metadata": {
        "colab": {
          "base_uri": "https://localhost:8080/"
        },
        "id": "Y_iYCa-Alc6R",
        "outputId": "89467d24-eeca-4f46-ebd5-74607cdbb8aa"
      },
      "outputs": [
        {
          "output_type": "stream",
          "name": "stdout",
          "text": [
            "<class 'pandas.core.frame.DataFrame'>\n",
            "RangeIndex: 244126 entries, 0 to 244125\n",
            "Data columns (total 4 columns):\n",
            " #   Column          Non-Null Count   Dtype \n",
            "---  ------          --------------   ----- \n",
            " 0   EventName       244126 non-null  object\n",
            " 1   DeviceIDHash    244126 non-null  int64 \n",
            " 2   EventTimestamp  244126 non-null  int64 \n",
            " 3   ExpId           244126 non-null  int64 \n",
            "dtypes: int64(3), object(1)\n",
            "memory usage: 7.5+ MB\n"
          ]
        }
      ],
      "source": [
        "data.info()"
      ]
    },
    {
      "cell_type": "markdown",
      "metadata": {
        "id": "gi4FdQkulc6R"
      },
      "source": [
        "**Переименование названий столбцов**"
      ]
    },
    {
      "cell_type": "code",
      "execution_count": 41,
      "metadata": {
        "colab": {
          "base_uri": "https://localhost:8080/",
          "height": 206
        },
        "id": "Z0E2et7llc6R",
        "outputId": "92e45edb-1a4d-4bc3-cebc-6af8a95eae06"
      },
      "outputs": [
        {
          "output_type": "execute_result",
          "data": {
            "text/plain": [
              "                event_name              user_id  event_time  experiment_id\n",
              "0         MainScreenAppear  4575588528974610257  1564029816            246\n",
              "1         MainScreenAppear  7416695313311560658  1564053102            246\n",
              "2  PaymentScreenSuccessful  3518123091307005509  1564054127            248\n",
              "3         CartScreenAppear  3518123091307005509  1564054127            248\n",
              "4  PaymentScreenSuccessful  6217807653094995999  1564055322            248"
            ],
            "text/html": [
              "\n",
              "  <div id=\"df-096a81d8-e4cd-47e1-8f4c-209553d58e6e\">\n",
              "    <div class=\"colab-df-container\">\n",
              "      <div>\n",
              "<style scoped>\n",
              "    .dataframe tbody tr th:only-of-type {\n",
              "        vertical-align: middle;\n",
              "    }\n",
              "\n",
              "    .dataframe tbody tr th {\n",
              "        vertical-align: top;\n",
              "    }\n",
              "\n",
              "    .dataframe thead th {\n",
              "        text-align: right;\n",
              "    }\n",
              "</style>\n",
              "<table border=\"1\" class=\"dataframe\">\n",
              "  <thead>\n",
              "    <tr style=\"text-align: right;\">\n",
              "      <th></th>\n",
              "      <th>event_name</th>\n",
              "      <th>user_id</th>\n",
              "      <th>event_time</th>\n",
              "      <th>experiment_id</th>\n",
              "    </tr>\n",
              "  </thead>\n",
              "  <tbody>\n",
              "    <tr>\n",
              "      <th>0</th>\n",
              "      <td>MainScreenAppear</td>\n",
              "      <td>4575588528974610257</td>\n",
              "      <td>1564029816</td>\n",
              "      <td>246</td>\n",
              "    </tr>\n",
              "    <tr>\n",
              "      <th>1</th>\n",
              "      <td>MainScreenAppear</td>\n",
              "      <td>7416695313311560658</td>\n",
              "      <td>1564053102</td>\n",
              "      <td>246</td>\n",
              "    </tr>\n",
              "    <tr>\n",
              "      <th>2</th>\n",
              "      <td>PaymentScreenSuccessful</td>\n",
              "      <td>3518123091307005509</td>\n",
              "      <td>1564054127</td>\n",
              "      <td>248</td>\n",
              "    </tr>\n",
              "    <tr>\n",
              "      <th>3</th>\n",
              "      <td>CartScreenAppear</td>\n",
              "      <td>3518123091307005509</td>\n",
              "      <td>1564054127</td>\n",
              "      <td>248</td>\n",
              "    </tr>\n",
              "    <tr>\n",
              "      <th>4</th>\n",
              "      <td>PaymentScreenSuccessful</td>\n",
              "      <td>6217807653094995999</td>\n",
              "      <td>1564055322</td>\n",
              "      <td>248</td>\n",
              "    </tr>\n",
              "  </tbody>\n",
              "</table>\n",
              "</div>\n",
              "      <button class=\"colab-df-convert\" onclick=\"convertToInteractive('df-096a81d8-e4cd-47e1-8f4c-209553d58e6e')\"\n",
              "              title=\"Convert this dataframe to an interactive table.\"\n",
              "              style=\"display:none;\">\n",
              "        \n",
              "  <svg xmlns=\"http://www.w3.org/2000/svg\" height=\"24px\"viewBox=\"0 0 24 24\"\n",
              "       width=\"24px\">\n",
              "    <path d=\"M0 0h24v24H0V0z\" fill=\"none\"/>\n",
              "    <path d=\"M18.56 5.44l.94 2.06.94-2.06 2.06-.94-2.06-.94-.94-2.06-.94 2.06-2.06.94zm-11 1L8.5 8.5l.94-2.06 2.06-.94-2.06-.94L8.5 2.5l-.94 2.06-2.06.94zm10 10l.94 2.06.94-2.06 2.06-.94-2.06-.94-.94-2.06-.94 2.06-2.06.94z\"/><path d=\"M17.41 7.96l-1.37-1.37c-.4-.4-.92-.59-1.43-.59-.52 0-1.04.2-1.43.59L10.3 9.45l-7.72 7.72c-.78.78-.78 2.05 0 2.83L4 21.41c.39.39.9.59 1.41.59.51 0 1.02-.2 1.41-.59l7.78-7.78 2.81-2.81c.8-.78.8-2.07 0-2.86zM5.41 20L4 18.59l7.72-7.72 1.47 1.35L5.41 20z\"/>\n",
              "  </svg>\n",
              "      </button>\n",
              "      \n",
              "  <style>\n",
              "    .colab-df-container {\n",
              "      display:flex;\n",
              "      flex-wrap:wrap;\n",
              "      gap: 12px;\n",
              "    }\n",
              "\n",
              "    .colab-df-convert {\n",
              "      background-color: #E8F0FE;\n",
              "      border: none;\n",
              "      border-radius: 50%;\n",
              "      cursor: pointer;\n",
              "      display: none;\n",
              "      fill: #1967D2;\n",
              "      height: 32px;\n",
              "      padding: 0 0 0 0;\n",
              "      width: 32px;\n",
              "    }\n",
              "\n",
              "    .colab-df-convert:hover {\n",
              "      background-color: #E2EBFA;\n",
              "      box-shadow: 0px 1px 2px rgba(60, 64, 67, 0.3), 0px 1px 3px 1px rgba(60, 64, 67, 0.15);\n",
              "      fill: #174EA6;\n",
              "    }\n",
              "\n",
              "    [theme=dark] .colab-df-convert {\n",
              "      background-color: #3B4455;\n",
              "      fill: #D2E3FC;\n",
              "    }\n",
              "\n",
              "    [theme=dark] .colab-df-convert:hover {\n",
              "      background-color: #434B5C;\n",
              "      box-shadow: 0px 1px 3px 1px rgba(0, 0, 0, 0.15);\n",
              "      filter: drop-shadow(0px 1px 2px rgba(0, 0, 0, 0.3));\n",
              "      fill: #FFFFFF;\n",
              "    }\n",
              "  </style>\n",
              "\n",
              "      <script>\n",
              "        const buttonEl =\n",
              "          document.querySelector('#df-096a81d8-e4cd-47e1-8f4c-209553d58e6e button.colab-df-convert');\n",
              "        buttonEl.style.display =\n",
              "          google.colab.kernel.accessAllowed ? 'block' : 'none';\n",
              "\n",
              "        async function convertToInteractive(key) {\n",
              "          const element = document.querySelector('#df-096a81d8-e4cd-47e1-8f4c-209553d58e6e');\n",
              "          const dataTable =\n",
              "            await google.colab.kernel.invokeFunction('convertToInteractive',\n",
              "                                                     [key], {});\n",
              "          if (!dataTable) return;\n",
              "\n",
              "          const docLinkHtml = 'Like what you see? Visit the ' +\n",
              "            '<a target=\"_blank\" href=https://colab.research.google.com/notebooks/data_table.ipynb>data table notebook</a>'\n",
              "            + ' to learn more about interactive tables.';\n",
              "          element.innerHTML = '';\n",
              "          dataTable['output_type'] = 'display_data';\n",
              "          await google.colab.output.renderOutput(dataTable, element);\n",
              "          const docLink = document.createElement('div');\n",
              "          docLink.innerHTML = docLinkHtml;\n",
              "          element.appendChild(docLink);\n",
              "        }\n",
              "      </script>\n",
              "    </div>\n",
              "  </div>\n",
              "  "
            ]
          },
          "metadata": {},
          "execution_count": 41
        }
      ],
      "source": [
        "data.columns = ['event_name', 'user_id', 'event_time', 'experiment_id']\n",
        "\n",
        "data.head()"
      ]
    },
    {
      "cell_type": "markdown",
      "metadata": {
        "id": "2r8Jz0hFlc6R"
      },
      "source": [
        "**Проверка пропусков**"
      ]
    },
    {
      "cell_type": "code",
      "execution_count": 42,
      "metadata": {
        "colab": {
          "base_uri": "https://localhost:8080/"
        },
        "id": "ixaiYgBYlc6R",
        "outputId": "b36e0aa5-abe6-4080-d851-65fad9027b05"
      },
      "outputs": [
        {
          "output_type": "execute_result",
          "data": {
            "text/plain": [
              "event_name       0\n",
              "user_id          0\n",
              "event_time       0\n",
              "experiment_id    0\n",
              "dtype: int64"
            ]
          },
          "metadata": {},
          "execution_count": 42
        }
      ],
      "source": [
        "data.isna().sum()"
      ]
    },
    {
      "cell_type": "markdown",
      "metadata": {
        "id": "Uei4rymolc6R"
      },
      "source": [
        "Пропуски в таблице отсутствуют"
      ]
    },
    {
      "cell_type": "markdown",
      "metadata": {
        "id": "pZcsUpMylc6R"
      },
      "source": [
        "**Проверка дубликатов**"
      ]
    },
    {
      "cell_type": "code",
      "execution_count": 43,
      "metadata": {
        "colab": {
          "base_uri": "https://localhost:8080/"
        },
        "id": "y6hvH3K0lc6R",
        "outputId": "8c20cdc8-cbb7-42cc-db80-bb806d4002dd"
      },
      "outputs": [
        {
          "output_type": "stream",
          "name": "stdout",
          "text": [
            "Количество дубликатов: 413\n",
            "Доля дубликатов в общем объеме данных: 0.17\n"
          ]
        }
      ],
      "source": [
        "print('Количество дубликатов:', data.duplicated().sum())\n",
        "print('Доля дубликатов в общем объеме данных:', round((data.duplicated().sum()/len(data)*100),2))"
      ]
    },
    {
      "cell_type": "markdown",
      "metadata": {
        "id": "SRp9kDyVlc6R"
      },
      "source": [
        "Количество дубликатов менее одно процента, соответственно они не повлияют на общий результат исследования и их можно удалить"
      ]
    },
    {
      "cell_type": "code",
      "execution_count": 44,
      "metadata": {
        "colab": {
          "base_uri": "https://localhost:8080/"
        },
        "id": "_y1asMTMlc6S",
        "outputId": "661d83b1-c2b7-40e0-c361-b48febd5ac75"
      },
      "outputs": [
        {
          "output_type": "stream",
          "name": "stdout",
          "text": [
            "<class 'pandas.core.frame.DataFrame'>\n",
            "Int64Index: 243713 entries, 0 to 244125\n",
            "Data columns (total 4 columns):\n",
            " #   Column         Non-Null Count   Dtype \n",
            "---  ------         --------------   ----- \n",
            " 0   event_name     243713 non-null  object\n",
            " 1   user_id        243713 non-null  int64 \n",
            " 2   event_time     243713 non-null  int64 \n",
            " 3   experiment_id  243713 non-null  int64 \n",
            "dtypes: int64(3), object(1)\n",
            "memory usage: 9.3+ MB\n"
          ]
        }
      ],
      "source": [
        "data = data.drop_duplicates()\n",
        "\n",
        "data.info()"
      ]
    },
    {
      "cell_type": "markdown",
      "metadata": {
        "id": "_OpwQYkPlc6S"
      },
      "source": [
        "**Преобразование типов данных**"
      ]
    },
    {
      "cell_type": "markdown",
      "metadata": {
        "id": "a-v9cUgflc6S"
      },
      "source": [
        "Тип данных в cтолбце `event_time` - `int64`, преобразуем его в `date_time`"
      ]
    },
    {
      "cell_type": "code",
      "execution_count": 45,
      "metadata": {
        "colab": {
          "base_uri": "https://localhost:8080/",
          "height": 206
        },
        "id": "cfGYHY-Vlc6S",
        "outputId": "717e430d-a5fa-456a-a2e0-9b2938361a55"
      },
      "outputs": [
        {
          "output_type": "execute_result",
          "data": {
            "text/plain": [
              "                event_name              user_id          event_time  \\\n",
              "0         MainScreenAppear  4575588528974610257 2019-07-25 04:43:36   \n",
              "1         MainScreenAppear  7416695313311560658 2019-07-25 11:11:42   \n",
              "2  PaymentScreenSuccessful  3518123091307005509 2019-07-25 11:28:47   \n",
              "3         CartScreenAppear  3518123091307005509 2019-07-25 11:28:47   \n",
              "4  PaymentScreenSuccessful  6217807653094995999 2019-07-25 11:48:42   \n",
              "\n",
              "   experiment_id  \n",
              "0            246  \n",
              "1            246  \n",
              "2            248  \n",
              "3            248  \n",
              "4            248  "
            ],
            "text/html": [
              "\n",
              "  <div id=\"df-5e540797-1367-431e-b37e-a6b5eb6a426e\">\n",
              "    <div class=\"colab-df-container\">\n",
              "      <div>\n",
              "<style scoped>\n",
              "    .dataframe tbody tr th:only-of-type {\n",
              "        vertical-align: middle;\n",
              "    }\n",
              "\n",
              "    .dataframe tbody tr th {\n",
              "        vertical-align: top;\n",
              "    }\n",
              "\n",
              "    .dataframe thead th {\n",
              "        text-align: right;\n",
              "    }\n",
              "</style>\n",
              "<table border=\"1\" class=\"dataframe\">\n",
              "  <thead>\n",
              "    <tr style=\"text-align: right;\">\n",
              "      <th></th>\n",
              "      <th>event_name</th>\n",
              "      <th>user_id</th>\n",
              "      <th>event_time</th>\n",
              "      <th>experiment_id</th>\n",
              "    </tr>\n",
              "  </thead>\n",
              "  <tbody>\n",
              "    <tr>\n",
              "      <th>0</th>\n",
              "      <td>MainScreenAppear</td>\n",
              "      <td>4575588528974610257</td>\n",
              "      <td>2019-07-25 04:43:36</td>\n",
              "      <td>246</td>\n",
              "    </tr>\n",
              "    <tr>\n",
              "      <th>1</th>\n",
              "      <td>MainScreenAppear</td>\n",
              "      <td>7416695313311560658</td>\n",
              "      <td>2019-07-25 11:11:42</td>\n",
              "      <td>246</td>\n",
              "    </tr>\n",
              "    <tr>\n",
              "      <th>2</th>\n",
              "      <td>PaymentScreenSuccessful</td>\n",
              "      <td>3518123091307005509</td>\n",
              "      <td>2019-07-25 11:28:47</td>\n",
              "      <td>248</td>\n",
              "    </tr>\n",
              "    <tr>\n",
              "      <th>3</th>\n",
              "      <td>CartScreenAppear</td>\n",
              "      <td>3518123091307005509</td>\n",
              "      <td>2019-07-25 11:28:47</td>\n",
              "      <td>248</td>\n",
              "    </tr>\n",
              "    <tr>\n",
              "      <th>4</th>\n",
              "      <td>PaymentScreenSuccessful</td>\n",
              "      <td>6217807653094995999</td>\n",
              "      <td>2019-07-25 11:48:42</td>\n",
              "      <td>248</td>\n",
              "    </tr>\n",
              "  </tbody>\n",
              "</table>\n",
              "</div>\n",
              "      <button class=\"colab-df-convert\" onclick=\"convertToInteractive('df-5e540797-1367-431e-b37e-a6b5eb6a426e')\"\n",
              "              title=\"Convert this dataframe to an interactive table.\"\n",
              "              style=\"display:none;\">\n",
              "        \n",
              "  <svg xmlns=\"http://www.w3.org/2000/svg\" height=\"24px\"viewBox=\"0 0 24 24\"\n",
              "       width=\"24px\">\n",
              "    <path d=\"M0 0h24v24H0V0z\" fill=\"none\"/>\n",
              "    <path d=\"M18.56 5.44l.94 2.06.94-2.06 2.06-.94-2.06-.94-.94-2.06-.94 2.06-2.06.94zm-11 1L8.5 8.5l.94-2.06 2.06-.94-2.06-.94L8.5 2.5l-.94 2.06-2.06.94zm10 10l.94 2.06.94-2.06 2.06-.94-2.06-.94-.94-2.06-.94 2.06-2.06.94z\"/><path d=\"M17.41 7.96l-1.37-1.37c-.4-.4-.92-.59-1.43-.59-.52 0-1.04.2-1.43.59L10.3 9.45l-7.72 7.72c-.78.78-.78 2.05 0 2.83L4 21.41c.39.39.9.59 1.41.59.51 0 1.02-.2 1.41-.59l7.78-7.78 2.81-2.81c.8-.78.8-2.07 0-2.86zM5.41 20L4 18.59l7.72-7.72 1.47 1.35L5.41 20z\"/>\n",
              "  </svg>\n",
              "      </button>\n",
              "      \n",
              "  <style>\n",
              "    .colab-df-container {\n",
              "      display:flex;\n",
              "      flex-wrap:wrap;\n",
              "      gap: 12px;\n",
              "    }\n",
              "\n",
              "    .colab-df-convert {\n",
              "      background-color: #E8F0FE;\n",
              "      border: none;\n",
              "      border-radius: 50%;\n",
              "      cursor: pointer;\n",
              "      display: none;\n",
              "      fill: #1967D2;\n",
              "      height: 32px;\n",
              "      padding: 0 0 0 0;\n",
              "      width: 32px;\n",
              "    }\n",
              "\n",
              "    .colab-df-convert:hover {\n",
              "      background-color: #E2EBFA;\n",
              "      box-shadow: 0px 1px 2px rgba(60, 64, 67, 0.3), 0px 1px 3px 1px rgba(60, 64, 67, 0.15);\n",
              "      fill: #174EA6;\n",
              "    }\n",
              "\n",
              "    [theme=dark] .colab-df-convert {\n",
              "      background-color: #3B4455;\n",
              "      fill: #D2E3FC;\n",
              "    }\n",
              "\n",
              "    [theme=dark] .colab-df-convert:hover {\n",
              "      background-color: #434B5C;\n",
              "      box-shadow: 0px 1px 3px 1px rgba(0, 0, 0, 0.15);\n",
              "      filter: drop-shadow(0px 1px 2px rgba(0, 0, 0, 0.3));\n",
              "      fill: #FFFFFF;\n",
              "    }\n",
              "  </style>\n",
              "\n",
              "      <script>\n",
              "        const buttonEl =\n",
              "          document.querySelector('#df-5e540797-1367-431e-b37e-a6b5eb6a426e button.colab-df-convert');\n",
              "        buttonEl.style.display =\n",
              "          google.colab.kernel.accessAllowed ? 'block' : 'none';\n",
              "\n",
              "        async function convertToInteractive(key) {\n",
              "          const element = document.querySelector('#df-5e540797-1367-431e-b37e-a6b5eb6a426e');\n",
              "          const dataTable =\n",
              "            await google.colab.kernel.invokeFunction('convertToInteractive',\n",
              "                                                     [key], {});\n",
              "          if (!dataTable) return;\n",
              "\n",
              "          const docLinkHtml = 'Like what you see? Visit the ' +\n",
              "            '<a target=\"_blank\" href=https://colab.research.google.com/notebooks/data_table.ipynb>data table notebook</a>'\n",
              "            + ' to learn more about interactive tables.';\n",
              "          element.innerHTML = '';\n",
              "          dataTable['output_type'] = 'display_data';\n",
              "          await google.colab.output.renderOutput(dataTable, element);\n",
              "          const docLink = document.createElement('div');\n",
              "          docLink.innerHTML = docLinkHtml;\n",
              "          element.appendChild(docLink);\n",
              "        }\n",
              "      </script>\n",
              "    </div>\n",
              "  </div>\n",
              "  "
            ]
          },
          "metadata": {},
          "execution_count": 45
        }
      ],
      "source": [
        "data['event_time'] = pd.to_datetime(data['event_time'], unit='s')\n",
        "\n",
        "data.head()"
      ]
    },
    {
      "cell_type": "markdown",
      "metadata": {
        "id": "q5qNy7Rvlc6S"
      },
      "source": [
        "Добавим отдельный столбец `event_date` с датой"
      ]
    },
    {
      "cell_type": "code",
      "execution_count": 46,
      "metadata": {
        "colab": {
          "base_uri": "https://localhost:8080/",
          "height": 206
        },
        "id": "kAYJj6Y4lc6S",
        "outputId": "1545e792-c482-4a01-dad3-e8c6ea45a672"
      },
      "outputs": [
        {
          "output_type": "execute_result",
          "data": {
            "text/plain": [
              "                event_name              user_id          event_time  \\\n",
              "0         MainScreenAppear  4575588528974610257 2019-07-25 04:43:36   \n",
              "1         MainScreenAppear  7416695313311560658 2019-07-25 11:11:42   \n",
              "2  PaymentScreenSuccessful  3518123091307005509 2019-07-25 11:28:47   \n",
              "3         CartScreenAppear  3518123091307005509 2019-07-25 11:28:47   \n",
              "4  PaymentScreenSuccessful  6217807653094995999 2019-07-25 11:48:42   \n",
              "\n",
              "   experiment_id event_date  \n",
              "0            246 2019-07-25  \n",
              "1            246 2019-07-25  \n",
              "2            248 2019-07-25  \n",
              "3            248 2019-07-25  \n",
              "4            248 2019-07-25  "
            ],
            "text/html": [
              "\n",
              "  <div id=\"df-e0bfc046-10de-4001-93c9-4dc3585ef582\">\n",
              "    <div class=\"colab-df-container\">\n",
              "      <div>\n",
              "<style scoped>\n",
              "    .dataframe tbody tr th:only-of-type {\n",
              "        vertical-align: middle;\n",
              "    }\n",
              "\n",
              "    .dataframe tbody tr th {\n",
              "        vertical-align: top;\n",
              "    }\n",
              "\n",
              "    .dataframe thead th {\n",
              "        text-align: right;\n",
              "    }\n",
              "</style>\n",
              "<table border=\"1\" class=\"dataframe\">\n",
              "  <thead>\n",
              "    <tr style=\"text-align: right;\">\n",
              "      <th></th>\n",
              "      <th>event_name</th>\n",
              "      <th>user_id</th>\n",
              "      <th>event_time</th>\n",
              "      <th>experiment_id</th>\n",
              "      <th>event_date</th>\n",
              "    </tr>\n",
              "  </thead>\n",
              "  <tbody>\n",
              "    <tr>\n",
              "      <th>0</th>\n",
              "      <td>MainScreenAppear</td>\n",
              "      <td>4575588528974610257</td>\n",
              "      <td>2019-07-25 04:43:36</td>\n",
              "      <td>246</td>\n",
              "      <td>2019-07-25</td>\n",
              "    </tr>\n",
              "    <tr>\n",
              "      <th>1</th>\n",
              "      <td>MainScreenAppear</td>\n",
              "      <td>7416695313311560658</td>\n",
              "      <td>2019-07-25 11:11:42</td>\n",
              "      <td>246</td>\n",
              "      <td>2019-07-25</td>\n",
              "    </tr>\n",
              "    <tr>\n",
              "      <th>2</th>\n",
              "      <td>PaymentScreenSuccessful</td>\n",
              "      <td>3518123091307005509</td>\n",
              "      <td>2019-07-25 11:28:47</td>\n",
              "      <td>248</td>\n",
              "      <td>2019-07-25</td>\n",
              "    </tr>\n",
              "    <tr>\n",
              "      <th>3</th>\n",
              "      <td>CartScreenAppear</td>\n",
              "      <td>3518123091307005509</td>\n",
              "      <td>2019-07-25 11:28:47</td>\n",
              "      <td>248</td>\n",
              "      <td>2019-07-25</td>\n",
              "    </tr>\n",
              "    <tr>\n",
              "      <th>4</th>\n",
              "      <td>PaymentScreenSuccessful</td>\n",
              "      <td>6217807653094995999</td>\n",
              "      <td>2019-07-25 11:48:42</td>\n",
              "      <td>248</td>\n",
              "      <td>2019-07-25</td>\n",
              "    </tr>\n",
              "  </tbody>\n",
              "</table>\n",
              "</div>\n",
              "      <button class=\"colab-df-convert\" onclick=\"convertToInteractive('df-e0bfc046-10de-4001-93c9-4dc3585ef582')\"\n",
              "              title=\"Convert this dataframe to an interactive table.\"\n",
              "              style=\"display:none;\">\n",
              "        \n",
              "  <svg xmlns=\"http://www.w3.org/2000/svg\" height=\"24px\"viewBox=\"0 0 24 24\"\n",
              "       width=\"24px\">\n",
              "    <path d=\"M0 0h24v24H0V0z\" fill=\"none\"/>\n",
              "    <path d=\"M18.56 5.44l.94 2.06.94-2.06 2.06-.94-2.06-.94-.94-2.06-.94 2.06-2.06.94zm-11 1L8.5 8.5l.94-2.06 2.06-.94-2.06-.94L8.5 2.5l-.94 2.06-2.06.94zm10 10l.94 2.06.94-2.06 2.06-.94-2.06-.94-.94-2.06-.94 2.06-2.06.94z\"/><path d=\"M17.41 7.96l-1.37-1.37c-.4-.4-.92-.59-1.43-.59-.52 0-1.04.2-1.43.59L10.3 9.45l-7.72 7.72c-.78.78-.78 2.05 0 2.83L4 21.41c.39.39.9.59 1.41.59.51 0 1.02-.2 1.41-.59l7.78-7.78 2.81-2.81c.8-.78.8-2.07 0-2.86zM5.41 20L4 18.59l7.72-7.72 1.47 1.35L5.41 20z\"/>\n",
              "  </svg>\n",
              "      </button>\n",
              "      \n",
              "  <style>\n",
              "    .colab-df-container {\n",
              "      display:flex;\n",
              "      flex-wrap:wrap;\n",
              "      gap: 12px;\n",
              "    }\n",
              "\n",
              "    .colab-df-convert {\n",
              "      background-color: #E8F0FE;\n",
              "      border: none;\n",
              "      border-radius: 50%;\n",
              "      cursor: pointer;\n",
              "      display: none;\n",
              "      fill: #1967D2;\n",
              "      height: 32px;\n",
              "      padding: 0 0 0 0;\n",
              "      width: 32px;\n",
              "    }\n",
              "\n",
              "    .colab-df-convert:hover {\n",
              "      background-color: #E2EBFA;\n",
              "      box-shadow: 0px 1px 2px rgba(60, 64, 67, 0.3), 0px 1px 3px 1px rgba(60, 64, 67, 0.15);\n",
              "      fill: #174EA6;\n",
              "    }\n",
              "\n",
              "    [theme=dark] .colab-df-convert {\n",
              "      background-color: #3B4455;\n",
              "      fill: #D2E3FC;\n",
              "    }\n",
              "\n",
              "    [theme=dark] .colab-df-convert:hover {\n",
              "      background-color: #434B5C;\n",
              "      box-shadow: 0px 1px 3px 1px rgba(0, 0, 0, 0.15);\n",
              "      filter: drop-shadow(0px 1px 2px rgba(0, 0, 0, 0.3));\n",
              "      fill: #FFFFFF;\n",
              "    }\n",
              "  </style>\n",
              "\n",
              "      <script>\n",
              "        const buttonEl =\n",
              "          document.querySelector('#df-e0bfc046-10de-4001-93c9-4dc3585ef582 button.colab-df-convert');\n",
              "        buttonEl.style.display =\n",
              "          google.colab.kernel.accessAllowed ? 'block' : 'none';\n",
              "\n",
              "        async function convertToInteractive(key) {\n",
              "          const element = document.querySelector('#df-e0bfc046-10de-4001-93c9-4dc3585ef582');\n",
              "          const dataTable =\n",
              "            await google.colab.kernel.invokeFunction('convertToInteractive',\n",
              "                                                     [key], {});\n",
              "          if (!dataTable) return;\n",
              "\n",
              "          const docLinkHtml = 'Like what you see? Visit the ' +\n",
              "            '<a target=\"_blank\" href=https://colab.research.google.com/notebooks/data_table.ipynb>data table notebook</a>'\n",
              "            + ' to learn more about interactive tables.';\n",
              "          element.innerHTML = '';\n",
              "          dataTable['output_type'] = 'display_data';\n",
              "          await google.colab.output.renderOutput(dataTable, element);\n",
              "          const docLink = document.createElement('div');\n",
              "          docLink.innerHTML = docLinkHtml;\n",
              "          element.appendChild(docLink);\n",
              "        }\n",
              "      </script>\n",
              "    </div>\n",
              "  </div>\n",
              "  "
            ]
          },
          "metadata": {},
          "execution_count": 46
        }
      ],
      "source": [
        "data['event_date'] = pd.to_datetime(data['event_time'].dt.date)\n",
        "\n",
        "data.head()"
      ]
    },
    {
      "cell_type": "markdown",
      "metadata": {
        "id": "N2CyKWrVlc6S"
      },
      "source": [
        "**Переименование названий групп в столбце `experiment_id`**"
      ]
    },
    {
      "cell_type": "markdown",
      "metadata": {
        "id": "NNbb1TAhlc6S"
      },
      "source": [
        "Для удобства переименуем номера групп эксперимента на А1, А2, В"
      ]
    },
    {
      "cell_type": "code",
      "execution_count": 47,
      "metadata": {
        "colab": {
          "base_uri": "https://localhost:8080/"
        },
        "id": "YEHKyXzTlc6S",
        "outputId": "14966051-947a-40e0-b760-00c1f3f128e7"
      },
      "outputs": [
        {
          "output_type": "execute_result",
          "data": {
            "text/plain": [
              "array(['A1', 'B', 'A2'], dtype=object)"
            ]
          },
          "metadata": {},
          "execution_count": 47
        }
      ],
      "source": [
        "# Переименование группы 246 на А1\n",
        "data['experiment_id'] = data['experiment_id'].replace(246, 'A1')\n",
        "\n",
        "# Переименование группы 247 на А2\n",
        "data['experiment_id'] = data['experiment_id'].replace(247, 'A2')\n",
        "\n",
        "# Переименование группы 248 на B\n",
        "data['experiment_id'] = data['experiment_id'].replace(248, 'B')\n",
        "\n",
        "data['experiment_id'].unique()"
      ]
    },
    {
      "cell_type": "markdown",
      "metadata": {
        "id": "pueYWES-lc6S"
      },
      "source": [
        "Вывод:\n",
        "* Пропуски в данных отсутствуют\n",
        "* Удалены дубликаты в данных в количестве 413, что составляет 0.17% от общего объема данных.\n",
        "* Переименованы названия столбцов на `event_time`, `user_id`, `experiment_id`\n",
        "* Преобразован формат данных в столбце `event_time` на `date_time`\n",
        "* Добавлен столбец `event_date` с датой \n",
        "* Переименованы для удобства номера групп экспериментов на A1, A2, B"
      ]
    },
    {
      "cell_type": "markdown",
      "metadata": {
        "id": "JOqPlZ7zlc6S"
      },
      "source": [
        "## Исследовательский анализ данных"
      ]
    },
    {
      "cell_type": "markdown",
      "metadata": {
        "id": "0Tyhh-Znlc6S"
      },
      "source": [
        "**Вычисления общего количества событий**"
      ]
    },
    {
      "cell_type": "code",
      "execution_count": 48,
      "metadata": {
        "colab": {
          "base_uri": "https://localhost:8080/"
        },
        "id": "w54dUUtilc6S",
        "outputId": "0dacdf34-09b2-4f54-83dc-02af51ed4939"
      },
      "outputs": [
        {
          "output_type": "execute_result",
          "data": {
            "text/plain": [
              "MainScreenAppear           119101\n",
              "OffersScreenAppear          46808\n",
              "CartScreenAppear            42668\n",
              "PaymentScreenSuccessful     34118\n",
              "Tutorial                     1018\n",
              "Name: event_name, dtype: int64"
            ]
          },
          "metadata": {},
          "execution_count": 48
        }
      ],
      "source": [
        "# Вычисление количества по типам событий\n",
        "data['event_name'].value_counts()"
      ]
    },
    {
      "cell_type": "code",
      "execution_count": 49,
      "metadata": {
        "colab": {
          "base_uri": "https://localhost:8080/"
        },
        "id": "GwVKFn3Xlc6T",
        "outputId": "ae7c5c8d-4b0a-4b4f-b3e4-c64a10fe0e50"
      },
      "outputs": [
        {
          "output_type": "stream",
          "name": "stdout",
          "text": [
            "Общее количество событий: 243713\n"
          ]
        }
      ],
      "source": [
        "# Вычисление общего числа событий\n",
        "events_count = len(data['event_name'])\n",
        "print('Общее количество событий:', events_count)"
      ]
    },
    {
      "cell_type": "markdown",
      "metadata": {
        "id": "OPxmso16lc6T"
      },
      "source": [
        "**Вычисление общего количества пользователей**"
      ]
    },
    {
      "cell_type": "code",
      "execution_count": 50,
      "metadata": {
        "colab": {
          "base_uri": "https://localhost:8080/"
        },
        "id": "uK89ryiKlc6T",
        "outputId": "ab848945-3214-4229-eeec-84fa5f169ec4"
      },
      "outputs": [
        {
          "output_type": "stream",
          "name": "stdout",
          "text": [
            "Количество уникальных пользователей: 7551\n"
          ]
        }
      ],
      "source": [
        "users_count = data['user_id'].nunique()\n",
        "print('Количество уникальных пользователей:', users_count)"
      ]
    },
    {
      "cell_type": "markdown",
      "metadata": {
        "id": "LtQeW6Twlc6T"
      },
      "source": [
        "**Вычисление среднего количества событий на оного пользователя**"
      ]
    },
    {
      "cell_type": "code",
      "execution_count": 51,
      "metadata": {
        "colab": {
          "base_uri": "https://localhost:8080/"
        },
        "id": "uctuz3_Mlc6T",
        "outputId": "c2aa24e3-d5e0-4fb5-ef33-33b0ef27100b"
      },
      "outputs": [
        {
          "output_type": "stream",
          "name": "stdout",
          "text": [
            "Среднее количество событий на одного пользователя: 32\n"
          ]
        }
      ],
      "source": [
        "print('Среднее количество событий на одного пользователя:', round(len(data['event_name'])/data['user_id'].nunique()))"
      ]
    },
    {
      "cell_type": "markdown",
      "metadata": {
        "id": "w3y-Im6Qlc6T"
      },
      "source": [
        "**Анализ периода данных**"
      ]
    },
    {
      "cell_type": "markdown",
      "metadata": {
        "id": "6zi5SHONlc6T"
      },
      "source": [
        "* Определим максимальную и минимальную дату. \n",
        "* Построим гистограмму по дате и времени. \n",
        "* Определим, являются ли данные одинаково полными за весь период. \n",
        "* Определим, с какого момента данные полные и отбросим более старые. \n",
        "* Определим период времени за который располагаем данными на самом деле."
      ]
    },
    {
      "cell_type": "code",
      "execution_count": 52,
      "metadata": {
        "colab": {
          "base_uri": "https://localhost:8080/"
        },
        "id": "1VTGncKClc6T",
        "outputId": "2b4322c6-3ca6-4d28-920d-13546ef723a4"
      },
      "outputs": [
        {
          "output_type": "stream",
          "name": "stdout",
          "text": [
            "Минимальная дата: 2019-07-25 00:00:00\n",
            "Максимальная дата: 2019-08-07 00:00:00\n",
            "Данные представлены за период: 13 дней\n"
          ]
        }
      ],
      "source": [
        "print('Минимальная дата:', min(data['event_date']))\n",
        "print('Максимальная дата:', max(data['event_date']))\n",
        "print('Данные представлены за период:', (max(data['event_date'])-min(data['event_date'])).days, 'дней')"
      ]
    },
    {
      "cell_type": "code",
      "execution_count": 53,
      "metadata": {
        "colab": {
          "base_uri": "https://localhost:8080/",
          "height": 526
        },
        "id": "CPxY87Jqlc6T",
        "outputId": "2155d95f-b6bb-4f8e-9e16-9a22b915730e"
      },
      "outputs": [
        {
          "output_type": "display_data",
          "data": {
            "text/plain": [
              "<Figure size 1000x500 with 1 Axes>"
            ],
            "image/png": "[encoded data removed]"
          },
          "metadata": {}
        }
      ],
      "source": [
        "data['event_date'].hist(figsize=(10, 5))\n",
        "plt.grid()\n",
        "plt.title('Распределение событий по времени')\n",
        "plt.ylabel('Количество событий')\n",
        "plt.xlabel('Дата')\n",
        "plt.xticks(rotation=30)\n",
        "plt.show();"
      ]
    },
    {
      "cell_type": "markdown",
      "metadata": {
        "id": "rxoLobhjlc6T"
      },
      "source": [
        "По гистограмме можно сделать вывод что релевантные данные представлены за период с 01 августа 2019г. по 07 августа 2019г, за 7 дней. Технически в логи новых дней по некоторым пользователям могут «доезжать» события из прошлого — это может «перекашивать данные», может сказаться разница в часовых поясах, а также что событие пользователя \"растянуто\" по времени. \n",
        "Для дальнейшего анализа возьмем период с 01 августа и уберем данные до этого периода."
      ]
    },
    {
      "cell_type": "code",
      "execution_count": 54,
      "metadata": {
        "colab": {
          "base_uri": "https://localhost:8080/"
        },
        "id": "Ip0DYvsGlc6T",
        "outputId": "72d414d0-1e18-4876-db32-4463b1b419ba"
      },
      "outputs": [
        {
          "output_type": "stream",
          "name": "stdout",
          "text": [
            "Минимальная дата: 2019-08-01 00:00:00\n",
            "Максимальная дата: 2019-08-07 00:00:00\n"
          ]
        }
      ],
      "source": [
        "# исключим из таблицы данные до 01 августа\n",
        "data = data.query('event_date >= \"2019-08-01\"')\n",
        "\n",
        "print('Минимальная дата:', min(data['event_date']))\n",
        "print('Максимальная дата:', max(data['event_date']))"
      ]
    },
    {
      "cell_type": "markdown",
      "metadata": {
        "id": "Aqz-wbSFlc6T"
      },
      "source": [
        "**Вычислим сколько осталось событий и пользователей после изменения периода**"
      ]
    },
    {
      "cell_type": "code",
      "execution_count": 55,
      "metadata": {
        "colab": {
          "base_uri": "https://localhost:8080/"
        },
        "id": "k2xFp06olc6T",
        "outputId": "123c5ef4-8f44-41bb-e0fc-0a504067a1cb"
      },
      "outputs": [
        {
          "output_type": "stream",
          "name": "stdout",
          "text": [
            "Новое количество событий: 240887\n",
            "Количество событий уменьшилось на 2826 , 1.16 %\n"
          ]
        }
      ],
      "source": [
        "# вычисление количества событий\n",
        "new_events_count = len(data['event_name'])\n",
        "print('Новое количество событий:', new_events_count)\n",
        "print('Количество событий уменьшилось на', events_count - new_events_count, ',',\n",
        "       round((events_count - new_events_count)/events_count*100, 2), '%')"
      ]
    },
    {
      "cell_type": "code",
      "execution_count": 56,
      "metadata": {
        "colab": {
          "base_uri": "https://localhost:8080/"
        },
        "id": "e8j_KGBhlc6U",
        "outputId": "eb27cd14-f9f2-4b64-c7c9-88d3c04dc30e"
      },
      "outputs": [
        {
          "output_type": "stream",
          "name": "stdout",
          "text": [
            "Новое количество пользователей: 7534\n",
            "Количество пользователей уменьшилось на 17 , 0.23 %\n"
          ]
        }
      ],
      "source": [
        "# вычисление количества пользователей\n",
        "new_users_count = data['user_id'].nunique()\n",
        "print('Новое количество пользователей:', new_users_count)\n",
        "print('Количество пользователей уменьшилось на', users_count - new_users_count, ',',\n",
        "       round((users_count - new_users_count)/users_count*100, 2), '%')"
      ]
    },
    {
      "cell_type": "markdown",
      "metadata": {
        "id": "AQj_V-vzlc6U"
      },
      "source": [
        "Количество удаленных данных составляет незначительную часть от общего объема, что не окажет существенного влияния на дальнейшее исследование"
      ]
    },
    {
      "cell_type": "markdown",
      "metadata": {
        "id": "BgKv5lOelc6U"
      },
      "source": [
        "**Проверим наличие и количество пользователей во всех группах**"
      ]
    },
    {
      "cell_type": "code",
      "execution_count": 57,
      "metadata": {
        "colab": {
          "base_uri": "https://localhost:8080/",
          "height": 175
        },
        "id": "-OIjYoiOlc6U",
        "outputId": "aa709d5c-c633-4205-cc9e-53a4f81fcdb8"
      },
      "outputs": [
        {
          "output_type": "execute_result",
          "data": {
            "text/plain": [
              "               user_id\n",
              "experiment_id         \n",
              "A1                2484\n",
              "A2                2513\n",
              "B                 2537"
            ],
            "text/html": [
              "\n",
              "  <div id=\"df-a16ee59f-326b-4938-9a8d-eb2f76cdb328\">\n",
              "    <div class=\"colab-df-container\">\n",
              "      <div>\n",
              "<style scoped>\n",
              "    .dataframe tbody tr th:only-of-type {\n",
              "        vertical-align: middle;\n",
              "    }\n",
              "\n",
              "    .dataframe tbody tr th {\n",
              "        vertical-align: top;\n",
              "    }\n",
              "\n",
              "    .dataframe thead th {\n",
              "        text-align: right;\n",
              "    }\n",
              "</style>\n",
              "<table border=\"1\" class=\"dataframe\">\n",
              "  <thead>\n",
              "    <tr style=\"text-align: right;\">\n",
              "      <th></th>\n",
              "      <th>user_id</th>\n",
              "    </tr>\n",
              "    <tr>\n",
              "      <th>experiment_id</th>\n",
              "      <th></th>\n",
              "    </tr>\n",
              "  </thead>\n",
              "  <tbody>\n",
              "    <tr>\n",
              "      <th>A1</th>\n",
              "      <td>2484</td>\n",
              "    </tr>\n",
              "    <tr>\n",
              "      <th>A2</th>\n",
              "      <td>2513</td>\n",
              "    </tr>\n",
              "    <tr>\n",
              "      <th>B</th>\n",
              "      <td>2537</td>\n",
              "    </tr>\n",
              "  </tbody>\n",
              "</table>\n",
              "</div>\n",
              "      <button class=\"colab-df-convert\" onclick=\"convertToInteractive('df-a16ee59f-326b-4938-9a8d-eb2f76cdb328')\"\n",
              "              title=\"Convert this dataframe to an interactive table.\"\n",
              "              style=\"display:none;\">\n",
              "        \n",
              "  <svg xmlns=\"http://www.w3.org/2000/svg\" height=\"24px\"viewBox=\"0 0 24 24\"\n",
              "       width=\"24px\">\n",
              "    <path d=\"M0 0h24v24H0V0z\" fill=\"none\"/>\n",
              "    <path d=\"M18.56 5.44l.94 2.06.94-2.06 2.06-.94-2.06-.94-.94-2.06-.94 2.06-2.06.94zm-11 1L8.5 8.5l.94-2.06 2.06-.94-2.06-.94L8.5 2.5l-.94 2.06-2.06.94zm10 10l.94 2.06.94-2.06 2.06-.94-2.06-.94-.94-2.06-.94 2.06-2.06.94z\"/><path d=\"M17.41 7.96l-1.37-1.37c-.4-.4-.92-.59-1.43-.59-.52 0-1.04.2-1.43.59L10.3 9.45l-7.72 7.72c-.78.78-.78 2.05 0 2.83L4 21.41c.39.39.9.59 1.41.59.51 0 1.02-.2 1.41-.59l7.78-7.78 2.81-2.81c.8-.78.8-2.07 0-2.86zM5.41 20L4 18.59l7.72-7.72 1.47 1.35L5.41 20z\"/>\n",
              "  </svg>\n",
              "      </button>\n",
              "      \n",
              "  <style>\n",
              "    .colab-df-container {\n",
              "      display:flex;\n",
              "      flex-wrap:wrap;\n",
              "      gap: 12px;\n",
              "    }\n",
              "\n",
              "    .colab-df-convert {\n",
              "      background-color: #E8F0FE;\n",
              "      border: none;\n",
              "      border-radius: 50%;\n",
              "      cursor: pointer;\n",
              "      display: none;\n",
              "      fill: #1967D2;\n",
              "      height: 32px;\n",
              "      padding: 0 0 0 0;\n",
              "      width: 32px;\n",
              "    }\n",
              "\n",
              "    .colab-df-convert:hover {\n",
              "      background-color: #E2EBFA;\n",
              "      box-shadow: 0px 1px 2px rgba(60, 64, 67, 0.3), 0px 1px 3px 1px rgba(60, 64, 67, 0.15);\n",
              "      fill: #174EA6;\n",
              "    }\n",
              "\n",
              "    [theme=dark] .colab-df-convert {\n",
              "      background-color: #3B4455;\n",
              "      fill: #D2E3FC;\n",
              "    }\n",
              "\n",
              "    [theme=dark] .colab-df-convert:hover {\n",
              "      background-color: #434B5C;\n",
              "      box-shadow: 0px 1px 3px 1px rgba(0, 0, 0, 0.15);\n",
              "      filter: drop-shadow(0px 1px 2px rgba(0, 0, 0, 0.3));\n",
              "      fill: #FFFFFF;\n",
              "    }\n",
              "  </style>\n",
              "\n",
              "      <script>\n",
              "        const buttonEl =\n",
              "          document.querySelector('#df-a16ee59f-326b-4938-9a8d-eb2f76cdb328 button.colab-df-convert');\n",
              "        buttonEl.style.display =\n",
              "          google.colab.kernel.accessAllowed ? 'block' : 'none';\n",
              "\n",
              "        async function convertToInteractive(key) {\n",
              "          const element = document.querySelector('#df-a16ee59f-326b-4938-9a8d-eb2f76cdb328');\n",
              "          const dataTable =\n",
              "            await google.colab.kernel.invokeFunction('convertToInteractive',\n",
              "                                                     [key], {});\n",
              "          if (!dataTable) return;\n",
              "\n",
              "          const docLinkHtml = 'Like what you see? Visit the ' +\n",
              "            '<a target=\"_blank\" href=https://colab.research.google.com/notebooks/data_table.ipynb>data table notebook</a>'\n",
              "            + ' to learn more about interactive tables.';\n",
              "          element.innerHTML = '';\n",
              "          dataTable['output_type'] = 'display_data';\n",
              "          await google.colab.output.renderOutput(dataTable, element);\n",
              "          const docLink = document.createElement('div');\n",
              "          docLink.innerHTML = docLinkHtml;\n",
              "          element.appendChild(docLink);\n",
              "        }\n",
              "      </script>\n",
              "    </div>\n",
              "  </div>\n",
              "  "
            ]
          },
          "metadata": {},
          "execution_count": 57
        }
      ],
      "source": [
        "data.groupby('experiment_id').agg({'user_id': 'nunique'})"
      ]
    },
    {
      "cell_type": "markdown",
      "metadata": {
        "id": "lINCuK7Nlc6U"
      },
      "source": [
        "Во всех группах примерно одинаковое количество пользователей."
      ]
    },
    {
      "cell_type": "markdown",
      "metadata": {
        "id": "5-Es7_1Flc6U"
      },
      "source": [
        "## Анализ воронки событий"
      ]
    },
    {
      "cell_type": "markdown",
      "metadata": {
        "id": "oVex6gINlc6U"
      },
      "source": [
        "**Анализ событий**"
      ]
    },
    {
      "cell_type": "code",
      "execution_count": 58,
      "metadata": {
        "colab": {
          "base_uri": "https://localhost:8080/"
        },
        "id": "v0xsKazVlc6U",
        "outputId": "4df5a57a-1ad9-4f28-cc54-e95892558ed5"
      },
      "outputs": [
        {
          "output_type": "execute_result",
          "data": {
            "text/plain": [
              "MainScreenAppear           117328\n",
              "OffersScreenAppear          46333\n",
              "CartScreenAppear            42303\n",
              "PaymentScreenSuccessful     33918\n",
              "Tutorial                     1005\n",
              "Name: event_name, dtype: int64"
            ]
          },
          "metadata": {},
          "execution_count": 58
        }
      ],
      "source": [
        "data['event_name'].value_counts().sort_values(ascending=False)"
      ]
    },
    {
      "cell_type": "markdown",
      "metadata": {
        "id": "t0CL-zpblc6U"
      },
      "source": [
        "В логе встречается 5 видов событий. Преобладает `MainScreenAppear` - 117328, меньше всего встречается событие `Tutorial` - 1005 "
      ]
    },
    {
      "cell_type": "markdown",
      "metadata": {
        "id": "NYjMuO4xlc6U"
      },
      "source": [
        "**Анализ количества пользователей по событиям**"
      ]
    },
    {
      "cell_type": "code",
      "execution_count": 59,
      "metadata": {
        "colab": {
          "base_uri": "https://localhost:8080/",
          "height": 206
        },
        "id": "RvyZPjKrlc6U",
        "outputId": "98aed74d-91dc-4648-b701-1040b6b0c2f4"
      },
      "outputs": [
        {
          "output_type": "execute_result",
          "data": {
            "text/plain": [
              "                event_name  user_id\n",
              "0         MainScreenAppear     7419\n",
              "1       OffersScreenAppear     4593\n",
              "2         CartScreenAppear     3734\n",
              "3  PaymentScreenSuccessful     3539\n",
              "4                 Tutorial      840"
            ],
            "text/html": [
              "\n",
              "  <div id=\"df-de6eb51e-8c96-4c36-8581-8d4e34069e1a\">\n",
              "    <div class=\"colab-df-container\">\n",
              "      <div>\n",
              "<style scoped>\n",
              "    .dataframe tbody tr th:only-of-type {\n",
              "        vertical-align: middle;\n",
              "    }\n",
              "\n",
              "    .dataframe tbody tr th {\n",
              "        vertical-align: top;\n",
              "    }\n",
              "\n",
              "    .dataframe thead th {\n",
              "        text-align: right;\n",
              "    }\n",
              "</style>\n",
              "<table border=\"1\" class=\"dataframe\">\n",
              "  <thead>\n",
              "    <tr style=\"text-align: right;\">\n",
              "      <th></th>\n",
              "      <th>event_name</th>\n",
              "      <th>user_id</th>\n",
              "    </tr>\n",
              "  </thead>\n",
              "  <tbody>\n",
              "    <tr>\n",
              "      <th>0</th>\n",
              "      <td>MainScreenAppear</td>\n",
              "      <td>7419</td>\n",
              "    </tr>\n",
              "    <tr>\n",
              "      <th>1</th>\n",
              "      <td>OffersScreenAppear</td>\n",
              "      <td>4593</td>\n",
              "    </tr>\n",
              "    <tr>\n",
              "      <th>2</th>\n",
              "      <td>CartScreenAppear</td>\n",
              "      <td>3734</td>\n",
              "    </tr>\n",
              "    <tr>\n",
              "      <th>3</th>\n",
              "      <td>PaymentScreenSuccessful</td>\n",
              "      <td>3539</td>\n",
              "    </tr>\n",
              "    <tr>\n",
              "      <th>4</th>\n",
              "      <td>Tutorial</td>\n",
              "      <td>840</td>\n",
              "    </tr>\n",
              "  </tbody>\n",
              "</table>\n",
              "</div>\n",
              "      <button class=\"colab-df-convert\" onclick=\"convertToInteractive('df-de6eb51e-8c96-4c36-8581-8d4e34069e1a')\"\n",
              "              title=\"Convert this dataframe to an interactive table.\"\n",
              "              style=\"display:none;\">\n",
              "        \n",
              "  <svg xmlns=\"http://www.w3.org/2000/svg\" height=\"24px\"viewBox=\"0 0 24 24\"\n",
              "       width=\"24px\">\n",
              "    <path d=\"M0 0h24v24H0V0z\" fill=\"none\"/>\n",
              "    <path d=\"M18.56 5.44l.94 2.06.94-2.06 2.06-.94-2.06-.94-.94-2.06-.94 2.06-2.06.94zm-11 1L8.5 8.5l.94-2.06 2.06-.94-2.06-.94L8.5 2.5l-.94 2.06-2.06.94zm10 10l.94 2.06.94-2.06 2.06-.94-2.06-.94-.94-2.06-.94 2.06-2.06.94z\"/><path d=\"M17.41 7.96l-1.37-1.37c-.4-.4-.92-.59-1.43-.59-.52 0-1.04.2-1.43.59L10.3 9.45l-7.72 7.72c-.78.78-.78 2.05 0 2.83L4 21.41c.39.39.9.59 1.41.59.51 0 1.02-.2 1.41-.59l7.78-7.78 2.81-2.81c.8-.78.8-2.07 0-2.86zM5.41 20L4 18.59l7.72-7.72 1.47 1.35L5.41 20z\"/>\n",
              "  </svg>\n",
              "      </button>\n",
              "      \n",
              "  <style>\n",
              "    .colab-df-container {\n",
              "      display:flex;\n",
              "      flex-wrap:wrap;\n",
              "      gap: 12px;\n",
              "    }\n",
              "\n",
              "    .colab-df-convert {\n",
              "      background-color: #E8F0FE;\n",
              "      border: none;\n",
              "      border-radius: 50%;\n",
              "      cursor: pointer;\n",
              "      display: none;\n",
              "      fill: #1967D2;\n",
              "      height: 32px;\n",
              "      padding: 0 0 0 0;\n",
              "      width: 32px;\n",
              "    }\n",
              "\n",
              "    .colab-df-convert:hover {\n",
              "      background-color: #E2EBFA;\n",
              "      box-shadow: 0px 1px 2px rgba(60, 64, 67, 0.3), 0px 1px 3px 1px rgba(60, 64, 67, 0.15);\n",
              "      fill: #174EA6;\n",
              "    }\n",
              "\n",
              "    [theme=dark] .colab-df-convert {\n",
              "      background-color: #3B4455;\n",
              "      fill: #D2E3FC;\n",
              "    }\n",
              "\n",
              "    [theme=dark] .colab-df-convert:hover {\n",
              "      background-color: #434B5C;\n",
              "      box-shadow: 0px 1px 3px 1px rgba(0, 0, 0, 0.15);\n",
              "      filter: drop-shadow(0px 1px 2px rgba(0, 0, 0, 0.3));\n",
              "      fill: #FFFFFF;\n",
              "    }\n",
              "  </style>\n",
              "\n",
              "      <script>\n",
              "        const buttonEl =\n",
              "          document.querySelector('#df-de6eb51e-8c96-4c36-8581-8d4e34069e1a button.colab-df-convert');\n",
              "        buttonEl.style.display =\n",
              "          google.colab.kernel.accessAllowed ? 'block' : 'none';\n",
              "\n",
              "        async function convertToInteractive(key) {\n",
              "          const element = document.querySelector('#df-de6eb51e-8c96-4c36-8581-8d4e34069e1a');\n",
              "          const dataTable =\n",
              "            await google.colab.kernel.invokeFunction('convertToInteractive',\n",
              "                                                     [key], {});\n",
              "          if (!dataTable) return;\n",
              "\n",
              "          const docLinkHtml = 'Like what you see? Visit the ' +\n",
              "            '<a target=\"_blank\" href=https://colab.research.google.com/notebooks/data_table.ipynb>data table notebook</a>'\n",
              "            + ' to learn more about interactive tables.';\n",
              "          element.innerHTML = '';\n",
              "          dataTable['output_type'] = 'display_data';\n",
              "          await google.colab.output.renderOutput(dataTable, element);\n",
              "          const docLink = document.createElement('div');\n",
              "          docLink.innerHTML = docLinkHtml;\n",
              "          element.appendChild(docLink);\n",
              "        }\n",
              "      </script>\n",
              "    </div>\n",
              "  </div>\n",
              "  "
            ]
          },
          "metadata": {},
          "execution_count": 59
        }
      ],
      "source": [
        "# подсчет количества пользователей по событиям\n",
        "events_by_users = (data.groupby('event_name').agg({'user_id': 'nunique'})\n",
        "                   .sort_values('user_id', ascending=False).reset_index())\n",
        "events_by_users"
      ]
    },
    {
      "cell_type": "code",
      "execution_count": 60,
      "metadata": {
        "colab": {
          "base_uri": "https://localhost:8080/",
          "height": 206
        },
        "id": "b5wSKbJrlc6U",
        "outputId": "4cbfc791-304a-435e-893a-ff458ec8d088"
      },
      "outputs": [
        {
          "output_type": "execute_result",
          "data": {
            "text/plain": [
              "                event_name  user_id  users_share\n",
              "0         MainScreenAppear     7419        98.47\n",
              "1       OffersScreenAppear     4593        60.96\n",
              "2         CartScreenAppear     3734        49.56\n",
              "3  PaymentScreenSuccessful     3539        46.97\n",
              "4                 Tutorial      840        11.15"
            ],
            "text/html": [
              "\n",
              "  <div id=\"df-9066d302-c858-49dc-a509-a39233dad9e9\">\n",
              "    <div class=\"colab-df-container\">\n",
              "      <div>\n",
              "<style scoped>\n",
              "    .dataframe tbody tr th:only-of-type {\n",
              "        vertical-align: middle;\n",
              "    }\n",
              "\n",
              "    .dataframe tbody tr th {\n",
              "        vertical-align: top;\n",
              "    }\n",
              "\n",
              "    .dataframe thead th {\n",
              "        text-align: right;\n",
              "    }\n",
              "</style>\n",
              "<table border=\"1\" class=\"dataframe\">\n",
              "  <thead>\n",
              "    <tr style=\"text-align: right;\">\n",
              "      <th></th>\n",
              "      <th>event_name</th>\n",
              "      <th>user_id</th>\n",
              "      <th>users_share</th>\n",
              "    </tr>\n",
              "  </thead>\n",
              "  <tbody>\n",
              "    <tr>\n",
              "      <th>0</th>\n",
              "      <td>MainScreenAppear</td>\n",
              "      <td>7419</td>\n",
              "      <td>98.47</td>\n",
              "    </tr>\n",
              "    <tr>\n",
              "      <th>1</th>\n",
              "      <td>OffersScreenAppear</td>\n",
              "      <td>4593</td>\n",
              "      <td>60.96</td>\n",
              "    </tr>\n",
              "    <tr>\n",
              "      <th>2</th>\n",
              "      <td>CartScreenAppear</td>\n",
              "      <td>3734</td>\n",
              "      <td>49.56</td>\n",
              "    </tr>\n",
              "    <tr>\n",
              "      <th>3</th>\n",
              "      <td>PaymentScreenSuccessful</td>\n",
              "      <td>3539</td>\n",
              "      <td>46.97</td>\n",
              "    </tr>\n",
              "    <tr>\n",
              "      <th>4</th>\n",
              "      <td>Tutorial</td>\n",
              "      <td>840</td>\n",
              "      <td>11.15</td>\n",
              "    </tr>\n",
              "  </tbody>\n",
              "</table>\n",
              "</div>\n",
              "      <button class=\"colab-df-convert\" onclick=\"convertToInteractive('df-9066d302-c858-49dc-a509-a39233dad9e9')\"\n",
              "              title=\"Convert this dataframe to an interactive table.\"\n",
              "              style=\"display:none;\">\n",
              "        \n",
              "  <svg xmlns=\"http://www.w3.org/2000/svg\" height=\"24px\"viewBox=\"0 0 24 24\"\n",
              "       width=\"24px\">\n",
              "    <path d=\"M0 0h24v24H0V0z\" fill=\"none\"/>\n",
              "    <path d=\"M18.56 5.44l.94 2.06.94-2.06 2.06-.94-2.06-.94-.94-2.06-.94 2.06-2.06.94zm-11 1L8.5 8.5l.94-2.06 2.06-.94-2.06-.94L8.5 2.5l-.94 2.06-2.06.94zm10 10l.94 2.06.94-2.06 2.06-.94-2.06-.94-.94-2.06-.94 2.06-2.06.94z\"/><path d=\"M17.41 7.96l-1.37-1.37c-.4-.4-.92-.59-1.43-.59-.52 0-1.04.2-1.43.59L10.3 9.45l-7.72 7.72c-.78.78-.78 2.05 0 2.83L4 21.41c.39.39.9.59 1.41.59.51 0 1.02-.2 1.41-.59l7.78-7.78 2.81-2.81c.8-.78.8-2.07 0-2.86zM5.41 20L4 18.59l7.72-7.72 1.47 1.35L5.41 20z\"/>\n",
              "  </svg>\n",
              "      </button>\n",
              "      \n",
              "  <style>\n",
              "    .colab-df-container {\n",
              "      display:flex;\n",
              "      flex-wrap:wrap;\n",
              "      gap: 12px;\n",
              "    }\n",
              "\n",
              "    .colab-df-convert {\n",
              "      background-color: #E8F0FE;\n",
              "      border: none;\n",
              "      border-radius: 50%;\n",
              "      cursor: pointer;\n",
              "      display: none;\n",
              "      fill: #1967D2;\n",
              "      height: 32px;\n",
              "      padding: 0 0 0 0;\n",
              "      width: 32px;\n",
              "    }\n",
              "\n",
              "    .colab-df-convert:hover {\n",
              "      background-color: #E2EBFA;\n",
              "      box-shadow: 0px 1px 2px rgba(60, 64, 67, 0.3), 0px 1px 3px 1px rgba(60, 64, 67, 0.15);\n",
              "      fill: #174EA6;\n",
              "    }\n",
              "\n",
              "    [theme=dark] .colab-df-convert {\n",
              "      background-color: #3B4455;\n",
              "      fill: #D2E3FC;\n",
              "    }\n",
              "\n",
              "    [theme=dark] .colab-df-convert:hover {\n",
              "      background-color: #434B5C;\n",
              "      box-shadow: 0px 1px 3px 1px rgba(0, 0, 0, 0.15);\n",
              "      filter: drop-shadow(0px 1px 2px rgba(0, 0, 0, 0.3));\n",
              "      fill: #FFFFFF;\n",
              "    }\n",
              "  </style>\n",
              "\n",
              "      <script>\n",
              "        const buttonEl =\n",
              "          document.querySelector('#df-9066d302-c858-49dc-a509-a39233dad9e9 button.colab-df-convert');\n",
              "        buttonEl.style.display =\n",
              "          google.colab.kernel.accessAllowed ? 'block' : 'none';\n",
              "\n",
              "        async function convertToInteractive(key) {\n",
              "          const element = document.querySelector('#df-9066d302-c858-49dc-a509-a39233dad9e9');\n",
              "          const dataTable =\n",
              "            await google.colab.kernel.invokeFunction('convertToInteractive',\n",
              "                                                     [key], {});\n",
              "          if (!dataTable) return;\n",
              "\n",
              "          const docLinkHtml = 'Like what you see? Visit the ' +\n",
              "            '<a target=\"_blank\" href=https://colab.research.google.com/notebooks/data_table.ipynb>data table notebook</a>'\n",
              "            + ' to learn more about interactive tables.';\n",
              "          element.innerHTML = '';\n",
              "          dataTable['output_type'] = 'display_data';\n",
              "          await google.colab.output.renderOutput(dataTable, element);\n",
              "          const docLink = document.createElement('div');\n",
              "          docLink.innerHTML = docLinkHtml;\n",
              "          element.appendChild(docLink);\n",
              "        }\n",
              "      </script>\n",
              "    </div>\n",
              "  </div>\n",
              "  "
            ]
          },
          "metadata": {},
          "execution_count": 60
        }
      ],
      "source": [
        "# расчет количества доли пользователей от общего числа по событиям\n",
        "events_by_users['users_share'] = round(events_by_users['user_id'] / data['user_id'].nunique() * 100, 2)\n",
        "\n",
        "events_by_users"
      ]
    },
    {
      "cell_type": "markdown",
      "metadata": {
        "id": "n3ok6OZYlc6U"
      },
      "source": [
        "Последовательность событий выглядит следующим образом:\n",
        "* 98,47% пользователей попадают на главный экран\n",
        "* 60,96% пользователей попадают на экран с предложением\n",
        "* 49,56% пользователей переходят на экран оплаты\n",
        "* 46,97% пользователей производят оплату\n",
        "\n",
        "Событие \"Обучение\" появляется у 11,15%. Учитывая столь низкий процент можно предположить, что обучение не является обязательным для пользователей, а также большая часть пользователей может обойтись без него. Соответственно данное событие можно исключить из цепочки событий."
      ]
    },
    {
      "cell_type": "markdown",
      "metadata": {
        "id": "sriaAdmElc6U"
      },
      "source": [
        "**Проанализируем, какая доля пользователей проходит на следующий шаг воронки (от числа пользователей на предыдущем).**"
      ]
    },
    {
      "cell_type": "code",
      "execution_count": 61,
      "metadata": {
        "colab": {
          "base_uri": "https://localhost:8080/",
          "height": 175
        },
        "id": "hBr1XQMMlc6U",
        "outputId": "f10a38f4-9798-4ce6-dc7e-6e6b213273bb"
      },
      "outputs": [
        {
          "output_type": "execute_result",
          "data": {
            "text/plain": [
              "                event_name  user_id\n",
              "0         MainScreenAppear     7419\n",
              "1       OffersScreenAppear     4593\n",
              "2         CartScreenAppear     3734\n",
              "3  PaymentScreenSuccessful     3539"
            ],
            "text/html": [
              "\n",
              "  <div id=\"df-b89ef7f9-8abf-4e8d-a42d-93df721e7dfc\">\n",
              "    <div class=\"colab-df-container\">\n",
              "      <div>\n",
              "<style scoped>\n",
              "    .dataframe tbody tr th:only-of-type {\n",
              "        vertical-align: middle;\n",
              "    }\n",
              "\n",
              "    .dataframe tbody tr th {\n",
              "        vertical-align: top;\n",
              "    }\n",
              "\n",
              "    .dataframe thead th {\n",
              "        text-align: right;\n",
              "    }\n",
              "</style>\n",
              "<table border=\"1\" class=\"dataframe\">\n",
              "  <thead>\n",
              "    <tr style=\"text-align: right;\">\n",
              "      <th></th>\n",
              "      <th>event_name</th>\n",
              "      <th>user_id</th>\n",
              "    </tr>\n",
              "  </thead>\n",
              "  <tbody>\n",
              "    <tr>\n",
              "      <th>0</th>\n",
              "      <td>MainScreenAppear</td>\n",
              "      <td>7419</td>\n",
              "    </tr>\n",
              "    <tr>\n",
              "      <th>1</th>\n",
              "      <td>OffersScreenAppear</td>\n",
              "      <td>4593</td>\n",
              "    </tr>\n",
              "    <tr>\n",
              "      <th>2</th>\n",
              "      <td>CartScreenAppear</td>\n",
              "      <td>3734</td>\n",
              "    </tr>\n",
              "    <tr>\n",
              "      <th>3</th>\n",
              "      <td>PaymentScreenSuccessful</td>\n",
              "      <td>3539</td>\n",
              "    </tr>\n",
              "  </tbody>\n",
              "</table>\n",
              "</div>\n",
              "      <button class=\"colab-df-convert\" onclick=\"convertToInteractive('df-b89ef7f9-8abf-4e8d-a42d-93df721e7dfc')\"\n",
              "              title=\"Convert this dataframe to an interactive table.\"\n",
              "              style=\"display:none;\">\n",
              "        \n",
              "  <svg xmlns=\"http://www.w3.org/2000/svg\" height=\"24px\"viewBox=\"0 0 24 24\"\n",
              "       width=\"24px\">\n",
              "    <path d=\"M0 0h24v24H0V0z\" fill=\"none\"/>\n",
              "    <path d=\"M18.56 5.44l.94 2.06.94-2.06 2.06-.94-2.06-.94-.94-2.06-.94 2.06-2.06.94zm-11 1L8.5 8.5l.94-2.06 2.06-.94-2.06-.94L8.5 2.5l-.94 2.06-2.06.94zm10 10l.94 2.06.94-2.06 2.06-.94-2.06-.94-.94-2.06-.94 2.06-2.06.94z\"/><path d=\"M17.41 7.96l-1.37-1.37c-.4-.4-.92-.59-1.43-.59-.52 0-1.04.2-1.43.59L10.3 9.45l-7.72 7.72c-.78.78-.78 2.05 0 2.83L4 21.41c.39.39.9.59 1.41.59.51 0 1.02-.2 1.41-.59l7.78-7.78 2.81-2.81c.8-.78.8-2.07 0-2.86zM5.41 20L4 18.59l7.72-7.72 1.47 1.35L5.41 20z\"/>\n",
              "  </svg>\n",
              "      </button>\n",
              "      \n",
              "  <style>\n",
              "    .colab-df-container {\n",
              "      display:flex;\n",
              "      flex-wrap:wrap;\n",
              "      gap: 12px;\n",
              "    }\n",
              "\n",
              "    .colab-df-convert {\n",
              "      background-color: #E8F0FE;\n",
              "      border: none;\n",
              "      border-radius: 50%;\n",
              "      cursor: pointer;\n",
              "      display: none;\n",
              "      fill: #1967D2;\n",
              "      height: 32px;\n",
              "      padding: 0 0 0 0;\n",
              "      width: 32px;\n",
              "    }\n",
              "\n",
              "    .colab-df-convert:hover {\n",
              "      background-color: #E2EBFA;\n",
              "      box-shadow: 0px 1px 2px rgba(60, 64, 67, 0.3), 0px 1px 3px 1px rgba(60, 64, 67, 0.15);\n",
              "      fill: #174EA6;\n",
              "    }\n",
              "\n",
              "    [theme=dark] .colab-df-convert {\n",
              "      background-color: #3B4455;\n",
              "      fill: #D2E3FC;\n",
              "    }\n",
              "\n",
              "    [theme=dark] .colab-df-convert:hover {\n",
              "      background-color: #434B5C;\n",
              "      box-shadow: 0px 1px 3px 1px rgba(0, 0, 0, 0.15);\n",
              "      filter: drop-shadow(0px 1px 2px rgba(0, 0, 0, 0.3));\n",
              "      fill: #FFFFFF;\n",
              "    }\n",
              "  </style>\n",
              "\n",
              "      <script>\n",
              "        const buttonEl =\n",
              "          document.querySelector('#df-b89ef7f9-8abf-4e8d-a42d-93df721e7dfc button.colab-df-convert');\n",
              "        buttonEl.style.display =\n",
              "          google.colab.kernel.accessAllowed ? 'block' : 'none';\n",
              "\n",
              "        async function convertToInteractive(key) {\n",
              "          const element = document.querySelector('#df-b89ef7f9-8abf-4e8d-a42d-93df721e7dfc');\n",
              "          const dataTable =\n",
              "            await google.colab.kernel.invokeFunction('convertToInteractive',\n",
              "                                                     [key], {});\n",
              "          if (!dataTable) return;\n",
              "\n",
              "          const docLinkHtml = 'Like what you see? Visit the ' +\n",
              "            '<a target=\"_blank\" href=https://colab.research.google.com/notebooks/data_table.ipynb>data table notebook</a>'\n",
              "            + ' to learn more about interactive tables.';\n",
              "          element.innerHTML = '';\n",
              "          dataTable['output_type'] = 'display_data';\n",
              "          await google.colab.output.renderOutput(dataTable, element);\n",
              "          const docLink = document.createElement('div');\n",
              "          docLink.innerHTML = docLinkHtml;\n",
              "          element.appendChild(docLink);\n",
              "        }\n",
              "      </script>\n",
              "    </div>\n",
              "  </div>\n",
              "  "
            ]
          },
          "metadata": {},
          "execution_count": 61
        }
      ],
      "source": [
        "# Исключим событие Tutorial из воронки\n",
        "data = data[data['event_name'] != 'Tutorial']\n",
        "events_ratio = (data.groupby('event_name').agg({'user_id': 'nunique'})\n",
        "                .sort_values('user_id', ascending=False).reset_index())\n",
        "events_ratio"
      ]
    },
    {
      "cell_type": "code",
      "execution_count": 62,
      "metadata": {
        "colab": {
          "base_uri": "https://localhost:8080/",
          "height": 175
        },
        "id": "OmNFrZwqlc6U",
        "outputId": "9d7ecc5e-fbb8-409b-e6b3-80dd89e0b32c"
      },
      "outputs": [
        {
          "output_type": "execute_result",
          "data": {
            "text/plain": [
              "                event_name  user_id conversion\n",
              "0         MainScreenAppear     7419        100\n",
              "1       OffersScreenAppear     4593      61.91\n",
              "2         CartScreenAppear     3734       81.3\n",
              "3  PaymentScreenSuccessful     3539      94.78"
            ],
            "text/html": [
              "\n",
              "  <div id=\"df-c7b7507b-f92e-421e-a63c-9a032bdc8589\">\n",
              "    <div class=\"colab-df-container\">\n",
              "      <div>\n",
              "<style scoped>\n",
              "    .dataframe tbody tr th:only-of-type {\n",
              "        vertical-align: middle;\n",
              "    }\n",
              "\n",
              "    .dataframe tbody tr th {\n",
              "        vertical-align: top;\n",
              "    }\n",
              "\n",
              "    .dataframe thead th {\n",
              "        text-align: right;\n",
              "    }\n",
              "</style>\n",
              "<table border=\"1\" class=\"dataframe\">\n",
              "  <thead>\n",
              "    <tr style=\"text-align: right;\">\n",
              "      <th></th>\n",
              "      <th>event_name</th>\n",
              "      <th>user_id</th>\n",
              "      <th>conversion</th>\n",
              "    </tr>\n",
              "  </thead>\n",
              "  <tbody>\n",
              "    <tr>\n",
              "      <th>0</th>\n",
              "      <td>MainScreenAppear</td>\n",
              "      <td>7419</td>\n",
              "      <td>100</td>\n",
              "    </tr>\n",
              "    <tr>\n",
              "      <th>1</th>\n",
              "      <td>OffersScreenAppear</td>\n",
              "      <td>4593</td>\n",
              "      <td>61.91</td>\n",
              "    </tr>\n",
              "    <tr>\n",
              "      <th>2</th>\n",
              "      <td>CartScreenAppear</td>\n",
              "      <td>3734</td>\n",
              "      <td>81.3</td>\n",
              "    </tr>\n",
              "    <tr>\n",
              "      <th>3</th>\n",
              "      <td>PaymentScreenSuccessful</td>\n",
              "      <td>3539</td>\n",
              "      <td>94.78</td>\n",
              "    </tr>\n",
              "  </tbody>\n",
              "</table>\n",
              "</div>\n",
              "      <button class=\"colab-df-convert\" onclick=\"convertToInteractive('df-c7b7507b-f92e-421e-a63c-9a032bdc8589')\"\n",
              "              title=\"Convert this dataframe to an interactive table.\"\n",
              "              style=\"display:none;\">\n",
              "        \n",
              "  <svg xmlns=\"http://www.w3.org/2000/svg\" height=\"24px\"viewBox=\"0 0 24 24\"\n",
              "       width=\"24px\">\n",
              "    <path d=\"M0 0h24v24H0V0z\" fill=\"none\"/>\n",
              "    <path d=\"M18.56 5.44l.94 2.06.94-2.06 2.06-.94-2.06-.94-.94-2.06-.94 2.06-2.06.94zm-11 1L8.5 8.5l.94-2.06 2.06-.94-2.06-.94L8.5 2.5l-.94 2.06-2.06.94zm10 10l.94 2.06.94-2.06 2.06-.94-2.06-.94-.94-2.06-.94 2.06-2.06.94z\"/><path d=\"M17.41 7.96l-1.37-1.37c-.4-.4-.92-.59-1.43-.59-.52 0-1.04.2-1.43.59L10.3 9.45l-7.72 7.72c-.78.78-.78 2.05 0 2.83L4 21.41c.39.39.9.59 1.41.59.51 0 1.02-.2 1.41-.59l7.78-7.78 2.81-2.81c.8-.78.8-2.07 0-2.86zM5.41 20L4 18.59l7.72-7.72 1.47 1.35L5.41 20z\"/>\n",
              "  </svg>\n",
              "      </button>\n",
              "      \n",
              "  <style>\n",
              "    .colab-df-container {\n",
              "      display:flex;\n",
              "      flex-wrap:wrap;\n",
              "      gap: 12px;\n",
              "    }\n",
              "\n",
              "    .colab-df-convert {\n",
              "      background-color: #E8F0FE;\n",
              "      border: none;\n",
              "      border-radius: 50%;\n",
              "      cursor: pointer;\n",
              "      display: none;\n",
              "      fill: #1967D2;\n",
              "      height: 32px;\n",
              "      padding: 0 0 0 0;\n",
              "      width: 32px;\n",
              "    }\n",
              "\n",
              "    .colab-df-convert:hover {\n",
              "      background-color: #E2EBFA;\n",
              "      box-shadow: 0px 1px 2px rgba(60, 64, 67, 0.3), 0px 1px 3px 1px rgba(60, 64, 67, 0.15);\n",
              "      fill: #174EA6;\n",
              "    }\n",
              "\n",
              "    [theme=dark] .colab-df-convert {\n",
              "      background-color: #3B4455;\n",
              "      fill: #D2E3FC;\n",
              "    }\n",
              "\n",
              "    [theme=dark] .colab-df-convert:hover {\n",
              "      background-color: #434B5C;\n",
              "      box-shadow: 0px 1px 3px 1px rgba(0, 0, 0, 0.15);\n",
              "      filter: drop-shadow(0px 1px 2px rgba(0, 0, 0, 0.3));\n",
              "      fill: #FFFFFF;\n",
              "    }\n",
              "  </style>\n",
              "\n",
              "      <script>\n",
              "        const buttonEl =\n",
              "          document.querySelector('#df-c7b7507b-f92e-421e-a63c-9a032bdc8589 button.colab-df-convert');\n",
              "        buttonEl.style.display =\n",
              "          google.colab.kernel.accessAllowed ? 'block' : 'none';\n",
              "\n",
              "        async function convertToInteractive(key) {\n",
              "          const element = document.querySelector('#df-c7b7507b-f92e-421e-a63c-9a032bdc8589');\n",
              "          const dataTable =\n",
              "            await google.colab.kernel.invokeFunction('convertToInteractive',\n",
              "                                                     [key], {});\n",
              "          if (!dataTable) return;\n",
              "\n",
              "          const docLinkHtml = 'Like what you see? Visit the ' +\n",
              "            '<a target=\"_blank\" href=https://colab.research.google.com/notebooks/data_table.ipynb>data table notebook</a>'\n",
              "            + ' to learn more about interactive tables.';\n",
              "          element.innerHTML = '';\n",
              "          dataTable['output_type'] = 'display_data';\n",
              "          await google.colab.output.renderOutput(dataTable, element);\n",
              "          const docLink = document.createElement('div');\n",
              "          docLink.innerHTML = docLinkHtml;\n",
              "          element.appendChild(docLink);\n",
              "        }\n",
              "      </script>\n",
              "    </div>\n",
              "  </div>\n",
              "  "
            ]
          },
          "metadata": {},
          "execution_count": 62
        }
      ],
      "source": [
        "# Добавим столбец с расчетом долей пользователей, которая переходит на следующий шаг воронки\n",
        "events_ratio['conversion'] = ''\n",
        "\n",
        "for i in range(0, len(events_ratio)):\n",
        "    if i==0:\n",
        "        events_ratio.loc[i, 'conversion'] = 100\n",
        "    else:\n",
        "        events_ratio.loc[i, 'conversion'] = (round(events_ratio.loc[i, 'user_id'] \n",
        "                                             / events_ratio.loc[i-1, 'user_id']*100,2))\n",
        "\n",
        "events_ratio"
      ]
    },
    {
      "cell_type": "markdown",
      "metadata": {
        "id": "N8XcLNiKlc6U"
      },
      "source": [
        "Больше всего теряется пользователей на первом шаге, 38% пользователей не доходит до страницы с предложением. Нужно проанализировать причину."
      ]
    },
    {
      "cell_type": "markdown",
      "metadata": {
        "id": "K6BFJZyolc6U"
      },
      "source": [
        "**Проанализируем, какая доля пользователей доходит от первого события до оплаты.**"
      ]
    },
    {
      "cell_type": "markdown",
      "metadata": {
        "id": "5GxeEzOAlc6V"
      },
      "source": [
        "Построим общую воронку с конверсией"
      ]
    },
    {
      "cell_type": "code",
      "execution_count": 63,
      "metadata": {
        "colab": {
          "base_uri": "https://localhost:8080/",
          "height": 542
        },
        "id": "2Se5cJmplc6V",
        "outputId": "f8d10af0-a917-4bde-dbca-7afb87300e6b"
      },
      "outputs": [
        {
          "output_type": "display_data",
          "data": {
            "text/html": [
              "<html>\n",
              "<head><meta charset=\"utf-8\" /></head>\n",
              "<body>\n",
              "    <div>            <script src=\"https://cdnjs.cloudflare.com/ajax/libs/mathjax/2.7.5/MathJax.js?config=TeX-AMS-MML_SVG\"></script><script type=\"text/javascript\">if (window.MathJax && window.MathJax.Hub && window.MathJax.Hub.Config) {window.MathJax.Hub.Config({SVG: {font: \"STIX-Web\"}});}</script>                <script type=\"text/javascript\">window.PlotlyConfig = {MathJaxConfig: 'local'};</script>\n",
              "        <script src=\"https://cdn.plot.ly/plotly-2.18.2.min.js\"></script>                <div id=\"ce2c4d90-8f19-4311-b950-80f490e3bc4f\" class=\"plotly-graph-div\" style=\"height:525px; width:100%;\"></div>            <script type=\"text/javascript\">                                    window.PLOTLYENV=window.PLOTLYENV || {};                                    if (document.getElementById(\"ce2c4d90-8f19-4311-b950-80f490e3bc4f\")) {                    Plotly.newPlot(                        \"ce2c4d90-8f19-4311-b950-80f490e3bc4f\",                        [{\"marker\":{\"color\":[\"deepskyblue\",\"lightsalmon\",\"tan\",\"teal\",\"silver\"]},\"opacity\":0.65,\"textinfo\":\"value+percent initial\",\"textposition\":\"inside\",\"x\":[7419,4593,3734,3539],\"y\":[\"MainScreenAppear\",\"OffersScreenAppear\",\"CartScreenAppear\",\"PaymentScreenSuccessful\"],\"type\":\"funnel\"}],                        {\"template\":{\"data\":{\"histogram2dcontour\":[{\"type\":\"histogram2dcontour\",\"colorbar\":{\"outlinewidth\":0,\"ticks\":\"\"},\"colorscale\":[[0.0,\"#0d0887\"],[0.1111111111111111,\"#46039f\"],[0.2222222222222222,\"#7201a8\"],[0.3333333333333333,\"#9c179e\"],[0.4444444444444444,\"#bd3786\"],[0.5555555555555556,\"#d8576b\"],[0.6666666666666666,\"#ed7953\"],[0.7777777777777778,\"#fb9f3a\"],[0.8888888888888888,\"#fdca26\"],[1.0,\"#f0f921\"]]}],\"choropleth\":[{\"type\":\"choropleth\",\"colorbar\":{\"outlinewidth\":0,\"ticks\":\"\"}}],\"histogram2d\":[{\"type\":\"histogram2d\",\"colorbar\":{\"outlinewidth\":0,\"ticks\":\"\"},\"colorscale\":[[0.0,\"#0d0887\"],[0.1111111111111111,\"#46039f\"],[0.2222222222222222,\"#7201a8\"],[0.3333333333333333,\"#9c179e\"],[0.4444444444444444,\"#bd3786\"],[0.5555555555555556,\"#d8576b\"],[0.6666666666666666,\"#ed7953\"],[0.7777777777777778,\"#fb9f3a\"],[0.8888888888888888,\"#fdca26\"],[1.0,\"#f0f921\"]]}],\"heatmap\":[{\"type\":\"heatmap\",\"colorbar\":{\"outlinewidth\":0,\"ticks\":\"\"},\"colorscale\":[[0.0,\"#0d0887\"],[0.1111111111111111,\"#46039f\"],[0.2222222222222222,\"#7201a8\"],[0.3333333333333333,\"#9c179e\"],[0.4444444444444444,\"#bd3786\"],[0.5555555555555556,\"#d8576b\"],[0.6666666666666666,\"#ed7953\"],[0.7777777777777778,\"#fb9f3a\"],[0.8888888888888888,\"#fdca26\"],[1.0,\"#f0f921\"]]}],\"heatmapgl\":[{\"type\":\"heatmapgl\",\"colorbar\":{\"outlinewidth\":0,\"ticks\":\"\"},\"colorscale\":[[0.0,\"#0d0887\"],[0.1111111111111111,\"#46039f\"],[0.2222222222222222,\"#7201a8\"],[0.3333333333333333,\"#9c179e\"],[0.4444444444444444,\"#bd3786\"],[0.5555555555555556,\"#d8576b\"],[0.6666666666666666,\"#ed7953\"],[0.7777777777777778,\"#fb9f3a\"],[0.8888888888888888,\"#fdca26\"],[1.0,\"#f0f921\"]]}],\"contourcarpet\":[{\"type\":\"contourcarpet\",\"colorbar\":{\"outlinewidth\":0,\"ticks\":\"\"}}],\"contour\":[{\"type\":\"contour\",\"colorbar\":{\"outlinewidth\":0,\"ticks\":\"\"},\"colorscale\":[[0.0,\"#0d0887\"],[0.1111111111111111,\"#46039f\"],[0.2222222222222222,\"#7201a8\"],[0.3333333333333333,\"#9c179e\"],[0.4444444444444444,\"#bd3786\"],[0.5555555555555556,\"#d8576b\"],[0.6666666666666666,\"#ed7953\"],[0.7777777777777778,\"#fb9f3a\"],[0.8888888888888888,\"#fdca26\"],[1.0,\"#f0f921\"]]}],\"surface\":[{\"type\":\"surface\",\"colorbar\":{\"outlinewidth\":0,\"ticks\":\"\"},\"colorscale\":[[0.0,\"#0d0887\"],[0.1111111111111111,\"#46039f\"],[0.2222222222222222,\"#7201a8\"],[0.3333333333333333,\"#9c179e\"],[0.4444444444444444,\"#bd3786\"],[0.5555555555555556,\"#d8576b\"],[0.6666666666666666,\"#ed7953\"],[0.7777777777777778,\"#fb9f3a\"],[0.8888888888888888,\"#fdca26\"],[1.0,\"#f0f921\"]]}],\"mesh3d\":[{\"type\":\"mesh3d\",\"colorbar\":{\"outlinewidth\":0,\"ticks\":\"\"}}],\"scatter\":[{\"fillpattern\":{\"fillmode\":\"overlay\",\"size\":10,\"solidity\":0.2},\"type\":\"scatter\"}],\"parcoords\":[{\"type\":\"parcoords\",\"line\":{\"colorbar\":{\"outlinewidth\":0,\"ticks\":\"\"}}}],\"scatterpolargl\":[{\"type\":\"scatterpolargl\",\"marker\":{\"colorbar\":{\"outlinewidth\":0,\"ticks\":\"\"}}}],\"bar\":[{\"error_x\":{\"color\":\"#2a3f5f\"},\"error_y\":{\"color\":\"#2a3f5f\"},\"marker\":{\"line\":{\"color\":\"#E5ECF6\",\"width\":0.5},\"pattern\":{\"fillmode\":\"overlay\",\"size\":10,\"solidity\":0.2}},\"type\":\"bar\"}],\"scattergeo\":[{\"type\":\"scattergeo\",\"marker\":{\"colorbar\":{\"outlinewidth\":0,\"ticks\":\"\"}}}],\"scatterpolar\":[{\"type\":\"scatterpolar\",\"marker\":{\"colorbar\":{\"outlinewidth\":0,\"ticks\":\"\"}}}],\"histogram\":[{\"marker\":{\"pattern\":{\"fillmode\":\"overlay\",\"size\":10,\"solidity\":0.2}},\"type\":\"histogram\"}],\"scattergl\":[{\"type\":\"scattergl\",\"marker\":{\"colorbar\":{\"outlinewidth\":0,\"ticks\":\"\"}}}],\"scatter3d\":[{\"type\":\"scatter3d\",\"line\":{\"colorbar\":{\"outlinewidth\":0,\"ticks\":\"\"}},\"marker\":{\"colorbar\":{\"outlinewidth\":0,\"ticks\":\"\"}}}],\"scattermapbox\":[{\"type\":\"scattermapbox\",\"marker\":{\"colorbar\":{\"outlinewidth\":0,\"ticks\":\"\"}}}],\"scatterternary\":[{\"type\":\"scatterternary\",\"marker\":{\"colorbar\":{\"outlinewidth\":0,\"ticks\":\"\"}}}],\"scattercarpet\":[{\"type\":\"scattercarpet\",\"marker\":{\"colorbar\":{\"outlinewidth\":0,\"ticks\":\"\"}}}],\"carpet\":[{\"aaxis\":{\"endlinecolor\":\"#2a3f5f\",\"gridcolor\":\"white\",\"linecolor\":\"white\",\"minorgridcolor\":\"white\",\"startlinecolor\":\"#2a3f5f\"},\"baxis\":{\"endlinecolor\":\"#2a3f5f\",\"gridcolor\":\"white\",\"linecolor\":\"white\",\"minorgridcolor\":\"white\",\"startlinecolor\":\"#2a3f5f\"},\"type\":\"carpet\"}],\"table\":[{\"cells\":{\"fill\":{\"color\":\"#EBF0F8\"},\"line\":{\"color\":\"white\"}},\"header\":{\"fill\":{\"color\":\"#C8D4E3\"},\"line\":{\"color\":\"white\"}},\"type\":\"table\"}],\"barpolar\":[{\"marker\":{\"line\":{\"color\":\"#E5ECF6\",\"width\":0.5},\"pattern\":{\"fillmode\":\"overlay\",\"size\":10,\"solidity\":0.2}},\"type\":\"barpolar\"}],\"pie\":[{\"automargin\":true,\"type\":\"pie\"}]},\"layout\":{\"autotypenumbers\":\"strict\",\"colorway\":[\"#636efa\",\"#EF553B\",\"#00cc96\",\"#ab63fa\",\"#FFA15A\",\"#19d3f3\",\"#FF6692\",\"#B6E880\",\"#FF97FF\",\"#FECB52\"],\"font\":{\"color\":\"#2a3f5f\"},\"hovermode\":\"closest\",\"hoverlabel\":{\"align\":\"left\"},\"paper_bgcolor\":\"white\",\"plot_bgcolor\":\"#E5ECF6\",\"polar\":{\"bgcolor\":\"#E5ECF6\",\"angularaxis\":{\"gridcolor\":\"white\",\"linecolor\":\"white\",\"ticks\":\"\"},\"radialaxis\":{\"gridcolor\":\"white\",\"linecolor\":\"white\",\"ticks\":\"\"}},\"ternary\":{\"bgcolor\":\"#E5ECF6\",\"aaxis\":{\"gridcolor\":\"white\",\"linecolor\":\"white\",\"ticks\":\"\"},\"baxis\":{\"gridcolor\":\"white\",\"linecolor\":\"white\",\"ticks\":\"\"},\"caxis\":{\"gridcolor\":\"white\",\"linecolor\":\"white\",\"ticks\":\"\"}},\"coloraxis\":{\"colorbar\":{\"outlinewidth\":0,\"ticks\":\"\"}},\"colorscale\":{\"sequential\":[[0.0,\"#0d0887\"],[0.1111111111111111,\"#46039f\"],[0.2222222222222222,\"#7201a8\"],[0.3333333333333333,\"#9c179e\"],[0.4444444444444444,\"#bd3786\"],[0.5555555555555556,\"#d8576b\"],[0.6666666666666666,\"#ed7953\"],[0.7777777777777778,\"#fb9f3a\"],[0.8888888888888888,\"#fdca26\"],[1.0,\"#f0f921\"]],\"sequentialminus\":[[0.0,\"#0d0887\"],[0.1111111111111111,\"#46039f\"],[0.2222222222222222,\"#7201a8\"],[0.3333333333333333,\"#9c179e\"],[0.4444444444444444,\"#bd3786\"],[0.5555555555555556,\"#d8576b\"],[0.6666666666666666,\"#ed7953\"],[0.7777777777777778,\"#fb9f3a\"],[0.8888888888888888,\"#fdca26\"],[1.0,\"#f0f921\"]],\"diverging\":[[0,\"#8e0152\"],[0.1,\"#c51b7d\"],[0.2,\"#de77ae\"],[0.3,\"#f1b6da\"],[0.4,\"#fde0ef\"],[0.5,\"#f7f7f7\"],[0.6,\"#e6f5d0\"],[0.7,\"#b8e186\"],[0.8,\"#7fbc41\"],[0.9,\"#4d9221\"],[1,\"#276419\"]]},\"xaxis\":{\"gridcolor\":\"white\",\"linecolor\":\"white\",\"ticks\":\"\",\"title\":{\"standoff\":15},\"zerolinecolor\":\"white\",\"automargin\":true,\"zerolinewidth\":2},\"yaxis\":{\"gridcolor\":\"white\",\"linecolor\":\"white\",\"ticks\":\"\",\"title\":{\"standoff\":15},\"zerolinecolor\":\"white\",\"automargin\":true,\"zerolinewidth\":2},\"scene\":{\"xaxis\":{\"backgroundcolor\":\"#E5ECF6\",\"gridcolor\":\"white\",\"linecolor\":\"white\",\"showbackground\":true,\"ticks\":\"\",\"zerolinecolor\":\"white\",\"gridwidth\":2},\"yaxis\":{\"backgroundcolor\":\"#E5ECF6\",\"gridcolor\":\"white\",\"linecolor\":\"white\",\"showbackground\":true,\"ticks\":\"\",\"zerolinecolor\":\"white\",\"gridwidth\":2},\"zaxis\":{\"backgroundcolor\":\"#E5ECF6\",\"gridcolor\":\"white\",\"linecolor\":\"white\",\"showbackground\":true,\"ticks\":\"\",\"zerolinecolor\":\"white\",\"gridwidth\":2}},\"shapedefaults\":{\"line\":{\"color\":\"#2a3f5f\"}},\"annotationdefaults\":{\"arrowcolor\":\"#2a3f5f\",\"arrowhead\":0,\"arrowwidth\":1},\"geo\":{\"bgcolor\":\"white\",\"landcolor\":\"#E5ECF6\",\"subunitcolor\":\"white\",\"showland\":true,\"showlakes\":true,\"lakecolor\":\"white\"},\"title\":{\"x\":0.05},\"mapbox\":{\"style\":\"light\"}}},\"title\":{\"text\":\"\\u0412\\u043e\\u0440\\u043e\\u043d\\u043a\\u0430 \\u043a\\u043e\\u043d\\u0432\\u0435\\u0440\\u0441\\u0438\\u0438 \\u043f\\u043e\\u043b\\u044c\\u0437\\u043e\\u0432\\u0430\\u0442\\u0435\\u043b\\u0435\\u0439 \\u043f\\u043e \\u0441\\u043e\\u0431\\u044b\\u0442\\u0438\\u044f\\u043c\"}},                        {\"responsive\": true}                    ).then(function(){\n",
              "                            \n",
              "var gd = document.getElementById('ce2c4d90-8f19-4311-b950-80f490e3bc4f');\n",
              "var x = new MutationObserver(function (mutations, observer) {{\n",
              "        var display = window.getComputedStyle(gd).display;\n",
              "        if (!display || display === 'none') {{\n",
              "            console.log([gd, 'removed!']);\n",
              "            Plotly.purge(gd);\n",
              "            observer.disconnect();\n",
              "        }}\n",
              "}});\n",
              "\n",
              "// Listen for the removal of the full notebook cells\n",
              "var notebookContainer = gd.closest('#notebook-container');\n",
              "if (notebookContainer) {{\n",
              "    x.observe(notebookContainer, {childList: true});\n",
              "}}\n",
              "\n",
              "// Listen for the clearing of the current output cell\n",
              "var outputEl = gd.closest('.output');\n",
              "if (outputEl) {{\n",
              "    x.observe(outputEl, {childList: true});\n",
              "}}\n",
              "\n",
              "                        })                };                            </script>        </div>\n",
              "</body>\n",
              "</html>"
            ]
          },
          "metadata": {}
        }
      ],
      "source": [
        "from plotly import graph_objects as go\n",
        "\n",
        "fig = go.Figure(go.Funnel(\n",
        "    y = events_ratio['event_name'],\n",
        "    x = events_ratio['user_id'],\n",
        "    textposition = \"inside\",\n",
        "    textinfo = \"value+percent initial\", \n",
        "    opacity = 0.65, marker = {\"color\": [\"deepskyblue\", \"lightsalmon\", \"tan\", \"teal\", \"silver\"]})\n",
        "    )\n",
        "\n",
        "fig.update_layout(title=\"Воронка конверсии пользователей по событиям\")\n",
        "\n",
        "fig.show()"
      ]
    },
    {
      "cell_type": "code",
      "execution_count": 64,
      "metadata": {
        "colab": {
          "base_uri": "https://localhost:8080/"
        },
        "id": "GDLoS09qlc6V",
        "outputId": "ae73a0e7-82a9-45aa-f025-36123ca3c5c4"
      },
      "outputs": [
        {
          "output_type": "stream",
          "name": "stdout",
          "text": [
            "От первого события до оплаты доходит 47.7 % пользователей\n"
          ]
        }
      ],
      "source": [
        "print('От первого события до оплаты доходит', round(events_ratio.loc[3, 'user_id'] / events_ratio.loc[0, 'user_id']*100,2),'% пользователей')"
      ]
    },
    {
      "cell_type": "markdown",
      "metadata": {
        "id": "W1AcL7lclc6V"
      },
      "source": [
        "## Анализ результатов эксперимента"
      ]
    },
    {
      "cell_type": "markdown",
      "metadata": {
        "id": "dRP_3HIQlc6V"
      },
      "source": [
        "**Проанализируем сколько пользователей в каждой группе**"
      ]
    },
    {
      "cell_type": "code",
      "execution_count": 65,
      "metadata": {
        "colab": {
          "base_uri": "https://localhost:8080/",
          "height": 175
        },
        "id": "5ot6Vqu4lc6V",
        "outputId": "30a79628-7876-4592-e011-f947561253f7"
      },
      "outputs": [
        {
          "output_type": "execute_result",
          "data": {
            "text/plain": [
              "               user_id\n",
              "experiment_id         \n",
              "A1                2483\n",
              "A2                2512\n",
              "B                 2535"
            ],
            "text/html": [
              "\n",
              "  <div id=\"df-d37c151b-20a7-4d0f-9136-c9d750d91f26\">\n",
              "    <div class=\"colab-df-container\">\n",
              "      <div>\n",
              "<style scoped>\n",
              "    .dataframe tbody tr th:only-of-type {\n",
              "        vertical-align: middle;\n",
              "    }\n",
              "\n",
              "    .dataframe tbody tr th {\n",
              "        vertical-align: top;\n",
              "    }\n",
              "\n",
              "    .dataframe thead th {\n",
              "        text-align: right;\n",
              "    }\n",
              "</style>\n",
              "<table border=\"1\" class=\"dataframe\">\n",
              "  <thead>\n",
              "    <tr style=\"text-align: right;\">\n",
              "      <th></th>\n",
              "      <th>user_id</th>\n",
              "    </tr>\n",
              "    <tr>\n",
              "      <th>experiment_id</th>\n",
              "      <th></th>\n",
              "    </tr>\n",
              "  </thead>\n",
              "  <tbody>\n",
              "    <tr>\n",
              "      <th>A1</th>\n",
              "      <td>2483</td>\n",
              "    </tr>\n",
              "    <tr>\n",
              "      <th>A2</th>\n",
              "      <td>2512</td>\n",
              "    </tr>\n",
              "    <tr>\n",
              "      <th>B</th>\n",
              "      <td>2535</td>\n",
              "    </tr>\n",
              "  </tbody>\n",
              "</table>\n",
              "</div>\n",
              "      <button class=\"colab-df-convert\" onclick=\"convertToInteractive('df-d37c151b-20a7-4d0f-9136-c9d750d91f26')\"\n",
              "              title=\"Convert this dataframe to an interactive table.\"\n",
              "              style=\"display:none;\">\n",
              "        \n",
              "  <svg xmlns=\"http://www.w3.org/2000/svg\" height=\"24px\"viewBox=\"0 0 24 24\"\n",
              "       width=\"24px\">\n",
              "    <path d=\"M0 0h24v24H0V0z\" fill=\"none\"/>\n",
              "    <path d=\"M18.56 5.44l.94 2.06.94-2.06 2.06-.94-2.06-.94-.94-2.06-.94 2.06-2.06.94zm-11 1L8.5 8.5l.94-2.06 2.06-.94-2.06-.94L8.5 2.5l-.94 2.06-2.06.94zm10 10l.94 2.06.94-2.06 2.06-.94-2.06-.94-.94-2.06-.94 2.06-2.06.94z\"/><path d=\"M17.41 7.96l-1.37-1.37c-.4-.4-.92-.59-1.43-.59-.52 0-1.04.2-1.43.59L10.3 9.45l-7.72 7.72c-.78.78-.78 2.05 0 2.83L4 21.41c.39.39.9.59 1.41.59.51 0 1.02-.2 1.41-.59l7.78-7.78 2.81-2.81c.8-.78.8-2.07 0-2.86zM5.41 20L4 18.59l7.72-7.72 1.47 1.35L5.41 20z\"/>\n",
              "  </svg>\n",
              "      </button>\n",
              "      \n",
              "  <style>\n",
              "    .colab-df-container {\n",
              "      display:flex;\n",
              "      flex-wrap:wrap;\n",
              "      gap: 12px;\n",
              "    }\n",
              "\n",
              "    .colab-df-convert {\n",
              "      background-color: #E8F0FE;\n",
              "      border: none;\n",
              "      border-radius: 50%;\n",
              "      cursor: pointer;\n",
              "      display: none;\n",
              "      fill: #1967D2;\n",
              "      height: 32px;\n",
              "      padding: 0 0 0 0;\n",
              "      width: 32px;\n",
              "    }\n",
              "\n",
              "    .colab-df-convert:hover {\n",
              "      background-color: #E2EBFA;\n",
              "      box-shadow: 0px 1px 2px rgba(60, 64, 67, 0.3), 0px 1px 3px 1px rgba(60, 64, 67, 0.15);\n",
              "      fill: #174EA6;\n",
              "    }\n",
              "\n",
              "    [theme=dark] .colab-df-convert {\n",
              "      background-color: #3B4455;\n",
              "      fill: #D2E3FC;\n",
              "    }\n",
              "\n",
              "    [theme=dark] .colab-df-convert:hover {\n",
              "      background-color: #434B5C;\n",
              "      box-shadow: 0px 1px 3px 1px rgba(0, 0, 0, 0.15);\n",
              "      filter: drop-shadow(0px 1px 2px rgba(0, 0, 0, 0.3));\n",
              "      fill: #FFFFFF;\n",
              "    }\n",
              "  </style>\n",
              "\n",
              "      <script>\n",
              "        const buttonEl =\n",
              "          document.querySelector('#df-d37c151b-20a7-4d0f-9136-c9d750d91f26 button.colab-df-convert');\n",
              "        buttonEl.style.display =\n",
              "          google.colab.kernel.accessAllowed ? 'block' : 'none';\n",
              "\n",
              "        async function convertToInteractive(key) {\n",
              "          const element = document.querySelector('#df-d37c151b-20a7-4d0f-9136-c9d750d91f26');\n",
              "          const dataTable =\n",
              "            await google.colab.kernel.invokeFunction('convertToInteractive',\n",
              "                                                     [key], {});\n",
              "          if (!dataTable) return;\n",
              "\n",
              "          const docLinkHtml = 'Like what you see? Visit the ' +\n",
              "            '<a target=\"_blank\" href=https://colab.research.google.com/notebooks/data_table.ipynb>data table notebook</a>'\n",
              "            + ' to learn more about interactive tables.';\n",
              "          element.innerHTML = '';\n",
              "          dataTable['output_type'] = 'display_data';\n",
              "          await google.colab.output.renderOutput(dataTable, element);\n",
              "          const docLink = document.createElement('div');\n",
              "          docLink.innerHTML = docLinkHtml;\n",
              "          element.appendChild(docLink);\n",
              "        }\n",
              "      </script>\n",
              "    </div>\n",
              "  </div>\n",
              "  "
            ]
          },
          "metadata": {},
          "execution_count": 65
        }
      ],
      "source": [
        "data.groupby('experiment_id').agg({'user_id': 'nunique'})"
      ]
    },
    {
      "cell_type": "markdown",
      "metadata": {
        "id": "S-_m_O98lc6V"
      },
      "source": [
        "Проверим группы на совпадение пользователей"
      ]
    },
    {
      "cell_type": "code",
      "execution_count": 66,
      "metadata": {
        "colab": {
          "base_uri": "https://localhost:8080/",
          "height": 81
        },
        "id": "99zq6_qHlc6V",
        "outputId": "3b53b436-bc5a-4860-c805-1a83951ec920"
      },
      "outputs": [
        {
          "output_type": "execute_result",
          "data": {
            "text/plain": [
              "Empty DataFrame\n",
              "Columns: [experiment_id]\n",
              "Index: []"
            ],
            "text/html": [
              "\n",
              "  <div id=\"df-e591fd9b-7a71-4b20-84c2-ced56b380c24\">\n",
              "    <div class=\"colab-df-container\">\n",
              "      <div>\n",
              "<style scoped>\n",
              "    .dataframe tbody tr th:only-of-type {\n",
              "        vertical-align: middle;\n",
              "    }\n",
              "\n",
              "    .dataframe tbody tr th {\n",
              "        vertical-align: top;\n",
              "    }\n",
              "\n",
              "    .dataframe thead th {\n",
              "        text-align: right;\n",
              "    }\n",
              "</style>\n",
              "<table border=\"1\" class=\"dataframe\">\n",
              "  <thead>\n",
              "    <tr style=\"text-align: right;\">\n",
              "      <th></th>\n",
              "      <th>experiment_id</th>\n",
              "    </tr>\n",
              "    <tr>\n",
              "      <th>user_id</th>\n",
              "      <th></th>\n",
              "    </tr>\n",
              "  </thead>\n",
              "  <tbody>\n",
              "  </tbody>\n",
              "</table>\n",
              "</div>\n",
              "      <button class=\"colab-df-convert\" onclick=\"convertToInteractive('df-e591fd9b-7a71-4b20-84c2-ced56b380c24')\"\n",
              "              title=\"Convert this dataframe to an interactive table.\"\n",
              "              style=\"display:none;\">\n",
              "        \n",
              "  <svg xmlns=\"http://www.w3.org/2000/svg\" height=\"24px\"viewBox=\"0 0 24 24\"\n",
              "       width=\"24px\">\n",
              "    <path d=\"M0 0h24v24H0V0z\" fill=\"none\"/>\n",
              "    <path d=\"M18.56 5.44l.94 2.06.94-2.06 2.06-.94-2.06-.94-.94-2.06-.94 2.06-2.06.94zm-11 1L8.5 8.5l.94-2.06 2.06-.94-2.06-.94L8.5 2.5l-.94 2.06-2.06.94zm10 10l.94 2.06.94-2.06 2.06-.94-2.06-.94-.94-2.06-.94 2.06-2.06.94z\"/><path d=\"M17.41 7.96l-1.37-1.37c-.4-.4-.92-.59-1.43-.59-.52 0-1.04.2-1.43.59L10.3 9.45l-7.72 7.72c-.78.78-.78 2.05 0 2.83L4 21.41c.39.39.9.59 1.41.59.51 0 1.02-.2 1.41-.59l7.78-7.78 2.81-2.81c.8-.78.8-2.07 0-2.86zM5.41 20L4 18.59l7.72-7.72 1.47 1.35L5.41 20z\"/>\n",
              "  </svg>\n",
              "      </button>\n",
              "      \n",
              "  <style>\n",
              "    .colab-df-container {\n",
              "      display:flex;\n",
              "      flex-wrap:wrap;\n",
              "      gap: 12px;\n",
              "    }\n",
              "\n",
              "    .colab-df-convert {\n",
              "      background-color: #E8F0FE;\n",
              "      border: none;\n",
              "      border-radius: 50%;\n",
              "      cursor: pointer;\n",
              "      display: none;\n",
              "      fill: #1967D2;\n",
              "      height: 32px;\n",
              "      padding: 0 0 0 0;\n",
              "      width: 32px;\n",
              "    }\n",
              "\n",
              "    .colab-df-convert:hover {\n",
              "      background-color: #E2EBFA;\n",
              "      box-shadow: 0px 1px 2px rgba(60, 64, 67, 0.3), 0px 1px 3px 1px rgba(60, 64, 67, 0.15);\n",
              "      fill: #174EA6;\n",
              "    }\n",
              "\n",
              "    [theme=dark] .colab-df-convert {\n",
              "      background-color: #3B4455;\n",
              "      fill: #D2E3FC;\n",
              "    }\n",
              "\n",
              "    [theme=dark] .colab-df-convert:hover {\n",
              "      background-color: #434B5C;\n",
              "      box-shadow: 0px 1px 3px 1px rgba(0, 0, 0, 0.15);\n",
              "      filter: drop-shadow(0px 1px 2px rgba(0, 0, 0, 0.3));\n",
              "      fill: #FFFFFF;\n",
              "    }\n",
              "  </style>\n",
              "\n",
              "      <script>\n",
              "        const buttonEl =\n",
              "          document.querySelector('#df-e591fd9b-7a71-4b20-84c2-ced56b380c24 button.colab-df-convert');\n",
              "        buttonEl.style.display =\n",
              "          google.colab.kernel.accessAllowed ? 'block' : 'none';\n",
              "\n",
              "        async function convertToInteractive(key) {\n",
              "          const element = document.querySelector('#df-e591fd9b-7a71-4b20-84c2-ced56b380c24');\n",
              "          const dataTable =\n",
              "            await google.colab.kernel.invokeFunction('convertToInteractive',\n",
              "                                                     [key], {});\n",
              "          if (!dataTable) return;\n",
              "\n",
              "          const docLinkHtml = 'Like what you see? Visit the ' +\n",
              "            '<a target=\"_blank\" href=https://colab.research.google.com/notebooks/data_table.ipynb>data table notebook</a>'\n",
              "            + ' to learn more about interactive tables.';\n",
              "          element.innerHTML = '';\n",
              "          dataTable['output_type'] = 'display_data';\n",
              "          await google.colab.output.renderOutput(dataTable, element);\n",
              "          const docLink = document.createElement('div');\n",
              "          docLink.innerHTML = docLinkHtml;\n",
              "          element.appendChild(docLink);\n",
              "        }\n",
              "      </script>\n",
              "    </div>\n",
              "  </div>\n",
              "  "
            ]
          },
          "metadata": {},
          "execution_count": 66
        }
      ],
      "source": [
        "data.groupby('user_id').agg({'experiment_id':'nunique'}).query('experiment_id > 1') "
      ]
    },
    {
      "cell_type": "markdown",
      "metadata": {
        "id": "f55mN5mxlc6V"
      },
      "source": [
        "Пользователи в группах не пересекаются"
      ]
    },
    {
      "cell_type": "markdown",
      "metadata": {
        "id": "HmmHOfzilc6W"
      },
      "source": [
        "**Есть 2 контрольные группы для А/А-эксперимента, чтобы проверить корректность всех механизмов и расчётов. Проанализируем, находят ли статистические критерии разницу между выборками A1 и A2.**"
      ]
    },
    {
      "cell_type": "markdown",
      "metadata": {
        "id": "58BobSsylc6W"
      },
      "source": [
        "Выберем самое популярное событие `MainScreenAppear` и посчитаем число пользователей, совершивших это событие в каждой из контрольных групп."
      ]
    },
    {
      "cell_type": "code",
      "execution_count": 67,
      "metadata": {
        "colab": {
          "base_uri": "https://localhost:8080/",
          "height": 112
        },
        "id": "YOPWBZnGlc6W",
        "outputId": "a0087a41-cabf-45ae-efd7-5995210d4f3a"
      },
      "outputs": [
        {
          "output_type": "execute_result",
          "data": {
            "text/plain": [
              "  experiment_id  user_id\n",
              "0            A1     2450\n",
              "1            A2     2476"
            ],
            "text/html": [
              "\n",
              "  <div id=\"df-1d6a2fc2-9d31-45a7-81f8-208f147b8ca1\">\n",
              "    <div class=\"colab-df-container\">\n",
              "      <div>\n",
              "<style scoped>\n",
              "    .dataframe tbody tr th:only-of-type {\n",
              "        vertical-align: middle;\n",
              "    }\n",
              "\n",
              "    .dataframe tbody tr th {\n",
              "        vertical-align: top;\n",
              "    }\n",
              "\n",
              "    .dataframe thead th {\n",
              "        text-align: right;\n",
              "    }\n",
              "</style>\n",
              "<table border=\"1\" class=\"dataframe\">\n",
              "  <thead>\n",
              "    <tr style=\"text-align: right;\">\n",
              "      <th></th>\n",
              "      <th>experiment_id</th>\n",
              "      <th>user_id</th>\n",
              "    </tr>\n",
              "  </thead>\n",
              "  <tbody>\n",
              "    <tr>\n",
              "      <th>0</th>\n",
              "      <td>A1</td>\n",
              "      <td>2450</td>\n",
              "    </tr>\n",
              "    <tr>\n",
              "      <th>1</th>\n",
              "      <td>A2</td>\n",
              "      <td>2476</td>\n",
              "    </tr>\n",
              "  </tbody>\n",
              "</table>\n",
              "</div>\n",
              "      <button class=\"colab-df-convert\" onclick=\"convertToInteractive('df-1d6a2fc2-9d31-45a7-81f8-208f147b8ca1')\"\n",
              "              title=\"Convert this dataframe to an interactive table.\"\n",
              "              style=\"display:none;\">\n",
              "        \n",
              "  <svg xmlns=\"http://www.w3.org/2000/svg\" height=\"24px\"viewBox=\"0 0 24 24\"\n",
              "       width=\"24px\">\n",
              "    <path d=\"M0 0h24v24H0V0z\" fill=\"none\"/>\n",
              "    <path d=\"M18.56 5.44l.94 2.06.94-2.06 2.06-.94-2.06-.94-.94-2.06-.94 2.06-2.06.94zm-11 1L8.5 8.5l.94-2.06 2.06-.94-2.06-.94L8.5 2.5l-.94 2.06-2.06.94zm10 10l.94 2.06.94-2.06 2.06-.94-2.06-.94-.94-2.06-.94 2.06-2.06.94z\"/><path d=\"M17.41 7.96l-1.37-1.37c-.4-.4-.92-.59-1.43-.59-.52 0-1.04.2-1.43.59L10.3 9.45l-7.72 7.72c-.78.78-.78 2.05 0 2.83L4 21.41c.39.39.9.59 1.41.59.51 0 1.02-.2 1.41-.59l7.78-7.78 2.81-2.81c.8-.78.8-2.07 0-2.86zM5.41 20L4 18.59l7.72-7.72 1.47 1.35L5.41 20z\"/>\n",
              "  </svg>\n",
              "      </button>\n",
              "      \n",
              "  <style>\n",
              "    .colab-df-container {\n",
              "      display:flex;\n",
              "      flex-wrap:wrap;\n",
              "      gap: 12px;\n",
              "    }\n",
              "\n",
              "    .colab-df-convert {\n",
              "      background-color: #E8F0FE;\n",
              "      border: none;\n",
              "      border-radius: 50%;\n",
              "      cursor: pointer;\n",
              "      display: none;\n",
              "      fill: #1967D2;\n",
              "      height: 32px;\n",
              "      padding: 0 0 0 0;\n",
              "      width: 32px;\n",
              "    }\n",
              "\n",
              "    .colab-df-convert:hover {\n",
              "      background-color: #E2EBFA;\n",
              "      box-shadow: 0px 1px 2px rgba(60, 64, 67, 0.3), 0px 1px 3px 1px rgba(60, 64, 67, 0.15);\n",
              "      fill: #174EA6;\n",
              "    }\n",
              "\n",
              "    [theme=dark] .colab-df-convert {\n",
              "      background-color: #3B4455;\n",
              "      fill: #D2E3FC;\n",
              "    }\n",
              "\n",
              "    [theme=dark] .colab-df-convert:hover {\n",
              "      background-color: #434B5C;\n",
              "      box-shadow: 0px 1px 3px 1px rgba(0, 0, 0, 0.15);\n",
              "      filter: drop-shadow(0px 1px 2px rgba(0, 0, 0, 0.3));\n",
              "      fill: #FFFFFF;\n",
              "    }\n",
              "  </style>\n",
              "\n",
              "      <script>\n",
              "        const buttonEl =\n",
              "          document.querySelector('#df-1d6a2fc2-9d31-45a7-81f8-208f147b8ca1 button.colab-df-convert');\n",
              "        buttonEl.style.display =\n",
              "          google.colab.kernel.accessAllowed ? 'block' : 'none';\n",
              "\n",
              "        async function convertToInteractive(key) {\n",
              "          const element = document.querySelector('#df-1d6a2fc2-9d31-45a7-81f8-208f147b8ca1');\n",
              "          const dataTable =\n",
              "            await google.colab.kernel.invokeFunction('convertToInteractive',\n",
              "                                                     [key], {});\n",
              "          if (!dataTable) return;\n",
              "\n",
              "          const docLinkHtml = 'Like what you see? Visit the ' +\n",
              "            '<a target=\"_blank\" href=https://colab.research.google.com/notebooks/data_table.ipynb>data table notebook</a>'\n",
              "            + ' to learn more about interactive tables.';\n",
              "          element.innerHTML = '';\n",
              "          dataTable['output_type'] = 'display_data';\n",
              "          await google.colab.output.renderOutput(dataTable, element);\n",
              "          const docLink = document.createElement('div');\n",
              "          docLink.innerHTML = docLinkHtml;\n",
              "          element.appendChild(docLink);\n",
              "        }\n",
              "      </script>\n",
              "    </div>\n",
              "  </div>\n",
              "  "
            ]
          },
          "metadata": {},
          "execution_count": 67
        }
      ],
      "source": [
        "users_by_groups = (data.query('event_name==\"MainScreenAppear\" and (experiment_id==\"A1\" or experiment_id==\"A2\")')\n",
        "                   .groupby('experiment_id').agg({'user_id':'nunique'}).reset_index())\n",
        "users_by_groups"
      ]
    },
    {
      "cell_type": "markdown",
      "metadata": {
        "id": "4yw9l2Bylc6W"
      },
      "source": [
        "Проанализируем какая доля пользователей совершила каждое событие"
      ]
    },
    {
      "cell_type": "code",
      "execution_count": 68,
      "metadata": {
        "colab": {
          "base_uri": "https://localhost:8080/",
          "height": 112
        },
        "id": "SCAuplnVlc6W",
        "outputId": "cb84fee0-126c-40a2-a76f-89b326ddd210"
      },
      "outputs": [
        {
          "output_type": "execute_result",
          "data": {
            "text/plain": [
              "  experiment_id  user_id  users_share\n",
              "0            A1     2450        98.67\n",
              "1            A2     2476        98.57"
            ],
            "text/html": [
              "\n",
              "  <div id=\"df-b1099c54-4433-45c7-863d-d06dc1ad8c85\">\n",
              "    <div class=\"colab-df-container\">\n",
              "      <div>\n",
              "<style scoped>\n",
              "    .dataframe tbody tr th:only-of-type {\n",
              "        vertical-align: middle;\n",
              "    }\n",
              "\n",
              "    .dataframe tbody tr th {\n",
              "        vertical-align: top;\n",
              "    }\n",
              "\n",
              "    .dataframe thead th {\n",
              "        text-align: right;\n",
              "    }\n",
              "</style>\n",
              "<table border=\"1\" class=\"dataframe\">\n",
              "  <thead>\n",
              "    <tr style=\"text-align: right;\">\n",
              "      <th></th>\n",
              "      <th>experiment_id</th>\n",
              "      <th>user_id</th>\n",
              "      <th>users_share</th>\n",
              "    </tr>\n",
              "  </thead>\n",
              "  <tbody>\n",
              "    <tr>\n",
              "      <th>0</th>\n",
              "      <td>A1</td>\n",
              "      <td>2450</td>\n",
              "      <td>98.67</td>\n",
              "    </tr>\n",
              "    <tr>\n",
              "      <th>1</th>\n",
              "      <td>A2</td>\n",
              "      <td>2476</td>\n",
              "      <td>98.57</td>\n",
              "    </tr>\n",
              "  </tbody>\n",
              "</table>\n",
              "</div>\n",
              "      <button class=\"colab-df-convert\" onclick=\"convertToInteractive('df-b1099c54-4433-45c7-863d-d06dc1ad8c85')\"\n",
              "              title=\"Convert this dataframe to an interactive table.\"\n",
              "              style=\"display:none;\">\n",
              "        \n",
              "  <svg xmlns=\"http://www.w3.org/2000/svg\" height=\"24px\"viewBox=\"0 0 24 24\"\n",
              "       width=\"24px\">\n",
              "    <path d=\"M0 0h24v24H0V0z\" fill=\"none\"/>\n",
              "    <path d=\"M18.56 5.44l.94 2.06.94-2.06 2.06-.94-2.06-.94-.94-2.06-.94 2.06-2.06.94zm-11 1L8.5 8.5l.94-2.06 2.06-.94-2.06-.94L8.5 2.5l-.94 2.06-2.06.94zm10 10l.94 2.06.94-2.06 2.06-.94-2.06-.94-.94-2.06-.94 2.06-2.06.94z\"/><path d=\"M17.41 7.96l-1.37-1.37c-.4-.4-.92-.59-1.43-.59-.52 0-1.04.2-1.43.59L10.3 9.45l-7.72 7.72c-.78.78-.78 2.05 0 2.83L4 21.41c.39.39.9.59 1.41.59.51 0 1.02-.2 1.41-.59l7.78-7.78 2.81-2.81c.8-.78.8-2.07 0-2.86zM5.41 20L4 18.59l7.72-7.72 1.47 1.35L5.41 20z\"/>\n",
              "  </svg>\n",
              "      </button>\n",
              "      \n",
              "  <style>\n",
              "    .colab-df-container {\n",
              "      display:flex;\n",
              "      flex-wrap:wrap;\n",
              "      gap: 12px;\n",
              "    }\n",
              "\n",
              "    .colab-df-convert {\n",
              "      background-color: #E8F0FE;\n",
              "      border: none;\n",
              "      border-radius: 50%;\n",
              "      cursor: pointer;\n",
              "      display: none;\n",
              "      fill: #1967D2;\n",
              "      height: 32px;\n",
              "      padding: 0 0 0 0;\n",
              "      width: 32px;\n",
              "    }\n",
              "\n",
              "    .colab-df-convert:hover {\n",
              "      background-color: #E2EBFA;\n",
              "      box-shadow: 0px 1px 2px rgba(60, 64, 67, 0.3), 0px 1px 3px 1px rgba(60, 64, 67, 0.15);\n",
              "      fill: #174EA6;\n",
              "    }\n",
              "\n",
              "    [theme=dark] .colab-df-convert {\n",
              "      background-color: #3B4455;\n",
              "      fill: #D2E3FC;\n",
              "    }\n",
              "\n",
              "    [theme=dark] .colab-df-convert:hover {\n",
              "      background-color: #434B5C;\n",
              "      box-shadow: 0px 1px 3px 1px rgba(0, 0, 0, 0.15);\n",
              "      filter: drop-shadow(0px 1px 2px rgba(0, 0, 0, 0.3));\n",
              "      fill: #FFFFFF;\n",
              "    }\n",
              "  </style>\n",
              "\n",
              "      <script>\n",
              "        const buttonEl =\n",
              "          document.querySelector('#df-b1099c54-4433-45c7-863d-d06dc1ad8c85 button.colab-df-convert');\n",
              "        buttonEl.style.display =\n",
              "          google.colab.kernel.accessAllowed ? 'block' : 'none';\n",
              "\n",
              "        async function convertToInteractive(key) {\n",
              "          const element = document.querySelector('#df-b1099c54-4433-45c7-863d-d06dc1ad8c85');\n",
              "          const dataTable =\n",
              "            await google.colab.kernel.invokeFunction('convertToInteractive',\n",
              "                                                     [key], {});\n",
              "          if (!dataTable) return;\n",
              "\n",
              "          const docLinkHtml = 'Like what you see? Visit the ' +\n",
              "            '<a target=\"_blank\" href=https://colab.research.google.com/notebooks/data_table.ipynb>data table notebook</a>'\n",
              "            + ' to learn more about interactive tables.';\n",
              "          element.innerHTML = '';\n",
              "          dataTable['output_type'] = 'display_data';\n",
              "          await google.colab.output.renderOutput(dataTable, element);\n",
              "          const docLink = document.createElement('div');\n",
              "          docLink.innerHTML = docLinkHtml;\n",
              "          element.appendChild(docLink);\n",
              "        }\n",
              "      </script>\n",
              "    </div>\n",
              "  </div>\n",
              "  "
            ]
          },
          "metadata": {},
          "execution_count": 68
        }
      ],
      "source": [
        "a1_total = data.query('experiment_id == \"A1\"')['user_id'].nunique()\n",
        "a2_total = data.query('experiment_id == \"A2\"')['user_id'].nunique()\n",
        "\n",
        "users_by_groups.loc[0, 'users_share'] = round(users_by_groups.loc[0, 'user_id']/a1_total*100,2)\n",
        "users_by_groups.loc[1, 'users_share'] = round(users_by_groups.loc[1, 'user_id']/a2_total*100,2)\n",
        "\n",
        "users_by_groups"
      ]
    },
    {
      "cell_type": "markdown",
      "metadata": {
        "id": "qNo-rdAqlc6W"
      },
      "source": [
        "**Проанализируем, будет ли отличие между группами статистически достоверным по всем событиям**"
      ]
    },
    {
      "cell_type": "markdown",
      "metadata": {
        "id": "Rn-svhhAlc6W"
      },
      "source": [
        "Для дальнейшего анализа сформулируем гипотезы:\n",
        "* Нулевая гипотеза: между долями групп нет разницы\n",
        "* Альтернативная гипотеза: между долями групп существует значительная разница"
      ]
    },
    {
      "cell_type": "code",
      "execution_count": 69,
      "metadata": {
        "id": "BrfK_I9Wlc6W"
      },
      "outputs": [],
      "source": [
        "# Функция для проведения тестов\n",
        "\n",
        "def test_func(group1, group2, event, alpha):\n",
        "    \n",
        "    def successes_trials(group1, group2, event):\n",
        "        successes = np.array([data.query(f'experiment_id == \"{group1}\" & event_name == \"{event}\"')['user_id'].nunique(),\\\n",
        "                          data.query(f'experiment_id == \"{group2}\" & event_name == \"{event}\"')['user_id'].nunique()])\n",
        "\n",
        "        trials = np.array([data.query(f'experiment_id == \"{group1}\"')['user_id'].nunique(),\\\n",
        "                           data.query(f'experiment_id == \"{group2}\"')['user_id'].nunique()])\n",
        "        return successes, trials\n",
        "    \n",
        "    successes, trials = successes_trials(group1, group2, event) \n",
        "    # пропорция успехов в первой группе:\n",
        "    p1 = successes[0]/trials[0]\n",
        " \n",
        "    # пропорция успехов во второй группе:\n",
        "    p2 = successes[1]/trials[1]\n",
        "    \n",
        "    # пропорция успехов в комбинированном датасете:\n",
        "    p_combined = (successes[0] + successes[1]) / (trials[0] + trials[1])\n",
        "    \n",
        "    # разница пропорций в датасетах\n",
        "    difference = p1 - p2 \n",
        "    \n",
        "    # считаем статистику в ст.отклонениях стандартного нормального распределения\n",
        "    z_value = difference / mth.sqrt(p_combined * (1 - p_combined) * (1/trials[0] + 1/trials[1]))\n",
        "\n",
        "    # задаем стандартное нормальное распределение (среднее 0, ст.отклонение 1)\n",
        "    distr = stats.norm(0, 1)  \n",
        "    \n",
        "    p_value = (1 - distr.cdf(abs(z_value))) * 2\n",
        "\n",
        "    print(f'Результаты теста для групп {group1} и {group2} по событию {event}')\n",
        "    print('p-значение: ', p_value)\n",
        "\n",
        "    if p_value < alpha:\n",
        "        print('Отвергаем нулевую гипотезу: между долями есть значимая разница')\n",
        "    else:\n",
        "        print('Не получилось отвергнуть нулевую гипотезу, нет оснований считать доли разными') "
      ]
    },
    {
      "cell_type": "code",
      "execution_count": 70,
      "metadata": {
        "colab": {
          "base_uri": "https://localhost:8080/"
        },
        "id": "w3ApWTCTlc6W",
        "outputId": "c299bf6e-b2f3-4cff-a379-73f7dc5dd1f8"
      },
      "outputs": [
        {
          "output_type": "stream",
          "name": "stdout",
          "text": [
            "Результаты теста для групп A1 и A2 по событию MainScreenAppear\n",
            "p-значение:  0.7526703436483038\n",
            "Не получилось отвергнуть нулевую гипотезу, нет оснований считать доли разными\n"
          ]
        }
      ],
      "source": [
        "test_func('A1', 'A2', 'MainScreenAppear', 0.05)"
      ]
    },
    {
      "cell_type": "code",
      "execution_count": 71,
      "metadata": {
        "colab": {
          "base_uri": "https://localhost:8080/"
        },
        "id": "eoJnG68Flc6W",
        "outputId": "c35d22d4-321c-411c-d222-d58d872a87e1"
      },
      "outputs": [
        {
          "output_type": "stream",
          "name": "stdout",
          "text": [
            "Результаты теста для групп A1 и A2 по событию OffersScreenAppear\n",
            "p-значение:  0.24786096925282264\n",
            "Не получилось отвергнуть нулевую гипотезу, нет оснований считать доли разными\n"
          ]
        }
      ],
      "source": [
        "test_func('A1', 'A2', 'OffersScreenAppear', 0.05)"
      ]
    },
    {
      "cell_type": "code",
      "execution_count": 72,
      "metadata": {
        "colab": {
          "base_uri": "https://localhost:8080/"
        },
        "id": "D_YiTsUXlc6W",
        "outputId": "264f7be4-a061-494e-b3d2-8ac949bfe974"
      },
      "outputs": [
        {
          "output_type": "stream",
          "name": "stdout",
          "text": [
            "Результаты теста для групп A1 и A2 по событию CartScreenAppear\n",
            "p-значение:  0.22867643757335676\n",
            "Не получилось отвергнуть нулевую гипотезу, нет оснований считать доли разными\n"
          ]
        }
      ],
      "source": [
        "test_func('A1', 'A2', 'CartScreenAppear', 0.05)"
      ]
    },
    {
      "cell_type": "code",
      "execution_count": 73,
      "metadata": {
        "colab": {
          "base_uri": "https://localhost:8080/"
        },
        "id": "NllrtD4klc6W",
        "outputId": "4c021257-3b12-44e5-8b58-a403da2d1afc"
      },
      "outputs": [
        {
          "output_type": "stream",
          "name": "stdout",
          "text": [
            "Результаты теста для групп A1 и A2 по событию PaymentScreenSuccessful\n",
            "p-значение:  0.11446627829276612\n",
            "Не получилось отвергнуть нулевую гипотезу, нет оснований считать доли разными\n"
          ]
        }
      ],
      "source": [
        "test_func('A1', 'A2', 'PaymentScreenSuccessful', 0.05)"
      ]
    },
    {
      "cell_type": "markdown",
      "metadata": {
        "id": "GCa4jX8clc6W"
      },
      "source": [
        "На основании результатов тестов можно сделать вывод, что между группами А1 и А2 отсутствует статистически значимое различие"
      ]
    },
    {
      "cell_type": "markdown",
      "metadata": {
        "id": "ut_CCxxglc6W"
      },
      "source": [
        "**Сравним группу В с изменённым шрифтом с каждой из контрольных групп (А1, А2) в отдельности по каждому событию.**"
      ]
    },
    {
      "cell_type": "markdown",
      "metadata": {
        "id": "mcBPw-BQlc6W"
      },
      "source": [
        "**Сравним группы А1 и В**"
      ]
    },
    {
      "cell_type": "code",
      "execution_count": 74,
      "metadata": {
        "colab": {
          "base_uri": "https://localhost:8080/"
        },
        "id": "knnNZQoClc6W",
        "outputId": "a16e2c1f-1259-4cae-c86f-7a094661acd9"
      },
      "outputs": [
        {
          "output_type": "stream",
          "name": "stdout",
          "text": [
            "Результаты теста для групп A1 и B по событию MainScreenAppear\n",
            "p-значение:  0.3387114076159288\n",
            "Не получилось отвергнуть нулевую гипотезу, нет оснований считать доли разными\n"
          ]
        }
      ],
      "source": [
        "test_func('A1', 'B', 'MainScreenAppear', 0.05)"
      ]
    },
    {
      "cell_type": "code",
      "execution_count": 75,
      "metadata": {
        "colab": {
          "base_uri": "https://localhost:8080/"
        },
        "id": "Z4iXG-oNlc6W",
        "outputId": "868b1ae2-142c-4910-b791-5c294b270d99"
      },
      "outputs": [
        {
          "output_type": "stream",
          "name": "stdout",
          "text": [
            "Результаты теста для групп A1 и B по событию OffersScreenAppear\n",
            "p-значение:  0.21442476639710506\n",
            "Не получилось отвергнуть нулевую гипотезу, нет оснований считать доли разными\n"
          ]
        }
      ],
      "source": [
        "test_func('A1', 'B', 'OffersScreenAppear', 0.05)"
      ]
    },
    {
      "cell_type": "code",
      "execution_count": 76,
      "metadata": {
        "colab": {
          "base_uri": "https://localhost:8080/"
        },
        "id": "0l-5ScVElc6W",
        "outputId": "b7a98447-0449-4563-aeb1-5a215bdeae3d"
      },
      "outputs": [
        {
          "output_type": "stream",
          "name": "stdout",
          "text": [
            "Результаты теста для групп A1 и B по событию CartScreenAppear\n",
            "p-значение:  0.08067367598823139\n",
            "Не получилось отвергнуть нулевую гипотезу, нет оснований считать доли разными\n"
          ]
        }
      ],
      "source": [
        "test_func('A1', 'B', 'CartScreenAppear', 0.05)"
      ]
    },
    {
      "cell_type": "code",
      "execution_count": 77,
      "metadata": {
        "colab": {
          "base_uri": "https://localhost:8080/"
        },
        "id": "XpSI3JWZlc6X",
        "outputId": "a5b3c2a0-2035-487a-99fc-b5b98aa70f81"
      },
      "outputs": [
        {
          "output_type": "stream",
          "name": "stdout",
          "text": [
            "Результаты теста для групп A1 и B по событию PaymentScreenSuccessful\n",
            "p-значение:  0.21693033984516674\n",
            "Не получилось отвергнуть нулевую гипотезу, нет оснований считать доли разными\n"
          ]
        }
      ],
      "source": [
        "test_func('A1', 'B', 'PaymentScreenSuccessful', 0.05)"
      ]
    },
    {
      "cell_type": "markdown",
      "metadata": {
        "id": "5DWITFjtlc6X"
      },
      "source": [
        "На основании результатов тестов можно сделать вывод, что между группами А1 и В отсутствует статистически значимое различие"
      ]
    },
    {
      "cell_type": "markdown",
      "metadata": {
        "id": "0q3Eb-POlc6X"
      },
      "source": [
        "**Сравним группы А2 и В**"
      ]
    },
    {
      "cell_type": "code",
      "execution_count": 78,
      "metadata": {
        "colab": {
          "base_uri": "https://localhost:8080/"
        },
        "id": "ksXb_Bqdlc6X",
        "outputId": "01b35783-a560-49b1-b2a9-3a53c527dfe2"
      },
      "outputs": [
        {
          "output_type": "stream",
          "name": "stdout",
          "text": [
            "Результаты теста для групп A2 и B по событию MainScreenAppear\n",
            "p-значение:  0.5194964354051703\n",
            "Не получилось отвергнуть нулевую гипотезу, нет оснований считать доли разными\n"
          ]
        }
      ],
      "source": [
        "test_func('A2', 'B', 'MainScreenAppear', 0.05)"
      ]
    },
    {
      "cell_type": "code",
      "execution_count": 79,
      "metadata": {
        "colab": {
          "base_uri": "https://localhost:8080/"
        },
        "id": "rLRqzIQTlc6X",
        "outputId": "64be1785-4636-4383-cb1d-1ac555d44206"
      },
      "outputs": [
        {
          "output_type": "stream",
          "name": "stdout",
          "text": [
            "Результаты теста для групп A2 и B по событию OffersScreenAppear\n",
            "p-значение:  0.9333751305879443\n",
            "Не получилось отвергнуть нулевую гипотезу, нет оснований считать доли разными\n"
          ]
        }
      ],
      "source": [
        "test_func('A2', 'B', 'OffersScreenAppear', 0.05)"
      ]
    },
    {
      "cell_type": "code",
      "execution_count": 80,
      "metadata": {
        "colab": {
          "base_uri": "https://localhost:8080/"
        },
        "id": "WDmxKD1nlc6X",
        "outputId": "ba557bd8-82c4-4002-8bdc-df1ad959eee6"
      },
      "outputs": [
        {
          "output_type": "stream",
          "name": "stdout",
          "text": [
            "Результаты теста для групп A2 и B по событию CartScreenAppear\n",
            "p-значение:  0.5878284605111943\n",
            "Не получилось отвергнуть нулевую гипотезу, нет оснований считать доли разными\n"
          ]
        }
      ],
      "source": [
        "test_func('A2', 'B', 'CartScreenAppear', 0.05)"
      ]
    },
    {
      "cell_type": "code",
      "execution_count": 81,
      "metadata": {
        "colab": {
          "base_uri": "https://localhost:8080/"
        },
        "id": "tmrz17jhlc6X",
        "outputId": "2e0a05e1-b39a-433a-b611-e1f5394f269d"
      },
      "outputs": [
        {
          "output_type": "stream",
          "name": "stdout",
          "text": [
            "Результаты теста для групп A2 и B по событию PaymentScreenSuccessful\n",
            "p-значение:  0.7275718682261119\n",
            "Не получилось отвергнуть нулевую гипотезу, нет оснований считать доли разными\n"
          ]
        }
      ],
      "source": [
        "test_func('A2', 'B', 'PaymentScreenSuccessful', 0.05)"
      ]
    },
    {
      "cell_type": "markdown",
      "metadata": {
        "id": "2n2UyhZWlc6X"
      },
      "source": [
        "На основании результатов тестов можно сделать вывод, что между группами А2 и B отсутствует статистически значимое различие"
      ]
    },
    {
      "cell_type": "markdown",
      "metadata": {
        "id": "0i17u6aqlc6X"
      },
      "source": [
        "**Сравним объединенную контрольную группу (A1,A2) с группой В**"
      ]
    },
    {
      "cell_type": "code",
      "execution_count": 82,
      "metadata": {
        "id": "ZJDSyR03lc6X"
      },
      "outputs": [],
      "source": [
        "# Объединим группы А1 и А2 в одну группу А\n",
        "data['experiment_id'] = data['experiment_id'].replace('A1', 'A')\n",
        "data['experiment_id'] = data['experiment_id'].replace('A2', 'A')"
      ]
    },
    {
      "cell_type": "code",
      "execution_count": 83,
      "metadata": {
        "colab": {
          "base_uri": "https://localhost:8080/"
        },
        "id": "Rxnx9gaMlc6X",
        "outputId": "66b1b4a4-3e04-4f58-c232-6b3b4da129cd"
      },
      "outputs": [
        {
          "output_type": "stream",
          "name": "stdout",
          "text": [
            "Результаты теста для групп A и B по событию MainScreenAppear\n",
            "p-значение:  0.3486684291093256\n",
            "Не получилось отвергнуть нулевую гипотезу, нет оснований считать доли разными\n"
          ]
        }
      ],
      "source": [
        "test_func('A', 'B', 'MainScreenAppear', 0.05)"
      ]
    },
    {
      "cell_type": "code",
      "execution_count": 84,
      "metadata": {
        "colab": {
          "base_uri": "https://localhost:8080/"
        },
        "id": "CdtoKVLqlc6X",
        "outputId": "ee6980c9-c759-4066-9bf2-0deb11a51583"
      },
      "outputs": [
        {
          "output_type": "stream",
          "name": "stdout",
          "text": [
            "Результаты теста для групп A и B по событию OffersScreenAppear\n",
            "p-значение:  0.44582745409482394\n",
            "Не получилось отвергнуть нулевую гипотезу, нет оснований считать доли разными\n"
          ]
        }
      ],
      "source": [
        "test_func('A', 'B', 'OffersScreenAppear', 0.05)"
      ]
    },
    {
      "cell_type": "code",
      "execution_count": 85,
      "metadata": {
        "colab": {
          "base_uri": "https://localhost:8080/"
        },
        "id": "T_Uay5DLlc6X",
        "outputId": "f30749ff-b273-489d-9970-ce26d60b5767"
      },
      "outputs": [
        {
          "output_type": "stream",
          "name": "stdout",
          "text": [
            "Результаты теста для групп A и B по событию CartScreenAppear\n",
            "p-значение:  0.18683558686831558\n",
            "Не получилось отвергнуть нулевую гипотезу, нет оснований считать доли разными\n"
          ]
        }
      ],
      "source": [
        "test_func('A', 'B', 'CartScreenAppear', 0.05)"
      ]
    },
    {
      "cell_type": "code",
      "execution_count": 86,
      "metadata": {
        "colab": {
          "base_uri": "https://localhost:8080/"
        },
        "id": "UzsbEVfmlc6X",
        "outputId": "dd1e8133-9285-4862-9c31-e56f8b155db5"
      },
      "outputs": [
        {
          "output_type": "stream",
          "name": "stdout",
          "text": [
            "Результаты теста для групп A и B по событию PaymentScreenSuccessful\n",
            "p-значение:  0.6107918742187335\n",
            "Не получилось отвергнуть нулевую гипотезу, нет оснований считать доли разными\n"
          ]
        }
      ],
      "source": [
        "test_func('A', 'B', 'PaymentScreenSuccessful', 0.05)"
      ]
    },
    {
      "cell_type": "markdown",
      "metadata": {
        "id": "S2ACmMQUlc6Y"
      },
      "source": [
        "На основании результатов тестов можно сделать вывод, что между объединенными группами А1,А2 и В отсутствует статистически значимое различие. Соответственно изменение шрифтов в приложении не оказало влияние на поведение пользователей."
      ]
    },
    {
      "cell_type": "markdown",
      "metadata": {
        "id": "Ni7EmI7Flc6Y"
      },
      "source": [
        "Для анализа был выбран коэффициент значимости 0.05. Всего было проведено 16 проверок статистических гипотез. При всех проверках нулевая гипотеза не отвергается, соответственно использование коэффициента 0.01 не имеет смысла, т.к. результат тестов останется прежним."
      ]
    },
    {
      "cell_type": "markdown",
      "metadata": {
        "id": "JWAORsXtlc6Y"
      },
      "source": [
        "## Выводы"
      ]
    },
    {
      "cell_type": "markdown",
      "metadata": {
        "id": "kJXMOD9Nlc6Y"
      },
      "source": [
        "В рамках проекта были сделаны следующие выводы:\n",
        "* Данные в логе предоставлены с 25 июля 2019 по 07 августа 2019. Однако для анализа был выбран период с 01 по 08 августа 2019, так как за июль не было значительной активности среди пользователей по сравнению с августом и столь значительная разница может «перекашивать данные». В результате были удалены 1.16% событий и 0.23%, что не является значимым и не окажет влияния на общие результаты исследования.\n",
        "\n",
        "* Общее количество событий: 243713. Количество уникальных пользователей: 7551. Среднее количество событий на одного пользователя: 32\n",
        "\n",
        "* В логе встречается 5 видов событий. Преобладает `MainScreenAppear` - 117328, количетсво пользователей его совершивших - 7419 (98,47% от общего числа), меньше всего встречается событие `Tutorial` - 1005, количество пользователей - 840 (11,5% от общего числа). Учитывая количество событий и количество пользователей `Tutorial` было исключено из дальнейшего анализа как малозначимое, а также не входящее в воронку продаж.\n",
        "\n",
        "* Воронка продаж выглядит следующим образом: \n",
        "\t\n",
        "    1. `MainScreenAppear`\t    \t100\n",
        "    2. `OffersScreenAppear`    \t61.91\n",
        "    3. `CartScreenAppear`\t    \t81.3\n",
        "    4. PaymentScreenSuccessful\t94.78\n",
        "\n",
        "* Больше всего теряется пользователей на первом шаге, 38% пользователей не доходит до страницы с предложением. Нужно дополнительно проанализировать причину. От первого события до оплаты доходит 47.7 % пользователей.\n",
        "\n",
        "* Размер групп пользователе для A/A/B-эксперимента совпадает\n",
        "\n",
        "* Было проведено 16 экспериментов для проверок статистических гипотез между группами A1 и A2, A1 и В, A2 и B, объединенной группы А и B. Коэффициент статистической значимости 0.05. В результате всех экспериментов значимой статистической разницы между группами не выявлено. Следовательно можно сделать вывод, что изменение шрифтов в приложении не повлияло на поведение пользователей."
      ]
    }
  ],
  "metadata": {
    "ExecuteTimeLog": [
      {
        "duration": 55,
        "start_time": "2023-04-25T07:45:18.074Z"
      },
      {
        "duration": 48,
        "start_time": "2023-04-25T07:50:46.727Z"
      },
      {
        "duration": 1360,
        "start_time": "2023-04-25T07:57:33.082Z"
      },
      {
        "duration": 971,
        "start_time": "2023-04-25T07:58:45.180Z"
      },
      {
        "duration": 366,
        "start_time": "2023-04-25T07:58:53.028Z"
      },
      {
        "duration": 315,
        "start_time": "2023-04-25T08:03:13.022Z"
      },
      {
        "duration": 44,
        "start_time": "2023-04-25T08:03:19.769Z"
      },
      {
        "duration": 310,
        "start_time": "2023-04-25T08:03:29.326Z"
      },
      {
        "duration": 307,
        "start_time": "2023-04-25T08:05:13.060Z"
      },
      {
        "duration": 164,
        "start_time": "2023-04-25T08:05:21.788Z"
      },
      {
        "duration": 96,
        "start_time": "2023-04-25T08:12:57.179Z"
      },
      {
        "duration": 9,
        "start_time": "2023-04-25T08:13:28.038Z"
      },
      {
        "duration": 206,
        "start_time": "2023-04-25T08:14:12.610Z"
      },
      {
        "duration": 3,
        "start_time": "2023-04-25T08:14:14.289Z"
      },
      {
        "duration": 8,
        "start_time": "2023-04-25T08:14:25.581Z"
      },
      {
        "duration": 21,
        "start_time": "2023-04-25T08:14:56.606Z"
      },
      {
        "duration": 47,
        "start_time": "2023-04-25T08:19:21.426Z"
      },
      {
        "duration": 37,
        "start_time": "2023-04-25T08:19:26.015Z"
      },
      {
        "duration": 14,
        "start_time": "2023-04-25T08:19:30.576Z"
      },
      {
        "duration": 15,
        "start_time": "2023-04-25T08:19:35.852Z"
      },
      {
        "duration": 10,
        "start_time": "2023-04-25T08:19:38.336Z"
      },
      {
        "duration": 11,
        "start_time": "2023-04-25T08:20:18.350Z"
      },
      {
        "duration": 10,
        "start_time": "2023-04-25T08:20:23.005Z"
      },
      {
        "duration": 5,
        "start_time": "2023-04-25T08:20:23.924Z"
      },
      {
        "duration": 169,
        "start_time": "2023-04-25T08:20:32.380Z"
      },
      {
        "duration": 22,
        "start_time": "2023-04-25T08:20:33.283Z"
      },
      {
        "duration": 8,
        "start_time": "2023-04-25T08:20:34.347Z"
      },
      {
        "duration": 44,
        "start_time": "2023-04-25T08:20:35.733Z"
      },
      {
        "duration": 10,
        "start_time": "2023-04-25T08:22:08.536Z"
      },
      {
        "duration": 12,
        "start_time": "2023-04-25T08:22:37.545Z"
      },
      {
        "duration": 4,
        "start_time": "2023-04-25T08:22:42.376Z"
      },
      {
        "duration": 211,
        "start_time": "2023-04-25T08:22:42.689Z"
      },
      {
        "duration": 21,
        "start_time": "2023-04-25T08:22:42.902Z"
      },
      {
        "duration": 10,
        "start_time": "2023-04-25T08:22:43.231Z"
      },
      {
        "duration": 418,
        "start_time": "2023-04-25T08:22:44.231Z"
      },
      {
        "duration": 1305,
        "start_time": "2023-04-26T13:45:40.860Z"
      },
      {
        "duration": 1360,
        "start_time": "2023-04-26T13:45:42.167Z"
      },
      {
        "duration": 19,
        "start_time": "2023-04-26T13:45:43.528Z"
      },
      {
        "duration": 7,
        "start_time": "2023-04-26T13:45:43.549Z"
      },
      {
        "duration": 585,
        "start_time": "2023-04-26T13:45:43.732Z"
      },
      {
        "duration": 4,
        "start_time": "2023-04-26T13:47:36.224Z"
      },
      {
        "duration": 11,
        "start_time": "2023-04-26T13:47:39.963Z"
      },
      {
        "duration": 12,
        "start_time": "2023-04-26T13:48:07.177Z"
      },
      {
        "duration": 191,
        "start_time": "2023-04-26T13:48:11.340Z"
      },
      {
        "duration": 30,
        "start_time": "2023-04-26T13:48:11.587Z"
      },
      {
        "duration": 8,
        "start_time": "2023-04-26T13:48:12.223Z"
      },
      {
        "duration": 20,
        "start_time": "2023-04-26T13:48:14.120Z"
      },
      {
        "duration": 15,
        "start_time": "2023-04-26T13:49:22.083Z"
      },
      {
        "duration": 68,
        "start_time": "2023-04-26T13:50:14.336Z"
      },
      {
        "duration": 63,
        "start_time": "2023-04-26T13:50:20.660Z"
      },
      {
        "duration": 93,
        "start_time": "2023-04-26T13:52:43.706Z"
      },
      {
        "duration": 69,
        "start_time": "2023-04-26T13:53:25.774Z"
      },
      {
        "duration": 69,
        "start_time": "2023-04-26T13:54:50.415Z"
      },
      {
        "duration": 77,
        "start_time": "2023-04-26T13:55:20.038Z"
      },
      {
        "duration": 90,
        "start_time": "2023-04-26T13:56:37.255Z"
      },
      {
        "duration": 60,
        "start_time": "2023-04-26T13:59:53.762Z"
      },
      {
        "duration": 60,
        "start_time": "2023-04-26T13:59:59.608Z"
      },
      {
        "duration": 156,
        "start_time": "2023-04-26T14:01:05.472Z"
      },
      {
        "duration": 103,
        "start_time": "2023-04-26T14:01:26.110Z"
      },
      {
        "duration": 48,
        "start_time": "2023-04-26T14:01:39.016Z"
      },
      {
        "duration": 120,
        "start_time": "2023-04-26T14:01:42.858Z"
      },
      {
        "duration": 74,
        "start_time": "2023-04-26T14:03:44.547Z"
      },
      {
        "duration": 78,
        "start_time": "2023-04-26T14:03:54.760Z"
      },
      {
        "duration": 77,
        "start_time": "2023-04-26T14:07:44.552Z"
      },
      {
        "duration": 18,
        "start_time": "2023-04-26T14:08:24.340Z"
      },
      {
        "duration": 79,
        "start_time": "2023-04-26T14:09:44.951Z"
      },
      {
        "duration": 128,
        "start_time": "2023-04-26T14:09:50.116Z"
      },
      {
        "duration": 101,
        "start_time": "2023-04-26T14:09:56.417Z"
      },
      {
        "duration": 85,
        "start_time": "2023-04-26T14:15:13.444Z"
      },
      {
        "duration": 18,
        "start_time": "2023-04-26T14:19:47.439Z"
      },
      {
        "duration": 14,
        "start_time": "2023-04-26T14:19:48.824Z"
      },
      {
        "duration": 48,
        "start_time": "2023-04-26T14:20:47.479Z"
      },
      {
        "duration": 11,
        "start_time": "2023-04-26T14:25:26.143Z"
      },
      {
        "duration": 24,
        "start_time": "2023-04-26T14:25:31.919Z"
      },
      {
        "duration": 4,
        "start_time": "2023-04-26T14:26:17.579Z"
      },
      {
        "duration": 3,
        "start_time": "2023-04-26T14:26:38.672Z"
      },
      {
        "duration": 156,
        "start_time": "2023-04-26T14:26:39.119Z"
      },
      {
        "duration": 32,
        "start_time": "2023-04-26T14:26:39.280Z"
      },
      {
        "duration": 10,
        "start_time": "2023-04-26T14:26:39.617Z"
      },
      {
        "duration": 21,
        "start_time": "2023-04-26T14:26:39.937Z"
      },
      {
        "duration": 134,
        "start_time": "2023-04-26T14:26:40.470Z"
      },
      {
        "duration": 70,
        "start_time": "2023-04-26T14:26:40.871Z"
      },
      {
        "duration": 17,
        "start_time": "2023-04-26T14:26:41.727Z"
      },
      {
        "duration": 90,
        "start_time": "2023-04-26T14:26:42.415Z"
      },
      {
        "duration": 67,
        "start_time": "2023-04-26T14:26:43.049Z"
      },
      {
        "duration": 20,
        "start_time": "2023-04-26T14:26:44.540Z"
      },
      {
        "duration": 4,
        "start_time": "2023-04-26T14:26:44.952Z"
      },
      {
        "duration": 134,
        "start_time": "2023-04-26T14:27:16.132Z"
      },
      {
        "duration": 91,
        "start_time": "2023-04-26T14:27:25.831Z"
      },
      {
        "duration": 138,
        "start_time": "2023-04-26T14:27:33.335Z"
      },
      {
        "duration": 116,
        "start_time": "2023-04-26T14:27:36.979Z"
      },
      {
        "duration": 17,
        "start_time": "2023-04-26T14:27:37.637Z"
      },
      {
        "duration": 69,
        "start_time": "2023-04-26T14:27:38.224Z"
      },
      {
        "duration": 34,
        "start_time": "2023-04-26T14:27:39.115Z"
      },
      {
        "duration": 20,
        "start_time": "2023-04-26T14:27:40.726Z"
      },
      {
        "duration": 4,
        "start_time": "2023-04-26T14:27:41.165Z"
      },
      {
        "duration": 8,
        "start_time": "2023-04-26T14:29:14.112Z"
      },
      {
        "duration": 7,
        "start_time": "2023-04-26T14:30:40.245Z"
      },
      {
        "duration": 9,
        "start_time": "2023-04-26T14:31:01.182Z"
      },
      {
        "duration": 64,
        "start_time": "2023-04-26T14:31:39.748Z"
      },
      {
        "duration": 8,
        "start_time": "2023-04-26T14:38:06.114Z"
      },
      {
        "duration": 89,
        "start_time": "2023-04-26T14:38:09.237Z"
      },
      {
        "duration": 56,
        "start_time": "2023-04-26T14:38:22.265Z"
      },
      {
        "duration": 66,
        "start_time": "2023-04-26T14:38:27.775Z"
      },
      {
        "duration": 34,
        "start_time": "2023-04-26T14:38:30.063Z"
      },
      {
        "duration": 45,
        "start_time": "2023-04-26T14:38:59.614Z"
      },
      {
        "duration": 993,
        "start_time": "2023-04-26T14:40:07.115Z"
      },
      {
        "duration": 73,
        "start_time": "2023-04-26T14:40:24.791Z"
      },
      {
        "duration": 100,
        "start_time": "2023-04-26T14:40:54.306Z"
      },
      {
        "duration": 55,
        "start_time": "2023-04-26T14:43:45.933Z"
      },
      {
        "duration": 95,
        "start_time": "2023-04-26T14:44:04.263Z"
      },
      {
        "duration": 607,
        "start_time": "2023-04-26T14:49:26.511Z"
      },
      {
        "duration": 559,
        "start_time": "2023-04-26T14:49:37.283Z"
      },
      {
        "duration": 516,
        "start_time": "2023-04-26T14:49:40.258Z"
      },
      {
        "duration": 469,
        "start_time": "2023-04-26T14:50:00.267Z"
      },
      {
        "duration": 499,
        "start_time": "2023-04-26T14:50:10.071Z"
      },
      {
        "duration": 497,
        "start_time": "2023-04-26T14:50:22.505Z"
      },
      {
        "duration": 477,
        "start_time": "2023-04-26T14:50:40.032Z"
      },
      {
        "duration": 29,
        "start_time": "2023-04-26T14:57:59.561Z"
      },
      {
        "duration": 229,
        "start_time": "2023-04-26T14:58:16.360Z"
      },
      {
        "duration": 29,
        "start_time": "2023-04-26T14:58:43.254Z"
      },
      {
        "duration": 77,
        "start_time": "2023-04-26T14:59:08.705Z"
      },
      {
        "duration": 36,
        "start_time": "2023-04-26T14:59:19.265Z"
      },
      {
        "duration": 107,
        "start_time": "2023-04-26T15:00:04.455Z"
      },
      {
        "duration": 19,
        "start_time": "2023-04-26T15:00:15.537Z"
      },
      {
        "duration": 1294,
        "start_time": "2023-04-26T15:00:59.364Z"
      },
      {
        "duration": 1282,
        "start_time": "2023-04-26T15:01:16.347Z"
      },
      {
        "duration": 1278,
        "start_time": "2023-04-26T15:01:27.984Z"
      },
      {
        "duration": 206,
        "start_time": "2023-04-26T15:01:29.264Z"
      },
      {
        "duration": 24,
        "start_time": "2023-04-26T15:01:30.145Z"
      },
      {
        "duration": 1337,
        "start_time": "2023-04-26T15:01:30.707Z"
      },
      {
        "duration": 633,
        "start_time": "2023-04-26T15:01:44.777Z"
      },
      {
        "duration": 20,
        "start_time": "2023-04-26T15:02:03.951Z"
      },
      {
        "duration": 696,
        "start_time": "2023-04-26T15:02:08.151Z"
      },
      {
        "duration": 4,
        "start_time": "2023-04-26T15:04:15.981Z"
      },
      {
        "duration": 142,
        "start_time": "2023-04-26T15:04:16.405Z"
      },
      {
        "duration": 16,
        "start_time": "2023-04-26T15:04:16.559Z"
      },
      {
        "duration": 9,
        "start_time": "2023-04-26T15:04:16.905Z"
      },
      {
        "duration": 13,
        "start_time": "2023-04-26T15:04:17.210Z"
      },
      {
        "duration": 92,
        "start_time": "2023-04-26T15:04:17.707Z"
      },
      {
        "duration": 70,
        "start_time": "2023-04-26T15:04:18.041Z"
      },
      {
        "duration": 12,
        "start_time": "2023-04-26T15:04:18.552Z"
      },
      {
        "duration": 96,
        "start_time": "2023-04-26T15:04:18.905Z"
      },
      {
        "duration": 43,
        "start_time": "2023-04-26T15:04:19.242Z"
      },
      {
        "duration": 21,
        "start_time": "2023-04-26T15:04:19.954Z"
      },
      {
        "duration": 3,
        "start_time": "2023-04-26T15:04:20.132Z"
      },
      {
        "duration": 8,
        "start_time": "2023-04-26T15:04:20.568Z"
      },
      {
        "duration": 9,
        "start_time": "2023-04-26T15:04:21.094Z"
      },
      {
        "duration": 1422,
        "start_time": "2023-04-26T15:04:22.108Z"
      },
      {
        "duration": 224,
        "start_time": "2023-04-26T15:04:23.532Z"
      },
      {
        "duration": 23,
        "start_time": "2023-04-26T15:04:23.757Z"
      },
      {
        "duration": 733,
        "start_time": "2023-04-26T15:04:23.782Z"
      },
      {
        "duration": 8,
        "start_time": "2023-04-26T15:04:24.517Z"
      },
      {
        "duration": 4,
        "start_time": "2023-04-26T15:05:45.434Z"
      },
      {
        "duration": 7,
        "start_time": "2023-04-26T15:06:18.953Z"
      },
      {
        "duration": 4,
        "start_time": "2023-04-26T15:06:21.432Z"
      },
      {
        "duration": 173,
        "start_time": "2023-04-26T15:06:21.755Z"
      },
      {
        "duration": 20,
        "start_time": "2023-04-26T15:06:21.930Z"
      },
      {
        "duration": 10,
        "start_time": "2023-04-26T15:06:22.212Z"
      },
      {
        "duration": 14,
        "start_time": "2023-04-26T15:06:22.518Z"
      },
      {
        "duration": 103,
        "start_time": "2023-04-26T15:06:23.112Z"
      },
      {
        "duration": 69,
        "start_time": "2023-04-26T15:06:23.513Z"
      },
      {
        "duration": 13,
        "start_time": "2023-04-26T15:06:24.653Z"
      },
      {
        "duration": 144,
        "start_time": "2023-04-26T15:06:25.344Z"
      },
      {
        "duration": 41,
        "start_time": "2023-04-26T15:06:25.849Z"
      },
      {
        "duration": 20,
        "start_time": "2023-04-26T15:06:26.813Z"
      },
      {
        "duration": 3,
        "start_time": "2023-04-26T15:06:27.113Z"
      },
      {
        "duration": 7,
        "start_time": "2023-04-26T15:06:27.829Z"
      },
      {
        "duration": 6,
        "start_time": "2023-04-26T15:06:28.534Z"
      },
      {
        "duration": 1467,
        "start_time": "2023-04-26T15:06:29.656Z"
      },
      {
        "duration": 218,
        "start_time": "2023-04-26T15:06:31.126Z"
      },
      {
        "duration": 25,
        "start_time": "2023-04-26T15:06:31.345Z"
      },
      {
        "duration": 700,
        "start_time": "2023-04-26T15:06:31.372Z"
      },
      {
        "duration": 8,
        "start_time": "2023-04-26T15:06:34.036Z"
      },
      {
        "duration": 3,
        "start_time": "2023-04-26T15:07:42.113Z"
      },
      {
        "duration": 3,
        "start_time": "2023-04-26T15:08:32.444Z"
      },
      {
        "duration": 12,
        "start_time": "2023-04-26T15:09:49.821Z"
      },
      {
        "duration": 4,
        "start_time": "2023-04-26T15:10:00.377Z"
      },
      {
        "duration": 3,
        "start_time": "2023-04-26T15:10:17.780Z"
      },
      {
        "duration": 170,
        "start_time": "2023-04-26T15:10:18.378Z"
      },
      {
        "duration": 24,
        "start_time": "2023-04-26T15:10:18.604Z"
      },
      {
        "duration": 10,
        "start_time": "2023-04-26T15:10:19.124Z"
      },
      {
        "duration": 20,
        "start_time": "2023-04-26T15:10:19.794Z"
      },
      {
        "duration": 98,
        "start_time": "2023-04-26T15:10:20.536Z"
      },
      {
        "duration": 84,
        "start_time": "2023-04-26T15:10:20.915Z"
      },
      {
        "duration": 14,
        "start_time": "2023-04-26T15:10:21.434Z"
      },
      {
        "duration": 147,
        "start_time": "2023-04-26T15:10:21.812Z"
      },
      {
        "duration": 55,
        "start_time": "2023-04-26T15:10:22.155Z"
      },
      {
        "duration": 20,
        "start_time": "2023-04-26T15:10:22.870Z"
      },
      {
        "duration": 5,
        "start_time": "2023-04-26T15:10:23.052Z"
      },
      {
        "duration": 9,
        "start_time": "2023-04-26T15:10:23.469Z"
      },
      {
        "duration": 8,
        "start_time": "2023-04-26T15:10:23.873Z"
      },
      {
        "duration": 1465,
        "start_time": "2023-04-26T15:10:24.518Z"
      },
      {
        "duration": 220,
        "start_time": "2023-04-26T15:10:25.986Z"
      },
      {
        "duration": 31,
        "start_time": "2023-04-26T15:10:26.207Z"
      },
      {
        "duration": 781,
        "start_time": "2023-04-26T15:10:26.241Z"
      },
      {
        "duration": 5,
        "start_time": "2023-04-26T15:10:27.024Z"
      },
      {
        "duration": 11,
        "start_time": "2023-04-26T15:12:28.793Z"
      },
      {
        "duration": 90,
        "start_time": "2023-04-26T15:12:41.881Z"
      },
      {
        "duration": 8,
        "start_time": "2023-04-26T15:12:49.199Z"
      },
      {
        "duration": 6,
        "start_time": "2023-04-26T15:13:06.081Z"
      },
      {
        "duration": 4,
        "start_time": "2023-04-26T15:13:26.249Z"
      },
      {
        "duration": 52,
        "start_time": "2023-04-26T15:13:58.994Z"
      },
      {
        "duration": 5,
        "start_time": "2023-04-26T15:14:05.960Z"
      },
      {
        "duration": 145,
        "start_time": "2023-04-26T15:14:41.040Z"
      },
      {
        "duration": 132,
        "start_time": "2023-04-26T15:15:10.051Z"
      },
      {
        "duration": 164,
        "start_time": "2023-04-26T15:15:21.886Z"
      },
      {
        "duration": 147,
        "start_time": "2023-04-26T15:15:37.916Z"
      },
      {
        "duration": 154,
        "start_time": "2023-04-26T15:15:58.518Z"
      },
      {
        "duration": 151,
        "start_time": "2023-04-26T15:16:01.995Z"
      },
      {
        "duration": 152,
        "start_time": "2023-04-26T15:16:24.837Z"
      },
      {
        "duration": 172,
        "start_time": "2023-04-26T15:16:53.370Z"
      },
      {
        "duration": 3,
        "start_time": "2023-04-26T15:16:56.543Z"
      },
      {
        "duration": 171,
        "start_time": "2023-04-26T15:16:57.164Z"
      },
      {
        "duration": 18,
        "start_time": "2023-04-26T15:16:57.558Z"
      },
      {
        "duration": 9,
        "start_time": "2023-04-26T15:16:58.728Z"
      },
      {
        "duration": 27,
        "start_time": "2023-04-26T15:17:00.093Z"
      },
      {
        "duration": 101,
        "start_time": "2023-04-26T15:17:01.542Z"
      },
      {
        "duration": 77,
        "start_time": "2023-04-26T15:17:05.913Z"
      },
      {
        "duration": 16,
        "start_time": "2023-04-26T15:17:06.930Z"
      },
      {
        "duration": 126,
        "start_time": "2023-04-26T15:17:07.292Z"
      },
      {
        "duration": 60,
        "start_time": "2023-04-26T15:17:07.656Z"
      },
      {
        "duration": 19,
        "start_time": "2023-04-26T15:17:08.324Z"
      },
      {
        "duration": 4,
        "start_time": "2023-04-26T15:17:08.488Z"
      },
      {
        "duration": 9,
        "start_time": "2023-04-26T15:17:08.836Z"
      },
      {
        "duration": 9,
        "start_time": "2023-04-26T15:17:09.205Z"
      },
      {
        "duration": 1479,
        "start_time": "2023-04-26T15:17:09.754Z"
      },
      {
        "duration": 247,
        "start_time": "2023-04-26T15:17:11.235Z"
      },
      {
        "duration": 55,
        "start_time": "2023-04-26T15:17:11.484Z"
      },
      {
        "duration": 782,
        "start_time": "2023-04-26T15:17:11.544Z"
      },
      {
        "duration": 5,
        "start_time": "2023-04-26T15:17:12.328Z"
      },
      {
        "duration": 4,
        "start_time": "2023-04-26T15:18:31.877Z"
      },
      {
        "duration": 8,
        "start_time": "2023-04-26T15:19:21.320Z"
      },
      {
        "duration": 9,
        "start_time": "2023-04-26T15:19:33.151Z"
      },
      {
        "duration": 7,
        "start_time": "2023-04-26T15:21:12.879Z"
      },
      {
        "duration": 9,
        "start_time": "2023-04-26T15:21:13.712Z"
      },
      {
        "duration": 12,
        "start_time": "2023-04-26T15:22:30.816Z"
      },
      {
        "duration": 8,
        "start_time": "2023-04-26T15:22:42.422Z"
      },
      {
        "duration": 47,
        "start_time": "2023-04-26T15:23:03.229Z"
      },
      {
        "duration": 33,
        "start_time": "2023-04-26T15:23:07.009Z"
      },
      {
        "duration": 95,
        "start_time": "2023-04-26T15:23:13.487Z"
      },
      {
        "duration": 65,
        "start_time": "2023-04-26T15:23:42.913Z"
      },
      {
        "duration": 41,
        "start_time": "2023-04-26T15:24:00.314Z"
      },
      {
        "duration": 65,
        "start_time": "2023-04-26T15:26:27.762Z"
      },
      {
        "duration": 214,
        "start_time": "2023-04-26T15:27:08.841Z"
      },
      {
        "duration": 22,
        "start_time": "2023-04-26T15:27:34.522Z"
      },
      {
        "duration": 63,
        "start_time": "2023-04-26T15:31:02.726Z"
      },
      {
        "duration": 72,
        "start_time": "2023-04-26T15:31:14.653Z"
      },
      {
        "duration": 64,
        "start_time": "2023-04-26T15:31:27.950Z"
      },
      {
        "duration": 51,
        "start_time": "2023-04-26T15:31:33.517Z"
      },
      {
        "duration": 56,
        "start_time": "2023-04-26T15:32:20.962Z"
      },
      {
        "duration": 53,
        "start_time": "2023-04-26T15:32:36.929Z"
      },
      {
        "duration": 67,
        "start_time": "2023-04-26T15:32:52.040Z"
      },
      {
        "duration": 55,
        "start_time": "2023-04-26T15:32:57.455Z"
      },
      {
        "duration": 68,
        "start_time": "2023-04-26T15:33:04.319Z"
      },
      {
        "duration": 57,
        "start_time": "2023-04-26T15:33:08.949Z"
      },
      {
        "duration": 60,
        "start_time": "2023-04-26T15:33:30.337Z"
      },
      {
        "duration": 11,
        "start_time": "2023-04-26T15:36:50.875Z"
      },
      {
        "duration": 15,
        "start_time": "2023-04-26T15:37:14.328Z"
      },
      {
        "duration": 10,
        "start_time": "2023-04-26T15:37:29.294Z"
      },
      {
        "duration": 9,
        "start_time": "2023-04-26T15:37:39.459Z"
      },
      {
        "duration": 9,
        "start_time": "2023-04-26T15:38:03.533Z"
      },
      {
        "duration": 17,
        "start_time": "2023-04-26T15:38:59.328Z"
      },
      {
        "duration": 54,
        "start_time": "2023-04-26T15:39:46.081Z"
      },
      {
        "duration": 11,
        "start_time": "2023-04-26T15:39:52.347Z"
      },
      {
        "duration": 13,
        "start_time": "2023-04-26T15:39:59.879Z"
      },
      {
        "duration": 1616,
        "start_time": "2023-04-27T07:08:53.253Z"
      },
      {
        "duration": 464,
        "start_time": "2023-04-27T07:08:54.871Z"
      },
      {
        "duration": 27,
        "start_time": "2023-04-27T07:08:55.337Z"
      },
      {
        "duration": 29,
        "start_time": "2023-04-27T07:08:55.367Z"
      },
      {
        "duration": 40,
        "start_time": "2023-04-27T07:08:55.398Z"
      },
      {
        "duration": 144,
        "start_time": "2023-04-27T07:08:55.535Z"
      },
      {
        "duration": 148,
        "start_time": "2023-04-27T07:08:55.914Z"
      },
      {
        "duration": 335,
        "start_time": "2023-04-27T07:08:56.568Z"
      },
      {
        "duration": 153,
        "start_time": "2023-04-27T07:08:56.997Z"
      },
      {
        "duration": 93,
        "start_time": "2023-04-27T07:08:57.402Z"
      },
      {
        "duration": 32,
        "start_time": "2023-04-27T07:08:58.201Z"
      },
      {
        "duration": 4,
        "start_time": "2023-04-27T07:08:58.416Z"
      },
      {
        "duration": 10,
        "start_time": "2023-04-27T07:08:58.812Z"
      },
      {
        "duration": 7,
        "start_time": "2023-04-27T07:08:59.242Z"
      },
      {
        "duration": 1511,
        "start_time": "2023-04-27T07:08:59.928Z"
      },
      {
        "duration": 325,
        "start_time": "2023-04-27T07:09:01.441Z"
      },
      {
        "duration": 70,
        "start_time": "2023-04-27T07:09:01.768Z"
      },
      {
        "duration": 893,
        "start_time": "2023-04-27T07:09:01.840Z"
      },
      {
        "duration": 5,
        "start_time": "2023-04-27T07:09:02.735Z"
      },
      {
        "duration": 51,
        "start_time": "2023-04-27T07:09:02.742Z"
      },
      {
        "duration": 120,
        "start_time": "2023-04-27T07:09:02.804Z"
      },
      {
        "duration": 68,
        "start_time": "2023-04-27T07:09:03.457Z"
      },
      {
        "duration": 81,
        "start_time": "2023-04-27T07:09:04.132Z"
      },
      {
        "duration": 11,
        "start_time": "2023-04-27T07:09:04.350Z"
      },
      {
        "duration": 24,
        "start_time": "2023-04-27T07:23:17.102Z"
      },
      {
        "duration": 21,
        "start_time": "2023-04-27T07:23:19.801Z"
      },
      {
        "duration": 61,
        "start_time": "2023-04-27T07:24:49.838Z"
      },
      {
        "duration": 83,
        "start_time": "2023-04-27T07:26:19.328Z"
      },
      {
        "duration": 102,
        "start_time": "2023-04-27T07:26:27.311Z"
      },
      {
        "duration": 113,
        "start_time": "2023-04-27T07:40:52.724Z"
      },
      {
        "duration": 10,
        "start_time": "2023-04-27T07:41:21.447Z"
      },
      {
        "duration": 233,
        "start_time": "2023-04-27T07:41:39.130Z"
      },
      {
        "duration": 81,
        "start_time": "2023-04-27T07:41:42.897Z"
      },
      {
        "duration": 101,
        "start_time": "2023-04-27T07:42:05.284Z"
      },
      {
        "duration": 10,
        "start_time": "2023-04-27T07:42:43.806Z"
      },
      {
        "duration": 1662,
        "start_time": "2023-04-27T07:43:05.143Z"
      },
      {
        "duration": 113,
        "start_time": "2023-04-27T07:43:52.390Z"
      },
      {
        "duration": 354,
        "start_time": "2023-04-27T07:44:01.030Z"
      },
      {
        "duration": 87,
        "start_time": "2023-04-27T07:44:14.697Z"
      },
      {
        "duration": 5,
        "start_time": "2023-04-27T07:44:21.508Z"
      },
      {
        "duration": 9,
        "start_time": "2023-04-27T07:44:33.322Z"
      },
      {
        "duration": 11,
        "start_time": "2023-04-27T07:44:56.024Z"
      },
      {
        "duration": 9,
        "start_time": "2023-04-27T07:45:48.889Z"
      },
      {
        "duration": 73,
        "start_time": "2023-04-27T07:45:58.248Z"
      },
      {
        "duration": 9,
        "start_time": "2023-04-27T07:45:58.883Z"
      },
      {
        "duration": 9,
        "start_time": "2023-04-27T07:46:05.528Z"
      },
      {
        "duration": 10,
        "start_time": "2023-04-27T07:46:54.643Z"
      },
      {
        "duration": 11,
        "start_time": "2023-04-27T07:47:36.252Z"
      },
      {
        "duration": 10,
        "start_time": "2023-04-27T07:47:57.923Z"
      },
      {
        "duration": 11,
        "start_time": "2023-04-27T07:48:25.664Z"
      },
      {
        "duration": 65,
        "start_time": "2023-04-27T07:48:29.328Z"
      },
      {
        "duration": 20,
        "start_time": "2023-04-27T07:48:29.866Z"
      },
      {
        "duration": 8,
        "start_time": "2023-04-27T07:49:10.010Z"
      },
      {
        "duration": 5,
        "start_time": "2023-04-27T07:55:08.370Z"
      },
      {
        "duration": 3,
        "start_time": "2023-04-27T07:55:19.628Z"
      },
      {
        "duration": 15,
        "start_time": "2023-04-27T08:00:37.769Z"
      },
      {
        "duration": 52,
        "start_time": "2023-04-27T08:01:05.799Z"
      },
      {
        "duration": 36,
        "start_time": "2023-04-27T08:08:47.318Z"
      },
      {
        "duration": 27,
        "start_time": "2023-04-27T08:09:05.030Z"
      },
      {
        "duration": 40,
        "start_time": "2023-04-27T08:10:20.621Z"
      },
      {
        "duration": 57,
        "start_time": "2023-04-27T08:10:27.519Z"
      },
      {
        "duration": 54,
        "start_time": "2023-04-27T08:12:24.092Z"
      },
      {
        "duration": 131,
        "start_time": "2023-04-27T08:13:12.001Z"
      },
      {
        "duration": 53,
        "start_time": "2023-04-27T08:13:16.509Z"
      },
      {
        "duration": 418,
        "start_time": "2023-04-27T08:18:19.901Z"
      },
      {
        "duration": 17,
        "start_time": "2023-04-27T08:29:44.496Z"
      },
      {
        "duration": 37,
        "start_time": "2023-04-27T08:30:01.261Z"
      },
      {
        "duration": 30,
        "start_time": "2023-04-27T08:30:12.445Z"
      },
      {
        "duration": 27,
        "start_time": "2023-04-27T08:30:19.396Z"
      },
      {
        "duration": 50,
        "start_time": "2023-04-27T08:31:43.773Z"
      },
      {
        "duration": 26,
        "start_time": "2023-04-27T08:31:58.297Z"
      },
      {
        "duration": 42,
        "start_time": "2023-04-27T08:32:27.463Z"
      },
      {
        "duration": 1274,
        "start_time": "2023-04-27T14:25:48.012Z"
      },
      {
        "duration": 528,
        "start_time": "2023-04-27T14:25:49.288Z"
      },
      {
        "duration": 23,
        "start_time": "2023-04-27T14:25:49.818Z"
      },
      {
        "duration": 18,
        "start_time": "2023-04-27T14:25:49.843Z"
      },
      {
        "duration": 25,
        "start_time": "2023-04-27T14:25:49.863Z"
      },
      {
        "duration": 151,
        "start_time": "2023-04-27T14:25:49.890Z"
      },
      {
        "duration": 83,
        "start_time": "2023-04-27T14:25:50.244Z"
      },
      {
        "duration": 15,
        "start_time": "2023-04-27T14:25:50.813Z"
      },
      {
        "duration": 145,
        "start_time": "2023-04-27T14:25:51.213Z"
      },
      {
        "duration": 48,
        "start_time": "2023-04-27T14:25:51.539Z"
      },
      {
        "duration": 22,
        "start_time": "2023-04-27T14:25:52.320Z"
      },
      {
        "duration": 4,
        "start_time": "2023-04-27T14:25:52.491Z"
      },
      {
        "duration": 9,
        "start_time": "2023-04-27T14:25:52.883Z"
      },
      {
        "duration": 7,
        "start_time": "2023-04-27T14:25:53.279Z"
      },
      {
        "duration": 1155,
        "start_time": "2023-04-27T14:25:53.869Z"
      },
      {
        "duration": 295,
        "start_time": "2023-04-27T14:25:55.025Z"
      },
      {
        "duration": 34,
        "start_time": "2023-04-27T14:25:55.322Z"
      },
      {
        "duration": 597,
        "start_time": "2023-04-27T14:25:55.359Z"
      },
      {
        "duration": 5,
        "start_time": "2023-04-27T14:25:55.957Z"
      },
      {
        "duration": 21,
        "start_time": "2023-04-27T14:25:55.963Z"
      },
      {
        "duration": 50,
        "start_time": "2023-04-27T14:25:55.986Z"
      },
      {
        "duration": 22,
        "start_time": "2023-04-27T14:25:56.749Z"
      },
      {
        "duration": 49,
        "start_time": "2023-04-27T14:25:57.410Z"
      },
      {
        "duration": 12,
        "start_time": "2023-04-27T14:25:57.623Z"
      },
      {
        "duration": 78,
        "start_time": "2023-04-27T14:25:58.307Z"
      },
      {
        "duration": 11,
        "start_time": "2023-04-27T14:25:58.576Z"
      },
      {
        "duration": 4,
        "start_time": "2023-04-27T14:25:59.517Z"
      },
      {
        "duration": 44,
        "start_time": "2023-04-27T14:26:00.832Z"
      },
      {
        "duration": 41,
        "start_time": "2023-04-27T14:26:02.250Z"
      },
      {
        "duration": 31,
        "start_time": "2023-04-27T14:26:03.127Z"
      },
      {
        "duration": 3,
        "start_time": "2023-04-27T16:10:02.070Z"
      },
      {
        "duration": 157,
        "start_time": "2023-04-27T16:10:02.391Z"
      },
      {
        "duration": 17,
        "start_time": "2023-04-27T16:10:02.549Z"
      },
      {
        "duration": 7,
        "start_time": "2023-04-27T16:10:02.889Z"
      },
      {
        "duration": 14,
        "start_time": "2023-04-27T16:10:03.243Z"
      },
      {
        "duration": 87,
        "start_time": "2023-04-27T16:10:03.790Z"
      },
      {
        "duration": 61,
        "start_time": "2023-04-27T16:10:04.164Z"
      },
      {
        "duration": 13,
        "start_time": "2023-04-27T16:10:04.730Z"
      },
      {
        "duration": 102,
        "start_time": "2023-04-27T16:10:05.095Z"
      },
      {
        "duration": 48,
        "start_time": "2023-04-27T16:10:05.436Z"
      },
      {
        "duration": 28,
        "start_time": "2023-04-27T16:10:06.153Z"
      },
      {
        "duration": 4,
        "start_time": "2023-04-27T16:10:06.347Z"
      },
      {
        "duration": 9,
        "start_time": "2023-04-27T16:10:06.722Z"
      },
      {
        "duration": 9,
        "start_time": "2023-04-27T16:10:07.090Z"
      },
      {
        "duration": 1235,
        "start_time": "2023-04-27T16:10:07.623Z"
      },
      {
        "duration": 225,
        "start_time": "2023-04-27T16:10:08.860Z"
      },
      {
        "duration": 34,
        "start_time": "2023-04-27T16:10:09.086Z"
      },
      {
        "duration": 684,
        "start_time": "2023-04-27T16:10:09.133Z"
      },
      {
        "duration": 5,
        "start_time": "2023-04-27T16:10:09.819Z"
      },
      {
        "duration": 11,
        "start_time": "2023-04-27T16:10:09.835Z"
      },
      {
        "duration": 60,
        "start_time": "2023-04-27T16:10:09.848Z"
      },
      {
        "duration": 37,
        "start_time": "2023-04-27T16:10:10.465Z"
      },
      {
        "duration": 73,
        "start_time": "2023-04-27T16:10:11.237Z"
      },
      {
        "duration": 15,
        "start_time": "2023-04-27T16:10:11.441Z"
      },
      {
        "duration": 89,
        "start_time": "2023-04-27T16:10:12.045Z"
      },
      {
        "duration": 11,
        "start_time": "2023-04-27T16:10:12.257Z"
      },
      {
        "duration": 5,
        "start_time": "2023-04-27T16:10:12.865Z"
      },
      {
        "duration": 44,
        "start_time": "2023-04-27T16:10:13.473Z"
      },
      {
        "duration": 44,
        "start_time": "2023-04-27T16:10:14.097Z"
      },
      {
        "duration": 51,
        "start_time": "2023-04-27T16:10:14.599Z"
      },
      {
        "duration": 5,
        "start_time": "2023-04-27T16:10:15.279Z"
      },
      {
        "duration": 7,
        "start_time": "2023-04-27T16:13:24.787Z"
      },
      {
        "duration": 6,
        "start_time": "2023-04-27T16:13:35.029Z"
      },
      {
        "duration": 86,
        "start_time": "2023-04-27T16:14:33.396Z"
      },
      {
        "duration": 99,
        "start_time": "2023-04-27T16:14:39.986Z"
      },
      {
        "duration": 14,
        "start_time": "2023-04-27T16:15:01.320Z"
      },
      {
        "duration": 3,
        "start_time": "2023-04-27T16:26:36.188Z"
      },
      {
        "duration": 162,
        "start_time": "2023-04-27T16:26:36.498Z"
      },
      {
        "duration": 18,
        "start_time": "2023-04-27T16:26:36.663Z"
      },
      {
        "duration": 7,
        "start_time": "2023-04-27T16:26:36.978Z"
      },
      {
        "duration": 14,
        "start_time": "2023-04-27T16:26:37.348Z"
      },
      {
        "duration": 107,
        "start_time": "2023-04-27T16:26:37.866Z"
      },
      {
        "duration": 71,
        "start_time": "2023-04-27T16:26:38.202Z"
      },
      {
        "duration": 18,
        "start_time": "2023-04-27T16:26:38.750Z"
      },
      {
        "duration": 112,
        "start_time": "2023-04-27T16:26:39.069Z"
      },
      {
        "duration": 51,
        "start_time": "2023-04-27T16:26:39.412Z"
      },
      {
        "duration": 24,
        "start_time": "2023-04-27T16:26:40.298Z"
      },
      {
        "duration": 3,
        "start_time": "2023-04-27T16:26:40.474Z"
      },
      {
        "duration": 8,
        "start_time": "2023-04-27T16:26:40.799Z"
      },
      {
        "duration": 8,
        "start_time": "2023-04-27T16:26:41.216Z"
      },
      {
        "duration": 1158,
        "start_time": "2023-04-27T16:26:41.763Z"
      },
      {
        "duration": 206,
        "start_time": "2023-04-27T16:26:42.923Z"
      },
      {
        "duration": 27,
        "start_time": "2023-04-27T16:26:43.134Z"
      },
      {
        "duration": 596,
        "start_time": "2023-04-27T16:26:43.163Z"
      },
      {
        "duration": 4,
        "start_time": "2023-04-27T16:26:43.761Z"
      },
      {
        "duration": 21,
        "start_time": "2023-04-27T16:26:43.768Z"
      },
      {
        "duration": 48,
        "start_time": "2023-04-27T16:26:43.791Z"
      },
      {
        "duration": 22,
        "start_time": "2023-04-27T16:26:44.354Z"
      },
      {
        "duration": 70,
        "start_time": "2023-04-27T16:26:44.909Z"
      },
      {
        "duration": 12,
        "start_time": "2023-04-27T16:26:45.085Z"
      },
      {
        "duration": 66,
        "start_time": "2023-04-27T16:26:45.657Z"
      },
      {
        "duration": 10,
        "start_time": "2023-04-27T16:26:45.849Z"
      },
      {
        "duration": 4,
        "start_time": "2023-04-27T16:26:46.414Z"
      },
      {
        "duration": 50,
        "start_time": "2023-04-27T16:26:46.951Z"
      },
      {
        "duration": 51,
        "start_time": "2023-04-27T16:26:47.520Z"
      },
      {
        "duration": 39,
        "start_time": "2023-04-27T16:26:47.926Z"
      },
      {
        "duration": 6,
        "start_time": "2023-04-27T16:26:48.499Z"
      },
      {
        "duration": 13,
        "start_time": "2023-04-27T16:26:48.680Z"
      },
      {
        "duration": 3,
        "start_time": "2023-04-27T16:28:25.339Z"
      },
      {
        "duration": 151,
        "start_time": "2023-04-27T16:28:25.649Z"
      },
      {
        "duration": 19,
        "start_time": "2023-04-27T16:28:25.803Z"
      },
      {
        "duration": 8,
        "start_time": "2023-04-27T16:28:26.117Z"
      },
      {
        "duration": 14,
        "start_time": "2023-04-27T16:28:26.462Z"
      },
      {
        "duration": 92,
        "start_time": "2023-04-27T16:28:26.976Z"
      },
      {
        "duration": 66,
        "start_time": "2023-04-27T16:28:27.300Z"
      },
      {
        "duration": 12,
        "start_time": "2023-04-27T16:28:27.898Z"
      },
      {
        "duration": 99,
        "start_time": "2023-04-27T16:28:28.255Z"
      },
      {
        "duration": 41,
        "start_time": "2023-04-27T16:28:28.581Z"
      },
      {
        "duration": 23,
        "start_time": "2023-04-27T16:28:29.278Z"
      },
      {
        "duration": 3,
        "start_time": "2023-04-27T16:28:29.447Z"
      },
      {
        "duration": 8,
        "start_time": "2023-04-27T16:28:29.800Z"
      },
      {
        "duration": 7,
        "start_time": "2023-04-27T16:28:30.154Z"
      },
      {
        "duration": 1221,
        "start_time": "2023-04-27T16:28:30.678Z"
      },
      {
        "duration": 200,
        "start_time": "2023-04-27T16:28:31.901Z"
      },
      {
        "duration": 39,
        "start_time": "2023-04-27T16:28:32.103Z"
      },
      {
        "duration": 607,
        "start_time": "2023-04-27T16:28:32.144Z"
      },
      {
        "duration": 5,
        "start_time": "2023-04-27T16:28:32.753Z"
      },
      {
        "duration": 49,
        "start_time": "2023-04-27T16:28:32.759Z"
      },
      {
        "duration": 76,
        "start_time": "2023-04-27T16:28:32.810Z"
      },
      {
        "duration": 22,
        "start_time": "2023-04-27T16:28:33.246Z"
      },
      {
        "duration": 63,
        "start_time": "2023-04-27T16:28:33.811Z"
      },
      {
        "duration": 11,
        "start_time": "2023-04-27T16:28:34.021Z"
      },
      {
        "duration": 81,
        "start_time": "2023-04-27T16:28:34.583Z"
      },
      {
        "duration": 11,
        "start_time": "2023-04-27T16:28:34.749Z"
      },
      {
        "duration": 5,
        "start_time": "2023-04-27T16:28:35.330Z"
      },
      {
        "duration": 51,
        "start_time": "2023-04-27T16:28:35.901Z"
      },
      {
        "duration": 43,
        "start_time": "2023-04-27T16:28:36.448Z"
      },
      {
        "duration": 33,
        "start_time": "2023-04-27T16:28:36.818Z"
      },
      {
        "duration": 6,
        "start_time": "2023-04-27T16:28:37.553Z"
      },
      {
        "duration": 11,
        "start_time": "2023-04-27T16:28:37.741Z"
      },
      {
        "duration": 2,
        "start_time": "2023-04-27T16:28:49.656Z"
      },
      {
        "duration": 178,
        "start_time": "2023-04-27T16:28:50.037Z"
      },
      {
        "duration": 27,
        "start_time": "2023-04-27T16:28:50.216Z"
      },
      {
        "duration": 10,
        "start_time": "2023-04-27T16:28:50.563Z"
      },
      {
        "duration": 14,
        "start_time": "2023-04-27T16:28:50.909Z"
      },
      {
        "duration": 85,
        "start_time": "2023-04-27T16:28:52.804Z"
      },
      {
        "duration": 66,
        "start_time": "2023-04-27T16:28:53.268Z"
      },
      {
        "duration": 12,
        "start_time": "2023-04-27T16:28:53.839Z"
      },
      {
        "duration": 98,
        "start_time": "2023-04-27T16:28:54.151Z"
      },
      {
        "duration": 46,
        "start_time": "2023-04-27T16:28:54.487Z"
      },
      {
        "duration": 22,
        "start_time": "2023-04-27T16:28:55.181Z"
      },
      {
        "duration": 3,
        "start_time": "2023-04-27T16:28:55.328Z"
      },
      {
        "duration": 8,
        "start_time": "2023-04-27T16:28:55.672Z"
      },
      {
        "duration": 6,
        "start_time": "2023-04-27T16:28:56.014Z"
      },
      {
        "duration": 1208,
        "start_time": "2023-04-27T16:28:56.560Z"
      },
      {
        "duration": 209,
        "start_time": "2023-04-27T16:28:57.770Z"
      },
      {
        "duration": 26,
        "start_time": "2023-04-27T16:28:57.981Z"
      },
      {
        "duration": 606,
        "start_time": "2023-04-27T16:28:58.009Z"
      },
      {
        "duration": 4,
        "start_time": "2023-04-27T16:28:58.617Z"
      },
      {
        "duration": 14,
        "start_time": "2023-04-27T16:28:58.634Z"
      },
      {
        "duration": 50,
        "start_time": "2023-04-27T16:28:58.649Z"
      },
      {
        "duration": 22,
        "start_time": "2023-04-27T16:28:59.002Z"
      },
      {
        "duration": 61,
        "start_time": "2023-04-27T16:28:59.532Z"
      },
      {
        "duration": 12,
        "start_time": "2023-04-27T16:28:59.702Z"
      },
      {
        "duration": 73,
        "start_time": "2023-04-27T16:29:00.255Z"
      },
      {
        "duration": 11,
        "start_time": "2023-04-27T16:29:00.475Z"
      },
      {
        "duration": 6,
        "start_time": "2023-04-27T16:29:01.017Z"
      },
      {
        "duration": 41,
        "start_time": "2023-04-27T16:29:01.680Z"
      },
      {
        "duration": 42,
        "start_time": "2023-04-27T16:29:02.440Z"
      },
      {
        "duration": 32,
        "start_time": "2023-04-27T16:29:02.845Z"
      },
      {
        "duration": 6,
        "start_time": "2023-04-27T16:29:03.466Z"
      },
      {
        "duration": 11,
        "start_time": "2023-04-27T16:29:03.689Z"
      },
      {
        "duration": 6,
        "start_time": "2023-04-27T16:31:46.026Z"
      },
      {
        "duration": 11,
        "start_time": "2023-04-27T16:31:50.573Z"
      },
      {
        "duration": 6,
        "start_time": "2023-04-27T16:32:33.646Z"
      },
      {
        "duration": 45,
        "start_time": "2023-04-27T16:32:34.666Z"
      },
      {
        "duration": 5,
        "start_time": "2023-04-27T16:32:57.208Z"
      },
      {
        "duration": 65,
        "start_time": "2023-04-27T16:32:57.517Z"
      },
      {
        "duration": 3,
        "start_time": "2023-04-27T16:33:50.229Z"
      },
      {
        "duration": 6,
        "start_time": "2023-04-27T16:33:55.001Z"
      },
      {
        "duration": 63,
        "start_time": "2023-04-27T16:33:56.354Z"
      },
      {
        "duration": 6,
        "start_time": "2023-04-27T16:34:43.393Z"
      },
      {
        "duration": 58,
        "start_time": "2023-04-27T16:34:44.035Z"
      },
      {
        "duration": 6,
        "start_time": "2023-04-27T16:35:57.390Z"
      },
      {
        "duration": 58,
        "start_time": "2023-04-27T16:35:58.149Z"
      },
      {
        "duration": 65,
        "start_time": "2023-04-27T16:36:25.671Z"
      },
      {
        "duration": 56,
        "start_time": "2023-04-27T16:36:49.959Z"
      },
      {
        "duration": 77,
        "start_time": "2023-04-27T16:37:00.029Z"
      },
      {
        "duration": 51,
        "start_time": "2023-04-27T16:37:18.707Z"
      },
      {
        "duration": 56,
        "start_time": "2023-04-27T16:45:54.555Z"
      },
      {
        "duration": 57,
        "start_time": "2023-04-27T16:45:55.072Z"
      },
      {
        "duration": 53,
        "start_time": "2023-04-27T16:45:55.526Z"
      },
      {
        "duration": 53,
        "start_time": "2023-04-27T16:45:55.963Z"
      },
      {
        "duration": 47,
        "start_time": "2023-04-27T16:46:19.462Z"
      },
      {
        "duration": 57,
        "start_time": "2023-04-27T16:46:21.938Z"
      },
      {
        "duration": 56,
        "start_time": "2023-04-27T16:46:22.236Z"
      },
      {
        "duration": 51,
        "start_time": "2023-04-27T16:46:22.852Z"
      },
      {
        "duration": 51,
        "start_time": "2023-04-27T16:46:23.151Z"
      },
      {
        "duration": 65,
        "start_time": "2023-04-27T16:47:45.503Z"
      },
      {
        "duration": 58,
        "start_time": "2023-04-27T16:47:52.243Z"
      },
      {
        "duration": 49,
        "start_time": "2023-04-27T16:47:58.515Z"
      },
      {
        "duration": 52,
        "start_time": "2023-04-27T16:48:04.575Z"
      },
      {
        "duration": 53,
        "start_time": "2023-04-27T16:48:17.612Z"
      },
      {
        "duration": 73,
        "start_time": "2023-04-27T16:49:29.697Z"
      },
      {
        "duration": 6,
        "start_time": "2023-04-27T16:50:32.428Z"
      },
      {
        "duration": 35,
        "start_time": "2023-04-27T16:50:33.343Z"
      },
      {
        "duration": 8,
        "start_time": "2023-04-27T16:50:58.670Z"
      },
      {
        "duration": 74,
        "start_time": "2023-04-27T16:50:59.612Z"
      },
      {
        "duration": 8,
        "start_time": "2023-04-27T16:51:12.382Z"
      },
      {
        "duration": 74,
        "start_time": "2023-04-27T16:51:12.834Z"
      },
      {
        "duration": 1319,
        "start_time": "2023-04-28T07:00:07.144Z"
      },
      {
        "duration": 1037,
        "start_time": "2023-04-28T07:00:08.466Z"
      },
      {
        "duration": 20,
        "start_time": "2023-04-28T07:00:09.504Z"
      },
      {
        "duration": 7,
        "start_time": "2023-04-28T07:00:09.526Z"
      },
      {
        "duration": 24,
        "start_time": "2023-04-28T07:00:09.535Z"
      },
      {
        "duration": 128,
        "start_time": "2023-04-28T07:00:09.561Z"
      },
      {
        "duration": 93,
        "start_time": "2023-04-28T07:00:09.691Z"
      },
      {
        "duration": 16,
        "start_time": "2023-04-28T07:00:09.786Z"
      },
      {
        "duration": 103,
        "start_time": "2023-04-28T07:00:10.067Z"
      },
      {
        "duration": 46,
        "start_time": "2023-04-28T07:00:10.408Z"
      },
      {
        "duration": 21,
        "start_time": "2023-04-28T07:00:11.100Z"
      },
      {
        "duration": 3,
        "start_time": "2023-04-28T07:00:11.282Z"
      },
      {
        "duration": 8,
        "start_time": "2023-04-28T07:00:11.652Z"
      },
      {
        "duration": 7,
        "start_time": "2023-04-28T07:00:12.012Z"
      },
      {
        "duration": 1197,
        "start_time": "2023-04-28T07:00:12.521Z"
      },
      {
        "duration": 340,
        "start_time": "2023-04-28T07:00:13.720Z"
      },
      {
        "duration": 30,
        "start_time": "2023-04-28T07:00:14.062Z"
      },
      {
        "duration": 677,
        "start_time": "2023-04-28T07:00:14.094Z"
      },
      {
        "duration": 5,
        "start_time": "2023-04-28T07:00:14.773Z"
      },
      {
        "duration": 15,
        "start_time": "2023-04-28T07:00:14.780Z"
      },
      {
        "duration": 68,
        "start_time": "2023-04-28T07:00:14.797Z"
      },
      {
        "duration": 21,
        "start_time": "2023-04-28T07:00:15.026Z"
      },
      {
        "duration": 56,
        "start_time": "2023-04-28T07:00:15.570Z"
      },
      {
        "duration": 13,
        "start_time": "2023-04-28T07:00:15.761Z"
      },
      {
        "duration": 79,
        "start_time": "2023-04-28T07:00:16.329Z"
      },
      {
        "duration": 10,
        "start_time": "2023-04-28T07:00:16.504Z"
      },
      {
        "duration": 5,
        "start_time": "2023-04-28T07:00:17.219Z"
      },
      {
        "duration": 47,
        "start_time": "2023-04-28T07:00:17.784Z"
      },
      {
        "duration": 47,
        "start_time": "2023-04-28T07:00:18.373Z"
      },
      {
        "duration": 37,
        "start_time": "2023-04-28T07:00:18.758Z"
      },
      {
        "duration": 5,
        "start_time": "2023-04-28T07:00:19.339Z"
      },
      {
        "duration": 68,
        "start_time": "2023-04-28T07:00:19.518Z"
      },
      {
        "duration": 66,
        "start_time": "2023-04-28T07:00:19.717Z"
      },
      {
        "duration": 60,
        "start_time": "2023-04-28T07:00:19.911Z"
      },
      {
        "duration": 84,
        "start_time": "2023-04-28T07:00:20.107Z"
      },
      {
        "duration": 73,
        "start_time": "2023-04-28T07:00:20.919Z"
      },
      {
        "duration": 75,
        "start_time": "2023-04-28T07:00:21.678Z"
      },
      {
        "duration": 65,
        "start_time": "2023-04-28T07:00:21.911Z"
      },
      {
        "duration": 90,
        "start_time": "2023-04-28T07:00:22.137Z"
      },
      {
        "duration": 71,
        "start_time": "2023-04-28T07:00:22.595Z"
      },
      {
        "duration": 75,
        "start_time": "2023-04-28T07:00:22.806Z"
      },
      {
        "duration": 68,
        "start_time": "2023-04-28T07:00:23.009Z"
      },
      {
        "duration": 60,
        "start_time": "2023-04-28T07:00:23.177Z"
      },
      {
        "duration": 54,
        "start_time": "2023-04-28T07:01:54.491Z"
      },
      {
        "duration": 10,
        "start_time": "2023-04-28T07:04:55.426Z"
      },
      {
        "duration": 30,
        "start_time": "2023-04-28T07:04:57.102Z"
      },
      {
        "duration": 9,
        "start_time": "2023-04-28T07:05:09.955Z"
      },
      {
        "duration": 112,
        "start_time": "2023-04-28T07:05:10.514Z"
      },
      {
        "duration": 23,
        "start_time": "2023-04-28T07:05:11.130Z"
      },
      {
        "duration": 6,
        "start_time": "2023-04-28T07:05:19.343Z"
      },
      {
        "duration": 27,
        "start_time": "2023-04-28T07:05:19.703Z"
      },
      {
        "duration": 25,
        "start_time": "2023-04-28T07:05:19.987Z"
      },
      {
        "duration": 28,
        "start_time": "2023-04-28T07:05:20.347Z"
      },
      {
        "duration": 27,
        "start_time": "2023-04-28T07:05:21.317Z"
      },
      {
        "duration": 8,
        "start_time": "2023-04-28T07:05:32.877Z"
      },
      {
        "duration": 97,
        "start_time": "2023-04-28T07:05:33.103Z"
      },
      {
        "duration": 75,
        "start_time": "2023-04-28T07:05:33.267Z"
      },
      {
        "duration": 70,
        "start_time": "2023-04-28T07:05:33.426Z"
      },
      {
        "duration": 72,
        "start_time": "2023-04-28T07:05:33.601Z"
      },
      {
        "duration": 72,
        "start_time": "2023-04-28T07:05:34.231Z"
      },
      {
        "duration": 71,
        "start_time": "2023-04-28T07:05:34.379Z"
      },
      {
        "duration": 64,
        "start_time": "2023-04-28T07:05:34.533Z"
      },
      {
        "duration": 68,
        "start_time": "2023-04-28T07:05:34.699Z"
      },
      {
        "duration": 77,
        "start_time": "2023-04-28T07:05:35.033Z"
      },
      {
        "duration": 77,
        "start_time": "2023-04-28T07:05:35.223Z"
      },
      {
        "duration": 79,
        "start_time": "2023-04-28T07:05:35.412Z"
      },
      {
        "duration": 73,
        "start_time": "2023-04-28T07:05:35.601Z"
      },
      {
        "duration": 42,
        "start_time": "2023-04-28T07:05:35.971Z"
      },
      {
        "duration": 92,
        "start_time": "2023-04-28T07:08:52.346Z"
      },
      {
        "duration": 50,
        "start_time": "2023-04-28T07:09:45.446Z"
      },
      {
        "duration": 60,
        "start_time": "2023-04-28T07:09:50.552Z"
      },
      {
        "duration": 60,
        "start_time": "2023-04-28T07:09:57.767Z"
      },
      {
        "duration": 69,
        "start_time": "2023-04-28T07:10:01.835Z"
      },
      {
        "duration": 82,
        "start_time": "2023-04-28T07:10:06.896Z"
      },
      {
        "duration": 72,
        "start_time": "2023-04-28T07:10:07.352Z"
      },
      {
        "duration": 59,
        "start_time": "2023-04-28T07:10:08.150Z"
      },
      {
        "duration": 67,
        "start_time": "2023-04-28T07:10:08.597Z"
      },
      {
        "duration": 19,
        "start_time": "2023-04-28T07:53:51.723Z"
      },
      {
        "duration": 4,
        "start_time": "2023-04-28T07:53:52.338Z"
      },
      {
        "duration": 228,
        "start_time": "2023-04-28T07:55:23.497Z"
      },
      {
        "duration": 242,
        "start_time": "2023-04-28T07:55:32.049Z"
      },
      {
        "duration": 216,
        "start_time": "2023-04-28T07:55:39.978Z"
      },
      {
        "duration": 306,
        "start_time": "2023-04-28T07:58:21.319Z"
      },
      {
        "duration": 249,
        "start_time": "2023-04-28T07:58:29.066Z"
      },
      {
        "duration": 253,
        "start_time": "2023-04-28T07:58:32.169Z"
      },
      {
        "duration": 3,
        "start_time": "2023-04-28T07:58:42.706Z"
      },
      {
        "duration": 145,
        "start_time": "2023-04-28T07:58:42.989Z"
      },
      {
        "duration": 26,
        "start_time": "2023-04-28T07:58:43.138Z"
      },
      {
        "duration": 9,
        "start_time": "2023-04-28T07:58:43.430Z"
      },
      {
        "duration": 13,
        "start_time": "2023-04-28T07:58:43.734Z"
      },
      {
        "duration": 108,
        "start_time": "2023-04-28T07:58:44.185Z"
      },
      {
        "duration": 75,
        "start_time": "2023-04-28T07:58:44.498Z"
      },
      {
        "duration": 17,
        "start_time": "2023-04-28T07:58:45.036Z"
      },
      {
        "duration": 104,
        "start_time": "2023-04-28T07:58:45.978Z"
      },
      {
        "duration": 45,
        "start_time": "2023-04-28T07:58:46.910Z"
      },
      {
        "duration": 20,
        "start_time": "2023-04-28T07:58:47.879Z"
      },
      {
        "duration": 4,
        "start_time": "2023-04-28T07:58:48.156Z"
      },
      {
        "duration": 9,
        "start_time": "2023-04-28T07:58:48.804Z"
      },
      {
        "duration": 9,
        "start_time": "2023-04-28T07:58:49.473Z"
      },
      {
        "duration": 1350,
        "start_time": "2023-04-28T07:58:50.471Z"
      },
      {
        "duration": 211,
        "start_time": "2023-04-28T07:58:51.823Z"
      },
      {
        "duration": 204,
        "start_time": "2023-04-28T07:59:05.274Z"
      },
      {
        "duration": 709,
        "start_time": "2023-04-28T07:59:29.717Z"
      },
      {
        "duration": 6,
        "start_time": "2023-04-28T07:59:52.120Z"
      },
      {
        "duration": 5,
        "start_time": "2023-04-28T08:00:04.915Z"
      },
      {
        "duration": 12,
        "start_time": "2023-04-28T08:00:14.696Z"
      },
      {
        "duration": 1318,
        "start_time": "2023-04-28T09:13:50.023Z"
      },
      {
        "duration": 735,
        "start_time": "2023-04-28T09:13:51.343Z"
      },
      {
        "duration": 27,
        "start_time": "2023-04-28T09:13:52.080Z"
      },
      {
        "duration": 10,
        "start_time": "2023-04-28T09:13:52.113Z"
      },
      {
        "duration": 30,
        "start_time": "2023-04-28T09:13:52.126Z"
      },
      {
        "duration": 194,
        "start_time": "2023-04-28T09:13:52.158Z"
      },
      {
        "duration": 185,
        "start_time": "2023-04-28T09:13:52.354Z"
      },
      {
        "duration": 21,
        "start_time": "2023-04-28T09:13:52.542Z"
      },
      {
        "duration": 146,
        "start_time": "2023-04-28T09:13:52.565Z"
      },
      {
        "duration": 49,
        "start_time": "2023-04-28T09:13:52.715Z"
      },
      {
        "duration": 37,
        "start_time": "2023-04-28T09:13:52.766Z"
      },
      {
        "duration": 6,
        "start_time": "2023-04-28T09:13:52.807Z"
      },
      {
        "duration": 34,
        "start_time": "2023-04-28T09:13:52.814Z"
      },
      {
        "duration": 11,
        "start_time": "2023-04-28T09:13:52.850Z"
      },
      {
        "duration": 1393,
        "start_time": "2023-04-28T09:13:52.863Z"
      },
      {
        "duration": 377,
        "start_time": "2023-04-28T09:13:54.258Z"
      },
      {
        "duration": 741,
        "start_time": "2023-04-28T09:13:54.637Z"
      },
      {
        "duration": 20,
        "start_time": "2023-04-28T09:13:55.379Z"
      },
      {
        "duration": 17,
        "start_time": "2023-04-28T09:13:55.401Z"
      },
      {
        "duration": 50,
        "start_time": "2023-04-28T09:13:55.420Z"
      },
      {
        "duration": 36,
        "start_time": "2023-04-28T09:13:55.472Z"
      },
      {
        "duration": 60,
        "start_time": "2023-04-28T09:13:55.510Z"
      },
      {
        "duration": 31,
        "start_time": "2023-04-28T09:13:55.572Z"
      },
      {
        "duration": 73,
        "start_time": "2023-04-28T09:13:55.606Z"
      },
      {
        "duration": 17,
        "start_time": "2023-04-28T09:13:55.681Z"
      },
      {
        "duration": 195,
        "start_time": "2023-04-28T09:13:55.708Z"
      },
      {
        "duration": 44,
        "start_time": "2023-04-28T09:13:55.905Z"
      },
      {
        "duration": 58,
        "start_time": "2023-04-28T09:13:55.953Z"
      },
      {
        "duration": 40,
        "start_time": "2023-04-28T09:13:56.013Z"
      },
      {
        "duration": 7,
        "start_time": "2023-04-28T09:13:56.054Z"
      },
      {
        "duration": 79,
        "start_time": "2023-04-28T09:13:56.062Z"
      },
      {
        "duration": 68,
        "start_time": "2023-04-28T09:13:56.142Z"
      },
      {
        "duration": 52,
        "start_time": "2023-04-28T09:13:56.212Z"
      },
      {
        "duration": 70,
        "start_time": "2023-04-28T09:13:56.266Z"
      },
      {
        "duration": 72,
        "start_time": "2023-04-28T09:13:56.338Z"
      },
      {
        "duration": 81,
        "start_time": "2023-04-28T09:13:56.412Z"
      },
      {
        "duration": 80,
        "start_time": "2023-04-28T09:13:56.498Z"
      },
      {
        "duration": 67,
        "start_time": "2023-04-28T09:13:56.580Z"
      },
      {
        "duration": 78,
        "start_time": "2023-04-28T09:13:56.649Z"
      },
      {
        "duration": 53,
        "start_time": "2023-04-28T09:13:56.729Z"
      },
      {
        "duration": 69,
        "start_time": "2023-04-28T09:13:56.784Z"
      },
      {
        "duration": 66,
        "start_time": "2023-04-28T09:13:56.854Z"
      },
      {
        "duration": 21,
        "start_time": "2023-04-28T09:13:56.921Z"
      },
      {
        "duration": 89,
        "start_time": "2023-04-28T09:13:56.944Z"
      },
      {
        "duration": 80,
        "start_time": "2023-04-28T09:13:57.035Z"
      },
      {
        "duration": 82,
        "start_time": "2023-04-28T09:13:57.120Z"
      },
      {
        "duration": 57,
        "start_time": "2023-04-28T09:13:57.203Z"
      },
      {
        "duration": 1397,
        "start_time": "2023-04-28T10:35:11.126Z"
      },
      {
        "duration": 966,
        "start_time": "2023-04-28T10:35:12.525Z"
      },
      {
        "duration": 21,
        "start_time": "2023-04-28T10:35:13.492Z"
      },
      {
        "duration": 17,
        "start_time": "2023-04-28T10:35:13.514Z"
      },
      {
        "duration": 39,
        "start_time": "2023-04-28T10:35:13.533Z"
      },
      {
        "duration": 145,
        "start_time": "2023-04-28T10:35:13.574Z"
      },
      {
        "duration": 98,
        "start_time": "2023-04-28T10:35:13.721Z"
      },
      {
        "duration": 18,
        "start_time": "2023-04-28T10:35:14.200Z"
      },
      {
        "duration": 112,
        "start_time": "2023-04-28T10:35:14.501Z"
      },
      {
        "duration": 53,
        "start_time": "2023-04-28T10:35:14.947Z"
      },
      {
        "duration": 23,
        "start_time": "2023-04-28T10:35:15.739Z"
      },
      {
        "duration": 4,
        "start_time": "2023-04-28T10:35:15.909Z"
      },
      {
        "duration": 8,
        "start_time": "2023-04-28T10:35:16.272Z"
      },
      {
        "duration": 7,
        "start_time": "2023-04-28T10:35:16.618Z"
      },
      {
        "duration": 1247,
        "start_time": "2023-04-28T10:35:17.188Z"
      },
      {
        "duration": 302,
        "start_time": "2023-04-28T10:35:18.437Z"
      },
      {
        "duration": 640,
        "start_time": "2023-04-28T10:35:18.741Z"
      },
      {
        "duration": 5,
        "start_time": "2023-04-28T10:35:19.385Z"
      },
      {
        "duration": 31,
        "start_time": "2023-04-28T10:35:19.392Z"
      },
      {
        "duration": 45,
        "start_time": "2023-04-28T10:35:20.358Z"
      },
      {
        "duration": 32,
        "start_time": "2023-04-28T10:35:22.436Z"
      },
      {
        "duration": 62,
        "start_time": "2023-04-28T10:35:23.417Z"
      },
      {
        "duration": 13,
        "start_time": "2023-04-28T10:35:23.586Z"
      },
      {
        "duration": 77,
        "start_time": "2023-04-28T10:35:24.218Z"
      },
      {
        "duration": 13,
        "start_time": "2023-04-28T10:35:24.412Z"
      },
      {
        "duration": 5,
        "start_time": "2023-04-28T10:35:25.062Z"
      },
      {
        "duration": 142,
        "start_time": "2023-04-28T10:35:43.895Z"
      },
      {
        "duration": 484,
        "start_time": "2023-04-28T10:36:27.189Z"
      },
      {
        "duration": 44,
        "start_time": "2023-04-28T10:37:32.921Z"
      },
      {
        "duration": 42,
        "start_time": "2023-04-28T10:37:45.815Z"
      },
      {
        "duration": 10,
        "start_time": "2023-04-28T10:41:23.132Z"
      },
      {
        "duration": 18,
        "start_time": "2023-04-28T10:47:41.633Z"
      },
      {
        "duration": 10,
        "start_time": "2023-04-28T10:47:50.650Z"
      },
      {
        "duration": 14,
        "start_time": "2023-04-28T10:48:22.073Z"
      },
      {
        "duration": 12,
        "start_time": "2023-04-28T10:49:09.211Z"
      },
      {
        "duration": 10,
        "start_time": "2023-04-28T10:49:25.042Z"
      },
      {
        "duration": 12,
        "start_time": "2023-04-28T10:49:37.139Z"
      },
      {
        "duration": 4,
        "start_time": "2023-04-28T10:49:43.104Z"
      },
      {
        "duration": 13,
        "start_time": "2023-04-28T10:50:01.717Z"
      },
      {
        "duration": 82,
        "start_time": "2023-04-28T10:53:09.535Z"
      },
      {
        "duration": 14,
        "start_time": "2023-04-28T10:53:28.945Z"
      },
      {
        "duration": 50,
        "start_time": "2023-04-28T10:54:23.162Z"
      },
      {
        "duration": 56,
        "start_time": "2023-04-28T10:54:38.857Z"
      },
      {
        "duration": 46,
        "start_time": "2023-04-28T10:54:43.002Z"
      },
      {
        "duration": 51,
        "start_time": "2023-04-28T10:54:46.950Z"
      },
      {
        "duration": 17,
        "start_time": "2023-04-28T10:54:53.096Z"
      },
      {
        "duration": 12,
        "start_time": "2023-04-28T10:55:15.656Z"
      },
      {
        "duration": 18,
        "start_time": "2023-04-28T10:55:39.775Z"
      },
      {
        "duration": 10,
        "start_time": "2023-04-28T10:56:03.062Z"
      },
      {
        "duration": 1334,
        "start_time": "2023-04-29T06:22:18.165Z"
      },
      {
        "duration": 524,
        "start_time": "2023-04-29T06:22:19.501Z"
      },
      {
        "duration": 27,
        "start_time": "2023-04-29T06:22:20.028Z"
      },
      {
        "duration": 103,
        "start_time": "2023-04-29T06:22:20.057Z"
      },
      {
        "duration": 66,
        "start_time": "2023-04-29T06:22:20.161Z"
      },
      {
        "duration": 117,
        "start_time": "2023-04-29T06:22:21.024Z"
      },
      {
        "duration": 91,
        "start_time": "2023-04-29T06:22:21.744Z"
      },
      {
        "duration": 16,
        "start_time": "2023-04-29T06:22:22.800Z"
      },
      {
        "duration": 105,
        "start_time": "2023-04-29T06:22:23.480Z"
      },
      {
        "duration": 48,
        "start_time": "2023-04-29T06:22:24.430Z"
      },
      {
        "duration": 23,
        "start_time": "2023-04-29T06:22:26.161Z"
      },
      {
        "duration": 3,
        "start_time": "2023-04-29T06:22:26.499Z"
      },
      {
        "duration": 8,
        "start_time": "2023-04-29T06:22:27.250Z"
      },
      {
        "duration": 9,
        "start_time": "2023-04-29T06:22:27.901Z"
      },
      {
        "duration": 1217,
        "start_time": "2023-04-29T06:22:29.105Z"
      },
      {
        "duration": 387,
        "start_time": "2023-04-29T06:22:30.324Z"
      },
      {
        "duration": 693,
        "start_time": "2023-04-29T06:22:30.713Z"
      },
      {
        "duration": 8,
        "start_time": "2023-04-29T06:22:31.501Z"
      },
      {
        "duration": 11,
        "start_time": "2023-04-29T06:22:32.724Z"
      },
      {
        "duration": 53,
        "start_time": "2023-04-29T06:22:34.170Z"
      },
      {
        "duration": 24,
        "start_time": "2023-04-29T06:22:35.864Z"
      },
      {
        "duration": 52,
        "start_time": "2023-04-29T06:22:36.864Z"
      },
      {
        "duration": 13,
        "start_time": "2023-04-29T06:22:37.134Z"
      },
      {
        "duration": 72,
        "start_time": "2023-04-29T06:22:38.188Z"
      },
      {
        "duration": 10,
        "start_time": "2023-04-29T06:22:38.499Z"
      },
      {
        "duration": 4,
        "start_time": "2023-04-29T06:22:39.655Z"
      },
      {
        "duration": 150,
        "start_time": "2023-04-29T06:22:47.493Z"
      },
      {
        "duration": 266,
        "start_time": "2023-04-29T06:22:55.900Z"
      },
      {
        "duration": 123,
        "start_time": "2023-04-29T06:24:50.556Z"
      },
      {
        "duration": 9,
        "start_time": "2023-04-29T06:24:56.943Z"
      },
      {
        "duration": 310,
        "start_time": "2023-04-29T06:25:01.819Z"
      },
      {
        "duration": 176,
        "start_time": "2023-04-29T06:26:55.479Z"
      },
      {
        "duration": 17,
        "start_time": "2023-04-29T06:27:13.725Z"
      },
      {
        "duration": 23,
        "start_time": "2023-04-29T06:27:19.584Z"
      },
      {
        "duration": 14,
        "start_time": "2023-04-29T06:27:31.083Z"
      },
      {
        "duration": 14,
        "start_time": "2023-04-29T06:27:37.065Z"
      },
      {
        "duration": 18,
        "start_time": "2023-04-29T06:29:16.644Z"
      },
      {
        "duration": 9,
        "start_time": "2023-04-29T06:33:09.069Z"
      },
      {
        "duration": 15,
        "start_time": "2023-04-29T06:33:15.031Z"
      },
      {
        "duration": 113,
        "start_time": "2023-04-29T06:33:28.568Z"
      },
      {
        "duration": 17,
        "start_time": "2023-04-29T06:33:43.256Z"
      },
      {
        "duration": 11,
        "start_time": "2023-04-29T06:33:52.419Z"
      },
      {
        "duration": 87,
        "start_time": "2023-04-29T06:34:45.165Z"
      },
      {
        "duration": 19,
        "start_time": "2023-04-29T06:35:17.842Z"
      },
      {
        "duration": 10,
        "start_time": "2023-04-29T06:35:41.056Z"
      },
      {
        "duration": 73,
        "start_time": "2023-04-29T06:35:56.765Z"
      },
      {
        "duration": 102,
        "start_time": "2023-04-29T06:36:10.525Z"
      },
      {
        "duration": 12,
        "start_time": "2023-04-29T06:36:28.159Z"
      },
      {
        "duration": 11,
        "start_time": "2023-04-29T06:36:38.570Z"
      },
      {
        "duration": 11,
        "start_time": "2023-04-29T06:37:04.598Z"
      },
      {
        "duration": 10,
        "start_time": "2023-04-29T06:37:13.239Z"
      },
      {
        "duration": 4,
        "start_time": "2023-04-29T06:37:56.012Z"
      },
      {
        "duration": 10,
        "start_time": "2023-04-29T06:38:53.351Z"
      },
      {
        "duration": 3,
        "start_time": "2023-04-29T06:38:53.776Z"
      },
      {
        "duration": 11,
        "start_time": "2023-04-29T06:42:23.852Z"
      },
      {
        "duration": 52,
        "start_time": "2023-04-29T06:43:34.286Z"
      },
      {
        "duration": 1631,
        "start_time": "2023-04-29T06:45:24.142Z"
      },
      {
        "duration": 78,
        "start_time": "2023-04-29T06:46:04.882Z"
      },
      {
        "duration": 74,
        "start_time": "2023-04-29T06:46:35.086Z"
      },
      {
        "duration": 47,
        "start_time": "2023-04-29T06:48:14.359Z"
      },
      {
        "duration": 74,
        "start_time": "2023-04-29T06:48:14.507Z"
      },
      {
        "duration": 79,
        "start_time": "2023-04-29T06:48:14.682Z"
      },
      {
        "duration": 46,
        "start_time": "2023-04-29T06:48:16.467Z"
      },
      {
        "duration": 33,
        "start_time": "2023-04-29T06:48:16.895Z"
      },
      {
        "duration": 10,
        "start_time": "2023-04-29T06:48:17.483Z"
      },
      {
        "duration": 66,
        "start_time": "2023-04-29T06:48:17.648Z"
      },
      {
        "duration": 61,
        "start_time": "2023-04-29T06:48:17.902Z"
      },
      {
        "duration": 59,
        "start_time": "2023-04-29T06:48:18.127Z"
      },
      {
        "duration": 57,
        "start_time": "2023-04-29T06:48:18.325Z"
      },
      {
        "duration": 53,
        "start_time": "2023-04-29T06:48:19.112Z"
      },
      {
        "duration": 54,
        "start_time": "2023-04-29T06:48:19.297Z"
      },
      {
        "duration": 58,
        "start_time": "2023-04-29T06:48:19.486Z"
      },
      {
        "duration": 63,
        "start_time": "2023-04-29T06:48:19.660Z"
      },
      {
        "duration": 57,
        "start_time": "2023-04-29T06:48:20.206Z"
      },
      {
        "duration": 59,
        "start_time": "2023-04-29T06:48:20.368Z"
      },
      {
        "duration": 48,
        "start_time": "2023-04-29T06:48:20.525Z"
      },
      {
        "duration": 63,
        "start_time": "2023-04-29T06:48:20.732Z"
      },
      {
        "duration": 20,
        "start_time": "2023-04-29T06:48:21.313Z"
      },
      {
        "duration": 68,
        "start_time": "2023-04-29T06:48:21.497Z"
      },
      {
        "duration": 67,
        "start_time": "2023-04-29T06:48:21.696Z"
      },
      {
        "duration": 68,
        "start_time": "2023-04-29T06:48:21.882Z"
      },
      {
        "duration": 72,
        "start_time": "2023-04-29T06:48:22.074Z"
      },
      {
        "duration": 1351,
        "start_time": "2023-04-29T17:12:18.192Z"
      },
      {
        "duration": 203,
        "start_time": "2023-04-29T17:12:19.545Z"
      },
      {
        "duration": 22,
        "start_time": "2023-04-29T17:12:19.750Z"
      },
      {
        "duration": 45,
        "start_time": "2023-04-29T17:12:19.774Z"
      },
      {
        "duration": 24,
        "start_time": "2023-04-29T17:12:19.821Z"
      },
      {
        "duration": 142,
        "start_time": "2023-04-29T17:12:19.847Z"
      },
      {
        "duration": 127,
        "start_time": "2023-04-29T17:12:19.996Z"
      },
      {
        "duration": 15,
        "start_time": "2023-04-29T17:12:20.124Z"
      },
      {
        "duration": 134,
        "start_time": "2023-04-29T17:12:20.141Z"
      },
      {
        "duration": 67,
        "start_time": "2023-04-29T17:12:20.277Z"
      },
      {
        "duration": 24,
        "start_time": "2023-04-29T17:12:20.346Z"
      },
      {
        "duration": 27,
        "start_time": "2023-04-29T17:12:20.372Z"
      },
      {
        "duration": 11,
        "start_time": "2023-04-29T17:12:20.408Z"
      },
      {
        "duration": 8,
        "start_time": "2023-04-29T17:12:20.423Z"
      },
      {
        "duration": 1446,
        "start_time": "2023-04-29T17:12:20.433Z"
      },
      {
        "duration": 351,
        "start_time": "2023-04-29T17:12:21.881Z"
      },
      {
        "duration": 751,
        "start_time": "2023-04-29T17:12:22.234Z"
      },
      {
        "duration": 8,
        "start_time": "2023-04-29T17:12:22.987Z"
      },
      {
        "duration": 42,
        "start_time": "2023-04-29T17:12:22.997Z"
      },
      {
        "duration": 55,
        "start_time": "2023-04-29T17:12:23.042Z"
      },
      {
        "duration": 42,
        "start_time": "2023-04-29T17:12:23.099Z"
      },
      {
        "duration": 88,
        "start_time": "2023-04-29T17:12:23.143Z"
      },
      {
        "duration": 13,
        "start_time": "2023-04-29T17:12:23.232Z"
      },
      {
        "duration": 104,
        "start_time": "2023-04-29T17:12:23.247Z"
      },
      {
        "duration": 11,
        "start_time": "2023-04-29T17:12:23.352Z"
      },
      {
        "duration": 392,
        "start_time": "2023-04-29T17:12:23.364Z"
      },
      {
        "duration": 4,
        "start_time": "2023-04-29T17:12:23.758Z"
      },
      {
        "duration": 67,
        "start_time": "2023-04-29T17:12:23.763Z"
      },
      {
        "duration": 195,
        "start_time": "2023-04-29T17:12:23.832Z"
      },
      {
        "duration": 0,
        "start_time": "2023-04-29T17:12:24.030Z"
      },
      {
        "duration": 0,
        "start_time": "2023-04-29T17:12:24.032Z"
      },
      {
        "duration": 0,
        "start_time": "2023-04-29T17:12:24.033Z"
      },
      {
        "duration": 0,
        "start_time": "2023-04-29T17:12:24.036Z"
      },
      {
        "duration": 0,
        "start_time": "2023-04-29T17:12:24.037Z"
      },
      {
        "duration": 0,
        "start_time": "2023-04-29T17:12:24.039Z"
      },
      {
        "duration": 0,
        "start_time": "2023-04-29T17:12:24.041Z"
      },
      {
        "duration": 0,
        "start_time": "2023-04-29T17:12:24.042Z"
      },
      {
        "duration": 0,
        "start_time": "2023-04-29T17:12:24.044Z"
      },
      {
        "duration": 0,
        "start_time": "2023-04-29T17:12:24.046Z"
      },
      {
        "duration": 0,
        "start_time": "2023-04-29T17:12:24.047Z"
      },
      {
        "duration": 0,
        "start_time": "2023-04-29T17:12:24.049Z"
      },
      {
        "duration": 0,
        "start_time": "2023-04-29T17:12:24.051Z"
      },
      {
        "duration": 0,
        "start_time": "2023-04-29T17:12:24.053Z"
      },
      {
        "duration": 0,
        "start_time": "2023-04-29T17:12:24.055Z"
      },
      {
        "duration": 0,
        "start_time": "2023-04-29T17:12:24.056Z"
      },
      {
        "duration": 0,
        "start_time": "2023-04-29T17:12:24.058Z"
      },
      {
        "duration": 0,
        "start_time": "2023-04-29T17:12:24.060Z"
      },
      {
        "duration": 0,
        "start_time": "2023-04-29T17:12:24.061Z"
      },
      {
        "duration": 0,
        "start_time": "2023-04-29T17:12:24.064Z"
      },
      {
        "duration": 0,
        "start_time": "2023-04-29T17:12:24.065Z"
      },
      {
        "duration": 89,
        "start_time": "2023-04-29T17:12:46.863Z"
      },
      {
        "duration": 64,
        "start_time": "2023-04-29T17:12:47.986Z"
      },
      {
        "duration": 36,
        "start_time": "2023-04-29T17:12:48.352Z"
      },
      {
        "duration": 8,
        "start_time": "2023-04-29T17:12:48.916Z"
      },
      {
        "duration": 101,
        "start_time": "2023-04-29T17:12:49.074Z"
      },
      {
        "duration": 83,
        "start_time": "2023-04-29T17:12:49.276Z"
      },
      {
        "duration": 66,
        "start_time": "2023-04-29T17:12:49.518Z"
      },
      {
        "duration": 65,
        "start_time": "2023-04-29T17:12:49.710Z"
      },
      {
        "duration": 82,
        "start_time": "2023-04-29T17:12:50.424Z"
      },
      {
        "duration": 58,
        "start_time": "2023-04-29T17:12:50.617Z"
      },
      {
        "duration": 72,
        "start_time": "2023-04-29T17:12:50.980Z"
      },
      {
        "duration": 78,
        "start_time": "2023-04-29T17:12:51.152Z"
      },
      {
        "duration": 67,
        "start_time": "2023-04-29T17:12:51.722Z"
      },
      {
        "duration": 65,
        "start_time": "2023-04-29T17:12:51.907Z"
      },
      {
        "duration": 73,
        "start_time": "2023-04-29T17:12:52.064Z"
      },
      {
        "duration": 62,
        "start_time": "2023-04-29T17:12:52.252Z"
      },
      {
        "duration": 34,
        "start_time": "2023-04-29T17:12:52.828Z"
      },
      {
        "duration": 86,
        "start_time": "2023-04-29T17:12:53.026Z"
      },
      {
        "duration": 62,
        "start_time": "2023-04-29T17:12:53.214Z"
      },
      {
        "duration": 81,
        "start_time": "2023-04-29T17:12:53.382Z"
      },
      {
        "duration": 84,
        "start_time": "2023-04-29T17:12:53.583Z"
      },
      {
        "duration": 76,
        "start_time": "2023-04-29T17:14:13.970Z"
      }
    ],
    "kernelspec": {
      "display_name": "Python 3 (ipykernel)",
      "language": "python",
      "name": "python3"
    },
    "language_info": {
      "codemirror_mode": {
        "name": "ipython",
        "version": 3
      },
      "file_extension": ".py",
      "mimetype": "text/x-python",
      "name": "python",
      "nbconvert_exporter": "python",
      "pygments_lexer": "ipython3",
      "version": "3.9.5"
    },
    "toc": {
      "base_numbering": 1,
      "nav_menu": {},
      "number_sections": true,
      "sideBar": true,
      "skip_h1_title": true,
      "title_cell": "Table of Contents",
      "title_sidebar": "Contents",
      "toc_cell": false,
      "toc_position": {},
      "toc_section_display": true,
      "toc_window_display": true
    },
    "colab": {
      "provenance": []
    }
  },
  "nbformat": 4,
  "nbformat_minor": 0
}