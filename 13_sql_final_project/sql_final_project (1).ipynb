{
 "cells": [
  {
   "cell_type": "markdown",
   "metadata": {},
   "source": [
    "# Исследование базы данных о книгах"
   ]
  },
  {
   "cell_type": "markdown",
   "metadata": {},
   "source": [
    "**Цель исследования** — проанализировать базу данных, чтобы на основе полученных данных в дальнейшем можно было сформулировать ценностное предложение для нового продукта.\n",
    "\n",
    "**Задачи исследования:**\n",
    "\n",
    "- Посчитать, сколько книг вышло после 1 января 2000 года;\n",
    "- Для каждой книги посчитать количество обзоров и среднюю оценку;\n",
    "- Определить издательство, которое выпустило наибольшее число книг толще 50 страниц, исключить из анализа брошюры;\n",
    "- Определить автора с самой высокой средней оценкой книг (учитывать только книги с 50 и более оценками);\n",
    "- Посчитать среднее количество обзоров от пользователей, которые поставили больше 48 оценок.\n",
    "\n",
    "\n",
    "**Описание данных**\n",
    "\n",
    "В базе данных хранится информация о книгах, издательствах, авторах, а также пользовательские обзоры книг.\n",
    "\n",
    "**Таблица `books`**\n",
    "\n",
    "Содержит данные о книгах:\n",
    "\n",
    "- `book_id` — идентификатор книги;\n",
    "- `author_id` — идентификатор автора;\n",
    "- `title` — название книги;\n",
    "- `num_pages` — количество страниц;\n",
    "- `publication_date` — дата публикации книги;\n",
    "- `publisher_id` — идентификатор издателя.\n",
    "\n",
    "**Таблица `authors`**\n",
    "\n",
    "Содержит данные об авторах:\n",
    "\n",
    "- `author_id` — идентификатор автора;\n",
    "- `author` — имя автора.\n",
    "\n",
    "**Таблица `publishers`**\n",
    "\n",
    "Содержит данные об издательствах:\n",
    "\n",
    "- `publisher_id` — идентификатор издательства;\n",
    "- `publisher` — название издательства;\n",
    "\n",
    "**Таблица `ratings`**\n",
    "\n",
    "Содержит данные о пользовательских оценках книг:\n",
    "\n",
    "- `rating_id` — идентификатор оценки;\n",
    "- `book_id` — идентификатор книги;\n",
    "- `username` — имя пользователя, оставившего оценку;\n",
    "- `rating` — оценка книги.\n",
    "\n",
    "**Таблица `reviews`**\n",
    "\n",
    "Содержит данные о пользовательских обзорах на книги:\n",
    "\n",
    "- `review_id` — идентификатор обзора;\n",
    "- `book_id` — идентификатор книги;\n",
    "- `username` — имя пользователя, написавшего обзор;\n",
    "- `text` — текст обзора."
   ]
  },
  {
   "cell_type": "code",
   "execution_count": 1,
   "metadata": {},
   "outputs": [],
   "source": [
    "# импорт необходимых библиотек\n",
    "import pandas as pd\n",
    "from sqlalchemy import text, create_engine"
   ]
  },
  {
   "cell_type": "markdown",
   "metadata": {},
   "source": [
    "## Обзор данных"
   ]
  },
  {
   "cell_type": "markdown",
   "metadata": {},
   "source": [
    "**Подключение к базе данных**"
   ]
  },
  {
   "cell_type": "code",
   "execution_count": 2,
   "metadata": {},
   "outputs": [],
   "source": [
    "# устанавливаем параметры\n",
    "db_config = {'user': 'praktikum_student', # имя пользователя\n",
    "'pwd': 'Sdf4$2;d-d30pp', # пароль\n",
    "'host': 'rc1b-wcoijxj3yxfsf3fs.mdb.yandexcloud.net',\n",
    "'port': 6432, # порт подключения\n",
    "'db': 'data-analyst-final-project-db'} # название базы данных\n",
    "connection_string = 'postgresql://{user}:{pwd}@{host}:{port}/{db}'.format(**db_config)\n",
    "\n",
    "# сохраняем коннектор\n",
    "engine = create_engine(connection_string, connect_args={'sslmode':'require'})\n",
    "\n",
    "con=engine.connect()"
   ]
  },
  {
   "cell_type": "markdown",
   "metadata": {},
   "source": [
    "**Вывод данных из таблицы books**"
   ]
  },
  {
   "cell_type": "code",
   "execution_count": 3,
   "metadata": {},
   "outputs": [
    {
     "data": {
      "text/html": [
       "<div>\n",
       "<style scoped>\n",
       "    .dataframe tbody tr th:only-of-type {\n",
       "        vertical-align: middle;\n",
       "    }\n",
       "\n",
       "    .dataframe tbody tr th {\n",
       "        vertical-align: top;\n",
       "    }\n",
       "\n",
       "    .dataframe thead th {\n",
       "        text-align: right;\n",
       "    }\n",
       "</style>\n",
       "<table border=\"1\" class=\"dataframe\">\n",
       "  <thead>\n",
       "    <tr style=\"text-align: right;\">\n",
       "      <th></th>\n",
       "      <th>book_id</th>\n",
       "      <th>author_id</th>\n",
       "      <th>title</th>\n",
       "      <th>num_pages</th>\n",
       "      <th>publication_date</th>\n",
       "      <th>publisher_id</th>\n",
       "    </tr>\n",
       "  </thead>\n",
       "  <tbody>\n",
       "    <tr>\n",
       "      <th>0</th>\n",
       "      <td>1</td>\n",
       "      <td>546</td>\n",
       "      <td>'Salem's Lot</td>\n",
       "      <td>594</td>\n",
       "      <td>2005-11-01</td>\n",
       "      <td>93</td>\n",
       "    </tr>\n",
       "    <tr>\n",
       "      <th>1</th>\n",
       "      <td>2</td>\n",
       "      <td>465</td>\n",
       "      <td>1 000 Places to See Before You Die</td>\n",
       "      <td>992</td>\n",
       "      <td>2003-05-22</td>\n",
       "      <td>336</td>\n",
       "    </tr>\n",
       "    <tr>\n",
       "      <th>2</th>\n",
       "      <td>3</td>\n",
       "      <td>407</td>\n",
       "      <td>13 Little Blue Envelopes (Little Blue Envelope...</td>\n",
       "      <td>322</td>\n",
       "      <td>2010-12-21</td>\n",
       "      <td>135</td>\n",
       "    </tr>\n",
       "    <tr>\n",
       "      <th>3</th>\n",
       "      <td>4</td>\n",
       "      <td>82</td>\n",
       "      <td>1491: New Revelations of the Americas Before C...</td>\n",
       "      <td>541</td>\n",
       "      <td>2006-10-10</td>\n",
       "      <td>309</td>\n",
       "    </tr>\n",
       "    <tr>\n",
       "      <th>4</th>\n",
       "      <td>5</td>\n",
       "      <td>125</td>\n",
       "      <td>1776</td>\n",
       "      <td>386</td>\n",
       "      <td>2006-07-04</td>\n",
       "      <td>268</td>\n",
       "    </tr>\n",
       "  </tbody>\n",
       "</table>\n",
       "</div>"
      ],
      "text/plain": [
       "   book_id  author_id                                              title  \\\n",
       "0        1        546                                       'Salem's Lot   \n",
       "1        2        465                 1 000 Places to See Before You Die   \n",
       "2        3        407  13 Little Blue Envelopes (Little Blue Envelope...   \n",
       "3        4         82  1491: New Revelations of the Americas Before C...   \n",
       "4        5        125                                               1776   \n",
       "\n",
       "   num_pages publication_date  publisher_id  \n",
       "0        594       2005-11-01            93  \n",
       "1        992       2003-05-22           336  \n",
       "2        322       2010-12-21           135  \n",
       "3        541       2006-10-10           309  \n",
       "4        386       2006-07-04           268  "
      ]
     },
     "execution_count": 3,
     "metadata": {},
     "output_type": "execute_result"
    }
   ],
   "source": [
    "query = '''SELECT * FROM books LIMIT 5'''\n",
    "\n",
    "con=engine.connect()\n",
    "\n",
    "pd.io.sql.read_sql(sql=text(query), con = con)"
   ]
  },
  {
   "cell_type": "markdown",
   "metadata": {},
   "source": [
    "**Вывод данных из таблицы authors**"
   ]
  },
  {
   "cell_type": "code",
   "execution_count": 4,
   "metadata": {},
   "outputs": [
    {
     "data": {
      "text/html": [
       "<div>\n",
       "<style scoped>\n",
       "    .dataframe tbody tr th:only-of-type {\n",
       "        vertical-align: middle;\n",
       "    }\n",
       "\n",
       "    .dataframe tbody tr th {\n",
       "        vertical-align: top;\n",
       "    }\n",
       "\n",
       "    .dataframe thead th {\n",
       "        text-align: right;\n",
       "    }\n",
       "</style>\n",
       "<table border=\"1\" class=\"dataframe\">\n",
       "  <thead>\n",
       "    <tr style=\"text-align: right;\">\n",
       "      <th></th>\n",
       "      <th>author_id</th>\n",
       "      <th>author</th>\n",
       "    </tr>\n",
       "  </thead>\n",
       "  <tbody>\n",
       "    <tr>\n",
       "      <th>0</th>\n",
       "      <td>1</td>\n",
       "      <td>A.S. Byatt</td>\n",
       "    </tr>\n",
       "    <tr>\n",
       "      <th>1</th>\n",
       "      <td>2</td>\n",
       "      <td>Aesop/Laura Harris/Laura Gibbs</td>\n",
       "    </tr>\n",
       "    <tr>\n",
       "      <th>2</th>\n",
       "      <td>3</td>\n",
       "      <td>Agatha Christie</td>\n",
       "    </tr>\n",
       "    <tr>\n",
       "      <th>3</th>\n",
       "      <td>4</td>\n",
       "      <td>Alan Brennert</td>\n",
       "    </tr>\n",
       "    <tr>\n",
       "      <th>4</th>\n",
       "      <td>5</td>\n",
       "      <td>Alan Moore/David   Lloyd</td>\n",
       "    </tr>\n",
       "  </tbody>\n",
       "</table>\n",
       "</div>"
      ],
      "text/plain": [
       "   author_id                          author\n",
       "0          1                      A.S. Byatt\n",
       "1          2  Aesop/Laura Harris/Laura Gibbs\n",
       "2          3                 Agatha Christie\n",
       "3          4                   Alan Brennert\n",
       "4          5        Alan Moore/David   Lloyd"
      ]
     },
     "execution_count": 4,
     "metadata": {},
     "output_type": "execute_result"
    }
   ],
   "source": [
    "query = '''SELECT * FROM authors LIMIT 5'''\n",
    "\n",
    "pd.io.sql.read_sql(sql=text(query), con = con)"
   ]
  },
  {
   "cell_type": "markdown",
   "metadata": {},
   "source": [
    "**Вывод данных из таблицы publishers**"
   ]
  },
  {
   "cell_type": "code",
   "execution_count": 5,
   "metadata": {},
   "outputs": [
    {
     "data": {
      "text/html": [
       "<div>\n",
       "<style scoped>\n",
       "    .dataframe tbody tr th:only-of-type {\n",
       "        vertical-align: middle;\n",
       "    }\n",
       "\n",
       "    .dataframe tbody tr th {\n",
       "        vertical-align: top;\n",
       "    }\n",
       "\n",
       "    .dataframe thead th {\n",
       "        text-align: right;\n",
       "    }\n",
       "</style>\n",
       "<table border=\"1\" class=\"dataframe\">\n",
       "  <thead>\n",
       "    <tr style=\"text-align: right;\">\n",
       "      <th></th>\n",
       "      <th>publisher_id</th>\n",
       "      <th>publisher</th>\n",
       "    </tr>\n",
       "  </thead>\n",
       "  <tbody>\n",
       "    <tr>\n",
       "      <th>0</th>\n",
       "      <td>1</td>\n",
       "      <td>Ace</td>\n",
       "    </tr>\n",
       "    <tr>\n",
       "      <th>1</th>\n",
       "      <td>2</td>\n",
       "      <td>Ace Book</td>\n",
       "    </tr>\n",
       "    <tr>\n",
       "      <th>2</th>\n",
       "      <td>3</td>\n",
       "      <td>Ace Books</td>\n",
       "    </tr>\n",
       "    <tr>\n",
       "      <th>3</th>\n",
       "      <td>4</td>\n",
       "      <td>Ace Hardcover</td>\n",
       "    </tr>\n",
       "    <tr>\n",
       "      <th>4</th>\n",
       "      <td>5</td>\n",
       "      <td>Addison Wesley Publishing Company</td>\n",
       "    </tr>\n",
       "  </tbody>\n",
       "</table>\n",
       "</div>"
      ],
      "text/plain": [
       "   publisher_id                          publisher\n",
       "0             1                                Ace\n",
       "1             2                           Ace Book\n",
       "2             3                          Ace Books\n",
       "3             4                      Ace Hardcover\n",
       "4             5  Addison Wesley Publishing Company"
      ]
     },
     "execution_count": 5,
     "metadata": {},
     "output_type": "execute_result"
    }
   ],
   "source": [
    "query = '''SELECT * FROM publishers LIMIT 5'''\n",
    "\n",
    "pd.io.sql.read_sql(sql=text(query), con = con)"
   ]
  },
  {
   "cell_type": "markdown",
   "metadata": {},
   "source": [
    "**Вывод данных из таблицы ratings**"
   ]
  },
  {
   "cell_type": "code",
   "execution_count": 6,
   "metadata": {},
   "outputs": [
    {
     "data": {
      "text/html": [
       "<div>\n",
       "<style scoped>\n",
       "    .dataframe tbody tr th:only-of-type {\n",
       "        vertical-align: middle;\n",
       "    }\n",
       "\n",
       "    .dataframe tbody tr th {\n",
       "        vertical-align: top;\n",
       "    }\n",
       "\n",
       "    .dataframe thead th {\n",
       "        text-align: right;\n",
       "    }\n",
       "</style>\n",
       "<table border=\"1\" class=\"dataframe\">\n",
       "  <thead>\n",
       "    <tr style=\"text-align: right;\">\n",
       "      <th></th>\n",
       "      <th>rating_id</th>\n",
       "      <th>book_id</th>\n",
       "      <th>username</th>\n",
       "      <th>rating</th>\n",
       "    </tr>\n",
       "  </thead>\n",
       "  <tbody>\n",
       "    <tr>\n",
       "      <th>0</th>\n",
       "      <td>1</td>\n",
       "      <td>1</td>\n",
       "      <td>ryanfranco</td>\n",
       "      <td>4</td>\n",
       "    </tr>\n",
       "    <tr>\n",
       "      <th>1</th>\n",
       "      <td>2</td>\n",
       "      <td>1</td>\n",
       "      <td>grantpatricia</td>\n",
       "      <td>2</td>\n",
       "    </tr>\n",
       "    <tr>\n",
       "      <th>2</th>\n",
       "      <td>3</td>\n",
       "      <td>1</td>\n",
       "      <td>brandtandrea</td>\n",
       "      <td>5</td>\n",
       "    </tr>\n",
       "    <tr>\n",
       "      <th>3</th>\n",
       "      <td>4</td>\n",
       "      <td>2</td>\n",
       "      <td>lorichen</td>\n",
       "      <td>3</td>\n",
       "    </tr>\n",
       "    <tr>\n",
       "      <th>4</th>\n",
       "      <td>5</td>\n",
       "      <td>2</td>\n",
       "      <td>mariokeller</td>\n",
       "      <td>2</td>\n",
       "    </tr>\n",
       "  </tbody>\n",
       "</table>\n",
       "</div>"
      ],
      "text/plain": [
       "   rating_id  book_id       username  rating\n",
       "0          1        1     ryanfranco       4\n",
       "1          2        1  grantpatricia       2\n",
       "2          3        1   brandtandrea       5\n",
       "3          4        2       lorichen       3\n",
       "4          5        2    mariokeller       2"
      ]
     },
     "execution_count": 6,
     "metadata": {},
     "output_type": "execute_result"
    }
   ],
   "source": [
    "query = '''SELECT * FROM ratings LIMIT 5'''\n",
    "\n",
    "pd.io.sql.read_sql(sql=text(query), con = con)"
   ]
  },
  {
   "cell_type": "markdown",
   "metadata": {},
   "source": [
    "**Вывод данных из таблицы reviews**"
   ]
  },
  {
   "cell_type": "code",
   "execution_count": 7,
   "metadata": {},
   "outputs": [
    {
     "data": {
      "text/html": [
       "<div>\n",
       "<style scoped>\n",
       "    .dataframe tbody tr th:only-of-type {\n",
       "        vertical-align: middle;\n",
       "    }\n",
       "\n",
       "    .dataframe tbody tr th {\n",
       "        vertical-align: top;\n",
       "    }\n",
       "\n",
       "    .dataframe thead th {\n",
       "        text-align: right;\n",
       "    }\n",
       "</style>\n",
       "<table border=\"1\" class=\"dataframe\">\n",
       "  <thead>\n",
       "    <tr style=\"text-align: right;\">\n",
       "      <th></th>\n",
       "      <th>review_id</th>\n",
       "      <th>book_id</th>\n",
       "      <th>username</th>\n",
       "      <th>text</th>\n",
       "    </tr>\n",
       "  </thead>\n",
       "  <tbody>\n",
       "    <tr>\n",
       "      <th>0</th>\n",
       "      <td>1</td>\n",
       "      <td>1</td>\n",
       "      <td>brandtandrea</td>\n",
       "      <td>Mention society tell send professor analysis. ...</td>\n",
       "    </tr>\n",
       "    <tr>\n",
       "      <th>1</th>\n",
       "      <td>2</td>\n",
       "      <td>1</td>\n",
       "      <td>ryanfranco</td>\n",
       "      <td>Foot glass pretty audience hit themselves. Amo...</td>\n",
       "    </tr>\n",
       "    <tr>\n",
       "      <th>2</th>\n",
       "      <td>3</td>\n",
       "      <td>2</td>\n",
       "      <td>lorichen</td>\n",
       "      <td>Listen treat keep worry. Miss husband tax but ...</td>\n",
       "    </tr>\n",
       "    <tr>\n",
       "      <th>3</th>\n",
       "      <td>4</td>\n",
       "      <td>3</td>\n",
       "      <td>johnsonamanda</td>\n",
       "      <td>Finally month interesting blue could nature cu...</td>\n",
       "    </tr>\n",
       "    <tr>\n",
       "      <th>4</th>\n",
       "      <td>5</td>\n",
       "      <td>3</td>\n",
       "      <td>scotttamara</td>\n",
       "      <td>Nation purpose heavy give wait song will. List...</td>\n",
       "    </tr>\n",
       "  </tbody>\n",
       "</table>\n",
       "</div>"
      ],
      "text/plain": [
       "   review_id  book_id       username  \\\n",
       "0          1        1   brandtandrea   \n",
       "1          2        1     ryanfranco   \n",
       "2          3        2       lorichen   \n",
       "3          4        3  johnsonamanda   \n",
       "4          5        3    scotttamara   \n",
       "\n",
       "                                                text  \n",
       "0  Mention society tell send professor analysis. ...  \n",
       "1  Foot glass pretty audience hit themselves. Amo...  \n",
       "2  Listen treat keep worry. Miss husband tax but ...  \n",
       "3  Finally month interesting blue could nature cu...  \n",
       "4  Nation purpose heavy give wait song will. List...  "
      ]
     },
     "execution_count": 7,
     "metadata": {},
     "output_type": "execute_result"
    }
   ],
   "source": [
    "query = '''SELECT * FROM reviews LIMIT 5'''\n",
    "\n",
    "pd.io.sql.read_sql(sql=text(query), con = con)"
   ]
  },
  {
   "cell_type": "code",
   "execution_count": 8,
   "metadata": {},
   "outputs": [
    {
     "data": {
      "text/html": [
       "<div>\n",
       "<style scoped>\n",
       "    .dataframe tbody tr th:only-of-type {\n",
       "        vertical-align: middle;\n",
       "    }\n",
       "\n",
       "    .dataframe tbody tr th {\n",
       "        vertical-align: top;\n",
       "    }\n",
       "\n",
       "    .dataframe thead th {\n",
       "        text-align: right;\n",
       "    }\n",
       "</style>\n",
       "<table border=\"1\" class=\"dataframe\">\n",
       "  <thead>\n",
       "    <tr style=\"text-align: right;\">\n",
       "      <th></th>\n",
       "      <th>book_id</th>\n",
       "      <th>author_id</th>\n",
       "      <th>title</th>\n",
       "      <th>num_pages</th>\n",
       "      <th>publication_date</th>\n",
       "      <th>publisher_id</th>\n",
       "    </tr>\n",
       "  </thead>\n",
       "  <tbody>\n",
       "    <tr>\n",
       "      <th>0</th>\n",
       "      <td>1</td>\n",
       "      <td>546</td>\n",
       "      <td>'Salem's Lot</td>\n",
       "      <td>594</td>\n",
       "      <td>2005-11-01</td>\n",
       "      <td>93</td>\n",
       "    </tr>\n",
       "    <tr>\n",
       "      <th>1</th>\n",
       "      <td>2</td>\n",
       "      <td>465</td>\n",
       "      <td>1 000 Places to See Before You Die</td>\n",
       "      <td>992</td>\n",
       "      <td>2003-05-22</td>\n",
       "      <td>336</td>\n",
       "    </tr>\n",
       "    <tr>\n",
       "      <th>2</th>\n",
       "      <td>3</td>\n",
       "      <td>407</td>\n",
       "      <td>13 Little Blue Envelopes (Little Blue Envelope...</td>\n",
       "      <td>322</td>\n",
       "      <td>2010-12-21</td>\n",
       "      <td>135</td>\n",
       "    </tr>\n",
       "    <tr>\n",
       "      <th>3</th>\n",
       "      <td>4</td>\n",
       "      <td>82</td>\n",
       "      <td>1491: New Revelations of the Americas Before C...</td>\n",
       "      <td>541</td>\n",
       "      <td>2006-10-10</td>\n",
       "      <td>309</td>\n",
       "    </tr>\n",
       "    <tr>\n",
       "      <th>4</th>\n",
       "      <td>5</td>\n",
       "      <td>125</td>\n",
       "      <td>1776</td>\n",
       "      <td>386</td>\n",
       "      <td>2006-07-04</td>\n",
       "      <td>268</td>\n",
       "    </tr>\n",
       "  </tbody>\n",
       "</table>\n",
       "</div>"
      ],
      "text/plain": [
       "   book_id  author_id                                              title  \\\n",
       "0        1        546                                       'Salem's Lot   \n",
       "1        2        465                 1 000 Places to See Before You Die   \n",
       "2        3        407  13 Little Blue Envelopes (Little Blue Envelope...   \n",
       "3        4         82  1491: New Revelations of the Americas Before C...   \n",
       "4        5        125                                               1776   \n",
       "\n",
       "   num_pages publication_date  publisher_id  \n",
       "0        594       2005-11-01            93  \n",
       "1        992       2003-05-22           336  \n",
       "2        322       2010-12-21           135  \n",
       "3        541       2006-10-10           309  \n",
       "4        386       2006-07-04           268  "
      ]
     },
     "metadata": {},
     "output_type": "display_data"
    },
    {
     "data": {
      "text/html": [
       "<div>\n",
       "<style scoped>\n",
       "    .dataframe tbody tr th:only-of-type {\n",
       "        vertical-align: middle;\n",
       "    }\n",
       "\n",
       "    .dataframe tbody tr th {\n",
       "        vertical-align: top;\n",
       "    }\n",
       "\n",
       "    .dataframe thead th {\n",
       "        text-align: right;\n",
       "    }\n",
       "</style>\n",
       "<table border=\"1\" class=\"dataframe\">\n",
       "  <thead>\n",
       "    <tr style=\"text-align: right;\">\n",
       "      <th></th>\n",
       "      <th>author_id</th>\n",
       "      <th>author</th>\n",
       "    </tr>\n",
       "  </thead>\n",
       "  <tbody>\n",
       "    <tr>\n",
       "      <th>0</th>\n",
       "      <td>1</td>\n",
       "      <td>A.S. Byatt</td>\n",
       "    </tr>\n",
       "    <tr>\n",
       "      <th>1</th>\n",
       "      <td>2</td>\n",
       "      <td>Aesop/Laura Harris/Laura Gibbs</td>\n",
       "    </tr>\n",
       "    <tr>\n",
       "      <th>2</th>\n",
       "      <td>3</td>\n",
       "      <td>Agatha Christie</td>\n",
       "    </tr>\n",
       "    <tr>\n",
       "      <th>3</th>\n",
       "      <td>4</td>\n",
       "      <td>Alan Brennert</td>\n",
       "    </tr>\n",
       "    <tr>\n",
       "      <th>4</th>\n",
       "      <td>5</td>\n",
       "      <td>Alan Moore/David   Lloyd</td>\n",
       "    </tr>\n",
       "  </tbody>\n",
       "</table>\n",
       "</div>"
      ],
      "text/plain": [
       "   author_id                          author\n",
       "0          1                      A.S. Byatt\n",
       "1          2  Aesop/Laura Harris/Laura Gibbs\n",
       "2          3                 Agatha Christie\n",
       "3          4                   Alan Brennert\n",
       "4          5        Alan Moore/David   Lloyd"
      ]
     },
     "metadata": {},
     "output_type": "display_data"
    },
    {
     "data": {
      "text/html": [
       "<div>\n",
       "<style scoped>\n",
       "    .dataframe tbody tr th:only-of-type {\n",
       "        vertical-align: middle;\n",
       "    }\n",
       "\n",
       "    .dataframe tbody tr th {\n",
       "        vertical-align: top;\n",
       "    }\n",
       "\n",
       "    .dataframe thead th {\n",
       "        text-align: right;\n",
       "    }\n",
       "</style>\n",
       "<table border=\"1\" class=\"dataframe\">\n",
       "  <thead>\n",
       "    <tr style=\"text-align: right;\">\n",
       "      <th></th>\n",
       "      <th>publisher_id</th>\n",
       "      <th>publisher</th>\n",
       "    </tr>\n",
       "  </thead>\n",
       "  <tbody>\n",
       "    <tr>\n",
       "      <th>0</th>\n",
       "      <td>1</td>\n",
       "      <td>Ace</td>\n",
       "    </tr>\n",
       "    <tr>\n",
       "      <th>1</th>\n",
       "      <td>2</td>\n",
       "      <td>Ace Book</td>\n",
       "    </tr>\n",
       "    <tr>\n",
       "      <th>2</th>\n",
       "      <td>3</td>\n",
       "      <td>Ace Books</td>\n",
       "    </tr>\n",
       "    <tr>\n",
       "      <th>3</th>\n",
       "      <td>4</td>\n",
       "      <td>Ace Hardcover</td>\n",
       "    </tr>\n",
       "    <tr>\n",
       "      <th>4</th>\n",
       "      <td>5</td>\n",
       "      <td>Addison Wesley Publishing Company</td>\n",
       "    </tr>\n",
       "  </tbody>\n",
       "</table>\n",
       "</div>"
      ],
      "text/plain": [
       "   publisher_id                          publisher\n",
       "0             1                                Ace\n",
       "1             2                           Ace Book\n",
       "2             3                          Ace Books\n",
       "3             4                      Ace Hardcover\n",
       "4             5  Addison Wesley Publishing Company"
      ]
     },
     "metadata": {},
     "output_type": "display_data"
    },
    {
     "data": {
      "text/html": [
       "<div>\n",
       "<style scoped>\n",
       "    .dataframe tbody tr th:only-of-type {\n",
       "        vertical-align: middle;\n",
       "    }\n",
       "\n",
       "    .dataframe tbody tr th {\n",
       "        vertical-align: top;\n",
       "    }\n",
       "\n",
       "    .dataframe thead th {\n",
       "        text-align: right;\n",
       "    }\n",
       "</style>\n",
       "<table border=\"1\" class=\"dataframe\">\n",
       "  <thead>\n",
       "    <tr style=\"text-align: right;\">\n",
       "      <th></th>\n",
       "      <th>rating_id</th>\n",
       "      <th>book_id</th>\n",
       "      <th>username</th>\n",
       "      <th>rating</th>\n",
       "    </tr>\n",
       "  </thead>\n",
       "  <tbody>\n",
       "    <tr>\n",
       "      <th>0</th>\n",
       "      <td>1</td>\n",
       "      <td>1</td>\n",
       "      <td>ryanfranco</td>\n",
       "      <td>4</td>\n",
       "    </tr>\n",
       "    <tr>\n",
       "      <th>1</th>\n",
       "      <td>2</td>\n",
       "      <td>1</td>\n",
       "      <td>grantpatricia</td>\n",
       "      <td>2</td>\n",
       "    </tr>\n",
       "    <tr>\n",
       "      <th>2</th>\n",
       "      <td>3</td>\n",
       "      <td>1</td>\n",
       "      <td>brandtandrea</td>\n",
       "      <td>5</td>\n",
       "    </tr>\n",
       "    <tr>\n",
       "      <th>3</th>\n",
       "      <td>4</td>\n",
       "      <td>2</td>\n",
       "      <td>lorichen</td>\n",
       "      <td>3</td>\n",
       "    </tr>\n",
       "    <tr>\n",
       "      <th>4</th>\n",
       "      <td>5</td>\n",
       "      <td>2</td>\n",
       "      <td>mariokeller</td>\n",
       "      <td>2</td>\n",
       "    </tr>\n",
       "  </tbody>\n",
       "</table>\n",
       "</div>"
      ],
      "text/plain": [
       "   rating_id  book_id       username  rating\n",
       "0          1        1     ryanfranco       4\n",
       "1          2        1  grantpatricia       2\n",
       "2          3        1   brandtandrea       5\n",
       "3          4        2       lorichen       3\n",
       "4          5        2    mariokeller       2"
      ]
     },
     "metadata": {},
     "output_type": "display_data"
    },
    {
     "data": {
      "text/html": [
       "<div>\n",
       "<style scoped>\n",
       "    .dataframe tbody tr th:only-of-type {\n",
       "        vertical-align: middle;\n",
       "    }\n",
       "\n",
       "    .dataframe tbody tr th {\n",
       "        vertical-align: top;\n",
       "    }\n",
       "\n",
       "    .dataframe thead th {\n",
       "        text-align: right;\n",
       "    }\n",
       "</style>\n",
       "<table border=\"1\" class=\"dataframe\">\n",
       "  <thead>\n",
       "    <tr style=\"text-align: right;\">\n",
       "      <th></th>\n",
       "      <th>review_id</th>\n",
       "      <th>book_id</th>\n",
       "      <th>username</th>\n",
       "      <th>text</th>\n",
       "    </tr>\n",
       "  </thead>\n",
       "  <tbody>\n",
       "    <tr>\n",
       "      <th>0</th>\n",
       "      <td>1</td>\n",
       "      <td>1</td>\n",
       "      <td>brandtandrea</td>\n",
       "      <td>Mention society tell send professor analysis. ...</td>\n",
       "    </tr>\n",
       "    <tr>\n",
       "      <th>1</th>\n",
       "      <td>2</td>\n",
       "      <td>1</td>\n",
       "      <td>ryanfranco</td>\n",
       "      <td>Foot glass pretty audience hit themselves. Amo...</td>\n",
       "    </tr>\n",
       "    <tr>\n",
       "      <th>2</th>\n",
       "      <td>3</td>\n",
       "      <td>2</td>\n",
       "      <td>lorichen</td>\n",
       "      <td>Listen treat keep worry. Miss husband tax but ...</td>\n",
       "    </tr>\n",
       "    <tr>\n",
       "      <th>3</th>\n",
       "      <td>4</td>\n",
       "      <td>3</td>\n",
       "      <td>johnsonamanda</td>\n",
       "      <td>Finally month interesting blue could nature cu...</td>\n",
       "    </tr>\n",
       "    <tr>\n",
       "      <th>4</th>\n",
       "      <td>5</td>\n",
       "      <td>3</td>\n",
       "      <td>scotttamara</td>\n",
       "      <td>Nation purpose heavy give wait song will. List...</td>\n",
       "    </tr>\n",
       "  </tbody>\n",
       "</table>\n",
       "</div>"
      ],
      "text/plain": [
       "   review_id  book_id       username  \\\n",
       "0          1        1   brandtandrea   \n",
       "1          2        1     ryanfranco   \n",
       "2          3        2       lorichen   \n",
       "3          4        3  johnsonamanda   \n",
       "4          5        3    scotttamara   \n",
       "\n",
       "                                                text  \n",
       "0  Mention society tell send professor analysis. ...  \n",
       "1  Foot glass pretty audience hit themselves. Amo...  \n",
       "2  Listen treat keep worry. Miss husband tax but ...  \n",
       "3  Finally month interesting blue could nature cu...  \n",
       "4  Nation purpose heavy give wait song will. List...  "
      ]
     },
     "metadata": {},
     "output_type": "display_data"
    }
   ],
   "source": [
    "# функция для отображения таблиц\n",
    "list = ['books', 'authors', 'publishers', 'ratings', 'reviews']\n",
    "\n",
    "for name in list:\n",
    "    query = '''SELECT * FROM {} LIMIT 5'''.format(name)\n",
    "    display(pd.io.sql.read_sql(sql=text(query), con = con))"
   ]
  },
  {
   "cell_type": "markdown",
   "metadata": {},
   "source": [
    "## Исследовательский анализ данных"
   ]
  },
  {
   "cell_type": "markdown",
   "metadata": {},
   "source": [
    "**Анализ количества книг, вышедших после 1 января 2000 года**"
   ]
  },
  {
   "cell_type": "code",
   "execution_count": 10,
   "metadata": {},
   "outputs": [
    {
     "data": {
      "text/html": [
       "<div>\n",
       "<style scoped>\n",
       "    .dataframe tbody tr th:only-of-type {\n",
       "        vertical-align: middle;\n",
       "    }\n",
       "\n",
       "    .dataframe tbody tr th {\n",
       "        vertical-align: top;\n",
       "    }\n",
       "\n",
       "    .dataframe thead th {\n",
       "        text-align: right;\n",
       "    }\n",
       "</style>\n",
       "<table border=\"1\" class=\"dataframe\">\n",
       "  <thead>\n",
       "    <tr style=\"text-align: right;\">\n",
       "      <th></th>\n",
       "      <th>count</th>\n",
       "    </tr>\n",
       "  </thead>\n",
       "  <tbody>\n",
       "    <tr>\n",
       "      <th>0</th>\n",
       "      <td>820</td>\n",
       "    </tr>\n",
       "  </tbody>\n",
       "</table>\n",
       "</div>"
      ],
      "text/plain": [
       "   count\n",
       "0    820"
      ]
     },
     "execution_count": 10,
     "metadata": {},
     "output_type": "execute_result"
    }
   ],
   "source": [
    "query = '''SELECT COUNT(DISTINCT title)\n",
    "           FROM books\n",
    "           WHERE publication_date >= '2000-01-01' '''\n",
    "\n",
    "pd.io.sql.read_sql(sql=text(query), con = con)"
   ]
  },
  {
   "cell_type": "markdown",
   "metadata": {},
   "source": [
    "После 1 января 2000 года было выпущего 820 книг"
   ]
  },
  {
   "cell_type": "markdown",
   "metadata": {},
   "source": [
    "**Анализ количества обзоров и средней оценки для каждой книги**"
   ]
  },
  {
   "cell_type": "code",
   "execution_count": 11,
   "metadata": {},
   "outputs": [
    {
     "data": {
      "text/html": [
       "<div>\n",
       "<style scoped>\n",
       "    .dataframe tbody tr th:only-of-type {\n",
       "        vertical-align: middle;\n",
       "    }\n",
       "\n",
       "    .dataframe tbody tr th {\n",
       "        vertical-align: top;\n",
       "    }\n",
       "\n",
       "    .dataframe thead th {\n",
       "        text-align: right;\n",
       "    }\n",
       "</style>\n",
       "<table border=\"1\" class=\"dataframe\">\n",
       "  <thead>\n",
       "    <tr style=\"text-align: right;\">\n",
       "      <th></th>\n",
       "      <th>title</th>\n",
       "      <th>reviews_count</th>\n",
       "      <th>avg_raiting</th>\n",
       "    </tr>\n",
       "  </thead>\n",
       "  <tbody>\n",
       "    <tr>\n",
       "      <th>0</th>\n",
       "      <td>The Body in the Library (Miss Marple  #3)</td>\n",
       "      <td>2</td>\n",
       "      <td>4.500000</td>\n",
       "    </tr>\n",
       "    <tr>\n",
       "      <th>1</th>\n",
       "      <td>Galápagos</td>\n",
       "      <td>2</td>\n",
       "      <td>4.500000</td>\n",
       "    </tr>\n",
       "    <tr>\n",
       "      <th>2</th>\n",
       "      <td>A Tree Grows in Brooklyn</td>\n",
       "      <td>5</td>\n",
       "      <td>4.250000</td>\n",
       "    </tr>\n",
       "    <tr>\n",
       "      <th>3</th>\n",
       "      <td>Undaunted Courage: The Pioneering First Missio...</td>\n",
       "      <td>2</td>\n",
       "      <td>4.000000</td>\n",
       "    </tr>\n",
       "    <tr>\n",
       "      <th>4</th>\n",
       "      <td>The Prophet</td>\n",
       "      <td>4</td>\n",
       "      <td>4.285714</td>\n",
       "    </tr>\n",
       "    <tr>\n",
       "      <th>5</th>\n",
       "      <td>American Gods (American Gods  #1)</td>\n",
       "      <td>5</td>\n",
       "      <td>4.000000</td>\n",
       "    </tr>\n",
       "    <tr>\n",
       "      <th>6</th>\n",
       "      <td>Influence: The Psychology of Persuasion</td>\n",
       "      <td>3</td>\n",
       "      <td>4.333333</td>\n",
       "    </tr>\n",
       "    <tr>\n",
       "      <th>7</th>\n",
       "      <td>The Idiot</td>\n",
       "      <td>3</td>\n",
       "      <td>4.250000</td>\n",
       "    </tr>\n",
       "    <tr>\n",
       "      <th>8</th>\n",
       "      <td>Rebecca</td>\n",
       "      <td>4</td>\n",
       "      <td>4.000000</td>\n",
       "    </tr>\n",
       "    <tr>\n",
       "      <th>9</th>\n",
       "      <td>The Source</td>\n",
       "      <td>2</td>\n",
       "      <td>3.500000</td>\n",
       "    </tr>\n",
       "  </tbody>\n",
       "</table>\n",
       "</div>"
      ],
      "text/plain": [
       "                                               title  reviews_count  \\\n",
       "0          The Body in the Library (Miss Marple  #3)              2   \n",
       "1                                          Galápagos              2   \n",
       "2                           A Tree Grows in Brooklyn              5   \n",
       "3  Undaunted Courage: The Pioneering First Missio...              2   \n",
       "4                                        The Prophet              4   \n",
       "5                  American Gods (American Gods  #1)              5   \n",
       "6            Influence: The Psychology of Persuasion              3   \n",
       "7                                          The Idiot              3   \n",
       "8                                            Rebecca              4   \n",
       "9                                         The Source              2   \n",
       "\n",
       "   avg_raiting  \n",
       "0     4.500000  \n",
       "1     4.500000  \n",
       "2     4.250000  \n",
       "3     4.000000  \n",
       "4     4.285714  \n",
       "5     4.000000  \n",
       "6     4.333333  \n",
       "7     4.250000  \n",
       "8     4.000000  \n",
       "9     3.500000  "
      ]
     },
     "execution_count": 11,
     "metadata": {},
     "output_type": "execute_result"
    }
   ],
   "source": [
    "query = '''WITH rate AS (SELECT book_id,\n",
    "                                AVG(rating) as avg_raiting\n",
    "                         FROM ratings\n",
    "                         GROUP BY book_id),\n",
    "           \n",
    "           review AS (SELECT book_id,\n",
    "                             COUNT(username) as reviews_count\n",
    "                      FROM reviews\n",
    "                      GROUP BY book_id)\n",
    "\n",
    "           SELECT title,\n",
    "                  reviews_count,\n",
    "                  avg_raiting\n",
    "           FROM books AS b\n",
    "           LEFT JOIN review AS r ON b.book_id=r.book_id\n",
    "           LEFT JOIN rate AS ra ON b.book_id=ra.book_id\n",
    "           LIMIT 10'''\n",
    "\n",
    "\n",
    "pd.io.sql.read_sql(sql=text(query), con = con)"
   ]
  },
  {
   "cell_type": "markdown",
   "metadata": {},
   "source": [
    "**Определение издательства, которое выпустило наибольшее число книг толще 50 страниц**"
   ]
  },
  {
   "cell_type": "code",
   "execution_count": 12,
   "metadata": {},
   "outputs": [
    {
     "data": {
      "text/html": [
       "<div>\n",
       "<style scoped>\n",
       "    .dataframe tbody tr th:only-of-type {\n",
       "        vertical-align: middle;\n",
       "    }\n",
       "\n",
       "    .dataframe tbody tr th {\n",
       "        vertical-align: top;\n",
       "    }\n",
       "\n",
       "    .dataframe thead th {\n",
       "        text-align: right;\n",
       "    }\n",
       "</style>\n",
       "<table border=\"1\" class=\"dataframe\">\n",
       "  <thead>\n",
       "    <tr style=\"text-align: right;\">\n",
       "      <th></th>\n",
       "      <th>publisher</th>\n",
       "      <th>books_count</th>\n",
       "    </tr>\n",
       "  </thead>\n",
       "  <tbody>\n",
       "    <tr>\n",
       "      <th>0</th>\n",
       "      <td>Penguin Books</td>\n",
       "      <td>42</td>\n",
       "    </tr>\n",
       "  </tbody>\n",
       "</table>\n",
       "</div>"
      ],
      "text/plain": [
       "       publisher  books_count\n",
       "0  Penguin Books           42"
      ]
     },
     "execution_count": 12,
     "metadata": {},
     "output_type": "execute_result"
    }
   ],
   "source": [
    "query = '''SELECT publisher,\n",
    "                  COUNT(title) as books_count\n",
    "           FROM books AS b\n",
    "           JOIN publishers AS p ON b.publisher_id=p.publisher_id\n",
    "           WHERE num_pages > 50\n",
    "           GROUP BY publisher\n",
    "           ORDER BY books_count DESC\n",
    "           LIMIT 1 '''\n",
    "\n",
    "con=engine.connect()\n",
    "\n",
    "pd.io.sql.read_sql(sql=text(query), con = con)"
   ]
  },
  {
   "cell_type": "markdown",
   "metadata": {},
   "source": [
    "Больше всего книг выпустило издательство Penguin Books - 42 штуки"
   ]
  },
  {
   "cell_type": "markdown",
   "metadata": {},
   "source": [
    "**Определение автора с самой высокой средней оценкой книг (учитывать только книги с 50 и более оценками)**"
   ]
  },
  {
   "cell_type": "code",
   "execution_count": 13,
   "metadata": {},
   "outputs": [
    {
     "data": {
      "text/html": [
       "<div>\n",
       "<style scoped>\n",
       "    .dataframe tbody tr th:only-of-type {\n",
       "        vertical-align: middle;\n",
       "    }\n",
       "\n",
       "    .dataframe tbody tr th {\n",
       "        vertical-align: top;\n",
       "    }\n",
       "\n",
       "    .dataframe thead th {\n",
       "        text-align: right;\n",
       "    }\n",
       "</style>\n",
       "<table border=\"1\" class=\"dataframe\">\n",
       "  <thead>\n",
       "    <tr style=\"text-align: right;\">\n",
       "      <th></th>\n",
       "      <th>author</th>\n",
       "      <th>author_rating_avg</th>\n",
       "    </tr>\n",
       "  </thead>\n",
       "  <tbody>\n",
       "    <tr>\n",
       "      <th>0</th>\n",
       "      <td>J.K. Rowling/Mary GrandPré</td>\n",
       "      <td>4.29</td>\n",
       "    </tr>\n",
       "  </tbody>\n",
       "</table>\n",
       "</div>"
      ],
      "text/plain": [
       "                       author  author_rating_avg\n",
       "0  J.K. Rowling/Mary GrandPré               4.29"
      ]
     },
     "execution_count": 13,
     "metadata": {},
     "output_type": "execute_result"
    }
   ],
   "source": [
    "query = '''WITH rate_count AS (SELECT book_id,\n",
    "                                      ROUND(AVG(rating), 2) AS avg_rating,\n",
    "                                      COUNT(rating) as raiting_count\n",
    "                               FROM ratings\n",
    "                               GROUP BY book_id)\n",
    "\n",
    "           SELECT author,\n",
    "                  ROUND(AVG(avg_rating),2) as author_rating_avg\n",
    "           FROM books as b\n",
    "           JOIN authors AS a ON a.author_id=b.author_id\n",
    "           JOIN rate_count AS r ON r.book_id=b.book_id\n",
    "           WHERE raiting_count >= 50\n",
    "           GROUP BY author\n",
    "           ORDER BY author_rating_avg DESC\n",
    "           LIMIT 1'''\n",
    "\n",
    "con=engine.connect()\n",
    "\n",
    "pd.io.sql.read_sql(sql=text(query), con = con)"
   ]
  },
  {
   "cell_type": "markdown",
   "metadata": {},
   "source": [
    "Автор с самым высоким рейтингом - J.K. Rowling/Mary GrandPré (4,29)"
   ]
  },
  {
   "cell_type": "markdown",
   "metadata": {},
   "source": [
    "**Расчет среднего количества обзоров от пользователей, которые поставили больше 48 оценок**"
   ]
  },
  {
   "cell_type": "code",
   "execution_count": 14,
   "metadata": {},
   "outputs": [
    {
     "data": {
      "text/html": [
       "<div>\n",
       "<style scoped>\n",
       "    .dataframe tbody tr th:only-of-type {\n",
       "        vertical-align: middle;\n",
       "    }\n",
       "\n",
       "    .dataframe tbody tr th {\n",
       "        vertical-align: top;\n",
       "    }\n",
       "\n",
       "    .dataframe thead th {\n",
       "        text-align: right;\n",
       "    }\n",
       "</style>\n",
       "<table border=\"1\" class=\"dataframe\">\n",
       "  <thead>\n",
       "    <tr style=\"text-align: right;\">\n",
       "      <th></th>\n",
       "      <th>round</th>\n",
       "    </tr>\n",
       "  </thead>\n",
       "  <tbody>\n",
       "    <tr>\n",
       "      <th>0</th>\n",
       "      <td>24.0</td>\n",
       "    </tr>\n",
       "  </tbody>\n",
       "</table>\n",
       "</div>"
      ],
      "text/plain": [
       "   round\n",
       "0   24.0"
      ]
     },
     "execution_count": 14,
     "metadata": {},
     "output_type": "execute_result"
    }
   ],
   "source": [
    "query = '''WITH rating AS (SELECT username,\n",
    "                                  COUNT(rating_id) AS rating_count\n",
    "                           FROM ratings\n",
    "                           GROUP BY username),\n",
    "                           \n",
    "                 reviews AS (SELECT username,\n",
    "                                    COUNT(review_id) as review_count\n",
    "                             FROM reviews\n",
    "                             GROUP BY username)            \n",
    "                \n",
    "             SELECT ROUND(AVG(review_count),2)\n",
    "             FROM reviews AS rew\n",
    "             JOIN rating AS rate ON rew.username=rate.username\n",
    "             WHERE rating_count > 48\n",
    "       '''\n",
    "\n",
    "con=engine.connect()\n",
    "\n",
    "pd.io.sql.read_sql(sql=text(query), con = con)"
   ]
  },
  {
   "cell_type": "markdown",
   "metadata": {},
   "source": [
    "Среднее количество обзоров от пользователей с рейтингом 48 - 24"
   ]
  },
  {
   "cell_type": "markdown",
   "metadata": {},
   "source": [
    "**Доп. задание 1**\n",
    "\n",
    "Вывод таблицы, которая будет содержать информацию, сгруппированную по году публикации:\n",
    "- количество издательств;\n",
    "- выпущенных книг;\n",
    "- сколько всего тысяч страниц было в изданных книгах.\n",
    "\n",
    "Отобразить нужно только те года, в которых издано более 30 книг."
   ]
  },
  {
   "cell_type": "code",
   "execution_count": 15,
   "metadata": {},
   "outputs": [
    {
     "data": {
      "text/html": [
       "<div>\n",
       "<style scoped>\n",
       "    .dataframe tbody tr th:only-of-type {\n",
       "        vertical-align: middle;\n",
       "    }\n",
       "\n",
       "    .dataframe tbody tr th {\n",
       "        vertical-align: top;\n",
       "    }\n",
       "\n",
       "    .dataframe thead th {\n",
       "        text-align: right;\n",
       "    }\n",
       "</style>\n",
       "<table border=\"1\" class=\"dataframe\">\n",
       "  <thead>\n",
       "    <tr style=\"text-align: right;\">\n",
       "      <th></th>\n",
       "      <th>year</th>\n",
       "      <th>publishers_count</th>\n",
       "      <th>books_count</th>\n",
       "      <th>total_pages</th>\n",
       "    </tr>\n",
       "  </thead>\n",
       "  <tbody>\n",
       "    <tr>\n",
       "      <th>0</th>\n",
       "      <td>1999.0</td>\n",
       "      <td>41</td>\n",
       "      <td>41</td>\n",
       "      <td>15.0</td>\n",
       "    </tr>\n",
       "    <tr>\n",
       "      <th>1</th>\n",
       "      <td>2000.0</td>\n",
       "      <td>38</td>\n",
       "      <td>38</td>\n",
       "      <td>13.0</td>\n",
       "    </tr>\n",
       "    <tr>\n",
       "      <th>2</th>\n",
       "      <td>2001.0</td>\n",
       "      <td>60</td>\n",
       "      <td>60</td>\n",
       "      <td>21.0</td>\n",
       "    </tr>\n",
       "    <tr>\n",
       "      <th>3</th>\n",
       "      <td>2002.0</td>\n",
       "      <td>94</td>\n",
       "      <td>94</td>\n",
       "      <td>38.0</td>\n",
       "    </tr>\n",
       "    <tr>\n",
       "      <th>4</th>\n",
       "      <td>2003.0</td>\n",
       "      <td>105</td>\n",
       "      <td>105</td>\n",
       "      <td>41.0</td>\n",
       "    </tr>\n",
       "    <tr>\n",
       "      <th>5</th>\n",
       "      <td>2004.0</td>\n",
       "      <td>124</td>\n",
       "      <td>124</td>\n",
       "      <td>46.0</td>\n",
       "    </tr>\n",
       "    <tr>\n",
       "      <th>6</th>\n",
       "      <td>2005.0</td>\n",
       "      <td>139</td>\n",
       "      <td>139</td>\n",
       "      <td>55.0</td>\n",
       "    </tr>\n",
       "    <tr>\n",
       "      <th>7</th>\n",
       "      <td>2006.0</td>\n",
       "      <td>184</td>\n",
       "      <td>184</td>\n",
       "      <td>68.0</td>\n",
       "    </tr>\n",
       "    <tr>\n",
       "      <th>8</th>\n",
       "      <td>2007.0</td>\n",
       "      <td>50</td>\n",
       "      <td>50</td>\n",
       "      <td>18.0</td>\n",
       "    </tr>\n",
       "  </tbody>\n",
       "</table>\n",
       "</div>"
      ],
      "text/plain": [
       "     year  publishers_count  books_count  total_pages\n",
       "0  1999.0                41           41         15.0\n",
       "1  2000.0                38           38         13.0\n",
       "2  2001.0                60           60         21.0\n",
       "3  2002.0                94           94         38.0\n",
       "4  2003.0               105          105         41.0\n",
       "5  2004.0               124          124         46.0\n",
       "6  2005.0               139          139         55.0\n",
       "7  2006.0               184          184         68.0\n",
       "8  2007.0                50           50         18.0"
      ]
     },
     "execution_count": 15,
     "metadata": {},
     "output_type": "execute_result"
    }
   ],
   "source": [
    "query = '''               \n",
    "             SELECT EXTRACT(YEAR FROM publication_date) AS year,\n",
    "                    COUNT(publisher_id) AS publishers_count,\n",
    "                    COUNT(book_id) AS books_count,\n",
    "                    FLOOR(SUM(num_pages)/1000) AS total_pages\n",
    "             FROM books\n",
    "             GROUP BY year\n",
    "             HAVING COUNT(book_id) > 30\n",
    "             ORDER BY year\n",
    "       '''\n",
    "\n",
    "pd.io.sql.read_sql(sql=text(query), con = con)"
   ]
  },
  {
   "cell_type": "markdown",
   "metadata": {},
   "source": [
    "**Доп. задание 2**\n",
    "\n",
    "Вывод в таблице двух чисел — средней оценки тех книг, на которые написало отзывов более 3 человек, и отдельно среднюю оценку остальных книг."
   ]
  },
  {
   "cell_type": "code",
   "execution_count": 16,
   "metadata": {},
   "outputs": [
    {
     "data": {
      "text/html": [
       "<div>\n",
       "<style scoped>\n",
       "    .dataframe tbody tr th:only-of-type {\n",
       "        vertical-align: middle;\n",
       "    }\n",
       "\n",
       "    .dataframe tbody tr th {\n",
       "        vertical-align: top;\n",
       "    }\n",
       "\n",
       "    .dataframe thead th {\n",
       "        text-align: right;\n",
       "    }\n",
       "</style>\n",
       "<table border=\"1\" class=\"dataframe\">\n",
       "  <thead>\n",
       "    <tr style=\"text-align: right;\">\n",
       "      <th></th>\n",
       "      <th>books_with_3_reviews</th>\n",
       "      <th>books_with_less_reviews</th>\n",
       "    </tr>\n",
       "  </thead>\n",
       "  <tbody>\n",
       "    <tr>\n",
       "      <th>0</th>\n",
       "      <td>3.95</td>\n",
       "      <td>3.89</td>\n",
       "    </tr>\n",
       "  </tbody>\n",
       "</table>\n",
       "</div>"
      ],
      "text/plain": [
       "   books_with_3_reviews  books_with_less_reviews\n",
       "0                  3.95                     3.89"
      ]
     },
     "execution_count": 16,
     "metadata": {},
     "output_type": "execute_result"
    }
   ],
   "source": [
    "query = '''               \n",
    "       WITH three_reviews AS (SELECT book_id,\n",
    "                                     COUNT(review_id)\n",
    "                              FROM reviews\n",
    "                              GROUP BY book_id\n",
    "                              HAVING COUNT(review_id) > 3),\n",
    "       \n",
    "            three_rev_rating AS (SELECT ROUND(AVG(rating),2) AS books_with_3_reviews\n",
    "                                 FROM ratings\n",
    "                                 WHERE book_id IN (SELECT book_id FROM three_reviews)),\n",
    "                            \n",
    "                \n",
    "            less_three_rating AS (SELECT ROUND(AVG(rating),2) AS books_with_less_reviews\n",
    "                                  FROM ratings\n",
    "                                  WHERE book_id NOT IN (SELECT book_id FROM three_reviews))\n",
    "       \n",
    "       SELECT * FROM three_rev_rating, less_three_rating\n",
    "        \n",
    "       \n",
    "\n",
    "       '''\n",
    "\n",
    "pd.io.sql.read_sql(sql=text(query), con = con)"
   ]
  },
  {
   "cell_type": "markdown",
   "metadata": {},
   "source": [
    "Рейтинги отличаются незначительно, однако средний рейтинг для книг, для которых написали отзывы более 3-х человек выше."
   ]
  },
  {
   "cell_type": "markdown",
   "metadata": {},
   "source": [
    "## Выводы:\n",
    "\n",
    "- После 1 января 2000 года было выпущего 818 книг\n",
    "- Больше всего книг выпустило издательство Penguin Books - 42 штуки\n",
    "- Автор с самым высоким рейтингом - J.K. Rowling/Mary GrandPré (4,29)\n",
    "- Срденее количество обзоров от пользователей с рейтингом 48 - 24"
   ]
  }
 ],
 "metadata": {
  "ExecuteTimeLog": [
   {
    "duration": 159,
    "start_time": "2023-06-26T13:27:24.654Z"
   },
   {
    "duration": 543,
    "start_time": "2023-06-26T13:30:48.937Z"
   },
   {
    "duration": 14422,
    "start_time": "2023-06-26T13:31:32.519Z"
   },
   {
    "duration": 275,
    "start_time": "2023-06-26T13:32:13.525Z"
   },
   {
    "duration": 5,
    "start_time": "2023-06-26T13:32:19.614Z"
   },
   {
    "duration": 3,
    "start_time": "2023-06-26T13:32:22.095Z"
   },
   {
    "duration": 155,
    "start_time": "2023-06-26T13:32:26.319Z"
   },
   {
    "duration": 152,
    "start_time": "2023-06-26T13:32:44.947Z"
   },
   {
    "duration": 58,
    "start_time": "2023-06-26T13:34:56.799Z"
   },
   {
    "duration": 17,
    "start_time": "2023-06-26T13:35:00.794Z"
   },
   {
    "duration": 46,
    "start_time": "2023-06-26T13:35:05.529Z"
   },
   {
    "duration": 55,
    "start_time": "2023-06-26T13:35:44.042Z"
   },
   {
    "duration": 56,
    "start_time": "2023-06-26T13:36:23.950Z"
   },
   {
    "duration": 170,
    "start_time": "2023-06-26T13:36:59.827Z"
   },
   {
    "duration": 45,
    "start_time": "2023-06-26T13:37:05.226Z"
   },
   {
    "duration": 151,
    "start_time": "2023-06-26T13:37:40.994Z"
   },
   {
    "duration": 66,
    "start_time": "2023-06-26T13:40:06.215Z"
   },
   {
    "duration": 57,
    "start_time": "2023-06-26T13:40:11.894Z"
   },
   {
    "duration": 67,
    "start_time": "2023-06-26T13:40:18.955Z"
   },
   {
    "duration": 56,
    "start_time": "2023-06-26T13:40:25.315Z"
   },
   {
    "duration": 57,
    "start_time": "2023-06-26T13:40:34.867Z"
   },
   {
    "duration": 59,
    "start_time": "2023-06-26T13:40:38.635Z"
   },
   {
    "duration": 64,
    "start_time": "2023-06-26T13:41:20.191Z"
   },
   {
    "duration": 52,
    "start_time": "2023-06-26T13:41:24.414Z"
   },
   {
    "duration": 57,
    "start_time": "2023-06-26T13:41:45.908Z"
   },
   {
    "duration": 88,
    "start_time": "2023-06-26T13:42:33.590Z"
   },
   {
    "duration": 49,
    "start_time": "2023-06-26T13:42:37.394Z"
   },
   {
    "duration": 169,
    "start_time": "2023-06-26T13:43:55.899Z"
   },
   {
    "duration": 43,
    "start_time": "2023-06-26T13:44:08.255Z"
   },
   {
    "duration": 87,
    "start_time": "2023-06-26T13:44:18.358Z"
   },
   {
    "duration": 78,
    "start_time": "2023-06-26T13:44:28.698Z"
   },
   {
    "duration": 93,
    "start_time": "2023-06-26T13:44:34.446Z"
   },
   {
    "duration": 55,
    "start_time": "2023-06-26T13:44:43.098Z"
   },
   {
    "duration": 86,
    "start_time": "2023-06-26T13:50:49.185Z"
   },
   {
    "duration": 67,
    "start_time": "2023-06-26T13:50:59.650Z"
   },
   {
    "duration": 78,
    "start_time": "2023-06-26T13:53:58.398Z"
   },
   {
    "duration": 155,
    "start_time": "2023-06-26T13:54:07.354Z"
   },
   {
    "duration": 161,
    "start_time": "2023-06-26T13:54:12.993Z"
   },
   {
    "duration": 70,
    "start_time": "2023-06-26T13:55:08.988Z"
   },
   {
    "duration": 74,
    "start_time": "2023-06-26T13:55:18.586Z"
   },
   {
    "duration": 65,
    "start_time": "2023-06-26T13:55:29.444Z"
   },
   {
    "duration": 146,
    "start_time": "2023-06-26T13:55:42.919Z"
   },
   {
    "duration": 158,
    "start_time": "2023-06-26T13:56:43.093Z"
   },
   {
    "duration": 152,
    "start_time": "2023-06-26T13:56:52.045Z"
   },
   {
    "duration": 105,
    "start_time": "2023-06-26T14:01:10.707Z"
   },
   {
    "duration": 64,
    "start_time": "2023-06-26T14:02:46.734Z"
   },
   {
    "duration": 72,
    "start_time": "2023-06-26T14:03:41.475Z"
   },
   {
    "duration": 81,
    "start_time": "2023-06-26T14:04:04.753Z"
   },
   {
    "duration": 67,
    "start_time": "2023-06-26T14:04:22.951Z"
   },
   {
    "duration": 162,
    "start_time": "2023-06-26T14:04:27.558Z"
   },
   {
    "duration": 74,
    "start_time": "2023-06-26T14:04:43.748Z"
   },
   {
    "duration": 58,
    "start_time": "2023-06-26T14:05:00.488Z"
   },
   {
    "duration": 84,
    "start_time": "2023-06-26T14:05:18.667Z"
   },
   {
    "duration": 63,
    "start_time": "2023-06-26T14:05:22.714Z"
   },
   {
    "duration": 99,
    "start_time": "2023-06-26T14:05:32.416Z"
   },
   {
    "duration": 140,
    "start_time": "2023-06-26T14:05:44.121Z"
   },
   {
    "duration": 63,
    "start_time": "2023-06-26T14:05:48.179Z"
   },
   {
    "duration": 55,
    "start_time": "2023-06-26T14:05:51.525Z"
   },
   {
    "duration": 59,
    "start_time": "2023-06-26T14:07:05.331Z"
   },
   {
    "duration": 60,
    "start_time": "2023-06-26T14:07:07.721Z"
   },
   {
    "duration": 58,
    "start_time": "2023-06-26T14:07:12.209Z"
   },
   {
    "duration": 62,
    "start_time": "2023-06-26T14:07:14.955Z"
   },
   {
    "duration": 62,
    "start_time": "2023-06-26T14:07:52.031Z"
   },
   {
    "duration": 66,
    "start_time": "2023-06-26T14:07:56.058Z"
   },
   {
    "duration": 70,
    "start_time": "2023-06-26T14:08:03.823Z"
   },
   {
    "duration": 58,
    "start_time": "2023-06-26T14:11:05.729Z"
   },
   {
    "duration": 85,
    "start_time": "2023-06-26T14:12:50.146Z"
   },
   {
    "duration": 47,
    "start_time": "2023-06-26T14:13:03.632Z"
   },
   {
    "duration": 76,
    "start_time": "2023-06-26T14:17:06.027Z"
   },
   {
    "duration": 70,
    "start_time": "2023-06-26T14:17:20.655Z"
   },
   {
    "duration": 48,
    "start_time": "2023-06-26T14:17:41.115Z"
   },
   {
    "duration": 60,
    "start_time": "2023-06-26T14:17:55.915Z"
   },
   {
    "duration": 71,
    "start_time": "2023-06-26T14:18:02.756Z"
   },
   {
    "duration": 60,
    "start_time": "2023-06-26T14:18:08.139Z"
   },
   {
    "duration": 63,
    "start_time": "2023-06-26T14:18:14.819Z"
   },
   {
    "duration": 59,
    "start_time": "2023-06-26T14:18:52.916Z"
   },
   {
    "duration": 57,
    "start_time": "2023-06-26T14:18:59.529Z"
   },
   {
    "duration": 84,
    "start_time": "2023-06-26T14:19:09.472Z"
   },
   {
    "duration": 50,
    "start_time": "2023-06-26T14:19:23.512Z"
   },
   {
    "duration": 159,
    "start_time": "2023-06-26T14:19:37.384Z"
   },
   {
    "duration": 89,
    "start_time": "2023-06-26T14:50:32.525Z"
   },
   {
    "duration": 69,
    "start_time": "2023-06-26T14:50:51.238Z"
   },
   {
    "duration": 75,
    "start_time": "2023-06-26T14:51:30.157Z"
   },
   {
    "duration": 191,
    "start_time": "2023-06-26T14:53:36.418Z"
   },
   {
    "duration": 178,
    "start_time": "2023-06-26T14:58:51.321Z"
   },
   {
    "duration": 66,
    "start_time": "2023-06-26T15:01:43.821Z"
   },
   {
    "duration": 62,
    "start_time": "2023-06-26T15:01:59.843Z"
   },
   {
    "duration": 68,
    "start_time": "2023-06-26T15:03:42.776Z"
   },
   {
    "duration": 72,
    "start_time": "2023-06-26T15:03:46.790Z"
   },
   {
    "duration": 7,
    "start_time": "2023-06-27T13:46:02.015Z"
   },
   {
    "duration": 485,
    "start_time": "2023-06-27T13:46:07.614Z"
   },
   {
    "duration": 11845,
    "start_time": "2023-06-27T13:46:08.101Z"
   },
   {
    "duration": 3,
    "start_time": "2023-06-27T13:46:19.947Z"
   },
   {
    "duration": 101,
    "start_time": "2023-06-27T13:46:19.951Z"
   },
   {
    "duration": 28,
    "start_time": "2023-06-27T13:46:20.054Z"
   },
   {
    "duration": 10,
    "start_time": "2023-06-27T13:46:20.083Z"
   },
   {
    "duration": 58,
    "start_time": "2023-06-27T13:46:33.723Z"
   },
   {
    "duration": 3,
    "start_time": "2023-06-27T13:47:21.050Z"
   },
   {
    "duration": 6,
    "start_time": "2023-06-27T13:47:23.253Z"
   },
   {
    "duration": 3,
    "start_time": "2023-06-27T13:47:37.134Z"
   },
   {
    "duration": 3,
    "start_time": "2023-06-27T13:47:44.068Z"
   },
   {
    "duration": 44,
    "start_time": "2023-06-27T14:05:41.843Z"
   },
   {
    "duration": 3,
    "start_time": "2023-06-27T14:05:44.832Z"
   },
   {
    "duration": 6,
    "start_time": "2023-06-27T14:05:45.232Z"
   },
   {
    "duration": 2,
    "start_time": "2023-06-27T14:05:50.651Z"
   },
   {
    "duration": 9,
    "start_time": "2023-06-27T14:05:57.840Z"
   },
   {
    "duration": 70,
    "start_time": "2023-06-27T14:12:31.010Z"
   },
   {
    "duration": 7,
    "start_time": "2023-06-27T14:12:39.047Z"
   },
   {
    "duration": 6,
    "start_time": "2023-06-27T14:13:04.228Z"
   },
   {
    "duration": 7,
    "start_time": "2023-06-27T14:13:21.344Z"
   },
   {
    "duration": 16,
    "start_time": "2023-06-27T14:13:37.205Z"
   },
   {
    "duration": 16,
    "start_time": "2023-06-27T14:13:45.321Z"
   },
   {
    "duration": 15,
    "start_time": "2023-06-27T14:15:46.528Z"
   },
   {
    "duration": 16,
    "start_time": "2023-06-27T14:16:31.127Z"
   },
   {
    "duration": 7,
    "start_time": "2023-06-27T14:16:39.210Z"
   },
   {
    "duration": 18,
    "start_time": "2023-06-27T14:16:44.838Z"
   },
   {
    "duration": 23,
    "start_time": "2023-06-27T14:16:55.319Z"
   },
   {
    "duration": 34,
    "start_time": "2023-06-27T14:17:07.690Z"
   },
   {
    "duration": 31,
    "start_time": "2023-06-27T14:17:23.765Z"
   },
   {
    "duration": 7,
    "start_time": "2023-06-27T14:17:25.538Z"
   },
   {
    "duration": 9,
    "start_time": "2023-06-27T14:17:34.476Z"
   },
   {
    "duration": 10,
    "start_time": "2023-06-27T14:17:38.417Z"
   },
   {
    "duration": 9,
    "start_time": "2023-06-27T14:17:43.070Z"
   },
   {
    "duration": 10,
    "start_time": "2023-06-27T14:17:46.422Z"
   },
   {
    "duration": 34,
    "start_time": "2023-06-27T14:17:52.623Z"
   },
   {
    "duration": 9,
    "start_time": "2023-06-27T14:19:18.943Z"
   },
   {
    "duration": 16,
    "start_time": "2023-06-27T14:19:30.214Z"
   },
   {
    "duration": 14,
    "start_time": "2023-06-27T14:21:10.629Z"
   },
   {
    "duration": 118,
    "start_time": "2023-06-27T14:22:03.938Z"
   },
   {
    "duration": 9,
    "start_time": "2023-06-27T14:22:10.627Z"
   },
   {
    "duration": 15,
    "start_time": "2023-06-27T14:22:26.010Z"
   },
   {
    "duration": 55,
    "start_time": "2023-06-27T14:22:53.452Z"
   },
   {
    "duration": 14,
    "start_time": "2023-06-27T14:23:07.668Z"
   },
   {
    "duration": 20,
    "start_time": "2023-06-27T14:23:21.681Z"
   },
   {
    "duration": 14,
    "start_time": "2023-06-27T14:23:32.292Z"
   },
   {
    "duration": 14,
    "start_time": "2023-06-27T14:23:39.368Z"
   },
   {
    "duration": 13,
    "start_time": "2023-06-27T14:23:42.866Z"
   },
   {
    "duration": 18,
    "start_time": "2023-06-27T14:28:07.918Z"
   },
   {
    "duration": 46,
    "start_time": "2023-06-27T14:28:18.667Z"
   },
   {
    "duration": 49,
    "start_time": "2023-06-27T14:28:45.310Z"
   },
   {
    "duration": 54,
    "start_time": "2023-06-27T14:33:46.726Z"
   },
   {
    "duration": 11,
    "start_time": "2023-06-27T14:33:58.973Z"
   },
   {
    "duration": 44,
    "start_time": "2023-06-27T14:34:05.418Z"
   },
   {
    "duration": 14,
    "start_time": "2023-06-27T14:34:21.404Z"
   },
   {
    "duration": 15,
    "start_time": "2023-06-27T14:34:49.924Z"
   },
   {
    "duration": 13,
    "start_time": "2023-06-27T14:35:36.963Z"
   },
   {
    "duration": 18,
    "start_time": "2023-06-27T14:48:49.526Z"
   },
   {
    "duration": 16,
    "start_time": "2023-06-27T14:49:03.709Z"
   },
   {
    "duration": 46,
    "start_time": "2023-06-27T14:49:30.857Z"
   },
   {
    "duration": 19,
    "start_time": "2023-06-27T14:49:56.649Z"
   },
   {
    "duration": 18,
    "start_time": "2023-06-27T14:50:08.165Z"
   },
   {
    "duration": 13,
    "start_time": "2023-06-27T14:50:22.908Z"
   },
   {
    "duration": 47,
    "start_time": "2023-06-27T14:50:36.438Z"
   },
   {
    "duration": 11,
    "start_time": "2023-06-27T14:50:48.350Z"
   },
   {
    "duration": 50,
    "start_time": "2023-06-27T14:50:58.606Z"
   },
   {
    "duration": 13,
    "start_time": "2023-06-27T14:51:03.402Z"
   },
   {
    "duration": 13,
    "start_time": "2023-06-27T14:51:07.446Z"
   },
   {
    "duration": 13,
    "start_time": "2023-06-27T14:51:12.021Z"
   },
   {
    "duration": 20,
    "start_time": "2023-06-27T14:52:33.474Z"
   },
   {
    "duration": 13,
    "start_time": "2023-06-27T14:52:42.974Z"
   },
   {
    "duration": 19,
    "start_time": "2023-06-27T14:53:20.702Z"
   },
   {
    "duration": 11,
    "start_time": "2023-06-27T14:53:27.562Z"
   },
   {
    "duration": 37,
    "start_time": "2023-06-27T14:54:39.914Z"
   },
   {
    "duration": 11,
    "start_time": "2023-06-27T14:54:51.670Z"
   },
   {
    "duration": 12,
    "start_time": "2023-06-27T14:54:56.902Z"
   },
   {
    "duration": 13,
    "start_time": "2023-06-27T14:55:01.818Z"
   },
   {
    "duration": 13,
    "start_time": "2023-06-27T14:55:04.822Z"
   },
   {
    "duration": 12,
    "start_time": "2023-06-27T14:55:31.568Z"
   },
   {
    "duration": 11,
    "start_time": "2023-06-27T14:55:38.749Z"
   },
   {
    "duration": 10,
    "start_time": "2023-06-27T14:56:13.658Z"
   },
   {
    "duration": 20,
    "start_time": "2023-06-27T15:00:50.562Z"
   },
   {
    "duration": 18,
    "start_time": "2023-06-27T15:00:53.658Z"
   },
   {
    "duration": 17,
    "start_time": "2023-06-27T15:03:59.938Z"
   },
   {
    "duration": 18,
    "start_time": "2023-06-27T15:04:46.610Z"
   },
   {
    "duration": 18,
    "start_time": "2023-06-27T15:05:02.974Z"
   },
   {
    "duration": 18,
    "start_time": "2023-06-27T15:05:11.402Z"
   },
   {
    "duration": 18,
    "start_time": "2023-06-27T15:05:39.302Z"
   },
   {
    "duration": 20,
    "start_time": "2023-06-27T15:07:23.652Z"
   },
   {
    "duration": 18,
    "start_time": "2023-06-27T15:07:32.648Z"
   },
   {
    "duration": 18,
    "start_time": "2023-06-27T15:07:39.443Z"
   },
   {
    "duration": 11,
    "start_time": "2023-06-27T15:07:45.635Z"
   },
   {
    "duration": 18,
    "start_time": "2023-06-27T15:07:56.505Z"
   },
   {
    "duration": 17,
    "start_time": "2023-06-27T15:08:03.456Z"
   },
   {
    "duration": 19,
    "start_time": "2023-06-27T15:08:30.609Z"
   },
   {
    "duration": 19,
    "start_time": "2023-06-27T15:08:52.118Z"
   },
   {
    "duration": 18,
    "start_time": "2023-06-27T15:08:57.297Z"
   },
   {
    "duration": 78,
    "start_time": "2023-06-27T15:09:41.962Z"
   },
   {
    "duration": 13,
    "start_time": "2023-06-27T15:10:13.200Z"
   },
   {
    "duration": 17,
    "start_time": "2023-06-27T15:10:40.771Z"
   },
   {
    "duration": 16,
    "start_time": "2023-06-27T15:11:13.845Z"
   },
   {
    "duration": 18,
    "start_time": "2023-06-27T15:14:18.349Z"
   },
   {
    "duration": 18,
    "start_time": "2023-06-27T15:17:00.124Z"
   },
   {
    "duration": 19,
    "start_time": "2023-06-27T15:17:33.158Z"
   },
   {
    "duration": 19,
    "start_time": "2023-06-27T15:17:58.606Z"
   },
   {
    "duration": 19,
    "start_time": "2023-06-27T15:18:16.008Z"
   },
   {
    "duration": 17,
    "start_time": "2023-06-27T15:18:32.966Z"
   },
   {
    "duration": 12,
    "start_time": "2023-06-27T15:19:39.811Z"
   },
   {
    "duration": 17,
    "start_time": "2023-06-27T15:20:19.005Z"
   },
   {
    "duration": 20,
    "start_time": "2023-06-27T15:20:28.943Z"
   },
   {
    "duration": 15,
    "start_time": "2023-06-27T15:23:11.801Z"
   },
   {
    "duration": 20,
    "start_time": "2023-06-27T15:23:37.846Z"
   },
   {
    "duration": 13,
    "start_time": "2023-06-27T15:24:32.955Z"
   },
   {
    "duration": 12,
    "start_time": "2023-06-27T15:28:37.558Z"
   },
   {
    "duration": 13,
    "start_time": "2023-06-27T15:30:25.350Z"
   },
   {
    "duration": 12,
    "start_time": "2023-06-27T15:30:35.505Z"
   },
   {
    "duration": 19,
    "start_time": "2023-06-27T15:32:13.949Z"
   },
   {
    "duration": 12,
    "start_time": "2023-06-27T15:32:39.409Z"
   },
   {
    "duration": 12,
    "start_time": "2023-06-27T15:32:53.649Z"
   },
   {
    "duration": 12,
    "start_time": "2023-06-27T15:32:58.940Z"
   },
   {
    "duration": 13,
    "start_time": "2023-06-27T15:33:08.533Z"
   },
   {
    "duration": 12,
    "start_time": "2023-06-27T15:37:04.852Z"
   },
   {
    "duration": 1132,
    "start_time": "2023-06-27T15:37:11.552Z"
   },
   {
    "duration": 541,
    "start_time": "2023-07-20T11:35:29.448Z"
   },
   {
    "duration": 17422,
    "start_time": "2023-07-20T11:35:30.954Z"
   },
   {
    "duration": 152,
    "start_time": "2023-07-20T11:35:48.379Z"
   },
   {
    "duration": 36,
    "start_time": "2023-07-20T11:35:48.534Z"
   },
   {
    "duration": 51,
    "start_time": "2023-07-20T11:35:48.573Z"
   },
   {
    "duration": 66,
    "start_time": "2023-07-20T11:35:48.626Z"
   },
   {
    "duration": 35,
    "start_time": "2023-07-20T11:35:48.694Z"
   },
   {
    "duration": 166,
    "start_time": "2023-07-20T11:35:48.731Z"
   },
   {
    "duration": 34,
    "start_time": "2023-07-20T11:35:48.899Z"
   },
   {
    "duration": 32,
    "start_time": "2023-07-20T11:36:12.821Z"
   },
   {
    "duration": 39,
    "start_time": "2023-07-20T11:36:26.264Z"
   },
   {
    "duration": 61,
    "start_time": "2023-07-20T11:36:31.994Z"
   },
   {
    "duration": 61,
    "start_time": "2023-07-20T11:36:39.592Z"
   },
   {
    "duration": 59,
    "start_time": "2023-07-20T11:36:51.103Z"
   },
   {
    "duration": 39,
    "start_time": "2023-07-20T11:37:10.476Z"
   },
   {
    "duration": 37,
    "start_time": "2023-07-20T11:37:27.791Z"
   }
  ],
  "kernelspec": {
   "display_name": "Python 3 (ipykernel)",
   "language": "python",
   "name": "python3"
  },
  "language_info": {
   "codemirror_mode": {
    "name": "ipython",
    "version": 3
   },
   "file_extension": ".py",
   "mimetype": "text/x-python",
   "name": "python",
   "nbconvert_exporter": "python",
   "pygments_lexer": "ipython3",
   "version": "3.9.5"
  },
  "toc": {
   "base_numbering": 1,
   "nav_menu": {},
   "number_sections": true,
   "sideBar": true,
   "skip_h1_title": true,
   "title_cell": "Table of Contents",
   "title_sidebar": "Contents",
   "toc_cell": false,
   "toc_position": {},
   "toc_section_display": true,
   "toc_window_display": false
  }
 },
 "nbformat": 4,
 "nbformat_minor": 2
}
